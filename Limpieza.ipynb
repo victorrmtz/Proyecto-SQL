{
 "cells": [
  {
   "cell_type": "code",
   "execution_count": 1,
   "id": "934b516c",
   "metadata": {},
   "outputs": [],
   "source": [
    "import pandas as pd\n",
    "import numpy as np\n",
    "\n",
    "import pylab as plt\n",
    "import seaborn as sns\n",
    "\n",
    "import re\n",
    "import funciones as fn\n",
    "\n",
    "import warnings\n",
    "warnings.filterwarnings('ignore')  # esto es para quitar prints\n",
    "\n",
    "pd.set_option('display.max_columns', None)   # mostrar todas las columnas del df"
   ]
  },
  {
   "cell_type": "code",
   "execution_count": 2,
   "id": "7c44f0b6",
   "metadata": {},
   "outputs": [],
   "source": [
    "actor_ori=pd.read_csv('data/actor.csv')\n",
    "actor=actor_ori.copy()\n",
    "category_ori=pd.read_csv('data/category.csv')\n",
    "category=category_ori.copy()\n",
    "film_ori=pd.read_csv('data/film.csv')\n",
    "film=film_ori.copy()\n",
    "inventory_ori=pd.read_csv('data/inventory.csv')\n",
    "inventory=inventory_ori.copy()\n",
    "language_ori=pd.read_csv('data/language.csv')\n",
    "language=language_ori.copy()\n",
    "old_ori=pd.read_csv('data/old_HDD.csv')\n",
    "old=old_ori.copy()\n",
    "rental_ori=pd.read_csv('data/rental.csv')\n",
    "rental=rental_ori.copy()"
   ]
  },
  {
   "cell_type": "markdown",
   "id": "7ad6fb70",
   "metadata": {},
   "source": [
    "# ACTOR"
   ]
  },
  {
   "cell_type": "code",
   "execution_count": 3,
   "id": "90ac158f",
   "metadata": {
    "scrolled": false
   },
   "outputs": [
    {
     "data": {
      "text/html": [
       "<div>\n",
       "<style scoped>\n",
       "    .dataframe tbody tr th:only-of-type {\n",
       "        vertical-align: middle;\n",
       "    }\n",
       "\n",
       "    .dataframe tbody tr th {\n",
       "        vertical-align: top;\n",
       "    }\n",
       "\n",
       "    .dataframe thead th {\n",
       "        text-align: right;\n",
       "    }\n",
       "</style>\n",
       "<table border=\"1\" class=\"dataframe\">\n",
       "  <thead>\n",
       "    <tr style=\"text-align: right;\">\n",
       "      <th></th>\n",
       "      <th>actor_id</th>\n",
       "      <th>first_name</th>\n",
       "      <th>last_name</th>\n",
       "      <th>last_update</th>\n",
       "    </tr>\n",
       "  </thead>\n",
       "  <tbody>\n",
       "    <tr>\n",
       "      <th>0</th>\n",
       "      <td>1</td>\n",
       "      <td>PENELOPE</td>\n",
       "      <td>GUINESS</td>\n",
       "      <td>2006-02-15 04:34:33</td>\n",
       "    </tr>\n",
       "    <tr>\n",
       "      <th>1</th>\n",
       "      <td>2</td>\n",
       "      <td>NICK</td>\n",
       "      <td>WAHLBERG</td>\n",
       "      <td>2006-02-15 04:34:33</td>\n",
       "    </tr>\n",
       "    <tr>\n",
       "      <th>2</th>\n",
       "      <td>3</td>\n",
       "      <td>ED</td>\n",
       "      <td>CHASE</td>\n",
       "      <td>2006-02-15 04:34:33</td>\n",
       "    </tr>\n",
       "    <tr>\n",
       "      <th>3</th>\n",
       "      <td>4</td>\n",
       "      <td>JENNIFER</td>\n",
       "      <td>DAVIS</td>\n",
       "      <td>2006-02-15 04:34:33</td>\n",
       "    </tr>\n",
       "    <tr>\n",
       "      <th>4</th>\n",
       "      <td>5</td>\n",
       "      <td>JOHNNY</td>\n",
       "      <td>LOLLOBRIGIDA</td>\n",
       "      <td>2006-02-15 04:34:33</td>\n",
       "    </tr>\n",
       "  </tbody>\n",
       "</table>\n",
       "</div>"
      ],
      "text/plain": [
       "   actor_id first_name     last_name          last_update\n",
       "0         1   PENELOPE       GUINESS  2006-02-15 04:34:33\n",
       "1         2       NICK      WAHLBERG  2006-02-15 04:34:33\n",
       "2         3         ED         CHASE  2006-02-15 04:34:33\n",
       "3         4   JENNIFER         DAVIS  2006-02-15 04:34:33\n",
       "4         5     JOHNNY  LOLLOBRIGIDA  2006-02-15 04:34:33"
      ]
     },
     "execution_count": 3,
     "metadata": {},
     "output_type": "execute_result"
    }
   ],
   "source": [
    "actor.head()"
   ]
  },
  {
   "cell_type": "code",
   "execution_count": 4,
   "id": "6eff5d8e",
   "metadata": {
    "scrolled": true
   },
   "outputs": [
    {
     "name": "stdout",
     "output_type": "stream",
     "text": [
      "<class 'pandas.core.frame.DataFrame'>\n",
      "RangeIndex: 200 entries, 0 to 199\n",
      "Data columns (total 4 columns):\n",
      " #   Column       Non-Null Count  Dtype \n",
      "---  ------       --------------  ----- \n",
      " 0   actor_id     200 non-null    int64 \n",
      " 1   first_name   200 non-null    object\n",
      " 2   last_name    200 non-null    object\n",
      " 3   last_update  200 non-null    object\n",
      "dtypes: int64(1), object(3)\n",
      "memory usage: 41.0 KB\n"
     ]
    }
   ],
   "source": [
    "actor.info(memory_usage='deep') #Sin nulos"
   ]
  },
  {
   "cell_type": "code",
   "execution_count": 5,
   "id": "d7a4a849",
   "metadata": {},
   "outputs": [
    {
     "data": {
      "text/plain": [
       "Index(['actor_id', 'first_name', 'last_name', 'last_update'], dtype='object')"
      ]
     },
     "execution_count": 5,
     "metadata": {},
     "output_type": "execute_result"
    }
   ],
   "source": [
    "columns = actor.columns\n",
    "columns"
   ]
  },
  {
   "cell_type": "code",
   "execution_count": 6,
   "id": "28268433",
   "metadata": {},
   "outputs": [
    {
     "data": {
      "text/plain": [
       "(200, 4)"
      ]
     },
     "execution_count": 6,
     "metadata": {},
     "output_type": "execute_result"
    }
   ],
   "source": [
    "actor.shape"
   ]
  },
  {
   "cell_type": "markdown",
   "id": "3f424803",
   "metadata": {},
   "source": [
    "### Nulos"
   ]
  },
  {
   "cell_type": "code",
   "execution_count": 7,
   "id": "6bd4612a",
   "metadata": {},
   "outputs": [
    {
     "data": {
      "text/plain": [
       "'N nan cols: 0'"
      ]
     },
     "metadata": {},
     "output_type": "display_data"
    },
    {
     "data": {
      "text/plain": [
       "Series([], dtype: float64)"
      ]
     },
     "metadata": {},
     "output_type": "display_data"
    },
    {
     "data": {
      "image/png": "[encoded data removed]",
      "text/plain": [
       "<Figure size 720x432 with 1 Axes>"
      ]
     },
     "metadata": {
      "needs_background": "light"
     },
     "output_type": "display_data"
    }
   ],
   "source": [
    "fn.check_nan(actor)"
   ]
  },
  {
   "cell_type": "markdown",
   "id": "3d15a3b6",
   "metadata": {},
   "source": [
    "### Valores incorrectos"
   ]
  },
  {
   "cell_type": "code",
   "execution_count": 8,
   "id": "f9c9e904",
   "metadata": {},
   "outputs": [
    {
     "name": "stdout",
     "output_type": "stream",
     "text": [
      "[  1   2   3   4   5   6   7   8   9  10  11  12  13  14  15  16  17  18\n",
      "  19  20  21  22  23  24  25  26  27  28  29  30  31  32  33  34  35  36\n",
      "  37  38  39  40  41  42  43  44  45  46  47  48  49  50  51  52  53  54\n",
      "  55  56  57  58  59  60  61  62  63  64  65  66  67  68  69  70  71  72\n",
      "  73  74  75  76  77  78  79  80  81  82  83  84  85  86  87  88  89  90\n",
      "  91  92  93  94  95  96  97  98  99 100 101 102 103 104 105 106 107 108\n",
      " 109 110 111 112 113 114 115 116 117 118 119 120 121 122 123 124 125 126\n",
      " 127 128 129 130 131 132 133 134 135 136 137 138 139 140 141 142 143 144\n",
      " 145 146 147 148 149 150 151 152 153 154 155 156 157 158 159 160 161 162\n",
      " 163 164 165 166 167 168 169 170 171 172 173 174 175 176 177 178 179 180\n",
      " 181 182 183 184 185 186 187 188 189 190 191 192 193 194 195 196 197 198\n",
      " 199 200]\n",
      "['PENELOPE' 'NICK' 'ED' 'JENNIFER' 'JOHNNY' 'BETTE' 'GRACE' 'MATTHEW'\n",
      " 'JOE' 'CHRISTIAN' 'ZERO' 'KARL' 'UMA' 'VIVIEN' 'CUBA' 'FRED' 'HELEN'\n",
      " 'DAN' 'BOB' 'LUCILLE' 'KIRSTEN' 'ELVIS' 'SANDRA' 'CAMERON' 'KEVIN' 'RIP'\n",
      " 'JULIA' 'WOODY' 'ALEC' 'SISSY' 'TIM' 'MILLA' 'AUDREY' 'JUDY' 'BURT' 'VAL'\n",
      " 'TOM' 'GOLDIE' 'JODIE' 'KIRK' 'REESE' 'PARKER' 'FRANCES' 'ANNE' 'NATALIE'\n",
      " 'GARY' 'CARMEN' 'MENA' 'FAY' 'JUDE' 'DUSTIN' 'HENRY' 'JAYNE' 'RAY'\n",
      " 'ANGELA' 'MARY' 'JESSICA' 'KENNETH' 'MICHELLE' 'ADAM' 'SEAN' 'ANGELINA'\n",
      " 'CARY' 'GROUCHO' 'MAE' 'RALPH' 'SCARLETT' 'BEN' 'JAMES' 'MINNIE' 'GREG'\n",
      " 'SPENCER' 'CHARLIZE' 'CHRISTOPHER' 'ELLEN' 'DARYL' 'GENE' 'MEG' 'CHRIS'\n",
      " 'JIM' 'SUSAN' 'WALTER' 'SIDNEY' 'GINA' 'WARREN' 'SYLVESTER' 'RUSSELL'\n",
      " 'MORGAN' 'HARRISON' 'RENEE' 'LIZA' 'SALMA' 'JULIANNE' 'ALBERT' 'CATE'\n",
      " 'GRETA' 'JANE' 'RICHARD' 'RITA' 'EWAN' 'WHOOPI' 'JADA' 'RIVER' 'KIM'\n",
      " 'EMILY' 'GEOFFREY' 'MERYL' 'IAN' 'LAURA' 'HARVEY' 'OPRAH' 'HUMPHREY' 'AL'\n",
      " 'LAURENCE' 'WILL' 'OLYMPIA' 'ALAN' 'MICHAEL' 'WILLIAM' 'JON' 'LISA'\n",
      " 'JEFF' 'DEBBIE' 'ROCK' 'GREGORY' 'JOHN' 'BELA' 'THORA']\n",
      "['GUINESS' 'WAHLBERG' 'CHASE' 'DAVIS' 'LOLLOBRIGIDA' 'NICHOLSON' 'MOSTEL'\n",
      " 'JOHANSSON' 'SWANK' 'GABLE' 'CAGE' 'BERRY' 'WOOD' 'BERGEN' 'OLIVIER'\n",
      " 'COSTNER' 'VOIGHT' 'TORN' 'FAWCETT' 'TRACY' 'PALTROW' 'MARX' 'KILMER'\n",
      " 'STREEP' 'BLOOM' 'CRAWFORD' 'MCQUEEN' 'HOFFMAN' 'WAYNE' 'PECK' 'SOBIESKI'\n",
      " 'HACKMAN' 'DEAN' 'DUKAKIS' 'BOLGER' 'MCKELLEN' 'BRODY' 'DEGENERES'\n",
      " 'MIRANDA' 'JOVOVICH' 'STALLONE' 'GOLDBERG' 'BARRYMORE' 'DAY-LEWIS'\n",
      " 'CRONYN' 'HOPKINS' 'PHOENIX' 'HUNT' 'TEMPLE' 'PINKETT' 'HARRIS' 'CRUISE'\n",
      " 'AKROYD' 'TAUTOU' 'NEESON' 'WRAY' 'HUDSON' 'TANDY' 'BAILEY' 'WINSLET'\n",
      " 'MCCONAUGHEY' 'GRANT' 'WILLIAMS' 'PENN' 'KEITEL' 'POSEY' 'ASTAIRE'\n",
      " 'SINATRA' 'CRUZ' 'DAMON' 'JOLIE' 'WILLIS' 'PITT' 'ZELLWEGER' 'CHAPLIN'\n",
      " 'PESCI' 'DENCH' 'PRESLEY' 'HAWKE' 'BRIDGES' 'DEPP' 'LEIGH' 'CROWE'\n",
      " 'DUNST' 'NOLTE' 'DERN' 'BACALL' 'MCDORMAND' 'BALE' 'ALLEN' 'JACKMAN'\n",
      " 'MONROE' 'BERGMAN' 'BENING' 'TOMEI' 'GARLAND' 'HOPPER' 'REYNOLDS'\n",
      " 'MANSFIELD' 'DEE' 'GOODING' 'HURT' 'RYDER' 'WITHERSPOON' 'HESTON'\n",
      " 'GIBSON' 'MALDEN' 'BASINGER' 'HOPE' 'WEST' 'BULLOCK' 'WILSON' 'PFEIFFER'\n",
      " 'DREYFUSS' 'SILVERSTONE' 'CARREY' 'CLOSE' 'BALL' 'BIRCH' 'SUVARI'\n",
      " 'WALKEN']\n",
      "['2006-02-15 04:34:33']\n"
     ]
    }
   ],
   "source": [
    "fn.check_unique(actor, columns) #Parece Todo Bien"
   ]
  },
  {
   "cell_type": "code",
   "execution_count": 9,
   "id": "b2aa2ef6",
   "metadata": {},
   "outputs": [
    {
     "name": "stdout",
     "output_type": "stream",
     "text": [
      "1      1\n",
      "138    1\n",
      "128    1\n",
      "129    1\n",
      "130    1\n",
      "Name: actor_id, dtype: int64\n",
      "PENELOPE    4\n",
      "JULIA       4\n",
      "KENNETH     4\n",
      "GENE        3\n",
      "GROUCHO     3\n",
      "Name: first_name, dtype: int64\n",
      "KILMER     5\n",
      "TEMPLE     4\n",
      "NOLTE      4\n",
      "GUINESS    3\n",
      "ALLEN      3\n",
      "Name: last_name, dtype: int64\n",
      "2006-02-15 04:34:33    200\n",
      "Name: last_update, dtype: int64\n"
     ]
    }
   ],
   "source": [
    "fn.check_value(actor, columns) #Parece todo Correcto"
   ]
  },
  {
   "cell_type": "markdown",
   "id": "31aa3ae3",
   "metadata": {},
   "source": [
    "### Duplicados"
   ]
  },
  {
   "cell_type": "code",
   "execution_count": 10,
   "id": "775ea880",
   "metadata": {},
   "outputs": [
    {
     "data": {
      "text/plain": [
       "False"
      ]
     },
     "execution_count": 10,
     "metadata": {},
     "output_type": "execute_result"
    }
   ],
   "source": [
    "actor.duplicated().any() #No hay duplicados"
   ]
  },
  {
   "cell_type": "code",
   "execution_count": 11,
   "id": "cb0475ca",
   "metadata": {},
   "outputs": [
    {
     "data": {
      "text/plain": [
       "True"
      ]
     },
     "execution_count": 11,
     "metadata": {},
     "output_type": "execute_result"
    }
   ],
   "source": [
    "actor[['first_name', 'last_name']].duplicated().any() #Hay duplicados si no contamos el ID"
   ]
  },
  {
   "cell_type": "code",
   "execution_count": 12,
   "id": "675e0118",
   "metadata": {},
   "outputs": [
    {
     "data": {
      "text/plain": [
       "first_name  last_name\n",
       "SUSAN       DAVIS        2\n",
       "ADAM        GRANT        1\n",
       "MILLA       KEITEL       1\n",
       "MATTHEW     LEIGH        1\n",
       "MEG         HAWKE        1\n",
       "dtype: int64"
      ]
     },
     "execution_count": 12,
     "metadata": {},
     "output_type": "execute_result"
    }
   ],
   "source": [
    "actor[['first_name', 'last_name']].value_counts().head() #Solo hay uno, decido dejarlo por que pueden ser dos distintos."
   ]
  },
  {
   "cell_type": "markdown",
   "id": "d2f2aa32",
   "metadata": {},
   "source": [
    "### Cambio del tipo de dato, optimizacion de memoria"
   ]
  },
  {
   "cell_type": "code",
   "execution_count": 13,
   "id": "6bacdb3a",
   "metadata": {},
   "outputs": [
    {
     "name": "stdout",
     "output_type": "stream",
     "text": [
      "<class 'pandas.core.frame.DataFrame'>\n",
      "RangeIndex: 200 entries, 0 to 199\n",
      "Data columns (total 4 columns):\n",
      " #   Column       Non-Null Count  Dtype \n",
      "---  ------       --------------  ----- \n",
      " 0   actor_id     200 non-null    int64 \n",
      " 1   first_name   200 non-null    object\n",
      " 2   last_name    200 non-null    object\n",
      " 3   last_update  200 non-null    object\n",
      "dtypes: int64(1), object(3)\n",
      "memory usage: 41.0 KB\n"
     ]
    }
   ],
   "source": [
    "actor.info(memory_usage='deep')"
   ]
  },
  {
   "cell_type": "code",
   "execution_count": 14,
   "id": "67f8376f",
   "metadata": {},
   "outputs": [
    {
     "name": "stdout",
     "output_type": "stream",
     "text": [
      "<class 'pandas.core.frame.DataFrame'>\n",
      "RangeIndex: 200 entries, 0 to 199\n",
      "Data columns (total 4 columns):\n",
      " #   Column       Non-Null Count  Dtype         \n",
      "---  ------       --------------  -----         \n",
      " 0   actor_id     200 non-null    int64         \n",
      " 1   first_name   200 non-null    object        \n",
      " 2   last_name    200 non-null    object        \n",
      " 3   last_update  200 non-null    datetime64[ns]\n",
      "dtypes: datetime64[ns](1), int64(1), object(2)\n",
      "memory usage: 27.8 KB\n"
     ]
    }
   ],
   "source": [
    "actor.last_update=pd.to_datetime(actor.last_update, format='%Y-%m-%d')\n",
    "\n",
    "actor.info(memory_usage='deep')"
   ]
  },
  {
   "cell_type": "code",
   "execution_count": 15,
   "id": "efcb7003",
   "metadata": {},
   "outputs": [
    {
     "name": "stdout",
     "output_type": "stream",
     "text": [
      "<class 'pandas.core.frame.DataFrame'>\n",
      "RangeIndex: 200 entries, 0 to 199\n",
      "Data columns (total 4 columns):\n",
      " #   Column       Non-Null Count  Dtype         \n",
      "---  ------       --------------  -----         \n",
      " 0   actor_id     200 non-null    int64         \n",
      " 1   first_name   200 non-null    category      \n",
      " 2   last_name    200 non-null    category      \n",
      " 3   last_update  200 non-null    datetime64[ns]\n",
      "dtypes: category(2), datetime64[ns](1), int64(1)\n",
      "memory usage: 27.2 KB\n"
     ]
    }
   ],
   "source": [
    "for c in actor.select_dtypes('object').columns:\n",
    "    \n",
    "    actor[c]=actor[c].astype('category')\n",
    "    \n",
    "actor.info(memory_usage='deep')"
   ]
  },
  {
   "cell_type": "code",
   "execution_count": 16,
   "id": "b191b747",
   "metadata": {},
   "outputs": [
    {
     "name": "stdout",
     "output_type": "stream",
     "text": [
      "<class 'pandas.core.frame.DataFrame'>\n",
      "RangeIndex: 200 entries, 0 to 199\n",
      "Data columns (total 4 columns):\n",
      " #   Column       Non-Null Count  Dtype         \n",
      "---  ------       --------------  -----         \n",
      " 0   actor_id     200 non-null    int16         \n",
      " 1   first_name   200 non-null    category      \n",
      " 2   last_name    200 non-null    category      \n",
      " 3   last_update  200 non-null    datetime64[ns]\n",
      "dtypes: category(2), datetime64[ns](1), int16(1)\n",
      "memory usage: 26.0 KB\n"
     ]
    }
   ],
   "source": [
    "for c in actor.select_dtypes('integer').columns:\n",
    "    \n",
    "    actor[c]=pd.to_numeric(actor[c], downcast='integer')\n",
    "    \n",
    "actor.info(memory_usage='deep')"
   ]
  },
  {
   "cell_type": "code",
   "execution_count": 135,
   "id": "f524be01",
   "metadata": {},
   "outputs": [],
   "source": [
    "actor.drop(columns='last_update', inplace=True)"
   ]
  },
  {
   "cell_type": "code",
   "execution_count": 136,
   "id": "411f8300",
   "metadata": {},
   "outputs": [
    {
     "data": {
      "text/html": [
       "<div>\n",
       "<style scoped>\n",
       "    .dataframe tbody tr th:only-of-type {\n",
       "        vertical-align: middle;\n",
       "    }\n",
       "\n",
       "    .dataframe tbody tr th {\n",
       "        vertical-align: top;\n",
       "    }\n",
       "\n",
       "    .dataframe thead th {\n",
       "        text-align: right;\n",
       "    }\n",
       "</style>\n",
       "<table border=\"1\" class=\"dataframe\">\n",
       "  <thead>\n",
       "    <tr style=\"text-align: right;\">\n",
       "      <th></th>\n",
       "      <th>actor_id</th>\n",
       "      <th>first_name</th>\n",
       "      <th>last_name</th>\n",
       "    </tr>\n",
       "  </thead>\n",
       "  <tbody>\n",
       "    <tr>\n",
       "      <th>0</th>\n",
       "      <td>1</td>\n",
       "      <td>PENELOPE</td>\n",
       "      <td>GUINESS</td>\n",
       "    </tr>\n",
       "    <tr>\n",
       "      <th>1</th>\n",
       "      <td>2</td>\n",
       "      <td>NICK</td>\n",
       "      <td>WAHLBERG</td>\n",
       "    </tr>\n",
       "    <tr>\n",
       "      <th>2</th>\n",
       "      <td>3</td>\n",
       "      <td>ED</td>\n",
       "      <td>CHASE</td>\n",
       "    </tr>\n",
       "    <tr>\n",
       "      <th>3</th>\n",
       "      <td>4</td>\n",
       "      <td>JENNIFER</td>\n",
       "      <td>DAVIS</td>\n",
       "    </tr>\n",
       "    <tr>\n",
       "      <th>4</th>\n",
       "      <td>5</td>\n",
       "      <td>JOHNNY</td>\n",
       "      <td>LOLLOBRIGIDA</td>\n",
       "    </tr>\n",
       "  </tbody>\n",
       "</table>\n",
       "</div>"
      ],
      "text/plain": [
       "   actor_id first_name     last_name\n",
       "0         1   PENELOPE       GUINESS\n",
       "1         2       NICK      WAHLBERG\n",
       "2         3         ED         CHASE\n",
       "3         4   JENNIFER         DAVIS\n",
       "4         5     JOHNNY  LOLLOBRIGIDA"
      ]
     },
     "execution_count": 136,
     "metadata": {},
     "output_type": "execute_result"
    }
   ],
   "source": [
    "actor.head()"
   ]
  },
  {
   "cell_type": "code",
   "execution_count": null,
   "id": "f1b347fd",
   "metadata": {},
   "outputs": [],
   "source": [
    "rental.drop(columns='last_update', inplace=True)\n",
    "\n",
    "rental.head()"
   ]
  },
  {
   "cell_type": "markdown",
   "id": "e9a1aca6",
   "metadata": {},
   "source": [
    "# CATEGORY"
   ]
  },
  {
   "cell_type": "code",
   "execution_count": 17,
   "id": "aa8d3a66",
   "metadata": {
    "scrolled": false
   },
   "outputs": [
    {
     "data": {
      "text/html": [
       "<div>\n",
       "<style scoped>\n",
       "    .dataframe tbody tr th:only-of-type {\n",
       "        vertical-align: middle;\n",
       "    }\n",
       "\n",
       "    .dataframe tbody tr th {\n",
       "        vertical-align: top;\n",
       "    }\n",
       "\n",
       "    .dataframe thead th {\n",
       "        text-align: right;\n",
       "    }\n",
       "</style>\n",
       "<table border=\"1\" class=\"dataframe\">\n",
       "  <thead>\n",
       "    <tr style=\"text-align: right;\">\n",
       "      <th></th>\n",
       "      <th>category_id</th>\n",
       "      <th>name</th>\n",
       "      <th>last_update</th>\n",
       "    </tr>\n",
       "  </thead>\n",
       "  <tbody>\n",
       "    <tr>\n",
       "      <th>0</th>\n",
       "      <td>1</td>\n",
       "      <td>Action</td>\n",
       "      <td>2006-02-15 04:46:27</td>\n",
       "    </tr>\n",
       "    <tr>\n",
       "      <th>1</th>\n",
       "      <td>2</td>\n",
       "      <td>Animation</td>\n",
       "      <td>2006-02-15 04:46:27</td>\n",
       "    </tr>\n",
       "    <tr>\n",
       "      <th>2</th>\n",
       "      <td>3</td>\n",
       "      <td>Children</td>\n",
       "      <td>2006-02-15 04:46:27</td>\n",
       "    </tr>\n",
       "    <tr>\n",
       "      <th>3</th>\n",
       "      <td>4</td>\n",
       "      <td>Classics</td>\n",
       "      <td>2006-02-15 04:46:27</td>\n",
       "    </tr>\n",
       "    <tr>\n",
       "      <th>4</th>\n",
       "      <td>5</td>\n",
       "      <td>Comedy</td>\n",
       "      <td>2006-02-15 04:46:27</td>\n",
       "    </tr>\n",
       "  </tbody>\n",
       "</table>\n",
       "</div>"
      ],
      "text/plain": [
       "   category_id       name          last_update\n",
       "0            1     Action  2006-02-15 04:46:27\n",
       "1            2  Animation  2006-02-15 04:46:27\n",
       "2            3   Children  2006-02-15 04:46:27\n",
       "3            4   Classics  2006-02-15 04:46:27\n",
       "4            5     Comedy  2006-02-15 04:46:27"
      ]
     },
     "execution_count": 17,
     "metadata": {},
     "output_type": "execute_result"
    }
   ],
   "source": [
    "category.head()"
   ]
  },
  {
   "cell_type": "code",
   "execution_count": 18,
   "id": "7f409c79",
   "metadata": {
    "scrolled": true
   },
   "outputs": [
    {
     "name": "stdout",
     "output_type": "stream",
     "text": [
      "<class 'pandas.core.frame.DataFrame'>\n",
      "RangeIndex: 16 entries, 0 to 15\n",
      "Data columns (total 3 columns):\n",
      " #   Column       Non-Null Count  Dtype \n",
      "---  ------       --------------  ----- \n",
      " 0   category_id  16 non-null     int64 \n",
      " 1   name         16 non-null     object\n",
      " 2   last_update  16 non-null     object\n",
      "dtypes: int64(1), object(2)\n",
      "memory usage: 2.4 KB\n"
     ]
    }
   ],
   "source": [
    "category.info(memory_usage='deep') #Sin nulos"
   ]
  },
  {
   "cell_type": "code",
   "execution_count": 19,
   "id": "d32b3e71",
   "metadata": {},
   "outputs": [
    {
     "data": {
      "text/plain": [
       "Index(['category_id', 'name', 'last_update'], dtype='object')"
      ]
     },
     "execution_count": 19,
     "metadata": {},
     "output_type": "execute_result"
    }
   ],
   "source": [
    "columns = category.columns\n",
    "columns"
   ]
  },
  {
   "cell_type": "code",
   "execution_count": 21,
   "id": "81c30252",
   "metadata": {},
   "outputs": [
    {
     "data": {
      "text/plain": [
       "(16, 3)"
      ]
     },
     "execution_count": 21,
     "metadata": {},
     "output_type": "execute_result"
    }
   ],
   "source": [
    "category.shape"
   ]
  },
  {
   "cell_type": "markdown",
   "id": "430df11c",
   "metadata": {},
   "source": [
    "### Nulos"
   ]
  },
  {
   "cell_type": "code",
   "execution_count": 24,
   "id": "1bfe2109",
   "metadata": {},
   "outputs": [
    {
     "data": {
      "text/plain": [
       "'N nan cols: 0'"
      ]
     },
     "metadata": {},
     "output_type": "display_data"
    },
    {
     "data": {
      "text/plain": [
       "Series([], dtype: float64)"
      ]
     },
     "metadata": {},
     "output_type": "display_data"
    },
    {
     "data": {
      "image/png": "[encoded data removed]",
      "text/plain": [
       "<Figure size 720x432 with 1 Axes>"
      ]
     },
     "metadata": {
      "needs_background": "light"
     },
     "output_type": "display_data"
    }
   ],
   "source": [
    "fn.check_nan(category)"
   ]
  },
  {
   "cell_type": "markdown",
   "id": "b63d1f7b",
   "metadata": {},
   "source": [
    "### Valores incorrectos"
   ]
  },
  {
   "cell_type": "code",
   "execution_count": 25,
   "id": "bf7fa4fd",
   "metadata": {},
   "outputs": [
    {
     "name": "stdout",
     "output_type": "stream",
     "text": [
      "[ 1  2  3  4  5  6  7  8  9 10 11 12 13 14 15 16]\n",
      "['Action' 'Animation' 'Children' 'Classics' 'Comedy' 'Documentary' 'Drama'\n",
      " 'Family' 'Foreign' 'Games' 'Horror' 'Music' 'New' 'Sci-Fi' 'Sports'\n",
      " 'Travel']\n",
      "['2006-02-15 04:46:27']\n"
     ]
    }
   ],
   "source": [
    "fn.check_unique(category, columns) #Parece Todo Bien"
   ]
  },
  {
   "cell_type": "code",
   "execution_count": 27,
   "id": "9a82bed6",
   "metadata": {},
   "outputs": [
    {
     "name": "stdout",
     "output_type": "stream",
     "text": [
      "1    1\n",
      "2    1\n",
      "3    1\n",
      "4    1\n",
      "5    1\n",
      "Name: category_id, dtype: int64\n",
      "Action       1\n",
      "Animation    1\n",
      "Children     1\n",
      "Classics     1\n",
      "Comedy       1\n",
      "Name: name, dtype: int64\n",
      "2006-02-15 04:46:27    16\n",
      "Name: last_update, dtype: int64\n"
     ]
    }
   ],
   "source": [
    "fn.check_value(category, columns) #Parece todo Correcto"
   ]
  },
  {
   "cell_type": "markdown",
   "id": "15615679",
   "metadata": {},
   "source": [
    "### Duplicados"
   ]
  },
  {
   "cell_type": "code",
   "execution_count": 29,
   "id": "372c6085",
   "metadata": {},
   "outputs": [
    {
     "data": {
      "text/plain": [
       "False"
      ]
     },
     "execution_count": 29,
     "metadata": {},
     "output_type": "execute_result"
    }
   ],
   "source": [
    "category.duplicated().any() #No hay duplicados"
   ]
  },
  {
   "cell_type": "code",
   "execution_count": 31,
   "id": "266aa437",
   "metadata": {},
   "outputs": [
    {
     "data": {
      "text/plain": [
       "False"
      ]
     },
     "execution_count": 31,
     "metadata": {},
     "output_type": "execute_result"
    }
   ],
   "source": [
    "category[['name', 'last_update']].duplicated().any() #No hay duplicados"
   ]
  },
  {
   "cell_type": "markdown",
   "id": "f6107a61",
   "metadata": {},
   "source": [
    "### Cambio del tipo de dato, optimizacion de memoria"
   ]
  },
  {
   "cell_type": "code",
   "execution_count": 32,
   "id": "6a75d3c7",
   "metadata": {},
   "outputs": [
    {
     "name": "stdout",
     "output_type": "stream",
     "text": [
      "<class 'pandas.core.frame.DataFrame'>\n",
      "RangeIndex: 16 entries, 0 to 15\n",
      "Data columns (total 3 columns):\n",
      " #   Column       Non-Null Count  Dtype \n",
      "---  ------       --------------  ----- \n",
      " 0   category_id  16 non-null     int64 \n",
      " 1   name         16 non-null     object\n",
      " 2   last_update  16 non-null     object\n",
      "dtypes: int64(1), object(2)\n",
      "memory usage: 2.4 KB\n"
     ]
    }
   ],
   "source": [
    "category.info(memory_usage='deep')"
   ]
  },
  {
   "cell_type": "code",
   "execution_count": 33,
   "id": "d1fe1360",
   "metadata": {},
   "outputs": [
    {
     "name": "stdout",
     "output_type": "stream",
     "text": [
      "<class 'pandas.core.frame.DataFrame'>\n",
      "RangeIndex: 16 entries, 0 to 15\n",
      "Data columns (total 3 columns):\n",
      " #   Column       Non-Null Count  Dtype         \n",
      "---  ------       --------------  -----         \n",
      " 0   category_id  16 non-null     int64         \n",
      " 1   name         16 non-null     object        \n",
      " 2   last_update  16 non-null     datetime64[ns]\n",
      "dtypes: datetime64[ns](1), int64(1), object(1)\n",
      "memory usage: 1.4 KB\n"
     ]
    }
   ],
   "source": [
    "category.last_update=pd.to_datetime(category.last_update, format='%Y-%m-%d')\n",
    "\n",
    "category.info(memory_usage='deep')"
   ]
  },
  {
   "cell_type": "code",
   "execution_count": 35,
   "id": "710e2f26",
   "metadata": {},
   "outputs": [
    {
     "name": "stdout",
     "output_type": "stream",
     "text": [
      "<class 'pandas.core.frame.DataFrame'>\n",
      "RangeIndex: 16 entries, 0 to 15\n",
      "Data columns (total 3 columns):\n",
      " #   Column       Non-Null Count  Dtype         \n",
      "---  ------       --------------  -----         \n",
      " 0   category_id  16 non-null     int64         \n",
      " 1   name         16 non-null     category      \n",
      " 2   last_update  16 non-null     datetime64[ns]\n",
      "dtypes: category(1), datetime64[ns](1), int64(1)\n",
      "memory usage: 1.9 KB\n"
     ]
    }
   ],
   "source": [
    "for c in category.select_dtypes('object').columns:\n",
    "    \n",
    "    category[c]=category[c].astype('category')\n",
    "    \n",
    "category.info(memory_usage='deep')"
   ]
  },
  {
   "cell_type": "code",
   "execution_count": 36,
   "id": "910286ac",
   "metadata": {},
   "outputs": [
    {
     "name": "stdout",
     "output_type": "stream",
     "text": [
      "<class 'pandas.core.frame.DataFrame'>\n",
      "RangeIndex: 16 entries, 0 to 15\n",
      "Data columns (total 3 columns):\n",
      " #   Column       Non-Null Count  Dtype         \n",
      "---  ------       --------------  -----         \n",
      " 0   category_id  16 non-null     int8          \n",
      " 1   name         16 non-null     category      \n",
      " 2   last_update  16 non-null     datetime64[ns]\n",
      "dtypes: category(1), datetime64[ns](1), int8(1)\n",
      "memory usage: 1.8 KB\n"
     ]
    }
   ],
   "source": [
    "for c in category.select_dtypes('integer').columns:\n",
    "    \n",
    "    category[c]=pd.to_numeric(category[c], downcast='integer')\n",
    "    \n",
    "category.info(memory_usage='deep')"
   ]
  },
  {
   "cell_type": "code",
   "execution_count": 132,
   "id": "cbb0525f",
   "metadata": {},
   "outputs": [],
   "source": [
    "category.drop(columns='last_update', inplace=True)"
   ]
  },
  {
   "cell_type": "code",
   "execution_count": 133,
   "id": "2d931ab6",
   "metadata": {},
   "outputs": [
    {
     "data": {
      "text/html": [
       "<div>\n",
       "<style scoped>\n",
       "    .dataframe tbody tr th:only-of-type {\n",
       "        vertical-align: middle;\n",
       "    }\n",
       "\n",
       "    .dataframe tbody tr th {\n",
       "        vertical-align: top;\n",
       "    }\n",
       "\n",
       "    .dataframe thead th {\n",
       "        text-align: right;\n",
       "    }\n",
       "</style>\n",
       "<table border=\"1\" class=\"dataframe\">\n",
       "  <thead>\n",
       "    <tr style=\"text-align: right;\">\n",
       "      <th></th>\n",
       "      <th>category_id</th>\n",
       "      <th>name</th>\n",
       "    </tr>\n",
       "  </thead>\n",
       "  <tbody>\n",
       "    <tr>\n",
       "      <th>0</th>\n",
       "      <td>1</td>\n",
       "      <td>Action</td>\n",
       "    </tr>\n",
       "    <tr>\n",
       "      <th>1</th>\n",
       "      <td>2</td>\n",
       "      <td>Animation</td>\n",
       "    </tr>\n",
       "    <tr>\n",
       "      <th>2</th>\n",
       "      <td>3</td>\n",
       "      <td>Children</td>\n",
       "    </tr>\n",
       "    <tr>\n",
       "      <th>3</th>\n",
       "      <td>4</td>\n",
       "      <td>Classics</td>\n",
       "    </tr>\n",
       "    <tr>\n",
       "      <th>4</th>\n",
       "      <td>5</td>\n",
       "      <td>Comedy</td>\n",
       "    </tr>\n",
       "  </tbody>\n",
       "</table>\n",
       "</div>"
      ],
      "text/plain": [
       "   category_id       name\n",
       "0            1     Action\n",
       "1            2  Animation\n",
       "2            3   Children\n",
       "3            4   Classics\n",
       "4            5     Comedy"
      ]
     },
     "execution_count": 133,
     "metadata": {},
     "output_type": "execute_result"
    }
   ],
   "source": [
    "category.head()"
   ]
  },
  {
   "cell_type": "code",
   "execution_count": null,
   "id": "c4c30090",
   "metadata": {},
   "outputs": [],
   "source": []
  },
  {
   "cell_type": "markdown",
   "id": "f27bc5e9",
   "metadata": {},
   "source": [
    "# FILM"
   ]
  },
  {
   "cell_type": "code",
   "execution_count": 37,
   "id": "a48abade",
   "metadata": {
    "scrolled": false
   },
   "outputs": [
    {
     "data": {
      "text/html": [
       "<div>\n",
       "<style scoped>\n",
       "    .dataframe tbody tr th:only-of-type {\n",
       "        vertical-align: middle;\n",
       "    }\n",
       "\n",
       "    .dataframe tbody tr th {\n",
       "        vertical-align: top;\n",
       "    }\n",
       "\n",
       "    .dataframe thead th {\n",
       "        text-align: right;\n",
       "    }\n",
       "</style>\n",
       "<table border=\"1\" class=\"dataframe\">\n",
       "  <thead>\n",
       "    <tr style=\"text-align: right;\">\n",
       "      <th></th>\n",
       "      <th>film_id</th>\n",
       "      <th>title</th>\n",
       "      <th>description</th>\n",
       "      <th>release_year</th>\n",
       "      <th>language_id</th>\n",
       "      <th>original_language_id</th>\n",
       "      <th>rental_duration</th>\n",
       "      <th>rental_rate</th>\n",
       "      <th>length</th>\n",
       "      <th>replacement_cost</th>\n",
       "      <th>rating</th>\n",
       "      <th>special_features</th>\n",
       "      <th>last_update</th>\n",
       "    </tr>\n",
       "  </thead>\n",
       "  <tbody>\n",
       "    <tr>\n",
       "      <th>0</th>\n",
       "      <td>1</td>\n",
       "      <td>ACADEMY DINOSAUR</td>\n",
       "      <td>A Epic Drama of a Feminist And a Mad Scientist...</td>\n",
       "      <td>2006</td>\n",
       "      <td>1</td>\n",
       "      <td>NaN</td>\n",
       "      <td>6</td>\n",
       "      <td>0.99</td>\n",
       "      <td>86</td>\n",
       "      <td>20.99</td>\n",
       "      <td>PG</td>\n",
       "      <td>Deleted Scenes,Behind the Scenes</td>\n",
       "      <td>2006-02-15 05:03:42</td>\n",
       "    </tr>\n",
       "    <tr>\n",
       "      <th>1</th>\n",
       "      <td>2</td>\n",
       "      <td>ACE GOLDFINGER</td>\n",
       "      <td>A Astounding Epistle of a Database Administrat...</td>\n",
       "      <td>2006</td>\n",
       "      <td>1</td>\n",
       "      <td>NaN</td>\n",
       "      <td>3</td>\n",
       "      <td>4.99</td>\n",
       "      <td>48</td>\n",
       "      <td>12.99</td>\n",
       "      <td>G</td>\n",
       "      <td>Trailers,Deleted Scenes</td>\n",
       "      <td>2006-02-15 05:03:42</td>\n",
       "    </tr>\n",
       "    <tr>\n",
       "      <th>2</th>\n",
       "      <td>3</td>\n",
       "      <td>ADAPTATION HOLES</td>\n",
       "      <td>A Astounding Reflection of a Lumberjack And a ...</td>\n",
       "      <td>2006</td>\n",
       "      <td>1</td>\n",
       "      <td>NaN</td>\n",
       "      <td>7</td>\n",
       "      <td>2.99</td>\n",
       "      <td>50</td>\n",
       "      <td>18.99</td>\n",
       "      <td>NC-17</td>\n",
       "      <td>Trailers,Deleted Scenes</td>\n",
       "      <td>2006-02-15 05:03:42</td>\n",
       "    </tr>\n",
       "    <tr>\n",
       "      <th>3</th>\n",
       "      <td>4</td>\n",
       "      <td>AFFAIR PREJUDICE</td>\n",
       "      <td>A Fanciful Documentary of a Frisbee And a Lumb...</td>\n",
       "      <td>2006</td>\n",
       "      <td>1</td>\n",
       "      <td>NaN</td>\n",
       "      <td>5</td>\n",
       "      <td>2.99</td>\n",
       "      <td>117</td>\n",
       "      <td>26.99</td>\n",
       "      <td>G</td>\n",
       "      <td>Commentaries,Behind the Scenes</td>\n",
       "      <td>2006-02-15 05:03:42</td>\n",
       "    </tr>\n",
       "    <tr>\n",
       "      <th>4</th>\n",
       "      <td>5</td>\n",
       "      <td>AFRICAN EGG</td>\n",
       "      <td>A Fast-Paced Documentary of a Pastry Chef And ...</td>\n",
       "      <td>2006</td>\n",
       "      <td>1</td>\n",
       "      <td>NaN</td>\n",
       "      <td>6</td>\n",
       "      <td>2.99</td>\n",
       "      <td>130</td>\n",
       "      <td>22.99</td>\n",
       "      <td>G</td>\n",
       "      <td>Deleted Scenes</td>\n",
       "      <td>2006-02-15 05:03:42</td>\n",
       "    </tr>\n",
       "  </tbody>\n",
       "</table>\n",
       "</div>"
      ],
      "text/plain": [
       "   film_id             title  \\\n",
       "0        1  ACADEMY DINOSAUR   \n",
       "1        2    ACE GOLDFINGER   \n",
       "2        3  ADAPTATION HOLES   \n",
       "3        4  AFFAIR PREJUDICE   \n",
       "4        5       AFRICAN EGG   \n",
       "\n",
       "                                         description  release_year  \\\n",
       "0  A Epic Drama of a Feminist And a Mad Scientist...          2006   \n",
       "1  A Astounding Epistle of a Database Administrat...          2006   \n",
       "2  A Astounding Reflection of a Lumberjack And a ...          2006   \n",
       "3  A Fanciful Documentary of a Frisbee And a Lumb...          2006   \n",
       "4  A Fast-Paced Documentary of a Pastry Chef And ...          2006   \n",
       "\n",
       "   language_id  original_language_id  rental_duration  rental_rate  length  \\\n",
       "0            1                   NaN                6         0.99      86   \n",
       "1            1                   NaN                3         4.99      48   \n",
       "2            1                   NaN                7         2.99      50   \n",
       "3            1                   NaN                5         2.99     117   \n",
       "4            1                   NaN                6         2.99     130   \n",
       "\n",
       "   replacement_cost rating                  special_features  \\\n",
       "0             20.99     PG  Deleted Scenes,Behind the Scenes   \n",
       "1             12.99      G           Trailers,Deleted Scenes   \n",
       "2             18.99  NC-17           Trailers,Deleted Scenes   \n",
       "3             26.99      G    Commentaries,Behind the Scenes   \n",
       "4             22.99      G                    Deleted Scenes   \n",
       "\n",
       "           last_update  \n",
       "0  2006-02-15 05:03:42  \n",
       "1  2006-02-15 05:03:42  \n",
       "2  2006-02-15 05:03:42  \n",
       "3  2006-02-15 05:03:42  \n",
       "4  2006-02-15 05:03:42  "
      ]
     },
     "execution_count": 37,
     "metadata": {},
     "output_type": "execute_result"
    }
   ],
   "source": [
    "film.head()"
   ]
  },
  {
   "cell_type": "code",
   "execution_count": 38,
   "id": "d3cfe53f",
   "metadata": {
    "scrolled": true
   },
   "outputs": [
    {
     "name": "stdout",
     "output_type": "stream",
     "text": [
      "<class 'pandas.core.frame.DataFrame'>\n",
      "RangeIndex: 1000 entries, 0 to 999\n",
      "Data columns (total 13 columns):\n",
      " #   Column                Non-Null Count  Dtype  \n",
      "---  ------                --------------  -----  \n",
      " 0   film_id               1000 non-null   int64  \n",
      " 1   title                 1000 non-null   object \n",
      " 2   description           1000 non-null   object \n",
      " 3   release_year          1000 non-null   int64  \n",
      " 4   language_id           1000 non-null   int64  \n",
      " 5   original_language_id  0 non-null      float64\n",
      " 6   rental_duration       1000 non-null   int64  \n",
      " 7   rental_rate           1000 non-null   float64\n",
      " 8   length                1000 non-null   int64  \n",
      " 9   replacement_cost      1000 non-null   float64\n",
      " 10  rating                1000 non-null   object \n",
      " 11  special_features      1000 non-null   object \n",
      " 12  last_update           1000 non-null   object \n",
      "dtypes: float64(3), int64(5), object(5)\n",
      "memory usage: 495.3 KB\n"
     ]
    }
   ],
   "source": [
    "film.info(memory_usage='deep') #Sin nulos"
   ]
  },
  {
   "cell_type": "code",
   "execution_count": 40,
   "id": "cea005a0",
   "metadata": {},
   "outputs": [
    {
     "data": {
      "text/plain": [
       "Index(['film_id', 'title', 'description', 'release_year', 'language_id',\n",
       "       'original_language_id', 'rental_duration', 'rental_rate', 'length',\n",
       "       'replacement_cost', 'rating', 'special_features', 'last_update'],\n",
       "      dtype='object')"
      ]
     },
     "execution_count": 40,
     "metadata": {},
     "output_type": "execute_result"
    }
   ],
   "source": [
    "columns = film.columns\n",
    "columns"
   ]
  },
  {
   "cell_type": "code",
   "execution_count": 41,
   "id": "199082d2",
   "metadata": {},
   "outputs": [
    {
     "data": {
      "text/plain": [
       "(1000, 13)"
      ]
     },
     "execution_count": 41,
     "metadata": {},
     "output_type": "execute_result"
    }
   ],
   "source": [
    "film.shape"
   ]
  },
  {
   "cell_type": "markdown",
   "id": "e51a08c5",
   "metadata": {},
   "source": [
    "### Nulos"
   ]
  },
  {
   "cell_type": "code",
   "execution_count": 43,
   "id": "fe9ec7ec",
   "metadata": {},
   "outputs": [
    {
     "data": {
      "text/plain": [
       "'N nan cols: 1'"
      ]
     },
     "metadata": {},
     "output_type": "display_data"
    },
    {
     "data": {
      "text/plain": [
       "original_language_id    100.0\n",
       "dtype: float64"
      ]
     },
     "metadata": {},
     "output_type": "display_data"
    },
    {
     "data": {
      "image/png": "[encoded data removed]",
      "text/plain": [
       "<Figure size 720x432 with 1 Axes>"
      ]
     },
     "metadata": {
      "needs_background": "light"
     },
     "output_type": "display_data"
    }
   ],
   "source": [
    "fn.check_nan(film) #Columna entera de nulos"
   ]
  },
  {
   "cell_type": "code",
   "execution_count": 44,
   "id": "f1ee6654",
   "metadata": {},
   "outputs": [],
   "source": [
    "film.drop(columns='original_language_id', inplace=True)"
   ]
  },
  {
   "cell_type": "code",
   "execution_count": 45,
   "id": "d3b71868",
   "metadata": {},
   "outputs": [
    {
     "data": {
      "text/plain": [
       "'N nan cols: 0'"
      ]
     },
     "metadata": {},
     "output_type": "display_data"
    },
    {
     "data": {
      "text/plain": [
       "Series([], dtype: float64)"
      ]
     },
     "metadata": {},
     "output_type": "display_data"
    },
    {
     "data": {
      "image/png": "[encoded data removed]",
      "text/plain": [
       "<Figure size 720x432 with 1 Axes>"
      ]
     },
     "metadata": {
      "needs_background": "light"
     },
     "output_type": "display_data"
    }
   ],
   "source": [
    "fn.check_nan(film) #Ya no tenemos los nulos"
   ]
  },
  {
   "cell_type": "code",
   "execution_count": 47,
   "id": "33dfb87b",
   "metadata": {},
   "outputs": [
    {
     "data": {
      "text/plain": [
       "Index(['film_id', 'title', 'description', 'release_year', 'language_id',\n",
       "       'rental_duration', 'rental_rate', 'length', 'replacement_cost',\n",
       "       'rating', 'special_features', 'last_update'],\n",
       "      dtype='object')"
      ]
     },
     "execution_count": 47,
     "metadata": {},
     "output_type": "execute_result"
    }
   ],
   "source": [
    "columns = film.columns\n",
    "columns"
   ]
  },
  {
   "cell_type": "markdown",
   "id": "5c4ac047",
   "metadata": {},
   "source": [
    "### Valores incorrectos"
   ]
  },
  {
   "cell_type": "code",
   "execution_count": 48,
   "id": "56373652",
   "metadata": {},
   "outputs": [
    {
     "name": "stdout",
     "output_type": "stream",
     "text": [
      "[   1    2    3    4    5    6    7    8    9   10   11   12   13   14\n",
      "   15   16   17   18   19   20   21   22   23   24   25   26   27   28\n",
      "   29   30   31   32   33   34   35   36   37   38   39   40   41   42\n",
      "   43   44   45   46   47   48   49   50   51   52   53   54   55   56\n",
      "   57   58   59   60   61   62   63   64   65   66   67   68   69   70\n",
      "   71   72   73   74   75   76   77   78   79   80   81   82   83   84\n",
      "   85   86   87   88   89   90   91   92   93   94   95   96   97   98\n",
      "   99  100  101  102  103  104  105  106  107  108  109  110  111  112\n",
      "  113  114  115  116  117  118  119  120  121  122  123  124  125  126\n",
      "  127  128  129  130  131  132  133  134  135  136  137  138  139  140\n",
      "  141  142  143  144  145  146  147  148  149  150  151  152  153  154\n",
      "  155  156  157  158  159  160  161  162  163  164  165  166  167  168\n",
      "  169  170  171  172  173  174  175  176  177  178  179  180  181  182\n",
      "  183  184  185  186  187  188  189  190  191  192  193  194  195  196\n",
      "  197  198  199  200  201  202  203  204  205  206  207  208  209  210\n",
      "  211  212  213  214  215  216  217  218  219  220  221  222  223  224\n",
      "  225  226  227  228  229  230  231  232  233  234  235  236  237  238\n",
      "  239  240  241  242  243  244  245  246  247  248  249  250  251  252\n",
      "  253  254  255  256  257  258  259  260  261  262  263  264  265  266\n",
      "  267  268  269  270  271  272  273  274  275  276  277  278  279  280\n",
      "  281  282  283  284  285  286  287  288  289  290  291  292  293  294\n",
      "  295  296  297  298  299  300  301  302  303  304  305  306  307  308\n",
      "  309  310  311  312  313  314  315  316  317  318  319  320  321  322\n",
      "  323  324  325  326  327  328  329  330  331  332  333  334  335  336\n",
      "  337  338  339  340  341  342  343  344  345  346  347  348  349  350\n",
      "  351  352  353  354  355  356  357  358  359  360  361  362  363  364\n",
      "  365  366  367  368  369  370  371  372  373  374  375  376  377  378\n",
      "  379  380  381  382  383  384  385  386  387  388  389  390  391  392\n",
      "  393  394  395  396  397  398  399  400  401  402  403  404  405  406\n",
      "  407  408  409  410  411  412  413  414  415  416  417  418  419  420\n",
      "  421  422  423  424  425  426  427  428  429  430  431  432  433  434\n",
      "  435  436  437  438  439  440  441  442  443  444  445  446  447  448\n",
      "  449  450  451  452  453  454  455  456  457  458  459  460  461  462\n",
      "  463  464  465  466  467  468  469  470  471  472  473  474  475  476\n",
      "  477  478  479  480  481  482  483  484  485  486  487  488  489  490\n",
      "  491  492  493  494  495  496  497  498  499  500  501  502  503  504\n",
      "  505  506  507  508  509  510  511  512  513  514  515  516  517  518\n",
      "  519  520  521  522  523  524  525  526  527  528  529  530  531  532\n",
      "  533  534  535  536  537  538  539  540  541  542  543  544  545  546\n",
      "  547  548  549  550  551  552  553  554  555  556  557  558  559  560\n",
      "  561  562  563  564  565  566  567  568  569  570  571  572  573  574\n",
      "  575  576  577  578  579  580  581  582  583  584  585  586  587  588\n",
      "  589  590  591  592  593  594  595  596  597  598  599  600  601  602\n",
      "  603  604  605  606  607  608  609  610  611  612  613  614  615  616\n",
      "  617  618  619  620  621  622  623  624  625  626  627  628  629  630\n",
      "  631  632  633  634  635  636  637  638  639  640  641  642  643  644\n",
      "  645  646  647  648  649  650  651  652  653  654  655  656  657  658\n",
      "  659  660  661  662  663  664  665  666  667  668  669  670  671  672\n",
      "  673  674  675  676  677  678  679  680  681  682  683  684  685  686\n",
      "  687  688  689  690  691  692  693  694  695  696  697  698  699  700\n",
      "  701  702  703  704  705  706  707  708  709  710  711  712  713  714\n",
      "  715  716  717  718  719  720  721  722  723  724  725  726  727  728\n",
      "  729  730  731  732  733  734  735  736  737  738  739  740  741  742\n",
      "  743  744  745  746  747  748  749  750  751  752  753  754  755  756\n",
      "  757  758  759  760  761  762  763  764  765  766  767  768  769  770\n",
      "  771  772  773  774  775  776  777  778  779  780  781  782  783  784\n",
      "  785  786  787  788  789  790  791  792  793  794  795  796  797  798\n",
      "  799  800  801  802  803  804  805  806  807  808  809  810  811  812\n",
      "  813  814  815  816  817  818  819  820  821  822  823  824  825  826\n",
      "  827  828  829  830  831  832  833  834  835  836  837  838  839  840\n",
      "  841  842  843  844  845  846  847  848  849  850  851  852  853  854\n",
      "  855  856  857  858  859  860  861  862  863  864  865  866  867  868\n",
      "  869  870  871  872  873  874  875  876  877  878  879  880  881  882\n",
      "  883  884  885  886  887  888  889  890  891  892  893  894  895  896\n",
      "  897  898  899  900  901  902  903  904  905  906  907  908  909  910\n",
      "  911  912  913  914  915  916  917  918  919  920  921  922  923  924\n",
      "  925  926  927  928  929  930  931  932  933  934  935  936  937  938\n",
      "  939  940  941  942  943  944  945  946  947  948  949  950  951  952\n",
      "  953  954  955  956  957  958  959  960  961  962  963  964  965  966\n",
      "  967  968  969  970  971  972  973  974  975  976  977  978  979  980\n",
      "  981  982  983  984  985  986  987  988  989  990  991  992  993  994\n",
      "  995  996  997  998  999 1000]\n",
      "['ACADEMY DINOSAUR' 'ACE GOLDFINGER' 'ADAPTATION HOLES' 'AFFAIR PREJUDICE'\n",
      " 'AFRICAN EGG' 'AGENT TRUMAN' 'AIRPLANE SIERRA' 'AIRPORT POLLOCK'\n",
      " 'ALABAMA DEVIL' 'ALADDIN CALENDAR' 'ALAMO VIDEOTAPE' 'ALASKA PHANTOM'\n",
      " 'ALI FOREVER' 'ALICE FANTASIA' 'ALIEN CENTER' 'ALLEY EVOLUTION'\n",
      " 'ALONE TRIP' 'ALTER VICTORY' 'AMADEUS HOLY' 'AMELIE HELLFIGHTERS'\n",
      " 'AMERICAN CIRCUS' 'AMISTAD MIDSUMMER' 'ANACONDA CONFESSIONS'\n",
      " 'ANALYZE HOOSIERS' 'ANGELS LIFE' 'ANNIE IDENTITY' 'ANONYMOUS HUMAN'\n",
      " 'ANTHEM LUKE' 'ANTITRUST TOMATOES' 'ANYTHING SAVANNAH' 'APACHE DIVINE'\n",
      " 'APOCALYPSE FLAMINGOS' 'APOLLO TEEN' 'ARABIA DOGMA'\n",
      " 'ARACHNOPHOBIA ROLLERCOASTER' 'ARGONAUTS TOWN' 'ARIZONA BANG'\n",
      " 'ARK RIDGEMONT' 'ARMAGEDDON LOST' 'ARMY FLINTSTONES'\n",
      " 'ARSENIC INDEPENDENCE' 'ARTIST COLDBLOODED' 'ATLANTIS CAUSE'\n",
      " 'ATTACKS HATE' 'ATTRACTION NEWTON' 'AUTUMN CROW' 'BABY HALL'\n",
      " 'BACKLASH UNDEFEATED' 'BADMAN DAWN' 'BAKED CLEOPATRA' 'BALLOON HOMEWARD'\n",
      " 'BALLROOM MOCKINGBIRD' 'BANG KWAI' 'BANGER PINOCCHIO'\n",
      " 'BARBARELLA STREETCAR' 'BAREFOOT MANCHURIAN' 'BASIC EASY'\n",
      " 'BEACH HEARTBREAKERS' 'BEAR GRACELAND' 'BEAST HUNCHBACK' 'BEAUTY GREASE'\n",
      " 'BED HIGHBALL' 'BEDAZZLED MARRIED' 'BEETHOVEN EXORCIST'\n",
      " 'BEHAVIOR RUNAWAY' 'BENEATH RUSH' 'BERETS AGENT' 'BETRAYED REAR'\n",
      " 'BEVERLY OUTLAW' 'BIKINI BORROWERS' 'BILKO ANONYMOUS' 'BILL OTHERS'\n",
      " 'BINGO TALENTED' 'BIRCH ANTITRUST' 'BIRD INDEPENDENCE' 'BIRDCAGE CASPER'\n",
      " 'BIRDS PERDITION' 'BLACKOUT PRIVATE' 'BLADE POLISH' 'BLANKET BEVERLY'\n",
      " 'BLINDNESS GUN' 'BLOOD ARGONAUTS' 'BLUES INSTINCT' 'BOILED DARES'\n",
      " 'BONNIE HOLOCAUST' 'BOOGIE AMELIE' 'BOONDOCK BALLROOM' 'BORN SPINAL'\n",
      " 'BORROWERS BEDAZZLED' 'BOULEVARD MOB' 'BOUND CHEAPER' 'BOWFINGER GABLES'\n",
      " 'BRANNIGAN SUNRISE' 'BRAVEHEART HUMAN' 'BREAKFAST GOLDFINGER'\n",
      " 'BREAKING HOME' 'BRIDE INTRIGUE' 'BRIGHT ENCOUNTERS'\n",
      " 'BRINGING HYSTERICAL' 'BROOKLYN DESERT' 'BROTHERHOOD BLANKET'\n",
      " 'BUBBLE GROSSE' 'BUCKET BROTHERHOOD' 'BUGSY SONG' 'BULL SHAWSHANK'\n",
      " 'BULWORTH COMMANDMENTS' 'BUNCH MINDS' 'BUTCH PANTHER'\n",
      " 'BUTTERFLY CHOCOLAT' 'CABIN FLASH' 'CADDYSHACK JEDI' 'CALENDAR GUNFIGHT'\n",
      " 'CALIFORNIA BIRDS' 'CAMELOT VACATION' 'CAMPUS REMEMBER'\n",
      " 'CANDIDATE PERDITION' 'CANDLES GRAPES' 'CANYON STOCK' 'CAPER MOTIONS'\n",
      " 'CARIBBEAN LIBERTY' 'CAROL TEXAS' 'CARRIE BUNCH' 'CASABLANCA SUPER'\n",
      " 'CASPER DRAGONFLY' 'CASSIDY WYOMING' 'CASUALTIES ENCINO' 'CAT CONEHEADS'\n",
      " 'CATCH AMISTAD' 'CAUSE DATE' 'CELEBRITY HORN' 'CENTER DINOSAUR'\n",
      " 'CHAINSAW UPTOWN' 'CHAMBER ITALIAN' 'CHAMPION FLATLINERS'\n",
      " 'CHANCE RESURRECTION' 'CHAPLIN LICENSE' 'CHARADE DUFFEL'\n",
      " 'CHARIOTS CONSPIRACY' 'CHASING FIGHT' 'CHEAPER CLYDE' 'CHICAGO NORTH'\n",
      " 'CHICKEN HELLFIGHTERS' 'CHILL LUCK' 'CHINATOWN GLADIATOR'\n",
      " 'CHISUM BEHAVIOR' 'CHITTY LOCK' 'CHOCOLAT HARRY' 'CHOCOLATE DUCK'\n",
      " 'CHRISTMAS MOONSHINE' 'CIDER DESIRE' 'CINCINATTI WHISPERER'\n",
      " 'CIRCUS YOUTH' 'CITIZEN SHREK' 'CLASH FREDDY' 'CLEOPATRA DEVIL'\n",
      " 'CLERKS ANGELS' 'CLOCKWORK PARADISE' 'CLONES PINOCCHIO' 'CLOSER BANG'\n",
      " 'CLUB GRAFFITI' 'CLUE GRAIL' 'CLUELESS BUCKET' 'CLYDE THEORY'\n",
      " 'COAST RAINBOW' 'COLDBLOODED DARLING' 'COLOR PHILADELPHIA' 'COMA HEAD'\n",
      " 'COMANCHEROS ENEMY' 'COMFORTS RUSH' 'COMMAND DARLING'\n",
      " 'COMMANDMENTS EXPRESS' 'CONEHEADS SMOOCHY' 'CONFESSIONS MAGUIRE'\n",
      " 'CONFIDENTIAL INTERVIEW' 'CONFUSED CANDLES' 'CONGENIALITY QUEST'\n",
      " 'CONNECTICUT TRAMP' 'CONNECTION MICROCOSMOS' 'CONQUERER NUTS'\n",
      " 'CONSPIRACY SPIRIT' 'CONTACT ANONYMOUS' 'CONTROL ANTHEM'\n",
      " 'CONVERSATION DOWNHILL' 'CORE SUIT' 'COWBOY DOOM' 'CRAFT OUTFIELD'\n",
      " 'CRANES RESERVOIR' 'CRAZY HOME' 'CREATURES SHAKESPEARE' 'CREEPERS KANE'\n",
      " 'CROOKED FROGMEN' 'CROSSING DIVORCE' 'CROSSROADS CASUALTIES'\n",
      " 'CROW GREASE' 'CROWDS TELEMARK' 'CRUELTY UNFORGIVEN' 'CRUSADE HONEY'\n",
      " 'CRYSTAL BREAKING' 'CUPBOARD SINNERS' 'CURTAIN VIDEOTAPE'\n",
      " 'CYCLONE FAMILY' 'DADDY PITTSBURGH' 'DAISY MENAGERIE' 'DALMATIONS SWEDEN'\n",
      " 'DANCES NONE' 'DANCING FEVER' 'DANGEROUS UPTOWN' 'DARES PLUTO'\n",
      " 'DARKNESS WAR' 'DARKO DORADO' 'DARLING BREAKING' 'DARN FORRESTER'\n",
      " 'DATE SPEED' 'DAUGHTER MADIGAN' 'DAWN POND' 'DAY UNFAITHFUL' 'DAZED PUNK'\n",
      " 'DECEIVER BETRAYED' 'DEEP CRUSADE' 'DEER VIRGINIAN'\n",
      " 'DELIVERANCE MULHOLLAND' 'DESERT POSEIDON' 'DESIRE ALIEN'\n",
      " 'DESPERATE TRAINSPOTTING' 'DESTINATION JERK' 'DESTINY SATURDAY'\n",
      " 'DETAILS PACKER' 'DETECTIVE VISION' 'DEVIL DESIRE' 'DIARY PANIC'\n",
      " 'DINOSAUR SECRETARY' 'DIRTY ACE' 'DISCIPLE MOTHER' 'DISTURBING SCARFACE'\n",
      " 'DIVIDE MONSTER' 'DIVINE RESURRECTION' 'DIVORCE SHINING' 'DOCTOR GRAIL'\n",
      " 'DOGMA FAMILY' 'DOLLS RAGE' 'DONNIE ALLEY' 'DOOM DANCING'\n",
      " 'DOORS PRESIDENT' 'DORADO NOTTING' 'DOUBLE WRATH' 'DOUBTFIRE LABYRINTH'\n",
      " 'DOWNHILL ENOUGH' 'DOZEN LION' 'DRACULA CRYSTAL' 'DRAGON SQUAD'\n",
      " 'DRAGONFLY STRANGERS' 'DREAM PICKUP' 'DRIFTER COMMANDMENTS'\n",
      " 'DRIVER ANNIE' 'DRIVING POLISH' 'DROP WATERFRONT' 'DRUMLINE CYCLONE'\n",
      " 'DRUMS DYNAMITE' 'DUCK RACER' 'DUDE BLINDNESS' 'DUFFEL APOCALYPSE'\n",
      " 'DUMBO LUST' 'DURHAM PANKY' 'DWARFS ALTER' 'DYING MAKER'\n",
      " 'DYNAMITE TARZAN' 'EAGLES PANKY' 'EARLY HOME' 'EARRING INSTINCT'\n",
      " 'EARTH VISION' 'EASY GLADIATOR' 'EDGE KISSING' 'EFFECT GLADIATOR'\n",
      " 'EGG IGBY' 'EGYPT TENENBAUMS' 'ELEMENT FREDDY' 'ELEPHANT TROJAN'\n",
      " 'ELF MURDER' 'ELIZABETH SHANE' 'EMPIRE MALKOVICH' 'ENCINO ELF'\n",
      " 'ENCOUNTERS CURTAIN' 'ENDING CROWDS' 'ENEMY ODDS' 'ENGLISH BULWORTH'\n",
      " 'ENOUGH RAGING' 'ENTRAPMENT SATISFACTION' 'ESCAPE METROPOLIS'\n",
      " 'EVE RESURRECTION' 'EVERYONE CRAFT' 'EVOLUTION ALTER' 'EXCITEMENT EVE'\n",
      " 'EXORCIST STING' 'EXPECATIONS NATURAL' 'EXPENDABLE STALLION'\n",
      " 'EXPRESS LONELY' 'EXTRAORDINARY CONQUERER' 'EYES DRIVING'\n",
      " 'FACTORY DRAGON' 'FALCON VOLUME' 'FAMILY SWEET' 'FANTASIA PARK'\n",
      " 'FANTASY TROOPERS' 'FARGO GANDHI' 'FATAL HAUNTED' 'FEATHERS METAL'\n",
      " 'FELLOWSHIP AUTUMN' 'FERRIS MOTHER' 'FEUD FROGMEN' 'FEVER EMPIRE'\n",
      " 'FICTION CHRISTMAS' 'FIDDLER LOST' 'FIDELITY DEVIL' 'FIGHT JAWBREAKER'\n",
      " 'FINDING ANACONDA' 'FIRE WOLVES' 'FIREBALL PHILADELPHIA'\n",
      " 'FIREHOUSE VIETNAM' 'FISH OPUS' 'FLAMINGOS CONNECTICUT' 'FLASH WARS'\n",
      " 'FLATLINERS KILLER' 'FLIGHT LIES' 'FLINTSTONES HAPPINESS' 'FLOATS GARDEN'\n",
      " 'FLYING HOOK' 'FOOL MOCKINGBIRD' 'FOREVER CANDIDATE' 'FORREST SONS'\n",
      " 'FORRESTER COMANCHEROS' 'FORWARD TEMPLE' 'FRANKENSTEIN STRANGER'\n",
      " 'FREAKY POCUS' 'FREDDY STORM' 'FREEDOM CLEOPATRA' 'FRENCH HOLIDAY'\n",
      " 'FRIDA SLIPPER' 'FRISCO FORREST' 'FROGMEN BREAKING' 'FRONTIER CABIN'\n",
      " 'FROST HEAD' 'FUGITIVE MAGUIRE' 'FULL FLATLINERS' 'FURY MURDER'\n",
      " 'GABLES METROPOLIS' 'GALAXY SWEETHEARTS' 'GAMES BOWFINGER' 'GANDHI KWAI'\n",
      " 'GANGS PRIDE' 'GARDEN ISLAND' 'GASLIGHT CRUSADE' 'GATHERING CALENDAR'\n",
      " 'GENTLEMEN STAGE' 'GHOST GROUNDHOG' 'GHOSTBUSTERS ELF' 'GIANT TROOPERS'\n",
      " 'GILBERT PELICAN' 'GILMORE BOILED' 'GLADIATOR WESTWARD' 'GLASS DYING'\n",
      " 'GLEAMING JAWBREAKER' 'GLORY TRACY' 'GO PURPLE' 'GODFATHER DIARY'\n",
      " 'GOLD RIVER' 'GOLDFINGER SENSIBILITY' 'GOLDMINE TYCOON' 'GONE TROUBLE'\n",
      " 'GOODFELLAS SALUTE' 'GORGEOUS BINGO' 'GOSFORD DONNIE'\n",
      " 'GRACELAND DYNAMITE' 'GRADUATE LORD' 'GRAFFITI LOVE' 'GRAIL FRANKENSTEIN'\n",
      " 'GRAPES FURY' 'GREASE YOUTH' 'GREATEST NORTH' 'GREEDY ROOTS'\n",
      " 'GREEK EVERYONE' 'GRINCH MASSAGE' 'GRIT CLOCKWORK' 'GROOVE FICTION'\n",
      " 'GROSSE WONDERFUL' 'GROUNDHOG UNCUT' 'GUMP DATE' 'GUN BONNIE'\n",
      " 'GUNFIGHT MOON' 'GUNFIGHTER MUSSOLINI' 'GUYS FALCON' 'HALF OUTFIELD'\n",
      " 'HALL CASSIDY' 'HALLOWEEN NUTS' 'HAMLET WISDOM' 'HANDICAP BOONDOCK'\n",
      " 'HANGING DEEP' 'HANKY OCTOBER' 'HANOVER GALAXY' 'HAPPINESS UNITED'\n",
      " 'HARDLY ROBBERS' 'HAROLD FRENCH' 'HARPER DYING' 'HARRY IDAHO'\n",
      " 'HATE HANDICAP' 'HAUNTED ANTITRUST' 'HAUNTING PIANIST' 'HAWK CHILL'\n",
      " 'HEAD STRANGER' 'HEARTBREAKERS BRIGHT' 'HEAVEN FREEDOM' 'HEAVENLY GUN'\n",
      " 'HEAVYWEIGHTS BEAST' 'HEDWIG ALTER' 'HELLFIGHTERS SIERRA' 'HIGH ENCINO'\n",
      " 'HIGHBALL POTTER' 'HILLS NEIGHBORS' 'HOBBIT ALIEN' 'HOCUS FRIDA'\n",
      " 'HOLES BRANNIGAN' 'HOLIDAY GAMES' 'HOLLOW JEOPARDY' 'HOLLYWOOD ANONYMOUS'\n",
      " 'HOLOCAUST HIGHBALL' 'HOLY TADPOLE' 'HOME PITY' 'HOMEWARD CIDER'\n",
      " 'HOMICIDE PEACH' 'HONEY TIES' 'HOOK CHARIOTS' 'HOOSIERS BIRDCAGE'\n",
      " 'HOPE TOOTSIE' 'HORN WORKING' 'HORROR REIGN' 'HOTEL HAPPINESS'\n",
      " 'HOURS RAGE' 'HOUSE DYNAMITE' 'HUMAN GRAFFITI' 'HUNCHBACK IMPOSSIBLE'\n",
      " 'HUNGER ROOF' 'HUNTER ALTER' 'HUNTING MUSKETEERS' 'HURRICANE AFFAIR'\n",
      " 'HUSTLER PARTY' 'HYDE DOCTOR' 'HYSTERICAL GRAIL' 'ICE CROSSING'\n",
      " 'IDAHO LOVE' 'IDENTITY LOVER' 'IDOLS SNATCHERS' 'IGBY MAKER'\n",
      " 'ILLUSION AMELIE' 'IMAGE PRINCESS' 'IMPACT ALADDIN'\n",
      " 'IMPOSSIBLE PREJUDICE' 'INCH JET' 'INDEPENDENCE HOTEL' 'INDIAN LOVE'\n",
      " 'INFORMER DOUBLE' 'INNOCENT USUAL' 'INSECTS STONE' 'INSIDER ARIZONA'\n",
      " 'INSTINCT AIRPORT' 'INTENTIONS EMPIRE' 'INTERVIEW LIAISONS'\n",
      " 'INTOLERABLE INTENTIONS' 'INTRIGUE WORST' 'INVASION CYCLONE' 'IRON MOON'\n",
      " 'ISHTAR ROCKETEER' 'ISLAND EXORCIST' 'ITALIAN AFRICAN' 'JACKET FRISCO'\n",
      " 'JADE BUNCH' 'JAPANESE RUN' 'JASON TRAP' 'JAWBREAKER BROOKLYN'\n",
      " 'JAWS HARRY' 'JEDI BENEATH' 'JEEPERS WEDDING' 'JEKYLL FROGMEN'\n",
      " 'JEOPARDY ENCINO' 'JERICHO MULAN' 'JERK PAYCHECK' 'JERSEY SASSY'\n",
      " 'JET NEIGHBORS' 'JINGLE SAGEBRUSH' 'JOON NORTHWEST' 'JUGGLER HARDLY'\n",
      " 'JUMANJI BLADE' 'JUMPING WRATH' 'JUNGLE CLOSER' 'KANE EXORCIST'\n",
      " 'KARATE MOON' 'KENTUCKIAN GIANT' 'KICK SAVANNAH' 'KILL BROTHERHOOD'\n",
      " 'KILLER INNOCENT' 'KING EVOLUTION' 'KISS GLORY' 'KISSING DOLLS'\n",
      " 'KNOCK WARLOCK' 'KRAMER CHOCOLATE' 'KWAI HOMEWARD' 'LABYRINTH LEAGUE'\n",
      " 'LADY STAGE' 'LADYBUGS ARMAGEDDON' 'LAMBS CINCINATTI' 'LANGUAGE COWBOY'\n",
      " 'LAWLESS VISION' 'LAWRENCE LOVE' 'LEAGUE HELLFIGHTERS'\n",
      " 'LEATHERNECKS DWARFS' 'LEBOWSKI SOLDIERS' 'LEGALLY SECRETARY'\n",
      " 'LEGEND JEDI' 'LESSON CLEOPATRA' 'LIAISONS SWEET' 'LIBERTY MAGNIFICENT'\n",
      " 'LICENSE WEEKEND' 'LIES TREATMENT' 'LIFE TWISTED' 'LIGHTS DEER'\n",
      " 'LION UNCUT' 'LOATHING LEGALLY' 'LOCK REAR' 'LOLA AGENT' 'LOLITA WORLD'\n",
      " 'LONELY ELEPHANT' 'LORD ARIZONA' 'LOSE INCH' 'LOSER HUSTLER' 'LOST BIRD'\n",
      " 'LOUISIANA HARRY' 'LOVE SUICIDES' 'LOVELY JINGLE' 'LOVER TRUMAN'\n",
      " 'LOVERBOY ATTACKS' 'LUCK OPUS' 'LUCKY FLYING' 'LUKE MUMMY' 'LUST LOCK'\n",
      " 'MADIGAN DORADO' 'MADISON TRAP' 'MADNESS ATTACKS' 'MADRE GABLES'\n",
      " 'MAGIC MALLRATS' 'MAGNIFICENT CHITTY' 'MAGNOLIA FORRESTER'\n",
      " 'MAGUIRE APACHE' 'MAIDEN HOME' 'MAJESTIC FLOATS' 'MAKER GABLES'\n",
      " 'MALKOVICH PET' 'MALLRATS UNITED' 'MALTESE HOPE' 'MANCHURIAN CURTAIN'\n",
      " 'MANNEQUIN WORST' 'MARRIED GO' 'MARS ROMAN' 'MASK PEACH' 'MASKED BUBBLE'\n",
      " 'MASSACRE USUAL' 'MASSAGE IMAGE' 'MATRIX SNOWMAN' 'MAUDE MOD'\n",
      " 'MEET CHOCOLATE' 'MEMENTO ZOOLANDER' 'MENAGERIE RUSHMORE'\n",
      " 'MERMAID INSECTS' 'METAL ARMAGEDDON' 'METROPOLIS COMA'\n",
      " 'MICROCOSMOS PARADISE' 'MIDNIGHT WESTWARD' 'MIDSUMMER GROUNDHOG'\n",
      " 'MIGHTY LUCK' 'MILE MULAN' 'MILLION ACE' 'MINDS TRUMAN' 'MINE TITANS'\n",
      " 'MINORITY KISS' 'MIRACLE VIRTUAL' 'MISSION ZOOLANDER' 'MIXED DOORS'\n",
      " 'MOB DUFFEL' 'MOCKINGBIRD HOLLYWOOD' 'MOD SECRETARY' 'MODEL FISH'\n",
      " 'MODERN DORADO' 'MONEY HAROLD' 'MONSOON CAUSE' 'MONSTER SPARTACUS'\n",
      " 'MONTEREY LABYRINTH' 'MONTEZUMA COMMAND' 'MOON BUNCH' 'MOONSHINE CABIN'\n",
      " 'MOONWALKER FOOL' 'MOSQUITO ARMAGEDDON' 'MOTHER OLEANDER'\n",
      " 'MOTIONS DETAILS' 'MOULIN WAKE' 'MOURNING PURPLE' 'MOVIE SHAKESPEARE'\n",
      " 'MULAN MOON' 'MULHOLLAND BEAST' 'MUMMY CREATURES' 'MUPPET MILE'\n",
      " 'MURDER ANTITRUST' 'MUSCLE BRIGHT' 'MUSIC BOONDOCK' 'MUSKETEERS WAIT'\n",
      " 'MUSSOLINI SPOILERS' 'MYSTIC TRUMAN' 'NAME DETECTIVE' 'NASH CHOCOLAT'\n",
      " 'NATIONAL STORY' 'NATURAL STOCK' 'NECKLACE OUTBREAK' 'NEIGHBORS CHARADE'\n",
      " 'NEMO CAMPUS' 'NETWORK PEAK' 'NEWSIES STORY' 'NEWTON LABYRINTH'\n",
      " 'NIGHTMARE CHILL' 'NONE SPIKING' 'NOON PAPI' 'NORTH TEQUILA'\n",
      " 'NORTHWEST POLISH' 'NOTORIOUS REUNION' 'NOTTING SPEAKEASY'\n",
      " 'NOVOCAINE FLIGHT' 'NUTS TIES' 'OCTOBER SUBMARINE' 'ODDS BOOGIE'\n",
      " 'OKLAHOMA JUMANJI' 'OLEANDER CLUE' 'OPEN AFRICAN' 'OPERATION OPERATION'\n",
      " 'OPPOSITE NECKLACE' 'OPUS ICE' 'ORANGE GRAPES' 'ORDER BETRAYED'\n",
      " 'ORIENT CLOSER' 'OSCAR GOLD' 'OTHERS SOUP' 'OUTBREAK DIVINE'\n",
      " 'OUTFIELD MASSACRE' 'OUTLAW HANKY' 'OZ LIAISONS' 'PACIFIC AMISTAD'\n",
      " 'PACKER MADIGAN' 'PAJAMA JAWBREAKER' 'PANIC CLUB' 'PANKY SUBMARINE'\n",
      " 'PANTHER REDS' 'PAPI NECKLACE' 'PARADISE SABRINA' 'PARIS WEEKEND'\n",
      " 'PARK CITIZEN' 'PARTY KNOCK' 'PAST SUICIDES' 'PATHS CONTROL'\n",
      " 'PATIENT SISTER' 'PATRIOT ROMAN' 'PATTON INTERVIEW' 'PAYCHECK WAIT'\n",
      " 'PEACH INNOCENT' 'PEAK FOREVER' 'PEARL DESTINY' 'PELICAN COMFORTS'\n",
      " 'PERDITION FARGO' 'PERFECT GROOVE' 'PERSONAL LADYBUGS' 'PET HAUNTING'\n",
      " 'PHANTOM GLORY' 'PHILADELPHIA WIFE' 'PIANIST OUTFIELD' 'PICKUP DRIVING'\n",
      " 'PILOT HOOSIERS' 'PINOCCHIO SIMON' 'PIRATES ROXANNE'\n",
      " 'PITTSBURGH HUNCHBACK' 'PITY BOUND' 'PIZZA JUMANJI' 'PLATOON INSTINCT'\n",
      " 'PLUTO OLEANDER' 'POCUS PULP' 'POLISH BROOKLYN' 'POLLOCK DELIVERANCE'\n",
      " 'POND SEATTLE' 'POSEIDON FOREVER' 'POTLUCK MIXED' 'POTTER CONNECTICUT'\n",
      " 'PREJUDICE OLEANDER' 'PRESIDENT BANG' 'PRIDE ALAMO' 'PRIMARY GLASS'\n",
      " 'PRINCESS GIANT' 'PRIVATE DROP' 'PRIX UNDEFEATED' 'PSYCHO SHRUNK'\n",
      " 'PULP BEVERLY' 'PUNK DIVORCE' 'PURE RUNNER' 'PURPLE MOVIE' 'QUEEN LUKE'\n",
      " 'QUEST MUSSOLINI' 'QUILLS BULL' 'RACER EGG' 'RAGE GAMES'\n",
      " 'RAGING AIRPLANE' 'RAIDERS ANTITRUST' 'RAINBOW SHOCK' 'RANDOM GO'\n",
      " 'RANGE MOONWALKER' 'REAP UNFAITHFUL' 'REAR TRADING' 'REBEL AIRPORT'\n",
      " 'RECORDS ZORRO' 'REDEMPTION COMFORTS' 'REDS POCUS' 'REEF SALUTE'\n",
      " 'REIGN GENTLEMEN' 'REMEMBER DIARY' 'REQUIEM TYCOON'\n",
      " 'RESERVOIR ADAPTATION' 'RESURRECTION SILVERADO' 'REUNION WITCHES'\n",
      " 'RIDER CADDYSHACK' 'RIDGEMONT SUBMARINE' 'RIGHT CRANES'\n",
      " 'RINGS HEARTBREAKERS' 'RIVER OUTLAW' 'ROAD ROXANNE' 'ROBBERS JOON'\n",
      " 'ROBBERY BRIGHT' 'ROCK INSTINCT' 'ROCKETEER MOTHER' 'ROCKY WAR'\n",
      " 'ROLLERCOASTER BRINGING' 'ROMAN PUNK' 'ROOF CHAMPION' 'ROOM ROMAN'\n",
      " 'ROOTS REMEMBER' 'ROSES TREASURE' 'ROUGE SQUAD' 'ROXANNE REBEL'\n",
      " 'RUGRATS SHAKESPEARE' 'RULES HUMAN' 'RUN PACIFIC' 'RUNAWAY TENENBAUMS'\n",
      " 'RUNNER MADIGAN' 'RUSH GOODFELLAS' 'RUSHMORE MERMAID' 'SABRINA MIDNIGHT'\n",
      " 'SADDLE ANTITRUST' 'SAGEBRUSH CLUELESS' 'SAINTS BRIDE' 'SALUTE APOLLO'\n",
      " 'SAMURAI LION' 'SANTA PARIS' 'SASSY PACKER' 'SATISFACTION CONFIDENTIAL'\n",
      " 'SATURDAY LAMBS' 'SATURN NAME' 'SAVANNAH TOWN' 'SCALAWAG DUCK'\n",
      " 'SCARFACE BANG' 'SCHOOL JACKET' 'SCISSORHANDS SLUMS' 'SCORPION APOLLO'\n",
      " 'SEA VIRGIN' 'SEABISCUIT PUNK' 'SEARCHERS WAIT' 'SEATTLE EXPECATIONS'\n",
      " 'SECRET GROUNDHOG' 'SECRETARY ROUGE' 'SECRETS PARADISE' 'SENSE GREEK'\n",
      " 'SENSIBILITY REAR' 'SEVEN SWARM' 'SHAKESPEARE SADDLE' 'SHANE DARKNESS'\n",
      " 'SHANGHAI TYCOON' 'SHAWSHANK BUBBLE' 'SHEPHERD MIDSUMMER' 'SHINING ROSES'\n",
      " 'SHIP WONDERLAND' 'SHOCK CABIN' 'SHOOTIST SUPERFLY' 'SHOW LORD'\n",
      " 'SHREK LICENSE' 'SHRUNK DIVINE' 'SIDE ARK' 'SIEGE MADRE' 'SIERRA DIVIDE'\n",
      " 'SILENCE KANE' 'SILVERADO GOLDFINGER' 'SIMON NORTH' 'SINNERS ATLANTIS'\n",
      " 'SISTER FREDDY' 'SKY MIRACLE' 'SLACKER LIAISONS' 'SLEEPING SUSPECTS'\n",
      " 'SLEEPLESS MONSOON' 'SLEEPY JAPANESE' 'SLEUTH ORIENT' 'SLING LUKE'\n",
      " 'SLIPPER FIDELITY' 'SLUMS DUCK' 'SMILE EARRING' 'SMOKING BARBARELLA'\n",
      " 'SMOOCHY CONTROL' 'SNATCH SLIPPER' 'SNATCHERS MONTEZUMA'\n",
      " 'SNOWMAN ROLLERCOASTER' 'SOLDIERS EVOLUTION' 'SOMETHING DUCK'\n",
      " 'SONG HEDWIG' 'SONS INTERVIEW' 'SORORITY QUEEN' 'SOUP WISDOM'\n",
      " 'SOUTH WAIT' 'SPARTACUS CHEAPER' 'SPEAKEASY DATE' 'SPEED SUIT'\n",
      " 'SPICE SORORITY' 'SPIKING ELEMENT' 'SPINAL ROCKY' 'SPIRIT FLINTSTONES'\n",
      " 'SPIRITED CASUALTIES' 'SPLASH GUMP' 'SPLENDOR PATTON'\n",
      " 'SPOILERS HELLFIGHTERS' 'SPY MILE' 'SQUAD FISH' 'STAGE WORLD'\n",
      " 'STAGECOACH ARMAGEDDON' 'STALLION SUNDANCE' 'STAMPEDE DISTURBING'\n",
      " 'STAR OPERATION' 'STATE WASTELAND' 'STEEL SANTA' 'STEERS ARMAGEDDON'\n",
      " 'STEPMOM DREAM' 'STING PERSONAL' 'STOCK GLASS' 'STONE FIRE'\n",
      " 'STORM HAPPINESS' 'STORY SIDE' 'STRAIGHT HOURS' 'STRANGELOVE DESIRE'\n",
      " 'STRANGER STRANGERS' 'STRANGERS GRAFFITI' 'STREAK RIDGEMONT'\n",
      " 'STREETCAR INTENTIONS' 'STRICTLY SCARFACE' 'SUBMARINE BED' 'SUGAR WONKA'\n",
      " 'SUICIDES SILENCE' 'SUIT WALLS' 'SUMMER SCARFACE' 'SUN CONFESSIONS'\n",
      " 'SUNDANCE INVASION' 'SUNRISE LEAGUE' 'SUNSET RACER' 'SUPER WYOMING'\n",
      " 'SUPERFLY TRIP' 'SUSPECTS QUILLS' 'SWARM GOLD' 'SWEDEN SHINING'\n",
      " 'SWEET BROTHERHOOD' 'SWEETHEARTS SUSPECTS' 'TADPOLE PARK'\n",
      " 'TALENTED HOMICIDE' 'TARZAN VIDEOTAPE' 'TAXI KICK' 'TEEN APOLLO'\n",
      " 'TELEGRAPH VOYAGE' 'TELEMARK HEARTBREAKERS' 'TEMPLE ATTRACTION'\n",
      " 'TENENBAUMS COMMAND' 'TEQUILA PAST' 'TERMINATOR CLUB' 'TEXAS WATCH'\n",
      " 'THEORY MERMAID' 'THIEF PELICAN' 'THIN SAGEBRUSH' 'TIES HUNGER'\n",
      " 'TIGHTS DAWN' 'TIMBERLAND SKY' 'TITANIC BOONDOCK' 'TITANS JERK'\n",
      " 'TOMATOES HELLFIGHTERS' 'TOMORROW HUSTLER' 'TOOTSIE PILOT' 'TORQUE BOUND'\n",
      " 'TOURIST PELICAN' 'TOWERS HURRICANE' 'TOWN ARK' 'TRACY CIDER'\n",
      " 'TRADING PINOCCHIO' 'TRAFFIC HOBBIT' 'TRAIN BUNCH'\n",
      " 'TRAINSPOTTING STRANGERS' 'TRAMP OTHERS' 'TRANSLATION SUMMER' 'TRAP GUYS'\n",
      " 'TREASURE COMMAND' 'TREATMENT JEKYLL' 'TRIP NEWTON' 'TROJAN TOMORROW'\n",
      " 'TROOPERS METAL' 'TROUBLE DATE' 'TRUMAN CRAZY' 'TURN STAR' 'TUXEDO MILE'\n",
      " 'TWISTED PIRATES' 'TYCOON GATHERING' 'UNBREAKABLE KARATE'\n",
      " 'UNCUT SUICIDES' 'UNDEFEATED DALMATIONS' 'UNFAITHFUL KILL'\n",
      " 'UNFORGIVEN ZOOLANDER' 'UNITED PILOT' 'UNTOUCHABLES SUNRISE'\n",
      " 'UPRISING UPTOWN' 'UPTOWN YOUNG' 'USUAL UNTOUCHABLES' 'VACATION BOONDOCK'\n",
      " 'VALENTINE VANISHING' 'VALLEY PACKER' 'VAMPIRE WHALE' 'VANILLA DAY'\n",
      " 'VANISHED GARDEN' 'VANISHING ROCKY' 'VARSITY TRIP' 'VELVET TERMINATOR'\n",
      " 'VERTIGO NORTHWEST' 'VICTORY ACADEMY' 'VIDEOTAPE ARSENIC'\n",
      " 'VIETNAM SMOOCHY' 'VILLAIN DESPERATE' 'VIRGIN DAISY' 'VIRGINIAN PLUTO'\n",
      " 'VIRTUAL SPOILERS' 'VISION TORQUE' 'VOICE PEACH' 'VOLCANO TEXAS'\n",
      " 'VOLUME HOUSE' 'VOYAGE LEGALLY' 'WAGON JAWS' 'WAIT CIDER' 'WAKE JAWS'\n",
      " 'WALLS ARTIST' 'WANDA CHAMBER' 'WAR NOTTING' 'WARDROBE PHANTOM'\n",
      " 'WARLOCK WEREWOLF' 'WARS PLUTO' 'WASH HEAVENLY' 'WASTELAND DIVINE'\n",
      " 'WATCH TRACY' 'WATERFRONT DELIVERANCE' 'WATERSHIP FRONTIER'\n",
      " 'WEDDING APOLLO' 'WEEKEND PERSONAL' 'WEREWOLF LOLA' 'WEST LION'\n",
      " 'WESTWARD SEABISCUIT' 'WHALE BIKINI' 'WHISPERER GIANT' 'WIFE TURN'\n",
      " 'WILD APOLLO' 'WILLOW TRACY' 'WIND PHANTOM' 'WINDOW SIDE' 'WISDOM WORKER'\n",
      " 'WITCHES PANIC' 'WIZARD COLDBLOODED' 'WOLVES DESIRE' 'WOMEN DORADO'\n",
      " 'WON DARES' 'WONDERFUL DROP' 'WONDERLAND CHRISTMAS' 'WONKA SEA'\n",
      " 'WORDS HUNTER' 'WORKER TARZAN' 'WORKING MICROCOSMOS' 'WORLD LEATHERNECKS'\n",
      " 'WORST BANGER' 'WRATH MILE' 'WRONG BEHAVIOR' 'WYOMING STORM'\n",
      " 'YENTL IDAHO' 'YOUNG LANGUAGE' 'YOUTH KICK' 'ZHIVAGO CORE'\n",
      " 'ZOOLANDER FICTION' 'ZORRO ARK']\n",
      "['A Epic Drama of a Feminist And a Mad Scientist who must Battle a Teacher in The Canadian Rockies'\n",
      " 'A Astounding Epistle of a Database Administrator And a Explorer who must Find a Car in Ancient China'\n",
      " 'A Astounding Reflection of a Lumberjack And a Car who must Sink a Lumberjack in A Baloon Factory'\n",
      " 'A Fanciful Documentary of a Frisbee And a Lumberjack who must Chase a Monkey in A Shark Tank'\n",
      " 'A Fast-Paced Documentary of a Pastry Chef And a Dentist who must Pursue a Forensic Psychologist in The Gulf of Mexico'\n",
      " 'A Intrepid Panorama of a Robot And a Boy who must Escape a Sumo Wrestler in Ancient China'\n",
      " 'A Touching Saga of a Hunter And a Butler who must Discover a Butler in A Jet Boat'\n",
      " 'A Epic Tale of a Moose And a Girl who must Confront a Monkey in Ancient India'\n",
      " 'A Thoughtful Panorama of a Database Administrator And a Mad Scientist who must Outgun a Mad Scientist in A Jet Boat'\n",
      " 'A Action-Packed Tale of a Man And a Lumberjack who must Reach a Feminist in Ancient China'\n",
      " 'A Boring Epistle of a Butler And a Cat who must Fight a Pastry Chef in A MySQL Convention'\n",
      " 'A Fanciful Saga of a Hunter And a Pastry Chef who must Vanquish a Boy in Australia'\n",
      " 'A Action-Packed Drama of a Dentist And a Crocodile who must Battle a Feminist in The Canadian Rockies'\n",
      " 'A Emotional Drama of a A Shark And a Database Administrator who must Vanquish a Pioneer in Soviet Georgia'\n",
      " 'A Brilliant Drama of a Cat And a Mad Scientist who must Battle a Feminist in A MySQL Convention'\n",
      " 'A Fast-Paced Drama of a Robot And a Composer who must Battle a Astronaut in New Orleans'\n",
      " 'A Fast-Paced Character Study of a Composer And a Dog who must Outgun a Boat in An Abandoned Fun House'\n",
      " 'A Thoughtful Drama of a Composer And a Feminist who must Meet a Secret Agent in The Canadian Rockies'\n",
      " 'A Emotional Display of a Pioneer And a Technical Writer who must Battle a Man in A Baloon'\n",
      " 'A Boring Drama of a Woman And a Squirrel who must Conquer a Student in A Baloon'\n",
      " 'A Insightful Drama of a Girl And a Astronaut who must Face a Database Administrator in A Shark Tank'\n",
      " 'A Emotional Character Study of a Dentist And a Crocodile who must Meet a Sumo Wrestler in California'\n",
      " 'A Lacklusture Display of a Dentist And a Dentist who must Fight a Girl in Australia'\n",
      " 'A Thoughtful Display of a Explorer And a Pastry Chef who must Overcome a Feminist in The Sahara Desert'\n",
      " 'A Thoughtful Display of a Woman And a Astronaut who must Battle a Robot in Berlin'\n",
      " 'A Amazing Panorama of a Pastry Chef And a Boat who must Escape a Woman in An Abandoned Amusement Park'\n",
      " 'A Amazing Reflection of a Database Administrator And a Astronaut who must Outrace a Database Administrator in A Shark Tank'\n",
      " 'A Touching Panorama of a Waitress And a Woman who must Outrace a Dog in An Abandoned Amusement Park'\n",
      " 'A Fateful Yarn of a Womanizer And a Feminist who must Succumb a Database Administrator in Ancient India'\n",
      " 'A Epic Story of a Pastry Chef And a Woman who must Chase a Feminist in An Abandoned Fun House'\n",
      " 'A Awe-Inspiring Reflection of a Pastry Chef And a Teacher who must Overcome a Sumo Wrestler in A U-Boat'\n",
      " 'A Astounding Story of a Dog And a Squirrel who must Defeat a Woman in An Abandoned Amusement Park'\n",
      " 'A Action-Packed Reflection of a Crocodile And a Explorer who must Find a Sumo Wrestler in An Abandoned Mine Shaft'\n",
      " 'A Touching Epistle of a Madman And a Mad Cow who must Defeat a Student in Nigeria'\n",
      " 'A Action-Packed Reflection of a Pastry Chef And a Composer who must Discover a Mad Scientist in The First Manned Space Station'\n",
      " 'A Emotional Epistle of a Forensic Psychologist And a Butler who must Challenge a Waitress in An Abandoned Mine Shaft'\n",
      " 'A Brilliant Panorama of a Mad Scientist And a Mad Cow who must Meet a Pioneer in A Monastery'\n",
      " 'A Beautiful Yarn of a Pioneer And a Monkey who must Pursue a Explorer in The Sahara Desert'\n",
      " 'A Fast-Paced Tale of a Boat And a Teacher who must Succumb a Composer in An Abandoned Mine Shaft'\n",
      " 'A Boring Saga of a Database Administrator And a Womanizer who must Battle a Waitress in Nigeria'\n",
      " 'A Fanciful Documentary of a Mad Cow And a Womanizer who must Find a Dentist in Berlin'\n",
      " 'A Stunning Reflection of a Robot And a Moose who must Challenge a Woman in California'\n",
      " 'A Thrilling Yarn of a Feminist And a Hunter who must Fight a Technical Writer in A Shark Tank'\n",
      " 'A Fast-Paced Panorama of a Technical Writer And a Mad Scientist who must Find a Feminist in An Abandoned Mine Shaft'\n",
      " 'A Astounding Panorama of a Composer And a Frisbee who must Reach a Husband in Ancient Japan'\n",
      " 'A Beautiful Tale of a Dentist And a Mad Cow who must Battle a Moose in The Sahara Desert'\n",
      " 'A Boring Character Study of a A Shark And a Girl who must Outrace a Feminist in An Abandoned Mine Shaft'\n",
      " 'A Stunning Character Study of a Mad Scientist And a Mad Cow who must Kill a Car in A Monastery'\n",
      " 'A Emotional Panorama of a Pioneer And a Composer who must Escape a Mad Scientist in A Jet Boat'\n",
      " 'A Stunning Drama of a Forensic Psychologist And a Husband who must Overcome a Waitress in A Monastery'\n",
      " 'A Insightful Panorama of a Forensic Psychologist And a Mad Cow who must Build a Mad Scientist in The First Manned Space Station'\n",
      " 'A Thrilling Documentary of a Composer And a Monkey who must Find a Feminist in California'\n",
      " 'A Epic Drama of a Madman And a Cat who must Face a A Shark in An Abandoned Amusement Park'\n",
      " 'A Awe-Inspiring Drama of a Car And a Pastry Chef who must Chase a Crocodile in The First Manned Space Station'\n",
      " 'A Awe-Inspiring Story of a Feminist And a Cat who must Conquer a Dog in A Monastery'\n",
      " 'A Intrepid Story of a Cat And a Student who must Vanquish a Girl in An Abandoned Amusement Park'\n",
      " 'A Stunning Epistle of a Man And a Husband who must Reach a Mad Scientist in A Jet Boat'\n",
      " 'A Fateful Display of a Womanizer And a Mad Scientist who must Outgun a A Shark in Soviet Georgia'\n",
      " 'A Astounding Saga of a Dog And a Boy who must Kill a Teacher in The First Manned Space Station'\n",
      " 'A Awe-Inspiring Epistle of a Student And a Squirrel who must Defeat a Boy in Ancient China'\n",
      " 'A Fast-Paced Display of a Composer And a Moose who must Sink a Robot in An Abandoned Mine Shaft'\n",
      " 'A Astounding Panorama of a Lumberjack And a Dog who must Redeem a Woman in An Abandoned Fun House'\n",
      " 'A Astounding Character Study of a Madman And a Robot who must Meet a Mad Scientist in An Abandoned Fun House'\n",
      " 'A Epic Display of a Pioneer And a Student who must Challenge a Butler in The Gulf of Mexico'\n",
      " 'A Unbelieveable Drama of a Student And a Husband who must Outrace a Sumo Wrestler in Berlin'\n",
      " 'A Astounding Panorama of a Man And a Monkey who must Discover a Man in The First Manned Space Station'\n",
      " 'A Taut Saga of a Crocodile And a Boy who must Overcome a Technical Writer in Ancient China'\n",
      " 'A Emotional Character Study of a Boat And a Pioneer who must Find a Explorer in A Shark Tank'\n",
      " 'A Fanciful Documentary of a Womanizer And a Boat who must Defeat a Madman in The First Manned Space Station'\n",
      " 'A Astounding Drama of a Astronaut And a Cat who must Discover a Woman in The First Manned Space Station'\n",
      " 'A Emotional Reflection of a Teacher And a Man who must Meet a Cat in The First Manned Space Station'\n",
      " 'A Stunning Saga of a Mad Scientist And a Forensic Psychologist who must Challenge a Squirrel in A MySQL Convention'\n",
      " 'A Touching Tale of a Girl And a Crocodile who must Discover a Waitress in Nigeria'\n",
      " 'A Fanciful Panorama of a Husband And a Pioneer who must Outgun a Dog in A Baloon'\n",
      " 'A Thrilling Documentary of a Car And a Student who must Sink a Hunter in The Canadian Rockies'\n",
      " 'A Fast-Paced Saga of a Frisbee And a Astronaut who must Overcome a Feminist in Ancient India'\n",
      " 'A Boring Story of a Womanizer And a Pioneer who must Face a Dog in California'\n",
      " 'A Intrepid Yarn of a Pastry Chef And a Mad Scientist who must Challenge a Secret Agent in Ancient Japan'\n",
      " 'A Thoughtful Character Study of a Frisbee And a Pastry Chef who must Fight a Dentist in The First Manned Space Station'\n",
      " 'A Emotional Documentary of a Student And a Girl who must Build a Boat in Nigeria'\n",
      " 'A Touching Drama of a Robot And a Dentist who must Meet a Hunter in A Jet Boat'\n",
      " 'A Boring Drama of a Explorer And a Man who must Kill a Lumberjack in A Manhattan Penthouse'\n",
      " 'A Insightful Documentary of a Boat And a Composer who must Meet a Forensic Psychologist in An Abandoned Fun House'\n",
      " 'A Awe-Inspiring Story of a Waitress And a Dog who must Discover a Dentist in Ancient Japan'\n",
      " 'A Fast-Paced Story of a Crocodile And a Robot who must Find a Moose in Ancient Japan'\n",
      " 'A Lacklusture Character Study of a Husband And a Sumo Wrestler who must Succumb a Technical Writer in The Gulf of Mexico'\n",
      " 'A Fateful Panorama of a Crocodile And a Boy who must Defeat a Monkey in The Gulf of Mexico'\n",
      " 'A Touching Epistle of a Frisbee And a Husband who must Pursue a Student in Nigeria'\n",
      " 'A Brilliant Epistle of a Teacher And a Sumo Wrestler who must Defeat a Man in An Abandoned Fun House'\n",
      " 'A Fateful Epistle of a Moose And a Monkey who must Confront a Lumberjack in Ancient China'\n",
      " 'A Thrilling Panorama of a Database Administrator And a Astronaut who must Challenge a Lumberjack in A Baloon'\n",
      " 'A Fast-Paced Yarn of a Waitress And a Composer who must Outgun a Dentist in California'\n",
      " 'A Amazing Epistle of a Moose And a Crocodile who must Outrace a Dog in Berlin'\n",
      " 'A Insightful Story of a Dog And a Pastry Chef who must Battle a Girl in Berlin'\n",
      " 'A Beautiful Reflection of a Student And a Student who must Fight a Moose in Berlin'\n",
      " 'A Beautiful Display of a Secret Agent And a Monkey who must Battle a Sumo Wrestler in An Abandoned Mine Shaft'\n",
      " 'A Epic Tale of a Robot And a Monkey who must Vanquish a Man in New Orleans'\n",
      " 'A Fateful Yarn of a Lumberjack And a Feminist who must Conquer a Student in A Jet Boat'\n",
      " 'A Fateful Saga of a A Shark And a Technical Writer who must Find a Woman in A Jet Boat'\n",
      " 'A Beautiful Drama of a Dentist And a Composer who must Battle a Sumo Wrestler in The First Manned Space Station'\n",
      " 'A Fateful Character Study of a Butler And a Technical Writer who must Sink a Astronaut in Ancient Japan'\n",
      " 'A Awe-Inspiring Panorama of a Crocodile And a Moose who must Confront a Girl in A Baloon'\n",
      " 'A Amazing Display of a Girl And a Womanizer who must Succumb a Lumberjack in A Baloon Factory'\n",
      " 'A Awe-Inspiring Character Study of a Secret Agent And a Boat who must Find a Squirrel in The First Manned Space Station'\n",
      " 'A Fanciful Drama of a Moose And a Squirrel who must Conquer a Pioneer in The Canadian Rockies'\n",
      " 'A Amazing Display of a Mad Cow And a Pioneer who must Redeem a Sumo Wrestler in The Outback'\n",
      " 'A Emotional Story of a Feminist And a Feminist who must Escape a Pastry Chef in A MySQL Convention'\n",
      " 'A Lacklusture Yarn of a Feminist And a Database Administrator who must Face a Hunter in New Orleans'\n",
      " 'A Fateful Story of a Girl And a Composer who must Conquer a Husband in A Shark Tank'\n",
      " 'A Stunning Epistle of a Boat And a Man who must Challenge a A Shark in A Baloon Factory'\n",
      " 'A Awe-Inspiring Epistle of a Woman And a Madman who must Fight a Robot in Soviet Georgia'\n",
      " 'A Thrilling Drama of a Frisbee And a Lumberjack who must Sink a Man in Nigeria'\n",
      " 'A Thrilling Yarn of a Database Administrator And a Robot who must Battle a Database Administrator in Ancient India'\n",
      " 'A Touching Character Study of a Woman And a Waitress who must Battle a Pastry Chef in A MySQL Convention'\n",
      " 'A Astounding Drama of a Crocodile And a Mad Cow who must Build a Robot in A Jet Boat'\n",
      " 'A Brilliant Epistle of a Composer And a Database Administrator who must Vanquish a Mad Scientist in The First Manned Space Station'\n",
      " 'A Fanciful Character Study of a Monkey And a Explorer who must Build a Astronaut in An Abandoned Fun House'\n",
      " 'A Thoughtful Reflection of a Waitress And a Feminist who must Escape a Squirrel in A Manhattan Penthouse'\n",
      " 'A Fateful Saga of a Moose And a Car who must Pursue a Woman in A MySQL Convention'\n",
      " 'A Fanciful Tale of a Pioneer And a Technical Writer who must Outgun a Pioneer in A Shark Tank'\n",
      " 'A Astounding Character Study of a Composer And a Student who must Overcome a Composer in A Monastery'\n",
      " 'A Amazing Epistle of a Student And a Astronaut who must Discover a Frisbee in The Canadian Rockies'\n",
      " 'A Amazing Panorama of a Crocodile And a Forensic Psychologist who must Pursue a Secret Agent in The First Manned Space Station'\n",
      " 'A Intrepid Documentary of a Boat And a Crocodile who must Chase a Robot in The Sahara Desert'\n",
      " 'A Intrepid Drama of a Frisbee And a Hunter who must Kill a Secret Agent in New Orleans'\n",
      " 'A Insightful Yarn of a A Shark And a Pastry Chef who must Face a Boy in A Monastery'\n",
      " 'A Fast-Paced Panorama of a Girl And a A Shark who must Confront a Boy in Ancient India'\n",
      " 'A Boring Reflection of a Lumberjack And a Feminist who must Discover a Woman in Nigeria'\n",
      " 'A Taut Tale of a Explorer And a Pastry Chef who must Conquer a Hunter in A MySQL Convention'\n",
      " 'A Amazing Documentary of a Secret Agent And a Astronaut who must Vanquish a Hunter in A Shark Tank'\n",
      " 'A Beautiful Character Study of a Sumo Wrestler And a Dentist who must Find a Dog in California'\n",
      " 'A Beautiful Documentary of a Boy And a Robot who must Discover a Squirrel in Australia'\n",
      " 'A Fateful Reflection of a Moose And a Husband who must Overcome a Monkey in Nigeria'\n",
      " 'A Amazing Story of a Mad Cow And a Dog who must Kill a Husband in A Monastery'\n",
      " 'A Astounding Story of a Forensic Psychologist And a Forensic Psychologist who must Overcome a Moose in Ancient China'\n",
      " 'A Boring Drama of a Dog And a Forensic Psychologist who must Outrace a Explorer in Ancient India'\n",
      " 'A Action-Packed Display of a Man And a Waitress who must Build a Dog in A MySQL Convention'\n",
      " 'A Unbelieveable Epistle of a Robot And a Husband who must Chase a Robot in The First Manned Space Station'\n",
      " 'A Astounding Saga of a Technical Writer And a Butler who must Battle a Butler in A Shark Tank'\n",
      " 'A Emotional Character Study of a Pioneer And a Girl who must Discover a Dog in Ancient Japan'\n",
      " 'A Fateful Yarn of a Mad Cow And a Waitress who must Battle a Student in California'\n",
      " 'A Emotional Drama of a Dog And a Explorer who must Outrace a Technical Writer in Australia'\n",
      " 'A Lacklusture Epistle of a Boat And a Technical Writer who must Fight a A Shark in The Canadian Rockies'\n",
      " 'A Brilliant Panorama of a Technical Writer And a Lumberjack who must Escape a Butler in Ancient India'\n",
      " 'A Epic Documentary of a Sumo Wrestler And a Butler who must Kill a Car in Ancient India'\n",
      " 'A Boring Epistle of a Boat And a Database Administrator who must Kill a Sumo Wrestler in The First Manned Space Station'\n",
      " 'A Action-Packed Epistle of a Dentist And a Moose who must Meet a Mad Cow in Ancient Japan'\n",
      " 'A Unbelieveable Story of a Mad Scientist And a Technical Writer who must Discover a Composer in Ancient China'\n",
      " 'A Action-Packed Epistle of a Feminist And a Astronaut who must Conquer a Boat in A Manhattan Penthouse'\n",
      " 'A Stunning Character Study of a Composer And a Mad Cow who must Succumb a Cat in Soviet Georgia'\n",
      " 'A Brilliant Saga of a Pastry Chef And a Hunter who must Confront a Butler in Berlin'\n",
      " 'A Thoughtful Drama of a Pastry Chef And a Dentist who must Pursue a Girl in A Baloon'\n",
      " 'A Fanciful Character Study of a Technical Writer And a Husband who must Redeem a Robot in The Outback'\n",
      " 'A Amazing Yarn of a Composer And a Squirrel who must Escape a Astronaut in Australia'\n",
      " 'A Fanciful Documentary of a Crocodile And a Technical Writer who must Fight a A Shark in A Baloon'\n",
      " 'A Thrilling Display of a Sumo Wrestler And a Girl who must Confront a Man in A Baloon'\n",
      " 'A Insightful Documentary of a Technical Writer And a Feminist who must Challenge a Cat in A Baloon'\n",
      " 'A Amazing Drama of a Car And a Robot who must Pursue a Dentist in New Orleans'\n",
      " 'A Unbelieveable Panorama of a Frisbee And a Hunter who must Vanquish a Monkey in Ancient India'\n",
      " 'A Epic Tale of a Pioneer And a Hunter who must Escape a Girl in A U-Boat'\n",
      " 'A Taut Tale of a Butler And a Mad Scientist who must Build a Crocodile in Ancient China'\n",
      " 'A Taut Tale of a Car And a Pioneer who must Conquer a Sumo Wrestler in An Abandoned Fun House'\n",
      " 'A Beautiful Yarn of a Astronaut And a Frisbee who must Overcome a Explorer in A Jet Boat'\n",
      " 'A Astounding Documentary of a Mad Cow And a Pioneer who must Challenge a Butler in The Sahara Desert'\n",
      " 'A Brilliant Panorama of a Dentist And a Moose who must Find a Student in The Gulf of Mexico'\n",
      " 'A Thoughtful Panorama of a Car And a Crocodile who must Sink a Monkey in The Sahara Desert'\n",
      " 'A Awe-Inspiring Drama of a Boy And a Frisbee who must Escape a Pastry Chef in California'\n",
      " 'A Boring Saga of a Lumberjack And a Monkey who must Find a Monkey in The Gulf of Mexico'\n",
      " 'A Unbelieveable Panorama of a Pioneer And a Husband who must Meet a Mad Cow in An Abandoned Mine Shaft'\n",
      " 'A Awe-Inspiring Tale of a Forensic Psychologist And a Woman who must Challenge a Database Administrator in Ancient Japan'\n",
      " 'A Fanciful Saga of a Student And a Mad Scientist who must Battle a Hunter in An Abandoned Mine Shaft'\n",
      " 'A Touching Story of a Womanizer And a Composer who must Pursue a Husband in Nigeria'\n",
      " 'A Insightful Story of a Car And a Boy who must Battle a Technical Writer in A Baloon'\n",
      " 'A Stunning Reflection of a Cat And a Woman who must Find a Astronaut in Ancient Japan'\n",
      " 'A Stunning Epistle of a Cat And a Forensic Psychologist who must Confront a Pioneer in A Baloon'\n",
      " 'A Touching Documentary of a Cat And a Pastry Chef who must Find a Lumberjack in A Baloon'\n",
      " 'A Unbelieveable Drama of a Crocodile And a Mad Cow who must Reach a Dentist in A Shark Tank'\n",
      " 'A Fateful Documentary of a Crocodile And a Husband who must Face a Husband in The First Manned Space Station'\n",
      " 'A Taut Drama of a Mad Scientist And a Man who must Escape a Pioneer in An Abandoned Mine Shaft'\n",
      " 'A Awe-Inspiring Story of a Student And a Frisbee who must Conquer a Crocodile in An Abandoned Mine Shaft'\n",
      " 'A Insightful Display of a A Shark And a Monkey who must Face a Database Administrator in Ancient India'\n",
      " 'A Fateful Documentary of a Robot And a Student who must Battle a Cat in A Monastery'\n",
      " 'A Taut Character Study of a Husband And a Waitress who must Sink a Squirrel in A MySQL Convention'\n",
      " 'A Unbelieveable Tale of a Car And a Explorer who must Confront a Boat in A Manhattan Penthouse'\n",
      " 'A Astounding Drama of a Boy And a Lumberjack who must Fight a Butler in A Baloon'\n",
      " 'A Lacklusture Display of a Explorer And a Hunter who must Succumb a Database Administrator in A Baloon Factory'\n",
      " 'A Fanciful Documentary of a Teacher And a Dog who must Outgun a Forensic Psychologist in A Baloon Factory'\n",
      " 'A Fanciful Panorama of a Boy And a Woman who must Vanquish a Database Administrator in The Outback'\n",
      " 'A Emotional Drama of a Womanizer And a Squirrel who must Vanquish a Crocodile in Ancient India'\n",
      " 'A Awe-Inspiring Reflection of a Squirrel And a Boat who must Outrace a Car in A Jet Boat'\n",
      " 'A Unbelieveable Drama of a Hunter And a Database Administrator who must Battle a Crocodile in An Abandoned Amusement Park'\n",
      " 'A Beautiful Documentary of a Dog And a Robot who must Redeem a Womanizer in Berlin'\n",
      " 'A Intrepid Documentary of a Sumo Wrestler And a Astronaut who must Battle a Composer in The Outback'\n",
      " 'A Awe-Inspiring Documentary of a Woman And a Husband who must Sink a Database Administrator in The First Manned Space Station'\n",
      " 'A Intrepid Documentary of a Astronaut And a Forensic Psychologist who must Find a Frisbee in An Abandoned Fun House'\n",
      " 'A Brilliant Tale of a Car And a Moose who must Battle a Dentist in Nigeria'\n",
      " 'A Fast-Paced Reflection of a Explorer And a Butler who must Battle a Madman in An Abandoned Amusement Park'\n",
      " 'A Fast-Paced Character Study of a Feminist And a Explorer who must Face a Pastry Chef in Ancient Japan'\n",
      " 'A Emotional Reflection of a Frisbee And a Boat who must Reach a Pastry Chef in An Abandoned Amusement Park'\n",
      " 'A Boring Reflection of a Dentist And a Mad Cow who must Chase a Secret Agent in A Shark Tank'\n",
      " 'A Lacklusture Drama of a Student And a Monkey who must Sink a Womanizer in A MySQL Convention'\n",
      " 'A Epic Story of a A Shark And a Student who must Confront a Explorer in The Gulf of Mexico'\n",
      " 'A Fast-Paced Saga of a Pastry Chef And a Monkey who must Sink a Composer in Ancient India'\n",
      " 'A Emotional Epistle of a Moose And a Hunter who must Overcome a Robot in A Manhattan Penthouse'\n",
      " 'A Insightful Reflection of a A Shark And a Dog who must Kill a Butler in An Abandoned Amusement Park'\n",
      " 'A Stunning Story of a Explorer And a Forensic Psychologist who must Face a Crocodile in A Shark Tank'\n",
      " 'A Unbelieveable Story of a Mad Scientist And a Woman who must Overcome a Dog in California'\n",
      " 'A Fateful Story of a Robot And a Dentist who must Defeat a Astronaut in New Orleans'\n",
      " 'A Touching Documentary of a Husband And a Hunter who must Escape a Boy in The Sahara Desert'\n",
      " 'A Stunning Reflection of a Frisbee And a Husband who must Redeem a Dog in New Orleans'\n",
      " 'A Brilliant Documentary of a Astronaut And a Squirrel who must Succumb a Student in The Gulf of Mexico'\n",
      " 'A Fateful Story of a A Shark And a Explorer who must Succumb a Technical Writer in A Jet Boat'\n",
      " 'A Touching Saga of a Composer And a Moose who must Discover a Dentist in A MySQL Convention'\n",
      " 'A Beautiful Tale of a Hunter And a Mad Scientist who must Confront a Squirrel in The First Manned Space Station'\n",
      " 'A Thoughtful Documentary of a Dentist And a Forensic Psychologist who must Defeat a Waitress in Berlin'\n",
      " 'A Stunning Documentary of a Composer And a Mad Scientist who must Find a Technical Writer in A U-Boat'\n",
      " 'A Action-Packed Story of a Pioneer And a Technical Writer who must Discover a Forensic Psychologist in An Abandoned Amusement Park'\n",
      " 'A Taut Story of a Moose And a Squirrel who must Build a Husband in Ancient India'\n",
      " 'A Amazing Tale of a Crocodile And a Squirrel who must Discover a Composer in Australia'\n",
      " 'A Thoughtful Story of a Mad Cow And a Womanizer who must Overcome a Mad Scientist in Soviet Georgia'\n",
      " 'A Astounding Saga of a Monkey And a Moose who must Conquer a Butler in A Shark Tank'\n",
      " 'A Brilliant Documentary of a Butler And a Frisbee who must Build a Astronaut in New Orleans'\n",
      " 'A Fast-Paced Tale of a Dog And a Forensic Psychologist who must Meet a Astronaut in The First Manned Space Station'\n",
      " 'A Epic Yarn of a Forensic Psychologist And a Teacher who must Face a Lumberjack in California'\n",
      " 'A Beautiful Yarn of a Teacher And a Cat who must Build a Car in A U-Boat'\n",
      " 'A Touching Drama of a Crocodile And a Crocodile who must Conquer a Explorer in Soviet Georgia'\n",
      " 'A Epic Saga of a Waitress And a Composer who must Face a Boat in A U-Boat'\n",
      " 'A Fanciful Documentary of a Pioneer And a Woman who must Redeem a Hunter in Ancient Japan'\n",
      " 'A Beautiful Reflection of a Monkey And a Dentist who must Face a Database Administrator in Ancient Japan'\n",
      " 'A Thoughtful Character Study of a Frisbee And a Mad Cow who must Outgun a Man in Ancient India'\n",
      " 'A Action-Packed Drama of a Feminist And a Girl who must Reach a Robot in The Canadian Rockies'\n",
      " 'A Action-Packed Character Study of a Forensic Psychologist And a Girl who must Build a Dentist in The Outback'\n",
      " 'A Touching Reflection of a Mad Scientist And a Boat who must Face a Moose in A Shark Tank'\n",
      " 'A Lacklusture Display of a Crocodile And a Butler who must Overcome a Monkey in A U-Boat'\n",
      " 'A Intrepid Saga of a Man And a Forensic Psychologist who must Reach a Squirrel in A Monastery'\n",
      " 'A Boring Character Study of a Man And a Womanizer who must Succumb a Teacher in An Abandoned Amusement Park'\n",
      " 'A Unbelieveable Saga of a Crocodile And a Student who must Discover a Cat in Ancient India'\n",
      " 'A Insightful Drama of a Womanizer And a Waitress who must Reach a Forensic Psychologist in The Outback'\n",
      " 'A Brilliant Character Study of a Database Administrator And a Monkey who must Succumb a Astronaut in New Orleans'\n",
      " 'A Thrilling Display of a Pioneer And a Frisbee who must Escape a Teacher in The Outback'\n",
      " 'A Awe-Inspiring Tale of a Butler And a Frisbee who must Vanquish a Teacher in Ancient Japan'\n",
      " 'A Astounding Panorama of a Car And a Mad Scientist who must Battle a Lumberjack in A MySQL Convention'\n",
      " 'A Awe-Inspiring Display of a Squirrel And a Woman who must Overcome a Boy in The Gulf of Mexico'\n",
      " 'A Action-Packed Tale of a Sumo Wrestler And a A Shark who must Meet a Frisbee in California'\n",
      " 'A Thoughtful Yarn of a Womanizer And a Dog who must Challenge a Madman in The Gulf of Mexico'\n",
      " 'A Intrepid Panorama of a Butler And a Composer who must Meet a Mad Cow in The Sahara Desert'\n",
      " 'A Emotional Tale of a Pastry Chef And a Forensic Psychologist who must Succumb a Monkey in The Sahara Desert'\n",
      " 'A Taut Drama of a Cat And a Girl who must Defeat a Frisbee in The Canadian Rockies'\n",
      " 'A Thrilling Reflection of a Feminist And a Cat who must Find a Frisbee in An Abandoned Fun House'\n",
      " 'A Taut Reflection of a Boy And a Waitress who must Outgun a Teacher in Ancient China'\n",
      " 'A Boring Documentary of a Pioneer And a Man who must Vanquish a Man in Nigeria'\n",
      " 'A Epic Display of a Car And a Composer who must Overcome a Forensic Psychologist in The Gulf of Mexico'\n",
      " 'A Epic Reflection of a Womanizer And a Squirrel who must Discover a Husband in A Jet Boat'\n",
      " 'A Lacklusture Character Study of a Butler And a Car who must Redeem a Boat in An Abandoned Fun House'\n",
      " 'A Action-Packed Yarn of a Feminist And a Technical Writer who must Sink a Boat in An Abandoned Mine Shaft'\n",
      " 'A Fanciful Documentary of a Husband And a Explorer who must Reach a Madman in Ancient China'\n",
      " 'A Insightful Panorama of a Monkey And a Sumo Wrestler who must Outrace a Mad Scientist in The Canadian Rockies'\n",
      " 'A Epic Display of a Crocodile And a Crocodile who must Confront a Dog in An Abandoned Amusement Park'\n",
      " 'A Lacklusture Yarn of a Teacher And a Squirrel who must Overcome a Dog in A Shark Tank'\n",
      " 'A Stunning Reflection of a Husband And a Lumberjack who must Face a Frisbee in An Abandoned Fun House'\n",
      " 'A Emotional Display of a Boat And a Explorer who must Challenge a Madman in A MySQL Convention'\n",
      " 'A Touching Display of a Feminist And a Dentist who must Conquer a Husband in The Gulf of Mexico'\n",
      " 'A Brilliant Panorama of a Girl And a Boy who must Face a Mad Scientist in An Abandoned Mine Shaft'\n",
      " 'A Emotional Yarn of a Girl And a Dog who must Challenge a Composer in Ancient Japan'\n",
      " 'A Intrepid Tale of a Boat And a Monkey who must Kill a Cat in California'\n",
      " 'A Intrepid Documentary of a Forensic Psychologist And a Mad Scientist who must Face a Explorer in A U-Boat'\n",
      " 'A Thoughtful Story of a Car And a Boy who must Find a A Shark in The Sahara Desert'\n",
      " 'A Amazing Panorama of a Mad Scientist And a Husband who must Meet a Woman in The Outback'\n",
      " 'A Stunning Character Study of a Dentist And a Mad Cow who must Find a Teacher in Nigeria'\n",
      " 'A Stunning Drama of a Butler And a Madman who must Outrace a Womanizer in Ancient India'\n",
      " 'A Fateful Story of a Monkey And a Girl who must Overcome a Pastry Chef in Ancient India'\n",
      " 'A Beautiful Yarn of a Composer And a Mad Cow who must Redeem a Mad Scientist in A Jet Boat'\n",
      " 'A Beautiful Display of a Pastry Chef And a Pastry Chef who must Outgun a Forensic Psychologist in A Manhattan Penthouse'\n",
      " 'A Beautiful Documentary of a Boat And a Sumo Wrestler who must Succumb a Database Administrator in The First Manned Space Station'\n",
      " 'A Intrepid Story of a Madman And a Secret Agent who must Outrace a Astronaut in An Abandoned Amusement Park'\n",
      " 'A Awe-Inspiring Reflection of a Waitress And a Squirrel who must Kill a Mad Cow in A Jet Boat'\n",
      " 'A Beautiful Panorama of a Lumberjack And a Forensic Psychologist who must Overcome a Frisbee in A Baloon'\n",
      " 'A Action-Packed Story of a Frisbee And a Woman who must Reach a Girl in An Abandoned Mine Shaft'\n",
      " 'A Lacklusture Display of a Womanizer And a Dog who must Face a Sumo Wrestler in Ancient Japan'\n",
      " 'A Amazing Story of a Feminist And a Cat who must Face a Car in An Abandoned Fun House'\n",
      " 'A Astounding Drama of a Feminist And a Teacher who must Confront a Husband in A Baloon'\n",
      " 'A Insightful Epistle of a Pastry Chef And a Womanizer who must Build a Boat in New Orleans'\n",
      " 'A Unbelieveable Display of a Dentist And a Madman who must Vanquish a Squirrel in Berlin'\n",
      " 'A Fanciful Panorama of a Mad Scientist And a Woman who must Pursue a Astronaut in Ancient India'\n",
      " 'A Intrepid Epistle of a Pastry Chef And a Pastry Chef who must Pursue a Crocodile in Ancient China'\n",
      " 'A Astounding Character Study of a Boat And a Secret Agent who must Find a Mad Cow in The Sahara Desert'\n",
      " 'A Thoughtful Panorama of a Hunter And a Teacher who must Reach a Mad Cow in A U-Boat'\n",
      " 'A Taut Yarn of a Astronaut And a Technical Writer who must Outgun a Boat in New Orleans'\n",
      " 'A Awe-Inspiring Yarn of a Pastry Chef And a Database Administrator who must Challenge a Teacher in A Baloon'\n",
      " 'A Fateful Display of a Waitress And a Dentist who must Reach a Butler in Nigeria'\n",
      " 'A Fanciful Character Study of a Feminist And a Madman who must Find a Explorer in A Baloon Factory'\n",
      " 'A Brilliant Documentary of a Monkey And a Car who must Conquer a Crocodile in A Shark Tank'\n",
      " 'A Touching Drama of a Dog And a Sumo Wrestler who must Conquer a Mad Scientist in Berlin'\n",
      " 'A Amazing Drama of a Butler And a Husband who must Reach a A Shark in A U-Boat'\n",
      " 'A Amazing Character Study of a Mad Cow And a Squirrel who must Discover a Hunter in A U-Boat'\n",
      " 'A Boring Drama of a Astronaut And a Boat who must Face a Boat in California'\n",
      " 'A Stunning Story of a Dog And a Feminist who must Face a Forensic Psychologist in Berlin'\n",
      " 'A Thrilling Story of a Cat And a Waitress who must Fight a Explorer in The Outback'\n",
      " 'A Action-Packed Saga of a Teacher And a Frisbee who must Escape a Lumberjack in The Sahara Desert'\n",
      " 'A Fateful Saga of a Sumo Wrestler And a Hunter who must Redeem a A Shark in New Orleans'\n",
      " 'A Epic Documentary of a Teacher And a Boy who must Escape a Woman in Berlin'\n",
      " 'A Thoughtful Documentary of a Mad Scientist And a A Shark who must Outrace a Feminist in Australia'\n",
      " 'A Touching Saga of a Teacher And a Monkey who must Overcome a Secret Agent in A MySQL Convention'\n",
      " 'A Thrilling Reflection of a Pastry Chef And a Crocodile who must Reach a Teacher in The Outback'\n",
      " 'A Beautiful Drama of a Student And a Secret Agent who must Confront a Dentist in Ancient Japan'\n",
      " 'A Thoughtful Yarn of a Monkey And a Teacher who must Find a Dog in Australia'\n",
      " 'A Lacklusture Reflection of a Dentist And a Hunter who must Meet a Teacher in A Baloon'\n",
      " 'A Touching Display of a Frisbee And a Frisbee who must Kill a Girl in The Gulf of Mexico'\n",
      " 'A Brilliant Reflection of a Database Administrator And a Mad Cow who must Chase a Woman in The Canadian Rockies'\n",
      " 'A Insightful Panorama of a Cat And a Boat who must Defeat a Boat in The Gulf of Mexico'\n",
      " 'A Emotional Yarn of a A Shark And a Student who must Battle a Robot in An Abandoned Mine Shaft'\n",
      " 'A Boring Tale of a Squirrel And a Dog who must Challenge a Madman in The Gulf of Mexico'\n",
      " 'A Awe-Inspiring Drama of a Technical Writer And a Composer who must Reach a Pastry Chef in A U-Boat'\n",
      " 'A Intrepid Panorama of a Womanizer And a Girl who must Escape a Girl in A Manhattan Penthouse'\n",
      " 'A Fateful Tale of a Database Administrator And a Girl who must Battle a Squirrel in New Orleans'\n",
      " 'A Intrepid Documentary of a Frisbee And a Dog who must Outrace a Lumberjack in Nigeria'\n",
      " 'A Amazing Yarn of a Dentist And a A Shark who must Vanquish a Madman in An Abandoned Mine Shaft'\n",
      " 'A Awe-Inspiring Character Study of a Boat And a Boy who must Kill a Pastry Chef in The Sahara Desert'\n",
      " 'A Touching Display of a Feminist And a Girl who must Confront a Astronaut in Australia'\n",
      " 'A Fast-Paced Reflection of a Composer And a Composer who must Meet a Cat in The Sahara Desert'\n",
      " 'A Astounding Saga of a Moose And a Pastry Chef who must Chase a Student in The Gulf of Mexico'\n",
      " 'A Taut Display of a Secret Agent And a Waitress who must Sink a Robot in An Abandoned Mine Shaft'\n",
      " 'A Stunning Character Study of a Crocodile And a Pioneer who must Pursue a Teacher in New Orleans'\n",
      " 'A Fateful Story of a Husband And a Moose who must Vanquish a Boy in California'\n",
      " 'A Action-Packed Epistle of a Robot And a Car who must Chase a Boat in Ancient Japan'\n",
      " 'A Thrilling Display of a Mad Cow And a Dog who must Challenge a Frisbee in Nigeria'\n",
      " 'A Lacklusture Tale of a Crocodile And a Composer who must Defeat a Madman in A U-Boat'\n",
      " 'A Unbelieveable Panorama of a Technical Writer And a Man who must Pursue a Frisbee in A U-Boat'\n",
      " 'A Thrilling Documentary of a Forensic Psychologist And a Butler who must Defeat a Explorer in A Jet Boat'\n",
      " 'A Fateful Tale of a Squirrel And a Forensic Psychologist who must Redeem a Man in Nigeria'\n",
      " 'A Astounding Display of a Forensic Psychologist And a Mad Scientist who must Challenge a Girl in New Orleans'\n",
      " 'A Insightful Character Study of a Feminist And a Pioneer who must Pursue a Pastry Chef in Nigeria'\n",
      " 'A Fast-Paced Documentary of a Pastry Chef And a Crocodile who must Chase a Squirrel in The Gulf of Mexico'\n",
      " 'A Intrepid Saga of a Man And a Lumberjack who must Vanquish a Husband in The Outback'\n",
      " 'A Emotional Reflection of a Dentist And a Mad Cow who must Face a Squirrel in A Baloon'\n",
      " 'A Thrilling Epistle of a Dog And a Feminist who must Kill a Madman in Berlin'\n",
      " 'A Fateful Story of a Lumberjack And a Car who must Escape a Boat in An Abandoned Mine Shaft'\n",
      " 'A Beautiful Documentary of a Woman And a Pioneer who must Pursue a Mad Scientist in A Shark Tank'\n",
      " 'A Unbelieveable Yarn of a Mad Scientist And a Cat who must Chase a Lumberjack in Australia'\n",
      " 'A Emotional Story of a Madman And a Waitress who must Battle a Teacher in An Abandoned Fun House'\n",
      " 'A Amazing Reflection of a Lumberjack And a Cat who must Discover a Husband in A MySQL Convention'\n",
      " 'A Taut Epistle of a Feminist And a Sumo Wrestler who must Battle a Crocodile in Australia'\n",
      " 'A Beautiful Documentary of a Astronaut And a Moose who must Pursue a Monkey in A Shark Tank'\n",
      " 'A Lacklusture Reflection of a Boat And a Forensic Psychologist who must Fight a Waitress in A Monastery'\n",
      " 'A Fateful Display of a Cat And a Pioneer who must Challenge a Pastry Chef in A Baloon Factory'\n",
      " 'A Emotional Reflection of a Womanizer And a Pioneer who must Face a Squirrel in Berlin'\n",
      " 'A Astounding Documentary of a Butler And a Explorer who must Challenge a Butler in A Monastery'\n",
      " 'A Thoughtful Display of a Mad Scientist And a Secret Agent who must Chase a Boat in Berlin'\n",
      " 'A Taut Character Study of a Woman And a A Shark who must Confront a Frisbee in Berlin'\n",
      " 'A Unbelieveable Character Study of a Womanizer And a Madman who must Reach a Man in The Outback'\n",
      " 'A Amazing Epistle of a Boy And a Astronaut who must Redeem a Man in The Gulf of Mexico'\n",
      " 'A Intrepid Tale of a Pioneer And a Moose who must Conquer a Frisbee in A MySQL Convention'\n",
      " 'A Awe-Inspiring Reflection of a Monkey And a Student who must Overcome a Dentist in The First Manned Space Station'\n",
      " 'A Brilliant Panorama of a Madman And a Composer who must Succumb a Car in Ancient India'\n",
      " 'A Thoughtful Epistle of a Dog And a Feminist who must Chase a Composer in Berlin'\n",
      " 'A Fateful Display of a Feminist And a Monkey who must Vanquish a Monkey in The Canadian Rockies'\n",
      " 'A Fateful Tale of a Man And a Feminist who must Conquer a Crocodile in A Manhattan Penthouse'\n",
      " 'A Unbelieveable Documentary of a Boat And a Husband who must Succumb a Student in A U-Boat'\n",
      " 'A Astounding Reflection of a Squirrel And a Sumo Wrestler who must Sink a Dentist in Ancient Japan'\n",
      " 'A Astounding Drama of a Frisbee And a Astronaut who must Fight a Dog in Ancient Japan'\n",
      " 'A Amazing Display of a Composer And a Forensic Psychologist who must Discover a Car in The Canadian Rockies'\n",
      " 'A Amazing Saga of a Woman And a Womanizer who must Discover a Cat in The First Manned Space Station'\n",
      " 'A Fast-Paced Display of a Car And a Database Administrator who must Battle a Woman in A Baloon'\n",
      " 'A Stunning Saga of a Lumberjack And a Squirrel who must Chase a Car in The Outback'\n",
      " 'A Taut Documentary of a Database Administrator And a Waitress who must Reach a Mad Scientist in A Baloon Factory'\n",
      " 'A Insightful Drama of a Mad Scientist And a Hunter who must Defeat a Pastry Chef in New Orleans'\n",
      " 'A Brilliant Epistle of a Composer And a Frisbee who must Conquer a Husband in The Outback'\n",
      " 'A Insightful Character Study of a Mad Cow And a Forensic Psychologist who must Conquer a A Shark in A Manhattan Penthouse'\n",
      " 'A Unbelieveable Tale of a Dog And a Explorer who must Sink a Mad Cow in A Baloon Factory'\n",
      " 'A Action-Packed Display of a Sumo Wrestler And a Car who must Overcome a Waitress in A Baloon Factory'\n",
      " 'A Epic Panorama of a Mad Scientist And a Monkey who must Redeem a Secret Agent in Berlin'\n",
      " 'A Taut Display of a Cat And a Girl who must Overcome a Database Administrator in New Orleans'\n",
      " 'A Lacklusture Epistle of a Girl And a A Shark who must Meet a Mad Scientist in Ancient China'\n",
      " 'A Unbelieveable Epistle of a Sumo Wrestler And a Hunter who must Build a Composer in Berlin'\n",
      " 'A Unbelieveable Saga of a Teacher And a Monkey who must Fight a Girl in An Abandoned Mine Shaft'\n",
      " 'A Boring Yarn of a Mad Cow And a Sumo Wrestler who must Meet a Robot in Australia'\n",
      " 'A Emotional Panorama of a Secret Agent And a Waitress who must Escape a Composer in Soviet Georgia'\n",
      " 'A Astounding Character Study of a Secret Agent And a Robot who must Build a A Shark in Berlin'\n",
      " 'A Amazing Reflection of a A Shark And a Butler who must Chase a Hunter in The Canadian Rockies'\n",
      " 'A Stunning Display of a Butler And a Teacher who must Confront a A Shark in The First Manned Space Station'\n",
      " 'A Intrepid Display of a Madman And a Feminist who must Pursue a Pioneer in The First Manned Space Station'\n",
      " 'A Thoughtful Display of a Dentist And a Squirrel who must Confront a Lumberjack in A Shark Tank'\n",
      " 'A Unbelieveable Reflection of a Moose And a A Shark who must Defeat a Lumberjack in An Abandoned Mine Shaft'\n",
      " 'A Epic Drama of a Cat And a Explorer who must Redeem a Moose in Australia'\n",
      " 'A Brilliant Panorama of a Astronaut And a Technical Writer who must Discover a Butler in A Manhattan Penthouse'\n",
      " 'A Intrepid Yarn of a Explorer And a Student who must Kill a Husband in An Abandoned Mine Shaft'\n",
      " 'A Boring Display of a Sumo Wrestler And a Husband who must Build a Waitress in The Gulf of Mexico'\n",
      " 'A Epic Reflection of a Pastry Chef And a Explorer who must Reach a Dentist in The Sahara Desert'\n",
      " 'A Touching Saga of a Robot And a Boy who must Kill a Man in Ancient Japan'\n",
      " 'A Boring Story of a Woman And a Feminist who must Redeem a Squirrel in A U-Boat'\n",
      " 'A Epic Epistle of a Database Administrator And a Crocodile who must Face a Madman in A Jet Boat'\n",
      " 'A Beautiful Panorama of a Pastry Chef And a A Shark who must Battle a Pioneer in Soviet Georgia'\n",
      " 'A Amazing Panorama of a Forensic Psychologist And a Technical Writer who must Fight a Dentist in A U-Boat'\n",
      " 'A Touching Reflection of a Man And a Man who must Sink a Robot in The Outback'\n",
      " 'A Beautiful Display of a Pioneer And a Squirrel who must Vanquish a Sumo Wrestler in Soviet Georgia'\n",
      " 'A Action-Packed Yarn of a Boat And a Crocodile who must Build a Monkey in Berlin'\n",
      " 'A Boring Epistle of a Database Administrator And a Explorer who must Pursue a Madman in Soviet Georgia'\n",
      " 'A Stunning Reflection of a Girl And a Secret Agent who must Succumb a Boy in A MySQL Convention'\n",
      " 'A Action-Packed Panorama of a Husband And a Feminist who must Meet a Forensic Psychologist in Ancient Japan'\n",
      " 'A Emotional Character Study of a Hunter And a Car who must Kill a Woman in Berlin'\n",
      " 'A Stunning Saga of a Sumo Wrestler And a Student who must Outrace a Moose in The Sahara Desert'\n",
      " 'A Awe-Inspiring Reflection of a Woman And a Cat who must Confront a Feminist in The Sahara Desert'\n",
      " 'A Taut Yarn of a Technical Writer And a Feminist who must Outrace a Dog in California'\n",
      " 'A Intrepid Reflection of a Mad Scientist And a Pioneer who must Overcome a Hunter in The First Manned Space Station'\n",
      " 'A Amazing Saga of a Man And a Dentist who must Reach a Technical Writer in Ancient India'\n",
      " 'A Fast-Paced Story of a Database Administrator And a Composer who must Defeat a Squirrel in An Abandoned Amusement Park'\n",
      " 'A Action-Packed Drama of a Mad Scientist And a Composer who must Outgun a Car in Australia'\n",
      " 'A Thoughtful Saga of a Hunter And a Crocodile who must Confront a Dog in The Gulf of Mexico'\n",
      " 'A Awe-Inspiring Documentary of a A Shark And a Dentist who must Outrace a Pastry Chef in The Canadian Rockies'\n",
      " 'A Intrepid Story of a Butler And a Car who must Vanquish a Man in New Orleans'\n",
      " 'A Beautiful Yarn of a Forensic Psychologist And a Frisbee who must Battle a Moose in A Jet Boat'\n",
      " 'A Unbelieveable Story of a Composer And a Dog who must Overcome a Womanizer in An Abandoned Amusement Park'\n",
      " 'A Action-Packed Yarn of a Womanizer And a Lumberjack who must Chase a Sumo Wrestler in A Monastery'\n",
      " 'A Taut Reflection of a A Shark And a Dentist who must Battle a Boat in Soviet Georgia'\n",
      " 'A Fateful Saga of a Waitress And a Hunter who must Outrace a Sumo Wrestler in Australia'\n",
      " 'A Action-Packed Saga of a Husband And a Dog who must Redeem a Database Administrator in The Sahara Desert'\n",
      " 'A Epic Display of a Hunter And a Feminist who must Sink a Car in A U-Boat'\n",
      " 'A Emotional Drama of a Husband And a Girl who must Outgun a Composer in The First Manned Space Station'\n",
      " 'A Awe-Inspiring Tale of a Girl And a Madman who must Outgun a Student in A Shark Tank'\n",
      " 'A Fast-Paced Reflection of a Technical Writer And a Student who must Fight a Boy in The Canadian Rockies'\n",
      " 'A Insightful Reflection of a Waitress And a Madman who must Pursue a Boy in Ancient Japan'\n",
      " 'A Beautiful Character Study of a Robot And a Astronaut who must Overcome a Boat in A Monastery'\n",
      " 'A Fast-Paced Epistle of a Boy And a Explorer who must Escape a Dog in A U-Boat'\n",
      " 'A Awe-Inspiring Yarn of a Composer And a Man who must Find a Robot in Soviet Georgia'\n",
      " 'A Action-Packed Display of a Feminist And a Pioneer who must Pursue a Dog in A Baloon Factory'\n",
      " 'A Touching Panorama of a Man And a Secret Agent who must Challenge a Teacher in A MySQL Convention'\n",
      " 'A Taut Reflection of a Astronaut And a Squirrel who must Fight a Squirrel in A Manhattan Penthouse'\n",
      " 'A Astounding Documentary of a Hunter And a Boy who must Confront a Boy in A MySQL Convention'\n",
      " 'A Taut Story of a Waitress And a Crocodile who must Outrace a Lumberjack in A Shark Tank'\n",
      " 'A Insightful Story of a Boy And a Dog who must Redeem a Boy in Australia'\n",
      " 'A Astounding Display of a Explorer And a Boat who must Vanquish a Car in The First Manned Space Station'\n",
      " 'A Amazing Documentary of a Student And a Sumo Wrestler who must Outgun a A Shark in A Shark Tank'\n",
      " 'A Stunning Display of a Mad Scientist And a Technical Writer who must Succumb a Monkey in A Shark Tank'\n",
      " 'A Touching Documentary of a A Shark And a Car who must Build a Husband in Nigeria'\n",
      " 'A Thrilling Yarn of a Pastry Chef And a A Shark who must Challenge a Mad Scientist in The Outback'\n",
      " 'A Fateful Story of a Explorer And a Feminist who must Meet a Technical Writer in Soviet Georgia'\n",
      " 'A Taut Story of a Pioneer And a Squirrel who must Battle a Student in Soviet Georgia'\n",
      " 'A Beautiful Reflection of a Womanizer And a Sumo Wrestler who must Chase a Database Administrator in The Gulf of Mexico'\n",
      " 'A Touching Yarn of a Frisbee And a Dentist who must Fight a Composer in Ancient Japan'\n",
      " 'A Unbelieveable Yarn of a Student And a Database Administrator who must Outgun a Husband in An Abandoned Mine Shaft'\n",
      " 'A Emotional Drama of a Mad Cow And a Boat who must Redeem a Secret Agent in A Shark Tank'\n",
      " 'A Thrilling Reflection of a Pioneer And a Dentist who must Outrace a Womanizer in An Abandoned Mine Shaft'\n",
      " 'A Lacklusture Epistle of a Database Administrator And a Woman who must Meet a Hunter in An Abandoned Mine Shaft'\n",
      " 'A Emotional Reflection of a Sumo Wrestler And a Monkey who must Conquer a Robot in The Sahara Desert'\n",
      " 'A Fanciful Documentary of a Boy And a Woman who must Redeem a Womanizer in A Jet Boat'\n",
      " 'A Amazing Saga of a Madman And a Dentist who must Build a Car in A Manhattan Penthouse'\n",
      " 'A Fast-Paced Tale of a Butler And a Moose who must Overcome a Pioneer in A Manhattan Penthouse'\n",
      " 'A Fast-Paced Drama of a Student And a Crocodile who must Meet a Database Administrator in The Outback'\n",
      " 'A Boring Tale of a Composer And a Mad Cow who must Defeat a Car in The Outback'\n",
      " 'A Insightful Drama of a Car And a Composer who must Fight a Man in A Monastery'\n",
      " 'A Epic Documentary of a Hunter And a Dog who must Outgun a Dog in A Baloon Factory'\n",
      " 'A Emotional Epistle of a Boat And a Mad Scientist who must Outrace a Robot in An Abandoned Mine Shaft'\n",
      " 'A Lacklusture Panorama of a Secret Agent And a Crocodile who must Discover a Madman in The Canadian Rockies'\n",
      " 'A Epic Character Study of a Frisbee And a Moose who must Outgun a Technical Writer in A Shark Tank'\n",
      " 'A Awe-Inspiring Yarn of a Monkey And a Hunter who must Chase a Teacher in Ancient China'\n",
      " 'A Fateful Saga of a Womanizer And a Student who must Defeat a Butler in A Monastery'\n",
      " 'A Thrilling Tale of a Technical Writer And a Boy who must Face a Pioneer in A Monastery'\n",
      " 'A Insightful Saga of a Mad Scientist And a Mad Scientist who must Kill a Astronaut in An Abandoned Fun House'\n",
      " 'A Action-Packed Display of a Woman And a Dentist who must Redeem a Forensic Psychologist in The Canadian Rockies'\n",
      " 'A Beautiful Drama of a Pioneer And a Crocodile who must Challenge a Student in The Outback'\n",
      " 'A Epic Display of a Butler And a Dog who must Vanquish a Crocodile in A Manhattan Penthouse'\n",
      " 'A Astounding Saga of a Mad Scientist And a Hunter who must Pursue a Robot in A Baloon Factory'\n",
      " 'A Touching Documentary of a Mad Cow And a Explorer who must Confront a Butler in A Manhattan Penthouse'\n",
      " 'A Astounding Epistle of a Cat And a Cat who must Conquer a Mad Cow in A U-Boat'\n",
      " 'A Action-Packed Reflection of a Student And a Butler who must Discover a Database Administrator in A Manhattan Penthouse'\n",
      " 'A Awe-Inspiring Story of a Monkey And a Pastry Chef who must Succumb a Womanizer in A MySQL Convention'\n",
      " 'A Fanciful Character Study of a Explorer And a Mad Scientist who must Vanquish a Squirrel in A Jet Boat'\n",
      " 'A Lacklusture Character Study of a Mad Scientist And a Womanizer who must Outrace a Explorer in A Monastery'\n",
      " 'A Fast-Paced Documentary of a Mad Cow And a Boy who must Pursue a Dentist in A Baloon'\n",
      " 'A Astounding Saga of a Dog And a Squirrel who must Conquer a Dog in An Abandoned Fun House'\n",
      " 'A Fanciful Panorama of a Technical Writer And a Boy who must Find a Dentist in An Abandoned Fun House'\n",
      " 'A Astounding Character Study of a Monkey And a Moose who must Outgun a Cat in A U-Boat'\n",
      " 'A Insightful Reflection of a Womanizer And a Husband who must Conquer a Pastry Chef in A Baloon'\n",
      " 'A Insightful Panorama of a Squirrel And a Mad Cow who must Confront a Student in The First Manned Space Station'\n",
      " 'A Awe-Inspiring Epistle of a Feminist And a Girl who must Sink a Girl in The Outback'\n",
      " 'A Thoughtful Tale of a Woman And a A Shark who must Conquer a Dog in A Monastery'\n",
      " 'A Stunning Reflection of a Boat And a Pastry Chef who must Succumb a A Shark in A Jet Boat'\n",
      " 'A Thrilling Display of a Database Administrator And a Monkey who must Overcome a Dog in An Abandoned Fun House'\n",
      " 'A Astounding Reflection of a Explorer And a Dentist who must Pursue a Student in Nigeria'\n",
      " 'A Astounding Display of a Composer And a Dog who must Kill a Pastry Chef in Soviet Georgia'\n",
      " 'A Fanciful Epistle of a Student And a Astronaut who must Kill a Waitress in A Shark Tank'\n",
      " 'A Boring Panorama of a Man And a Mad Cow who must Face a Explorer in Ancient India'\n",
      " 'A Amazing Yarn of a Hunter And a Butler who must Defeat a Boy in A Jet Boat'\n",
      " 'A Touching Character Study of a Pastry Chef And a Database Administrator who must Reach a A Shark in Ancient Japan'\n",
      " 'A Lacklusture Documentary of a Madman And a Mad Cow who must Find a Feminist in Ancient Japan'\n",
      " 'A Amazing Display of a Lumberjack And a Teacher who must Outrace a Woman in A U-Boat'\n",
      " 'A Epic Character Study of a Feminist And a Student who must Meet a Woman in A Baloon'\n",
      " 'A Thrilling Panorama of a Technical Writer And a Car who must Discover a Forensic Psychologist in A Shark Tank'\n",
      " 'A Epic Story of a Mad Cow And a Astronaut who must Challenge a Car in California'\n",
      " 'A Intrepid Yarn of a Husband And a Womanizer who must Pursue a Mad Scientist in New Orleans'\n",
      " 'A Touching Epistle of a Monkey And a Feminist who must Discover a Boat in Berlin'\n",
      " 'A Boring Character Study of a Boy And a Woman who must Battle a Astronaut in Australia'\n",
      " 'A Epic Documentary of a Composer And a Robot who must Overcome a Car in Berlin'\n",
      " 'A Astounding Yarn of a Womanizer And a Dog who must Reach a Waitress in A MySQL Convention'\n",
      " 'A Stunning Yarn of a Woman And a Frisbee who must Escape a Waitress in A U-Boat'\n",
      " 'A Emotional Drama of a Monkey And a Robot who must Defeat a Monkey in New Orleans'\n",
      " 'A Touching Display of a Hunter And a Secret Agent who must Redeem a Husband in The Outback'\n",
      " 'A Fanciful Character Study of a Student And a Explorer who must Succumb a Composer in An Abandoned Mine Shaft'\n",
      " 'A Action-Packed Tale of a Boy And a Lumberjack who must Chase a Madman in A Baloon'\n",
      " 'A Lacklusture Reflection of a Girl And a Husband who must Find a Robot in The Canadian Rockies'\n",
      " 'A Insightful Reflection of a Pioneer And a Teacher who must Build a Composer in The First Manned Space Station'\n",
      " 'A Unbelieveable Story of a Teacher And a Boat who must Confront a Moose in A Baloon'\n",
      " 'A Amazing Yarn of a Robot And a Pastry Chef who must Redeem a Mad Scientist in The Outback'\n",
      " 'A Amazing Drama of a Car And a Squirrel who must Pursue a Car in Soviet Georgia'\n",
      " 'A Awe-Inspiring Saga of a Composer And a Frisbee who must Succumb a Pioneer in The Sahara Desert'\n",
      " 'A Beautiful Character Study of a Woman And a Man who must Pursue a Explorer in A U-Boat'\n",
      " 'A Fateful Reflection of a Dog And a Mad Scientist who must Meet a Mad Scientist in New Orleans'\n",
      " 'A Insightful Story of a Man And a Feminist who must Fight a Composer in Australia'\n",
      " 'A Epic Yarn of a Cat And a Madman who must Vanquish a Dentist in An Abandoned Amusement Park'\n",
      " 'A Insightful Yarn of a Boy And a Sumo Wrestler who must Outgun a Car in The Outback'\n",
      " 'A Fanciful Yarn of a Database Administrator And a Mad Cow who must Pursue a Womanizer in Berlin'\n",
      " 'A Thoughtful Saga of a A Shark And a Monkey who must Outgun a Student in Ancient China'\n",
      " 'A Fateful Reflection of a Dog And a Mad Cow who must Outrace a Teacher in An Abandoned Mine Shaft'\n",
      " 'A Beautiful Epistle of a Secret Agent And a Pioneer who must Chase a Astronaut in Ancient China'\n",
      " 'A Astounding Tale of a A Shark And a Moose who must Meet a Womanizer in The Sahara Desert'\n",
      " 'A Awe-Inspiring Epistle of a Pioneer And a Student who must Outgun a Crocodile in The Outback'\n",
      " 'A Emotional Display of a Man And a Explorer who must Build a Boy in A Manhattan Penthouse'\n",
      " 'A Boring Drama of a A Shark And a Explorer who must Redeem a Waitress in The Canadian Rockies'\n",
      " 'A Boring Drama of a Student And a Cat who must Sink a Technical Writer in A Baloon'\n",
      " 'A Insightful Story of a Man And a Husband who must Overcome a Madman in A Monastery'\n",
      " 'A Fast-Paced Character Study of a Dentist And a Moose who must Defeat a Composer in The First Manned Space Station'\n",
      " 'A Thrilling Reflection of a Teacher And a Composer who must Find a Man in The First Manned Space Station'\n",
      " 'A Unbelieveable Epistle of a Dog And a Woman who must Confront a Moose in The Gulf of Mexico'\n",
      " 'A Intrepid Display of a Pastry Chef And a Cat who must Kill a A Shark in Ancient China'\n",
      " 'A Boring Epistle of a Pioneer And a Mad Scientist who must Escape a Frisbee in The Gulf of Mexico'\n",
      " 'A Thoughtful Character Study of a Squirrel And a Technical Writer who must Outrace a Student in Ancient Japan'\n",
      " 'A Astounding Tale of a Mad Scientist And a Husband who must Redeem a Database Administrator in Ancient Japan'\n",
      " 'A Thrilling Drama of a Girl And a Robot who must Redeem a Waitress in An Abandoned Mine Shaft'\n",
      " 'A Intrepid Story of a Student And a Dog who must Challenge a Explorer in Soviet Georgia'\n",
      " 'A Action-Packed Display of a Frisbee And a Pastry Chef who must Pursue a Crocodile in A Jet Boat'\n",
      " 'A Stunning Reflection of a Student And a Technical Writer who must Battle a Butler in The First Manned Space Station'\n",
      " 'A Stunning Drama of a Robot And a Feminist who must Outgun a Butler in Nigeria'\n",
      " 'A Emotional Character Study of a Robot And a A Shark who must Defeat a Technical Writer in A Manhattan Penthouse'\n",
      " 'A Lacklusture Drama of a Girl And a Technical Writer who must Redeem a Monkey in A Shark Tank'\n",
      " 'A Brilliant Panorama of a Hunter And a Explorer who must Pursue a Dentist in An Abandoned Fun House'\n",
      " 'A Fanciful Yarn of a Crocodile And a Forensic Psychologist who must Discover a Crocodile in The Outback'\n",
      " 'A Emotional Yarn of a Robot And a Boy who must Outgun a Technical Writer in A U-Boat'\n",
      " 'A Boring Story of a Car And a Butler who must Build a Girl in Soviet Georgia'\n",
      " 'A Boring Display of a Moose And a Squirrel who must Outrace a Teacher in A Shark Tank'\n",
      " 'A Lacklusture Character Study of a A Shark And a Man who must Find a Forensic Psychologist in A U-Boat'\n",
      " 'A Taut Character Study of a Boy And a Robot who must Redeem a Mad Scientist in Ancient India'\n",
      " 'A Fanciful Panorama of a Hunter And a Dentist who must Meet a Secret Agent in The Sahara Desert'\n",
      " 'A Astounding Character Study of a A Shark And a A Shark who must Discover a Crocodile in The Outback'\n",
      " 'A Awe-Inspiring Reflection of a Monkey And a Dentist who must Overcome a Pioneer in A U-Boat'\n",
      " 'A Fanciful Tale of a Squirrel And a Boat who must Defeat a Crocodile in The Gulf of Mexico'\n",
      " 'A Intrepid Panorama of a Sumo Wrestler And a Forensic Psychologist who must Discover a Moose in The First Manned Space Station'\n",
      " 'A Touching Documentary of a Pastry Chef And a Pastry Chef who must Build a Mad Scientist in California'\n",
      " 'A Insightful Story of a Teacher And a Hunter who must Face a Mad Cow in California'\n",
      " 'A Thoughtful Documentary of a Composer And a Explorer who must Conquer a Dentist in New Orleans'\n",
      " 'A Fast-Paced Reflection of a Waitress And a Hunter who must Defeat a Forensic Psychologist in A Baloon'\n",
      " 'A Lacklusture Saga of a Moose And a Teacher who must Kill a Forensic Psychologist in A MySQL Convention'\n",
      " 'A Thrilling Character Study of a Moose And a Student who must Escape a Butler in The First Manned Space Station'\n",
      " 'A Stunning Display of a Moose And a Database Administrator who must Pursue a Composer in A Jet Boat'\n",
      " 'A Intrepid Reflection of a Waitress And a A Shark who must Kill a Squirrel in The Outback'\n",
      " 'A Thrilling Yarn of a Waitress And a Dentist who must Find a Hunter in A Monastery'\n",
      " 'A Fast-Paced Documentary of a Crocodile And a Sumo Wrestler who must Conquer a Explorer in California'\n",
      " 'A Stunning Tale of a Mad Cow And a Boy who must Battle a Boy in Berlin'\n",
      " 'A Astounding Saga of a Mad Cow And a Pastry Chef who must Discover a Husband in Ancient India'\n",
      " 'A Fanciful Story of a Womanizer And a Dog who must Face a Forensic Psychologist in The Sahara Desert'\n",
      " 'A Boring Drama of a Car And a Dog who must Succumb a Madman in Soviet Georgia'\n",
      " 'A Boring Character Study of a Student And a Robot who must Meet a Woman in California'\n",
      " 'A Fanciful Documentary of a Pioneer And a Boat who must Pursue a Pioneer in An Abandoned Mine Shaft'\n",
      " 'A Fateful Reflection of a Waitress And a Crocodile who must Challenge a Forensic Psychologist in California'\n",
      " 'A Fateful Drama of a Frisbee And a Crocodile who must Vanquish a Dog in The First Manned Space Station'\n",
      " 'A Action-Packed Saga of a Womanizer And a Woman who must Overcome a Student in California'\n",
      " 'A Beautiful Documentary of a Forensic Psychologist And a Cat who must Reach a Astronaut in Nigeria'\n",
      " 'A Boring Documentary of a Dentist And a Butler who must Confront a Monkey in A MySQL Convention'\n",
      " 'A Touching Epistle of a Squirrel And a Explorer who must Redeem a Pastry Chef in The Sahara Desert'\n",
      " 'A Unbelieveable Panorama of a Composer And a Butler who must Overcome a Database Administrator in The First Manned Space Station'\n",
      " 'A Lacklusture Drama of a Waitress And a Husband who must Fight a Husband in California'\n",
      " 'A Thrilling Display of a Lumberjack And a Crocodile who must Meet a Monkey in A Baloon Factory'\n",
      " 'A Emotional Saga of a Database Administrator And a Pastry Chef who must Confront a Teacher in A Baloon Factory'\n",
      " 'A Touching Character Study of a Boat And a Student who must Sink a A Shark in Nigeria'\n",
      " 'A Taut Reflection of a Husband And a A Shark who must Redeem a Pastry Chef in A Monastery'\n",
      " 'A Fateful Panorama of a Moose And a Dog who must Chase a Crocodile in Ancient Japan'\n",
      " 'A Astounding Epistle of a Mad Scientist And a Pioneer who must Escape a Database Administrator in A MySQL Convention'\n",
      " 'A Lacklusture Epistle of a Cat And a Husband who must Confront a Boy in A MySQL Convention'\n",
      " 'A Brilliant Documentary of a Womanizer And a Squirrel who must Find a Technical Writer in The Sahara Desert'\n",
      " 'A Taut Yarn of a Mad Scientist And a Crocodile who must Outgun a Database Administrator in A Monastery'\n",
      " 'A Amazing Yarn of a Robot And a Womanizer who must Discover a Forensic Psychologist in Berlin'\n",
      " 'A Insightful Display of a Lumberjack And a Sumo Wrestler who must Meet a Man in The Outback'\n",
      " 'A Touching Epistle of a Butler And a Boy who must Find a Mad Scientist in The Sahara Desert'\n",
      " 'A Intrepid Story of a Sumo Wrestler And a Teacher who must Meet a A Shark in An Abandoned Fun House'\n",
      " 'A Taut Drama of a Womanizer And a Lumberjack who must Succumb a Pioneer in Ancient India'\n",
      " 'A Unbelieveable Documentary of a Frisbee And a Boat who must Meet a Boy in The Canadian Rockies'\n",
      " 'A Thoughtful Panorama of a Man And a Car who must Sink a Composer in Berlin'\n",
      " 'A Boring Documentary of a Mad Cow And a Cat who must Build a Lumberjack in New Orleans'\n",
      " 'A Beautiful Panorama of a Boat And a Crocodile who must Outrace a Dog in Australia'\n",
      " 'A Awe-Inspiring Story of a Butler And a Sumo Wrestler who must Redeem a Boy in New Orleans'\n",
      " 'A Touching Tale of a Explorer And a Boat who must Defeat a Robot in Australia'\n",
      " 'A Astounding Tale of a Crocodile And a Car who must Outrace a Squirrel in A U-Boat'\n",
      " 'A Fast-Paced Story of a Waitress And a Cat who must Fight a Girl in Australia'\n",
      " 'A Awe-Inspiring Drama of a Monkey And a Composer who must Escape a Feminist in A U-Boat'\n",
      " 'A Thrilling Reflection of a Waitress And a Butler who must Battle a Butler in A Jet Boat'\n",
      " 'A Beautiful Tale of a Astronaut And a Mad Cow who must Challenge a Cat in A Baloon Factory'\n",
      " 'A Thoughtful Display of a Astronaut And a Feminist who must Chase a Frisbee in A Jet Boat'\n",
      " 'A Epic Drama of a Feminist And a Pioneer who must Sink a Composer in New Orleans'\n",
      " 'A Thoughtful Character Study of a Waitress And a Feminist who must Build a Teacher in Ancient Japan'\n",
      " 'A Boring Tale of a Husband And a Boy who must Fight a Squirrel in Ancient China'\n",
      " 'A Awe-Inspiring Reflection of a Dog And a Student who must Kill a Car in An Abandoned Fun House'\n",
      " 'A Astounding Story of a Forensic Psychologist And a Cat who must Battle a Teacher in An Abandoned Mine Shaft'\n",
      " 'A Lacklusture Display of a Waitress And a Lumberjack who must Chase a Pioneer in New Orleans'\n",
      " 'A Insightful Display of a Database Administrator And a Student who must Build a Hunter in Berlin'\n",
      " 'A Emotional Saga of a Womanizer And a Pioneer who must Overcome a Dentist in A Baloon'\n",
      " 'A Awe-Inspiring Display of a Husband And a Squirrel who must Battle a Sumo Wrestler in A Jet Boat'\n",
      " 'A Fateful Character Study of a Crocodile And a Monkey who must Meet a Dentist in Australia'\n",
      " 'A Lacklusture Story of a Madman And a Teacher who must Kill a Frisbee in The Gulf of Mexico'\n",
      " 'A Brilliant Yarn of a Car And a Database Administrator who must Escape a Boy in A MySQL Convention'\n",
      " 'A Stunning Panorama of a Sumo Wrestler And a Husband who must Redeem a Madman in Ancient India'\n",
      " 'A Thrilling Tale of a Butler And a Astronaut who must Battle a Explorer in The First Manned Space Station'\n",
      " 'A Touching Yarn of a Student And a Moose who must Fight a Mad Cow in Australia'\n",
      " 'A Thrilling Display of a Boat And a Monkey who must Meet a Composer in Ancient China'\n",
      " 'A Epic Yarn of a Teacher And a Hunter who must Outgun a Explorer in Soviet Georgia'\n",
      " 'A Touching Saga of a Sumo Wrestler And a Cat who must Pursue a Mad Scientist in Nigeria'\n",
      " 'A Epic Reflection of a Monkey And a Mad Cow who must Kill a Forensic Psychologist in An Abandoned Mine Shaft'\n",
      " 'A Taut Epistle of a Mad Scientist And a Girl who must Escape a Monkey in California'\n",
      " 'A Fast-Paced Story of a Sumo Wrestler And a Girl who must Defeat a Car in A Baloon Factory'\n",
      " 'A Astounding Epistle of a Database Administrator And a Mad Scientist who must Pursue a Cat in California'\n",
      " 'A Fanciful Reflection of a Crocodile And a Astronaut who must Outrace a Feminist in An Abandoned Amusement Park'\n",
      " 'A Lacklusture Reflection of a Monkey And a Squirrel who must Outrace a Womanizer in A Manhattan Penthouse'\n",
      " 'A Unbelieveable Reflection of a Butler And a Boat who must Outgun a Mad Scientist in California'\n",
      " 'A Action-Packed Character Study of a Dog And a Lumberjack who must Outrace a Moose in The Gulf of Mexico'\n",
      " 'A Intrepid Character Study of a Moose And a Waitress who must Find a A Shark in Ancient India'\n",
      " 'A Brilliant Display of a Robot And a Butler who must Fight a Waitress in An Abandoned Mine Shaft'\n",
      " 'A Boring Reflection of a Secret Agent And a Astronaut who must Face a Composer in A Manhattan Penthouse'\n",
      " 'A Unbelieveable Character Study of a Mad Scientist And a Astronaut who must Find a Pioneer in A Manhattan Penthouse'\n",
      " 'A Beautiful Character Study of a Mad Cow And a Robot who must Reach a Womanizer in New Orleans'\n",
      " 'A Boring Character Study of a Boy And a A Shark who must Outrace a Womanizer in The Outback'\n",
      " 'A Amazing Epistle of a Woman And a Squirrel who must Fight a Hunter in A Baloon'\n",
      " 'A Thoughtful Display of a Butler And a Womanizer who must Find a Waitress in The Canadian Rockies'\n",
      " 'A Fanciful Display of a Student And a Teacher who must Outgun a Crocodile in Nigeria'\n",
      " 'A Thoughtful Drama of a Explorer And a Womanizer who must Meet a Teacher in California'\n",
      " 'A Taut Epistle of a Monkey And a Boy who must Confront a Husband in A Jet Boat'\n",
      " 'A Thrilling Yarn of a Feminist And a Madman who must Battle a Hunter in Berlin'\n",
      " 'A Thoughtful Drama of a Dentist And a Womanizer who must Meet a Husband in The Sahara Desert'\n",
      " 'A Boring Story of a Teacher And a Monkey who must Succumb a Forensic Psychologist in A Jet Boat'\n",
      " 'A Lacklusture Drama of a Secret Agent And a Explorer who must Discover a Car in A U-Boat'\n",
      " 'A Intrepid Character Study of a Man And a Frisbee who must Overcome a Madman in Ancient China'\n",
      " 'A Fateful Epistle of a Crocodile And a Moose who must Kill a Explorer in Nigeria'\n",
      " 'A Fast-Paced Drama of a Hunter And a Boy who must Discover a Feminist in The Sahara Desert'\n",
      " 'A Astounding Documentary of a Butler And a Womanizer who must Face a Dog in A U-Boat'\n",
      " 'A Amazing Saga of a Dog And a A Shark who must Challenge a Cat in The Sahara Desert'\n",
      " 'A Astounding Epistle of a Technical Writer And a Teacher who must Fight a Squirrel in The Sahara Desert'\n",
      " 'A Insightful Tale of a Database Administrator And a Dog who must Face a Madman in Soviet Georgia'\n",
      " 'A Lacklusture Documentary of a Mad Cow And a Madman who must Sink a Moose in The Gulf of Mexico'\n",
      " 'A Unbelieveable Yarn of a Database Administrator And a Woman who must Succumb a A Shark in A U-Boat'\n",
      " 'A Thoughtful Drama of a Husband And a Secret Agent who must Pursue a Database Administrator in Ancient India'\n",
      " 'A Thoughtful Story of a Astronaut And a Composer who must Conquer a Dog in The Sahara Desert'\n",
      " 'A Epic Yarn of a Mad Scientist And a Cat who must Confront a Womanizer in A Baloon Factory'\n",
      " 'A Thrilling Yarn of a Dog And a Moose who must Kill a Pastry Chef in A Manhattan Penthouse'\n",
      " 'A Epic Display of a Sumo Wrestler And a Forensic Psychologist who must Build a Woman in An Abandoned Amusement Park'\n",
      " 'A Emotional Drama of a Boy And a Technical Writer who must Redeem a Sumo Wrestler in California'\n",
      " 'A Fanciful Display of a Teacher And a Crocodile who must Succumb a Girl in A Baloon'\n",
      " 'A Touching Documentary of a Dentist And a Sumo Wrestler who must Overcome a Boy in The Gulf of Mexico'\n",
      " 'A Brilliant Panorama of a Moose And a Man who must Reach a Teacher in The Gulf of Mexico'\n",
      " 'A Fanciful Display of a Car And a Monkey who must Escape a Squirrel in Ancient Japan'\n",
      " 'A Intrepid Yarn of a Car And a Moose who must Outrace a Crocodile in A Manhattan Penthouse'\n",
      " 'A Intrepid Story of a Squirrel And a Crocodile who must Defeat a Monkey in The Outback'\n",
      " 'A Taut Epistle of a Sumo Wrestler And a Girl who must Face a Husband in Ancient Japan'\n",
      " 'A Fateful Display of a Technical Writer And a Butler who must Battle a Sumo Wrestler in An Abandoned Mine Shaft'\n",
      " 'A Intrepid Tale of a Madman And a Astronaut who must Challenge a Hunter in A Monastery'\n",
      " 'A Astounding Documentary of a Butler And a Cat who must Find a Frisbee in Ancient China'\n",
      " 'A Emotional Epistle of a Squirrel And a Robot who must Confront a Lumberjack in Soviet Georgia'\n",
      " 'A Taut Saga of a Robot And a Database Administrator who must Challenge a Astronaut in California'\n",
      " 'A Thrilling Documentary of a Composer And a Secret Agent who must Succumb a Cat in Berlin'\n",
      " 'A Awe-Inspiring Reflection of a Boy And a Man who must Discover a Moose in The Sahara Desert'\n",
      " 'A Action-Packed Drama of a Monkey And a Dentist who must Chase a Butler in Berlin'\n",
      " 'A Insightful Reflection of a Boat And a Secret Agent who must Vanquish a Astronaut in An Abandoned Mine Shaft'\n",
      " 'A Lacklusture Yarn of a Astronaut And a Pastry Chef who must Sink a Dog in A U-Boat'\n",
      " 'A Epic Documentary of a Boy And a Monkey who must Pursue a Astronaut in Berlin'\n",
      " 'A Fast-Paced Story of a Car And a Cat who must Outgun a Hunter in Berlin'\n",
      " 'A Thrilling Yarn of a Dog And a Dog who must Build a Husband in A Baloon'\n",
      " 'A Epic Saga of a Hunter And a Technical Writer who must Conquer a Cat in Ancient Japan'\n",
      " 'A Unbelieveable Reflection of a Explorer And a Boat who must Conquer a Woman in California'\n",
      " 'A Beautiful Documentary of a Astronaut And a Crocodile who must Discover a Madman in A Monastery'\n",
      " 'A Taut Yarn of a Hunter And a Astronaut who must Conquer a Database Administrator in The Sahara Desert'\n",
      " 'A Intrepid Story of a Boy And a Technical Writer who must Pursue a Lumberjack in A Monastery'\n",
      " 'A Touching Documentary of a Husband And a Boat who must Meet a Pastry Chef in A Baloon Factory'\n",
      " 'A Awe-Inspiring Reflection of a Crocodile And a Sumo Wrestler who must Meet a Forensic Psychologist in An Abandoned Mine Shaft'\n",
      " 'A Action-Packed Reflection of a Mad Scientist And a A Shark who must Find a Feminist in California'\n",
      " 'A Stunning Drama of a Woman And a Lumberjack who must Overcome a A Shark in The Canadian Rockies'\n",
      " 'A Thrilling Epistle of a Boy And a Boat who must Find a Student in Soviet Georgia'\n",
      " 'A Boring Panorama of a Feminist And a Moose who must Defeat a Database Administrator in Nigeria'\n",
      " 'A Epic Saga of a Cat And a Squirrel who must Outgun a Robot in A U-Boat'\n",
      " 'A Thrilling Panorama of a Man And a Woman who must Reach a Woman in Australia'\n",
      " 'A Action-Packed Reflection of a Car And a Moose who must Outgun a Car in A Shark Tank'\n",
      " 'A Intrepid Yarn of a Frisbee And a Dog who must Build a Astronaut in A Baloon Factory'\n",
      " 'A Boring Character Study of a Database Administrator And a Lumberjack who must Reach a Madman in The Outback'\n",
      " 'A Intrepid Story of a Madman And a Frisbee who must Outgun a Boat in The Sahara Desert'\n",
      " 'A Stunning Drama of a Teacher And a Boat who must Battle a Feminist in Ancient China'\n",
      " 'A Thoughtful Epistle of a Womanizer And a Monkey who must Vanquish a Dentist in A Monastery'\n",
      " 'A Beautiful Story of a Dog And a Technical Writer who must Outgun a Student in A Baloon'\n",
      " 'A Thrilling Epistle of a Frisbee And a Cat who must Fight a Technical Writer in Berlin'\n",
      " 'A Epic Saga of a Boy And a Dentist who must Outrace a Madman in A U-Boat'\n",
      " 'A Fateful Panorama of a Technical Writer And a Moose who must Battle a Robot in Soviet Georgia'\n",
      " 'A Thoughtful Drama of a A Shark And a Forensic Psychologist who must Vanquish a Student in Ancient India'\n",
      " 'A Fateful Documentary of a Pastry Chef And a Butler who must Build a Dog in The Canadian Rockies'\n",
      " 'A Thrilling Yarn of a Pastry Chef And a Monkey who must Battle a Monkey in A Shark Tank'\n",
      " 'A Stunning Story of a Technical Writer And a Hunter who must Succumb a Secret Agent in A Baloon'\n",
      " 'A Stunning Saga of a Mad Scientist And a Boat who must Overcome a Dentist in Ancient China'\n",
      " 'A Amazing Panorama of a Crocodile And a Explorer who must Fight a Husband in Nigeria'\n",
      " 'A Unbelieveable Display of a Dog And a Crocodile who must Outrace a Man in Nigeria'\n",
      " 'A Fast-Paced Tale of a Pastry Chef And a Boat who must Face a Frisbee in The Canadian Rockies'\n",
      " 'A Thoughtful Documentary of a Student And a Madman who must Challenge a Squirrel in A Manhattan Penthouse'\n",
      " 'A Boring Display of a Pastry Chef And a Sumo Wrestler who must Discover a Frisbee in An Abandoned Amusement Park'\n",
      " 'A Astounding Story of a Girl And a Boy who must Challenge a Composer in New Orleans'\n",
      " 'A Fateful Drama of a Husband And a Sumo Wrestler who must Battle a Pastry Chef in A Baloon Factory'\n",
      " 'A Thoughtful Story of a Pioneer And a Woman who must Reach a Moose in Australia'\n",
      " 'A Emotional Display of a Monkey And a Waitress who must Reach a Secret Agent in California'\n",
      " 'A Fast-Paced Saga of a Astronaut And a Secret Agent who must Escape a Hunter in An Abandoned Amusement Park'\n",
      " 'A Astounding Display of a Secret Agent And a Technical Writer who must Escape a Mad Scientist in A Jet Boat'\n",
      " 'A Amazing Drama of a Teacher And a Feminist who must Meet a Woman in The First Manned Space Station'\n",
      " 'A Action-Packed Story of a Hunter And a Boy who must Discover a Lumberjack in Ancient India'\n",
      " 'A Fateful Drama of a Frisbee And a Student who must Confront a Cat in A Shark Tank'\n",
      " 'A Insightful Documentary of a Hunter And a Dentist who must Confront a Crocodile in A Baloon'\n",
      " 'A Thrilling Epistle of a Composer And a Sumo Wrestler who must Challenge a Mad Cow in A MySQL Convention'\n",
      " 'A Awe-Inspiring Reflection of a Forensic Psychologist And a Secret Agent who must Succumb a Pastry Chef in Soviet Georgia'\n",
      " 'A Intrepid Yarn of a Database Administrator And a Boat who must Outrace a Husband in Ancient India'\n",
      " 'A Amazing Drama of a Mad Scientist And a Composer who must Build a Husband in The Outback'\n",
      " 'A Emotional Documentary of a Dentist And a Woman who must Battle a Mad Scientist in Ancient China'\n",
      " 'A Lacklusture Yarn of a Sumo Wrestler And a Squirrel who must Redeem a Monkey in Soviet Georgia'\n",
      " 'A Action-Packed Saga of a Teacher And a Lumberjack who must Battle a Dentist in A Baloon'\n",
      " 'A Emotional Yarn of a Composer And a Man who must Escape a Butler in The Gulf of Mexico'\n",
      " 'A Insightful Tale of a Technical Writer And a Waitress who must Conquer a Monkey in Ancient India'\n",
      " 'A Unbelieveable Character Study of a Cat And a Database Administrator who must Pursue a Teacher in A Monastery'\n",
      " 'A Intrepid Drama of a Teacher And a Moose who must Kill a Car in California'\n",
      " 'A Epic Yarn of a Robot And a Explorer who must Challenge a Girl in A MySQL Convention'\n",
      " 'A Unbelieveable Documentary of a Database Administrator And a Frisbee who must Redeem a Mad Scientist in A Baloon Factory'\n",
      " 'A Taut Reflection of a Monkey And a Womanizer who must Chase a Moose in Nigeria'\n",
      " 'A Unbelieveable Drama of a Waitress And a Composer who must Sink a Mad Cow in Ancient Japan'\n",
      " 'A Fateful Character Study of a Boat And a Cat who must Find a Database Administrator in A Jet Boat'\n",
      " 'A Amazing Yarn of a Sumo Wrestler And a Boat who must Conquer a Waitress in New Orleans'\n",
      " 'A Thrilling Character Study of a Squirrel And a Lumberjack who must Face a Hunter in A MySQL Convention'\n",
      " 'A Boring Character Study of a Waitress And a Astronaut who must Fight a Crocodile in Ancient Japan'\n",
      " 'A Thoughtful Story of a Mad Scientist And a Waitress who must Confront a Forensic Psychologist in Soviet Georgia'\n",
      " 'A Taut Reflection of a Robot And a Squirrel who must Fight a Boat in Ancient Japan'\n",
      " 'A Astounding Character Study of a Robot And a Moose who must Overcome a Astronaut in Ancient India'\n",
      " 'A Awe-Inspiring Character Study of a Robot And a Sumo Wrestler who must Discover a Womanizer in A Shark Tank'\n",
      " 'A Fast-Paced Display of a Squirrel And a Explorer who must Outgun a Mad Scientist in Nigeria'\n",
      " 'A Beautiful Drama of a Robot And a Lumberjack who must Discover a Technical Writer in A Shark Tank'\n",
      " 'A Thoughtful Panorama of a Mad Cow And a Student who must Battle a Forensic Psychologist in Berlin'\n",
      " 'A Lacklusture Reflection of a Car And a Explorer who must Find a Monkey in A Baloon'\n",
      " 'A Awe-Inspiring Panorama of a Composer And a Secret Agent who must Sink a Composer in A Shark Tank'\n",
      " 'A Brilliant Drama of a Mad Cow And a Hunter who must Escape a Hunter in Berlin'\n",
      " 'A Astounding Panorama of a Monkey And a Secret Agent who must Defeat a Woman in The First Manned Space Station'\n",
      " 'A Awe-Inspiring Drama of a Astronaut And a Frisbee who must Conquer a Mad Scientist in Australia'\n",
      " 'A Astounding Story of a Pastry Chef And a Database Administrator who must Fight a Man in The Outback'\n",
      " 'A Touching Saga of a Crocodile And a Crocodile who must Discover a Technical Writer in Nigeria'\n",
      " 'A Beautiful Epistle of a Astronaut And a Student who must Confront a Monkey in An Abandoned Fun House'\n",
      " 'A Touching Tale of a Cat And a Pastry Chef who must Conquer a Pastry Chef in A MySQL Convention'\n",
      " 'A Thoughtful Documentary of a Boat And a Man who must Meet a Boat in An Abandoned Fun House'\n",
      " 'A Thoughtful Documentary of a Crocodile And a Robot who must Outrace a Womanizer in The Outback'\n",
      " 'A Emotional Display of a Man And a Dentist who must Challenge a Squirrel in Australia'\n",
      " 'A Boring Story of a Woman And a Moose who must Reach a Husband in A Shark Tank'\n",
      " 'A Emotional Story of a Squirrel And a Crocodile who must Succumb a Husband in The Sahara Desert'\n",
      " 'A Stunning Epistle of a Feminist And a A Shark who must Battle a Woman in An Abandoned Fun House'\n",
      " 'A Insightful Story of a Lumberjack And a Hunter who must Kill a Boy in Ancient Japan'\n",
      " 'A Fateful Tale of a Technical Writer And a Composer who must Pursue a Explorer in The Gulf of Mexico'\n",
      " 'A Awe-Inspiring Character Study of a Boy And a Feminist who must Sink a Crocodile in Ancient China'\n",
      " 'A Fast-Paced Story of a Pioneer And a Astronaut who must Reach a Boat in A Baloon'\n",
      " 'A Emotional Documentary of a Moose And a Car who must Redeem a Mad Cow in A Baloon Factory'\n",
      " 'A Fast-Paced Documentary of a Dog And a Teacher who must Find a Moose in A Manhattan Penthouse'\n",
      " 'A Lacklusture Yarn of a Dentist And a Butler who must Meet a Secret Agent in Ancient China'\n",
      " 'A Thoughtful Reflection of a Mad Scientist And a Moose who must Kill a Husband in A Baloon'\n",
      " 'A Fateful Epistle of a Butler And a Boy who must Redeem a Teacher in Berlin'\n",
      " 'A Awe-Inspiring Tale of a Astronaut And a Database Administrator who must Chase a Secret Agent in The Gulf of Mexico'\n",
      " 'A Fateful Reflection of a Car And a Teacher who must Confront a Waitress in A Monastery'\n",
      " 'A Emotional Yarn of a Teacher And a Girl who must Find a Teacher in A Baloon Factory'\n",
      " 'A Intrepid Yarn of a Monkey And a Boy who must Fight a Composer in A Manhattan Penthouse'\n",
      " 'A Awe-Inspiring Drama of a Girl And a Technical Writer who must Meet a Feminist in The Canadian Rockies'\n",
      " 'A Awe-Inspiring Documentary of a Technical Writer And a Husband who must Meet a Monkey in An Abandoned Fun House'\n",
      " 'A Fast-Paced Documentary of a Technical Writer And a Pastry Chef who must Escape a Moose in A U-Boat'\n",
      " 'A Insightful Saga of a Man And a Forensic Psychologist who must Discover a Mad Cow in A MySQL Convention'\n",
      " 'A Fast-Paced Tale of a Car And a Mad Scientist who must Kill a Womanizer in Ancient Japan'\n",
      " 'A Insightful Reflection of a Crocodile And a Sumo Wrestler who must Meet a Technical Writer in The Sahara Desert'\n",
      " 'A Astounding Story of a Cat And a Database Administrator who must Build a Technical Writer in New Orleans'\n",
      " 'A Action-Packed Panorama of a Mad Cow And a Composer who must Discover a Robot in A Baloon Factory'\n",
      " 'A Fateful Saga of a Cat And a Frisbee who must Kill a Girl in A Manhattan Penthouse'\n",
      " 'A Taut Saga of a Lumberjack And a Pastry Chef who must Escape a Sumo Wrestler in An Abandoned Fun House'\n",
      " 'A Emotional Tale of a Robot And a Sumo Wrestler who must Redeem a Pastry Chef in A Baloon Factory'\n",
      " 'A Unbelieveable Character Study of a Dog And a Mad Cow who must Kill a Monkey in Berlin'\n",
      " 'A Fast-Paced Panorama of a Lumberjack And a Database Administrator who must Defeat a Madman in A MySQL Convention'\n",
      " 'A Action-Packed Saga of a Moose And a Lumberjack who must Find a Woman in Berlin'\n",
      " 'A Fast-Paced Character Study of a Crocodile And a Lumberjack who must Build a Husband in An Abandoned Fun House'\n",
      " 'A Lacklusture Story of a Moose And a Monkey who must Confront a Butler in An Abandoned Amusement Park'\n",
      " 'A Thoughtful Drama of a Robot And a Womanizer who must Kill a Lumberjack in A Baloon'\n",
      " 'A Awe-Inspiring Character Study of a Astronaut And a Forensic Psychologist who must Challenge a Madman in Ancient India'\n",
      " 'A Thrilling Saga of a Monkey And a Frisbee who must Escape a Explorer in The Outback'\n",
      " 'A Fateful Tale of a Mad Cow And a Crocodile who must Meet a Husband in New Orleans'\n",
      " 'A Fast-Paced Story of a Crocodile And a A Shark who must Sink a Pioneer in Berlin'\n",
      " 'A Fanciful Saga of a Student And a Girl who must Find a Butler in Ancient Japan'\n",
      " 'A Fateful Yarn of a Secret Agent And a Feminist who must Find a Feminist in A Jet Boat'\n",
      " 'A Fateful Character Study of a Waitress And a Technical Writer who must Battle a Hunter in A Baloon'\n",
      " 'A Stunning Panorama of a Crocodile And a Womanizer who must Meet a Feminist in The Canadian Rockies'\n",
      " 'A Boring Tale of a Frisbee And a Crocodile who must Vanquish a Moose in An Abandoned Mine Shaft'\n",
      " 'A Emotional Character Study of a Frisbee And a Mad Scientist who must Build a Madman in California'\n",
      " 'A Emotional Drama of a Sumo Wrestler And a Dentist who must Confront a Sumo Wrestler in A Baloon'\n",
      " 'A Stunning Epistle of a Sumo Wrestler And a Man who must Challenge a Waitress in Ancient India'\n",
      " 'A Thrilling Documentary of a Technical Writer And a A Shark who must Face a Pioneer in A Shark Tank'\n",
      " 'A Epic Display of a Dog And a Boat who must Succumb a Mad Scientist in An Abandoned Mine Shaft'\n",
      " 'A Stunning Saga of a Butler And a Woman who must Pursue a Explorer in Australia'\n",
      " 'A Epic Drama of a Mad Scientist And a Explorer who must Succumb a Waitress in An Abandoned Fun House'\n",
      " 'A Fast-Paced Tale of a A Shark And a Student who must Meet a Crocodile in Ancient China'\n",
      " 'A Stunning Reflection of a Sumo Wrestler And a Explorer who must Sink a Frisbee in A MySQL Convention'\n",
      " 'A Amazing Saga of a Moose And a Pastry Chef who must Escape a Butler in Australia'\n",
      " 'A Emotional Epistle of a Moose And a Composer who must Fight a Technical Writer in The Outback'\n",
      " 'A Fateful Character Study of a Husband And a Dog who must Find a Feminist in Ancient India'\n",
      " 'A Intrepid Character Study of a Robot And a Monkey who must Reach a Secret Agent in An Abandoned Amusement Park'\n",
      " 'A Taut Reflection of a Secret Agent And a Man who must Redeem a Explorer in A MySQL Convention'\n",
      " 'A Amazing Character Study of a Teacher And a Database Administrator who must Defeat a Waitress in A Jet Boat'\n",
      " 'A Intrepid Drama of a Teacher And a Butler who must Build a Pastry Chef in Berlin'\n",
      " 'A Lacklusture Saga of a Mad Cow And a Mad Scientist who must Sink a Cat in A MySQL Convention'\n",
      " 'A Thrilling Documentary of a Husband And a Feminist who must Face a Mad Scientist in Ancient China'\n",
      " 'A Insightful Panorama of a Woman And a Feminist who must Defeat a Forensic Psychologist in Berlin'\n",
      " 'A Boring Epistle of a Sumo Wrestler And a Woman who must Escape a Man in The Canadian Rockies'\n",
      " 'A Fateful Display of a Lumberjack And a Girl who must Succumb a Mad Cow in A Manhattan Penthouse'\n",
      " 'A Lacklusture Panorama of a A Shark And a Pioneer who must Confront a Student in The First Manned Space Station'\n",
      " 'A Boring Character Study of a Car And a Husband who must Outgun a Frisbee in The First Manned Space Station'\n",
      " 'A Amazing Documentary of a Man And a Husband who must Confront a Squirrel in A MySQL Convention'\n",
      " 'A Taut Character Study of a Explorer And a Mad Cow who must Battle a Hunter in Ancient China'\n",
      " 'A Fast-Paced Display of a Squirrel And a Composer who must Fight a Forensic Psychologist in A Jet Boat'\n",
      " 'A Fast-Paced Display of a Robot And a Butler who must Defeat a Butler in A MySQL Convention'\n",
      " 'A Amazing Documentary of a Car And a Robot who must Escape a Lumberjack in An Abandoned Amusement Park'\n",
      " 'A Thrilling Panorama of a Pastry Chef And a Secret Agent who must Overcome a Student in A Manhattan Penthouse'\n",
      " 'A Lacklusture Drama of a Forensic Psychologist And a Car who must Redeem a Man in A Manhattan Penthouse'\n",
      " 'A Brilliant Display of a Frisbee And a Mad Scientist who must Succumb a Robot in Ancient China'\n",
      " 'A Fateful Display of a Pioneer And a Hunter who must Defeat a Husband in An Abandoned Mine Shaft'\n",
      " 'A Lacklusture Epistle of a Dentist And a Technical Writer who must Find a Dog in A Monastery'\n",
      " 'A Lacklusture Epistle of a Sumo Wrestler And a Squirrel who must Defeat a Explorer in California'\n",
      " 'A Brilliant Yarn of a Cat And a Car who must Confront a Explorer in Ancient Japan'\n",
      " 'A Taut Story of a Waitress And a Man who must Face a Car in A Baloon Factory'\n",
      " 'A Taut Saga of a Crocodile And a Boat who must Conquer a Hunter in A Shark Tank'\n",
      " 'A Taut Story of a Dog And a Explorer who must Find a Astronaut in Berlin'\n",
      " 'A Fanciful Story of a Technical Writer And a Squirrel who must Defeat a Dog in The Gulf of Mexico'\n",
      " 'A Thrilling Documentary of a Feminist And a Feminist who must Confront a Feminist in A Baloon'\n",
      " 'A Fast-Paced Display of a Pastry Chef And a Dog who must Kill a Teacher in Berlin'\n",
      " 'A Lacklusture Panorama of a Woman And a Frisbee who must Chase a Crocodile in A Jet Boat'\n",
      " 'A Touching Display of a Pioneer And a Butler who must Chase a Car in California'\n",
      " 'A Fast-Paced Tale of a Car And a Dog who must Outgun a A Shark in Australia'\n",
      " 'A Unbelieveable Tale of a Woman And a Lumberjack who must Fight a Frisbee in A U-Boat'\n",
      " 'A Insightful Character Study of a Girl And a Car who must Pursue a Mad Cow in A Shark Tank'\n",
      " 'A Beautiful Display of a Cat And a Pastry Chef who must Outrace a Mad Cow in A Jet Boat'\n",
      " 'A Fast-Paced Yarn of a Composer And a Frisbee who must Face a Moose in Nigeria'\n",
      " 'A Stunning Character Study of a Car And a Girl who must Succumb a Car in A MySQL Convention'\n",
      " 'A Touching Epistle of a Crocodile And a Teacher who must Build a Forensic Psychologist in A MySQL Convention'\n",
      " 'A Fanciful Drama of a Frisbee And a Dog who must Fight a Madman in A Jet Boat'\n",
      " 'A Boring Epistle of a Crocodile And a Lumberjack who must Outgun a Moose in Ancient China'\n",
      " 'A Intrepid Drama of a Astronaut And a Crocodile who must Find a Boat in Soviet Georgia'\n",
      " 'A Insightful Drama of a Feminist And a A Shark who must Vanquish a Boat in A Shark Tank'\n",
      " 'A Lacklusture Saga of a Boy And a Cat who must Sink a Dentist in An Abandoned Mine Shaft'\n",
      " 'A Boring Panorama of a Secret Agent And a Girl who must Sink a Waitress in The Outback'\n",
      " 'A Awe-Inspiring Panorama of a Lumberjack And a Waitress who must Defeat a Crocodile in An Abandoned Amusement Park'\n",
      " 'A Awe-Inspiring Yarn of a Womanizer And a Explorer who must Fight a Woman in The First Manned Space Station'\n",
      " 'A Brilliant Character Study of a Secret Agent And a Man who must Find a Cat in The Gulf of Mexico'\n",
      " 'A Astounding Character Study of a Hunter And a Waitress who must Sink a Man in New Orleans'\n",
      " 'A Insightful Character Study of a Waitress And a Crocodile who must Sink a Waitress in The Gulf of Mexico'\n",
      " 'A Touching Reflection of a Crocodile And a Dog who must Chase a Hunter in An Abandoned Fun House'\n",
      " 'A Amazing Display of a Car And a Monkey who must Fight a Teacher in Soviet Georgia'\n",
      " 'A Touching Story of a Dentist And a Database Administrator who must Conquer a Astronaut in An Abandoned Amusement Park'\n",
      " 'A Emotional Character Study of a Car And a Girl who must Face a Composer in A U-Boat'\n",
      " 'A Touching Panorama of a Lumberjack And a Frisbee who must Build a Dog in Australia'\n",
      " 'A Emotional Panorama of a Lumberjack And a Hunter who must Meet a Girl in A Shark Tank'\n",
      " 'A Beautiful Display of a Mad Cow And a Dog who must Redeem a Waitress in An Abandoned Amusement Park'\n",
      " 'A Epic Drama of a Lumberjack And a Explorer who must Confront a Hunter in A Baloon Factory'\n",
      " 'A Beautiful Epistle of a Madman And a Butler who must Face a Crocodile in A Manhattan Penthouse'\n",
      " 'A Awe-Inspiring Reflection of a Astronaut And a A Shark who must Defeat a Forensic Psychologist in California'\n",
      " 'A Action-Packed Saga of a Pastry Chef And a Explorer who must Discover a A Shark in The Outback'\n",
      " 'A Beautiful Saga of a Lumberjack And a Teacher who must Build a Technical Writer in An Abandoned Fun House'\n",
      " 'A Emotional Epistle of a Pioneer And a Crocodile who must Battle a Man in A Manhattan Penthouse'\n",
      " 'A Insightful Panorama of a Crocodile And a Boat who must Conquer a Sumo Wrestler in A MySQL Convention'\n",
      " 'A Taut Documentary of a Car And a Robot who must Conquer a Boy in The Canadian Rockies'\n",
      " 'A Unbelieveable Epistle of a Sumo Wrestler And a Hunter who must Chase a Forensic Psychologist in A Baloon'\n",
      " 'A Brilliant Character Study of a Frisbee And a Sumo Wrestler who must Confront a Woman in The Gulf of Mexico'\n",
      " 'A Beautiful Tale of a Frisbee And a Moose who must Vanquish a Dog in An Abandoned Amusement Park'\n",
      " 'A Lacklusture Panorama of a Dentist And a Forensic Psychologist who must Outrace a Pioneer in A U-Boat'\n",
      " 'A Fast-Paced Display of a Lumberjack And a Mad Scientist who must Succumb a Sumo Wrestler in The Sahara Desert'\n",
      " 'A Amazing Epistle of a Girl And a Woman who must Outrace a Waitress in Soviet Georgia'\n",
      " 'A Awe-Inspiring Drama of a Dog And a Man who must Escape a Robot in A Shark Tank'\n",
      " 'A Fateful Yarn of a Husband And a Dog who must Battle a Waitress in A Jet Boat'\n",
      " 'A Action-Packed Panorama of a Technical Writer And a Man who must Build a Forensic Psychologist in A Manhattan Penthouse'\n",
      " 'A Action-Packed Saga of a Forensic Psychologist And a Woman who must Battle a Womanizer in Soviet Georgia'\n",
      " 'A Taut Display of a Pioneer And a Man who must Reach a Girl in The Gulf of Mexico'\n",
      " 'A Action-Packed Panorama of a Mad Scientist And a Robot who must Challenge a Student in Nigeria'\n",
      " 'A Touching Story of a Crocodile And a Girl who must Sink a Man in The Gulf of Mexico'\n",
      " 'A Awe-Inspiring Yarn of a Student And a Teacher who must Fight a Teacher in An Abandoned Amusement Park'\n",
      " 'A Fateful Yarn of a Composer And a Monkey who must Vanquish a Womanizer in The First Manned Space Station'\n",
      " 'A Touching Documentary of a Madman And a Mad Scientist who must Outrace a Feminist in An Abandoned Mine Shaft'\n",
      " 'A Emotional Drama of a Husband And a Lumberjack who must Build a Cat in Ancient India'\n",
      " 'A Insightful Saga of a Astronaut And a Explorer who must Pursue a Mad Scientist in A U-Boat'\n",
      " 'A Thrilling Epistle of a Boat And a Secret Agent who must Face a Boy in A Baloon'\n",
      " 'A Boring Display of a Man And a Dog who must Redeem a Girl in A U-Boat'\n",
      " 'A Brilliant Reflection of a Feminist And a Dog who must Fight a Boy in A Baloon Factory'\n",
      " 'A Unbelieveable Panorama of a Feminist And a Sumo Wrestler who must Challenge a Technical Writer in Ancient China'\n",
      " 'A Thoughtful Epistle of a Madman And a Astronaut who must Overcome a Monkey in A Shark Tank'\n",
      " 'A Thoughtful Story of a Moose And a Husband who must Face a Secret Agent in The Sahara Desert'\n",
      " 'A Awe-Inspiring Documentary of a Womanizer And a Pastry Chef who must Kill a Lumberjack in Berlin'\n",
      " 'A Emotional Display of a Crocodile And a Husband who must Reach a Man in Ancient Japan'\n",
      " 'A Boring Story of a Butler And a Astronaut who must Outrace a Pioneer in Australia'\n",
      " 'A Fateful Display of a Monkey And a Car who must Sink a Husband in A MySQL Convention'\n",
      " 'A Awe-Inspiring Documentary of a Moose And a Madman who must Meet a Dog in An Abandoned Mine Shaft'\n",
      " 'A Touching Reflection of a Database Administrator And a Madman who must Build a Lumberjack in Nigeria'\n",
      " 'A Emotional Character Study of a Student And a Explorer who must Discover a Frisbee in The First Manned Space Station'\n",
      " 'A Amazing Epistle of a Squirrel And a Lumberjack who must Succumb a Database Administrator in A U-Boat'\n",
      " 'A Thrilling Character Study of a Robot And a Squirrel who must Face a Dog in Ancient India'\n",
      " 'A Fast-Paced Drama of a Pioneer And a Mad Cow who must Challenge a Madman in Ancient Japan'\n",
      " 'A Brilliant Display of a Composer And a Cat who must Succumb a A Shark in Ancient India'\n",
      " 'A Touching Reflection of a Man And a Monkey who must Pursue a Womanizer in A MySQL Convention'\n",
      " 'A Unbelieveable Story of a Boy And a Mad Cow who must Challenge a Database Administrator in The Sahara Desert'\n",
      " 'A Emotional Saga of a Car And a Madman who must Discover a Pioneer in California'\n",
      " 'A Boring Story of a Teacher And a Student who must Outgun a Cat in An Abandoned Mine Shaft'\n",
      " 'A Fanciful Character Study of a Lumberjack And a Car who must Discover a Cat in An Abandoned Amusement Park'\n",
      " 'A Astounding Panorama of a Husband And a Sumo Wrestler who must Pursue a Boat in Ancient India'\n",
      " 'A Fanciful Drama of a Monkey And a Feminist who must Sink a Man in Berlin'\n",
      " 'A Lacklusture Panorama of a Forensic Psychologist And a Woman who must Kill a Explorer in Ancient Japan'\n",
      " 'A Thrilling Epistle of a Moose And a Boy who must Meet a Database Administrator in A Monastery'\n",
      " 'A Stunning Tale of a Man And a Monkey who must Chase a Student in New Orleans'\n",
      " 'A Boring Drama of a Man And a Forensic Psychologist who must Face a Frisbee in Ancient India'\n",
      " 'A Touching Display of a Frisbee And a Boat who must Kill a Girl in A MySQL Convention'\n",
      " 'A Emotional Display of a Husband And a A Shark who must Succumb a Madman in A Manhattan Penthouse'\n",
      " 'A Amazing Character Study of a Robot And a Student who must Chase a Robot in Australia'\n",
      " 'A Intrepid Yarn of a Explorer And a Pastry Chef who must Pursue a Mad Cow in A U-Boat'\n",
      " 'A Unbelieveable Display of a Crocodile And a Feminist who must Overcome a Moose in An Abandoned Amusement Park'\n",
      " 'A Taut Documentary of a Waitress And a Mad Scientist who must Battle a Technical Writer in New Orleans'\n",
      " 'A Taut Epistle of a Monkey And a Sumo Wrestler who must Vanquish a A Shark in A Baloon Factory'\n",
      " 'A Fast-Paced Reflection of a Cat And a Mad Cow who must Fight a Car in The Sahara Desert'\n",
      " 'A Amazing Documentary of a Woman And a Astronaut who must Outrace a Teacher in An Abandoned Fun House'\n",
      " 'A Fanciful Reflection of a Boy And a Butler who must Pursue a Woman in Berlin'\n",
      " 'A Fateful Documentary of a Dog And a Hunter who must Pursue a Teacher in An Abandoned Amusement Park'\n",
      " 'A Touching Display of a Explorer And a Lumberjack who must Fight a Forensic Psychologist in A Shark Tank'\n",
      " 'A Fanciful Character Study of a Secret Agent And a Mad Scientist who must Reach a Teacher in Australia'\n",
      " 'A Thrilling Display of a Husband And a Butler who must Reach a Pastry Chef in California'\n",
      " 'A Astounding Documentary of a Astronaut And a Boy who must Outrace a Sumo Wrestler in Berlin'\n",
      " 'A Epic Story of a Lumberjack And a Monkey who must Confront a Pioneer in A MySQL Convention'\n",
      " 'A Fast-Paced Saga of a Girl And a Forensic Psychologist who must Redeem a Girl in Nigeria'\n",
      " 'A Intrepid Character Study of a Squirrel And a A Shark who must Kill a Lumberjack in California'\n",
      " 'A Brilliant Reflection of a Man And a Woman who must Conquer a Pioneer in A MySQL Convention'\n",
      " 'A Action-Packed Character Study of a Astronaut And a Explorer who must Reach a Monkey in A MySQL Convention'\n",
      " 'A Lacklusture Tale of a Pastry Chef And a Technical Writer who must Confront a Crocodile in An Abandoned Amusement Park'\n",
      " 'A Unbelieveable Display of a Mad Scientist And a Mad Scientist who must Outgun a Mad Cow in Ancient Japan'\n",
      " 'A Insightful Epistle of a Mad Scientist And a Explorer who must Challenge a Cat in The Sahara Desert'\n",
      " 'A Lacklusture Display of a Girl And a Astronaut who must Succumb a Student in Australia'\n",
      " 'A Lacklusture Display of a Butler And a Man who must Sink a Explorer in Soviet Georgia'\n",
      " 'A Boring Yarn of a Pioneer And a Feminist who must Redeem a Cat in An Abandoned Amusement Park'\n",
      " 'A Awe-Inspiring Documentary of a Robot And a Mad Scientist who must Reach a Database Administrator in A Shark Tank'\n",
      " 'A Emotional Panorama of a Dentist And a Crocodile who must Meet a Boy in Berlin'\n",
      " 'A Fateful Tale of a Database Administrator And a Squirrel who must Discover a Student in Soviet Georgia'\n",
      " 'A Thoughtful Documentary of a Dog And a Man who must Sink a Man in A Shark Tank'\n",
      " 'A Amazing Panorama of a Pioneer And a Student who must Overcome a Mad Scientist in A Manhattan Penthouse'\n",
      " 'A Awe-Inspiring Yarn of a Hunter And a Feminist who must Challenge a Dentist in The Outback'\n",
      " 'A Boring Tale of a Dog And a Woman who must Meet a Dentist in California'\n",
      " 'A Epic Tale of a Squirrel And a Hunter who must Conquer a Boy in An Abandoned Mine Shaft'\n",
      " 'A Intrepid Drama of a Moose And a Boat who must Kill a Explorer in A Manhattan Penthouse'\n",
      " 'A Intrepid Epistle of a Woman And a Forensic Psychologist who must Succumb a Astronaut in A Manhattan Penthouse'\n",
      " 'A Beautiful Saga of a Feminist And a Composer who must Challenge a Moose in Berlin'\n",
      " 'A Insightful Panorama of a Teacher And a Teacher who must Overcome a Mad Cow in An Abandoned Fun House'\n",
      " 'A Insightful Drama of a A Shark And a Pioneer who must Find a Womanizer in The Outback'\n",
      " 'A Boring Drama of a Teacher And a Sumo Wrestler who must Challenge a Secret Agent in The Canadian Rockies'\n",
      " 'A Action-Packed Display of a Mad Cow And a Astronaut who must Kill a Car in Ancient India'\n",
      " 'A Astounding Yarn of a Pioneer And a Crocodile who must Defeat a A Shark in The Outback'\n",
      " 'A Taut Reflection of a Teacher And a Database Administrator who must Chase a Madman in The Sahara Desert'\n",
      " 'A Awe-Inspiring Reflection of a Cat And a Pioneer who must Escape a Hunter in Ancient China'\n",
      " 'A Fanciful Story of a Database Administrator And a Womanizer who must Fight a Database Administrator in Ancient China'\n",
      " 'A Fast-Paced Yarn of a Dog And a Frisbee who must Conquer a Hunter in Nigeria'\n",
      " 'A Unbelieveable Documentary of a Dentist And a Technical Writer who must Build a Womanizer in Nigeria'\n",
      " 'A Emotional Yarn of a Boat And a Crocodile who must Meet a Moose in Soviet Georgia'\n",
      " 'A Action-Packed Tale of a Student And a Waitress who must Conquer a Lumberjack in An Abandoned Mine Shaft'\n",
      " 'A Fast-Paced Documentary of a Car And a Butler who must Find a Frisbee in A Jet Boat'\n",
      " 'A Fanciful Story of a Man And a Sumo Wrestler who must Outrace a Student in A Monastery'\n",
      " 'A Intrepid Drama of a Butler And a Lumberjack who must Challenge a Database Administrator in A Manhattan Penthouse'\n",
      " 'A Lacklusture Tale of a Butler And a Husband who must Face a Boy in Ancient China'\n",
      " 'A Intrepid Story of a Pastry Chef And a Database Administrator who must Kill a Feminist in A MySQL Convention'\n",
      " 'A Intrepid Story of a Dentist And a Hunter who must Confront a Monkey in Ancient Japan'\n",
      " 'A Awe-Inspiring Epistle of a Teacher And a Feminist who must Confront a Pioneer in Ancient Japan'\n",
      " 'A Beautiful Story of a Monkey And a Sumo Wrestler who must Conquer a A Shark in A MySQL Convention'\n",
      " 'A Brilliant Panorama of a Boat And a Astronaut who must Challenge a Teacher in A Manhattan Penthouse'\n",
      " 'A Touching Saga of a Madman And a Forensic Psychologist who must Build a Sumo Wrestler in An Abandoned Mine Shaft'\n",
      " 'A Astounding Character Study of a Womanizer And a Hunter who must Escape a Robot in A Monastery'\n",
      " 'A Unbelieveable Saga of a Forensic Psychologist And a Student who must Face a Squirrel in The First Manned Space Station'\n",
      " 'A Awe-Inspiring Drama of a Secret Agent And a Hunter who must Fight a Moose in Nigeria'\n",
      " 'A Lacklusture Display of a Robot And a Girl who must Defeat a Sumo Wrestler in A MySQL Convention'\n",
      " 'A Fast-Paced Drama of a Squirrel And a Robot who must Succumb a Technical Writer in A Manhattan Penthouse'\n",
      " 'A Insightful Documentary of a Waitress And a Butler who must Vanquish a Composer in Australia'\n",
      " 'A Unbelieveable Documentary of a Teacher And a Monkey who must Defeat a Explorer in A U-Boat'\n",
      " 'A Boring Panorama of a Woman And a Madman who must Overcome a Butler in A U-Boat'\n",
      " 'A Awe-Inspiring Character Study of a Waitress And a Car who must Pursue a Mad Scientist in The First Manned Space Station'\n",
      " 'A Brilliant Saga of a Boat And a Mad Scientist who must Meet a Moose in Ancient India'\n",
      " 'A Action-Packed Reflection of a Composer And a Mad Scientist who must Face a Pioneer in A MySQL Convention'\n",
      " 'A Action-Packed Yarn of a Secret Agent And a Technical Writer who must Battle a Sumo Wrestler in The First Manned Space Station'\n",
      " 'A Stunning Epistle of a Dentist And a Dog who must Kill a Madman in Ancient China'\n",
      " 'A Unbelieveable Tale of a Pioneer And a Astronaut who must Overcome a Robot in An Abandoned Amusement Park'\n",
      " 'A Thrilling Drama of a Madman And a Dentist who must Conquer a Boy in The Outback'\n",
      " 'A Intrepid Reflection of a Technical Writer And a Hunter who must Defeat a Sumo Wrestler in A Monastery'\n",
      " 'A Emotional Saga of a Crocodile And a Sumo Wrestler who must Discover a Mad Cow in New Orleans'\n",
      " 'A Awe-Inspiring Panorama of a Robot And a Boat who must Overcome a Feminist in A U-Boat'\n",
      " 'A Amazing Display of a Robot And a Astronaut who must Fight a Womanizer in Berlin'\n",
      " 'A Unbelieveable Yarn of a Boat And a Database Administrator who must Meet a Boy in The First Manned Space Station'\n",
      " 'A Touching Drama of a Teacher And a Cat who must Challenge a Technical Writer in A U-Boat'\n",
      " 'A Fateful Yarn of a Composer And a Man who must Face a Boy in The Canadian Rockies'\n",
      " 'A Fateful Reflection of a Waitress And a Boat who must Discover a Sumo Wrestler in Ancient China'\n",
      " 'A Intrepid Panorama of a Mad Scientist And a Boy who must Redeem a Boy in A Monastery']\n",
      "[2006]\n",
      "[1]\n",
      "[6 3 7 5 4]\n",
      "[0.99 4.99 2.99]\n",
      "[ 86  48  50 117 130 169  62  54 114  63 126 136 150  94  46 180  82  57\n",
      " 113  79 129  85  92 181  74 179  91 168 119 153 147 127 121  68  99 148\n",
      " 137 170  83 108 118 162 182  75 173  87  65  90 122 160  89 175 106  73\n",
      " 151 100  53  77 142  93 163 103  61  71 102  76  98  72 176 123  56 161\n",
      "  60 133 125  67  52 120 167  70 135 112 183 110 152  51 146  66 185 124\n",
      " 107 101 132 143 165  81 164  58  95 139  55 149 109  59 172 115 184 166\n",
      "  64 104  69  84 144  88 141  47  49 177 154 159 178  96 116 171 140 155\n",
      " 158 174 138  97 131 156  80 145 111 128 157  78 105 134]\n",
      "[20.99 12.99 18.99 26.99 22.99 17.99 28.99 15.99 21.99 24.99 16.99 23.99\n",
      " 10.99 14.99 27.99  9.99 19.99 11.99 29.99 25.99 13.99]\n",
      "['PG' 'G' 'NC-17' 'PG-13' 'R']\n",
      "['Deleted Scenes,Behind the Scenes' 'Trailers,Deleted Scenes'\n",
      " 'Commentaries,Behind the Scenes' 'Deleted Scenes' 'Trailers'\n",
      " 'Commentaries,Deleted Scenes' 'Trailers,Deleted Scenes,Behind the Scenes'\n",
      " 'Trailers,Commentaries,Behind the Scenes' 'Trailers,Commentaries'\n",
      " 'Trailers,Behind the Scenes'\n",
      " 'Commentaries,Deleted Scenes,Behind the Scenes'\n",
      " 'Trailers,Commentaries,Deleted Scenes'\n",
      " 'Trailers,Commentaries,Deleted Scenes,Behind the Scenes'\n",
      " 'Behind the Scenes' 'Commentaries']\n",
      "['2006-02-15 05:03:42']\n"
     ]
    }
   ],
   "source": [
    "fn.check_unique(film, columns) #Parece Todo Bien"
   ]
  },
  {
   "cell_type": "code",
   "execution_count": 50,
   "id": "914f702a",
   "metadata": {},
   "outputs": [
    {
     "name": "stdout",
     "output_type": "stream",
     "text": [
      "1      1\n",
      "672    1\n",
      "659    1\n",
      "660    1\n",
      "661    1\n",
      "Name: film_id, dtype: int64\n",
      "ACADEMY DINOSAUR    1\n",
      "PERFECT GROOVE      1\n",
      "PARK CITIZEN        1\n",
      "PARTY KNOCK         1\n",
      "PAST SUICIDES       1\n",
      "Name: title, dtype: int64\n",
      "A Epic Drama of a Feminist And a Mad Scientist who must Battle a Teacher in The Canadian Rockies                   1\n",
      "A Thrilling Yarn of a Dog And a Dog who must Build a Husband in A Baloon                                           1\n",
      "A Taut Epistle of a Sumo Wrestler And a Girl who must Face a Husband in Ancient Japan                              1\n",
      "A Fateful Display of a Technical Writer And a Butler who must Battle a Sumo Wrestler in An Abandoned Mine Shaft    1\n",
      "A Intrepid Tale of a Madman And a Astronaut who must Challenge a Hunter in A Monastery                             1\n",
      "Name: description, dtype: int64\n",
      "2006    1000\n",
      "Name: release_year, dtype: int64\n",
      "1    1000\n",
      "Name: language_id, dtype: int64\n",
      "6    212\n",
      "3    203\n",
      "4    203\n",
      "7    191\n",
      "5    191\n",
      "Name: rental_duration, dtype: int64\n",
      "0.99    341\n",
      "4.99    336\n",
      "2.99    323\n",
      "Name: rental_rate, dtype: int64\n",
      "85     17\n",
      "179    13\n",
      "112    13\n",
      "84     13\n",
      "73     12\n",
      "Name: length, dtype: int64\n",
      "20.99    57\n",
      "22.99    55\n",
      "12.99    55\n",
      "21.99    55\n",
      "13.99    55\n",
      "Name: replacement_cost, dtype: int64\n",
      "PG-13    223\n",
      "NC-17    210\n",
      "R        195\n",
      "PG       194\n",
      "G        178\n",
      "Name: rating, dtype: int64\n",
      "Trailers,Commentaries,Behind the Scenes    79\n",
      "Trailers                                   72\n",
      "Trailers,Commentaries                      72\n",
      "Trailers,Behind the Scenes                 72\n",
      "Deleted Scenes,Behind the Scenes           71\n",
      "Name: special_features, dtype: int64\n",
      "2006-02-15 05:03:42    1000\n",
      "Name: last_update, dtype: int64\n"
     ]
    }
   ],
   "source": [
    "fn.check_value(film, columns) #Parece todo Correcto"
   ]
  },
  {
   "cell_type": "markdown",
   "id": "25cc8935",
   "metadata": {},
   "source": [
    "### Duplicados"
   ]
  },
  {
   "cell_type": "code",
   "execution_count": 53,
   "id": "50a50926",
   "metadata": {},
   "outputs": [
    {
     "data": {
      "text/plain": [
       "False"
      ]
     },
     "execution_count": 53,
     "metadata": {},
     "output_type": "execute_result"
    }
   ],
   "source": [
    "film.duplicated().any() #No hay duplicados"
   ]
  },
  {
   "cell_type": "code",
   "execution_count": 54,
   "id": "72646450",
   "metadata": {},
   "outputs": [
    {
     "data": {
      "text/plain": [
       "False"
      ]
     },
     "execution_count": 54,
     "metadata": {},
     "output_type": "execute_result"
    }
   ],
   "source": [
    "film[['title', 'description', 'release_year', 'language_id',\n",
    "          'rental_duration', 'rental_rate', 'length', 'replacement_cost',\n",
    "          'rating', 'special_features', 'last_update']].duplicated().any() #No hay duplicados"
   ]
  },
  {
   "cell_type": "markdown",
   "id": "0ecc603f",
   "metadata": {},
   "source": [
    "### Cambio del tipo de dato, optimizacion de memoria"
   ]
  },
  {
   "cell_type": "code",
   "execution_count": 55,
   "id": "dd3f2382",
   "metadata": {},
   "outputs": [
    {
     "name": "stdout",
     "output_type": "stream",
     "text": [
      "<class 'pandas.core.frame.DataFrame'>\n",
      "RangeIndex: 1000 entries, 0 to 999\n",
      "Data columns (total 12 columns):\n",
      " #   Column            Non-Null Count  Dtype  \n",
      "---  ------            --------------  -----  \n",
      " 0   film_id           1000 non-null   int64  \n",
      " 1   title             1000 non-null   object \n",
      " 2   description       1000 non-null   object \n",
      " 3   release_year      1000 non-null   int64  \n",
      " 4   language_id       1000 non-null   int64  \n",
      " 5   rental_duration   1000 non-null   int64  \n",
      " 6   rental_rate       1000 non-null   float64\n",
      " 7   length            1000 non-null   int64  \n",
      " 8   replacement_cost  1000 non-null   float64\n",
      " 9   rating            1000 non-null   object \n",
      " 10  special_features  1000 non-null   object \n",
      " 11  last_update       1000 non-null   object \n",
      "dtypes: float64(2), int64(5), object(5)\n",
      "memory usage: 487.5 KB\n"
     ]
    }
   ],
   "source": [
    "film.info(memory_usage='deep')"
   ]
  },
  {
   "cell_type": "code",
   "execution_count": 56,
   "id": "c1785e4a",
   "metadata": {},
   "outputs": [
    {
     "name": "stdout",
     "output_type": "stream",
     "text": [
      "<class 'pandas.core.frame.DataFrame'>\n",
      "RangeIndex: 1000 entries, 0 to 999\n",
      "Data columns (total 12 columns):\n",
      " #   Column            Non-Null Count  Dtype         \n",
      "---  ------            --------------  -----         \n",
      " 0   film_id           1000 non-null   int64         \n",
      " 1   title             1000 non-null   object        \n",
      " 2   description       1000 non-null   object        \n",
      " 3   release_year      1000 non-null   int64         \n",
      " 4   language_id       1000 non-null   int64         \n",
      " 5   rental_duration   1000 non-null   int64         \n",
      " 6   rental_rate       1000 non-null   float64       \n",
      " 7   length            1000 non-null   int64         \n",
      " 8   replacement_cost  1000 non-null   float64       \n",
      " 9   rating            1000 non-null   object        \n",
      " 10  special_features  1000 non-null   object        \n",
      " 11  last_update       1000 non-null   datetime64[ns]\n",
      "dtypes: datetime64[ns](1), float64(2), int64(5), object(4)\n",
      "memory usage: 421.1 KB\n"
     ]
    }
   ],
   "source": [
    "film.last_update=pd.to_datetime(film.last_update, format='%Y-%m-%d')\n",
    "\n",
    "film.info(memory_usage='deep')"
   ]
  },
  {
   "cell_type": "code",
   "execution_count": 57,
   "id": "331db909",
   "metadata": {},
   "outputs": [
    {
     "name": "stdout",
     "output_type": "stream",
     "text": [
      "<class 'pandas.core.frame.DataFrame'>\n",
      "RangeIndex: 1000 entries, 0 to 999\n",
      "Data columns (total 12 columns):\n",
      " #   Column            Non-Null Count  Dtype         \n",
      "---  ------            --------------  -----         \n",
      " 0   film_id           1000 non-null   int64         \n",
      " 1   title             1000 non-null   category      \n",
      " 2   description       1000 non-null   category      \n",
      " 3   release_year      1000 non-null   int64         \n",
      " 4   language_id       1000 non-null   int64         \n",
      " 5   rental_duration   1000 non-null   int64         \n",
      " 6   rental_rate       1000 non-null   float64       \n",
      " 7   length            1000 non-null   int64         \n",
      " 8   replacement_cost  1000 non-null   float64       \n",
      " 9   rating            1000 non-null   category      \n",
      " 10  special_features  1000 non-null   category      \n",
      " 11  last_update       1000 non-null   datetime64[ns]\n",
      "dtypes: category(4), datetime64[ns](1), float64(2), int64(5)\n",
      "memory usage: 352.2 KB\n"
     ]
    }
   ],
   "source": [
    "for c in film.select_dtypes('object').columns:\n",
    "    \n",
    "    film[c]=film[c].astype('category')\n",
    "    \n",
    "film.info(memory_usage='deep')"
   ]
  },
  {
   "cell_type": "code",
   "execution_count": 58,
   "id": "685bdb4c",
   "metadata": {},
   "outputs": [
    {
     "name": "stdout",
     "output_type": "stream",
     "text": [
      "<class 'pandas.core.frame.DataFrame'>\n",
      "RangeIndex: 1000 entries, 0 to 999\n",
      "Data columns (total 12 columns):\n",
      " #   Column            Non-Null Count  Dtype         \n",
      "---  ------            --------------  -----         \n",
      " 0   film_id           1000 non-null   int16         \n",
      " 1   title             1000 non-null   category      \n",
      " 2   description       1000 non-null   category      \n",
      " 3   release_year      1000 non-null   int16         \n",
      " 4   language_id       1000 non-null   int8          \n",
      " 5   rental_duration   1000 non-null   int8          \n",
      " 6   rental_rate       1000 non-null   float64       \n",
      " 7   length            1000 non-null   int16         \n",
      " 8   replacement_cost  1000 non-null   float64       \n",
      " 9   rating            1000 non-null   category      \n",
      " 10  special_features  1000 non-null   category      \n",
      " 11  last_update       1000 non-null   datetime64[ns]\n",
      "dtypes: category(4), datetime64[ns](1), float64(2), int16(3), int8(2)\n",
      "memory usage: 320.9 KB\n"
     ]
    }
   ],
   "source": [
    "for c in film.select_dtypes('integer').columns:\n",
    "    \n",
    "    film[c]=pd.to_numeric(film[c], downcast='integer')\n",
    "    \n",
    "film.info(memory_usage='deep')"
   ]
  },
  {
   "cell_type": "code",
   "execution_count": 59,
   "id": "a3ac9f58",
   "metadata": {},
   "outputs": [
    {
     "name": "stdout",
     "output_type": "stream",
     "text": [
      "<class 'pandas.core.frame.DataFrame'>\n",
      "RangeIndex: 1000 entries, 0 to 999\n",
      "Data columns (total 12 columns):\n",
      " #   Column            Non-Null Count  Dtype         \n",
      "---  ------            --------------  -----         \n",
      " 0   film_id           1000 non-null   int16         \n",
      " 1   title             1000 non-null   category      \n",
      " 2   description       1000 non-null   category      \n",
      " 3   release_year      1000 non-null   int16         \n",
      " 4   language_id       1000 non-null   int8          \n",
      " 5   rental_duration   1000 non-null   int8          \n",
      " 6   rental_rate       1000 non-null   float32       \n",
      " 7   length            1000 non-null   int16         \n",
      " 8   replacement_cost  1000 non-null   float32       \n",
      " 9   rating            1000 non-null   category      \n",
      " 10  special_features  1000 non-null   category      \n",
      " 11  last_update       1000 non-null   datetime64[ns]\n",
      "dtypes: category(4), datetime64[ns](1), float32(2), int16(3), int8(2)\n",
      "memory usage: 313.1 KB\n"
     ]
    }
   ],
   "source": [
    "for c in film.select_dtypes('float').columns:\n",
    "    \n",
    "    film[c]=pd.to_numeric(film[c], downcast='float')\n",
    "    \n",
    "film.info(memory_usage='deep')"
   ]
  },
  {
   "cell_type": "code",
   "execution_count": 130,
   "id": "6dd21ad6",
   "metadata": {},
   "outputs": [],
   "source": [
    "film.drop(columns='last_update', inplace=True)"
   ]
  },
  {
   "cell_type": "code",
   "execution_count": 131,
   "id": "50cc5a95",
   "metadata": {},
   "outputs": [
    {
     "data": {
      "text/html": [
       "<div>\n",
       "<style scoped>\n",
       "    .dataframe tbody tr th:only-of-type {\n",
       "        vertical-align: middle;\n",
       "    }\n",
       "\n",
       "    .dataframe tbody tr th {\n",
       "        vertical-align: top;\n",
       "    }\n",
       "\n",
       "    .dataframe thead th {\n",
       "        text-align: right;\n",
       "    }\n",
       "</style>\n",
       "<table border=\"1\" class=\"dataframe\">\n",
       "  <thead>\n",
       "    <tr style=\"text-align: right;\">\n",
       "      <th></th>\n",
       "      <th>film_id</th>\n",
       "      <th>title</th>\n",
       "      <th>description</th>\n",
       "      <th>release_year</th>\n",
       "      <th>language_id</th>\n",
       "      <th>rental_duration</th>\n",
       "      <th>rental_rate</th>\n",
       "      <th>length</th>\n",
       "      <th>replacement_cost</th>\n",
       "      <th>rating</th>\n",
       "      <th>special_features</th>\n",
       "    </tr>\n",
       "  </thead>\n",
       "  <tbody>\n",
       "    <tr>\n",
       "      <th>0</th>\n",
       "      <td>1</td>\n",
       "      <td>ACADEMY DINOSAUR</td>\n",
       "      <td>A Epic Drama of a Feminist And a Mad Scientist...</td>\n",
       "      <td>2006</td>\n",
       "      <td>1</td>\n",
       "      <td>6</td>\n",
       "      <td>0.99</td>\n",
       "      <td>86</td>\n",
       "      <td>20.99</td>\n",
       "      <td>PG</td>\n",
       "      <td>Deleted Scenes,Behind the Scenes</td>\n",
       "    </tr>\n",
       "    <tr>\n",
       "      <th>1</th>\n",
       "      <td>2</td>\n",
       "      <td>ACE GOLDFINGER</td>\n",
       "      <td>A Astounding Epistle of a Database Administrat...</td>\n",
       "      <td>2006</td>\n",
       "      <td>1</td>\n",
       "      <td>3</td>\n",
       "      <td>4.99</td>\n",
       "      <td>48</td>\n",
       "      <td>12.99</td>\n",
       "      <td>G</td>\n",
       "      <td>Trailers,Deleted Scenes</td>\n",
       "    </tr>\n",
       "    <tr>\n",
       "      <th>2</th>\n",
       "      <td>3</td>\n",
       "      <td>ADAPTATION HOLES</td>\n",
       "      <td>A Astounding Reflection of a Lumberjack And a ...</td>\n",
       "      <td>2006</td>\n",
       "      <td>1</td>\n",
       "      <td>7</td>\n",
       "      <td>2.99</td>\n",
       "      <td>50</td>\n",
       "      <td>18.99</td>\n",
       "      <td>NC-17</td>\n",
       "      <td>Trailers,Deleted Scenes</td>\n",
       "    </tr>\n",
       "    <tr>\n",
       "      <th>3</th>\n",
       "      <td>4</td>\n",
       "      <td>AFFAIR PREJUDICE</td>\n",
       "      <td>A Fanciful Documentary of a Frisbee And a Lumb...</td>\n",
       "      <td>2006</td>\n",
       "      <td>1</td>\n",
       "      <td>5</td>\n",
       "      <td>2.99</td>\n",
       "      <td>117</td>\n",
       "      <td>26.99</td>\n",
       "      <td>G</td>\n",
       "      <td>Commentaries,Behind the Scenes</td>\n",
       "    </tr>\n",
       "    <tr>\n",
       "      <th>4</th>\n",
       "      <td>5</td>\n",
       "      <td>AFRICAN EGG</td>\n",
       "      <td>A Fast-Paced Documentary of a Pastry Chef And ...</td>\n",
       "      <td>2006</td>\n",
       "      <td>1</td>\n",
       "      <td>6</td>\n",
       "      <td>2.99</td>\n",
       "      <td>130</td>\n",
       "      <td>22.99</td>\n",
       "      <td>G</td>\n",
       "      <td>Deleted Scenes</td>\n",
       "    </tr>\n",
       "  </tbody>\n",
       "</table>\n",
       "</div>"
      ],
      "text/plain": [
       "   film_id             title  \\\n",
       "0        1  ACADEMY DINOSAUR   \n",
       "1        2    ACE GOLDFINGER   \n",
       "2        3  ADAPTATION HOLES   \n",
       "3        4  AFFAIR PREJUDICE   \n",
       "4        5       AFRICAN EGG   \n",
       "\n",
       "                                         description  release_year  \\\n",
       "0  A Epic Drama of a Feminist And a Mad Scientist...          2006   \n",
       "1  A Astounding Epistle of a Database Administrat...          2006   \n",
       "2  A Astounding Reflection of a Lumberjack And a ...          2006   \n",
       "3  A Fanciful Documentary of a Frisbee And a Lumb...          2006   \n",
       "4  A Fast-Paced Documentary of a Pastry Chef And ...          2006   \n",
       "\n",
       "   language_id  rental_duration  rental_rate  length  replacement_cost rating  \\\n",
       "0            1                6         0.99      86             20.99     PG   \n",
       "1            1                3         4.99      48             12.99      G   \n",
       "2            1                7         2.99      50             18.99  NC-17   \n",
       "3            1                5         2.99     117             26.99      G   \n",
       "4            1                6         2.99     130             22.99      G   \n",
       "\n",
       "                   special_features  \n",
       "0  Deleted Scenes,Behind the Scenes  \n",
       "1           Trailers,Deleted Scenes  \n",
       "2           Trailers,Deleted Scenes  \n",
       "3    Commentaries,Behind the Scenes  \n",
       "4                    Deleted Scenes  "
      ]
     },
     "execution_count": 131,
     "metadata": {},
     "output_type": "execute_result"
    }
   ],
   "source": [
    "film.head()"
   ]
  },
  {
   "cell_type": "code",
   "execution_count": null,
   "id": "a4e5d015",
   "metadata": {},
   "outputs": [],
   "source": []
  },
  {
   "cell_type": "markdown",
   "id": "cbd41a84",
   "metadata": {},
   "source": [
    "# INVENTORY"
   ]
  },
  {
   "cell_type": "code",
   "execution_count": 60,
   "id": "c36aa306",
   "metadata": {
    "scrolled": false
   },
   "outputs": [
    {
     "data": {
      "text/html": [
       "<div>\n",
       "<style scoped>\n",
       "    .dataframe tbody tr th:only-of-type {\n",
       "        vertical-align: middle;\n",
       "    }\n",
       "\n",
       "    .dataframe tbody tr th {\n",
       "        vertical-align: top;\n",
       "    }\n",
       "\n",
       "    .dataframe thead th {\n",
       "        text-align: right;\n",
       "    }\n",
       "</style>\n",
       "<table border=\"1\" class=\"dataframe\">\n",
       "  <thead>\n",
       "    <tr style=\"text-align: right;\">\n",
       "      <th></th>\n",
       "      <th>inventory_id</th>\n",
       "      <th>film_id</th>\n",
       "      <th>store_id</th>\n",
       "      <th>last_update</th>\n",
       "    </tr>\n",
       "  </thead>\n",
       "  <tbody>\n",
       "    <tr>\n",
       "      <th>0</th>\n",
       "      <td>1</td>\n",
       "      <td>1</td>\n",
       "      <td>1</td>\n",
       "      <td>2006-02-15 05:09:17</td>\n",
       "    </tr>\n",
       "    <tr>\n",
       "      <th>1</th>\n",
       "      <td>2</td>\n",
       "      <td>1</td>\n",
       "      <td>1</td>\n",
       "      <td>2006-02-15 05:09:17</td>\n",
       "    </tr>\n",
       "    <tr>\n",
       "      <th>2</th>\n",
       "      <td>3</td>\n",
       "      <td>1</td>\n",
       "      <td>1</td>\n",
       "      <td>2006-02-15 05:09:17</td>\n",
       "    </tr>\n",
       "    <tr>\n",
       "      <th>3</th>\n",
       "      <td>4</td>\n",
       "      <td>1</td>\n",
       "      <td>1</td>\n",
       "      <td>2006-02-15 05:09:17</td>\n",
       "    </tr>\n",
       "    <tr>\n",
       "      <th>4</th>\n",
       "      <td>5</td>\n",
       "      <td>1</td>\n",
       "      <td>2</td>\n",
       "      <td>2006-02-15 05:09:17</td>\n",
       "    </tr>\n",
       "  </tbody>\n",
       "</table>\n",
       "</div>"
      ],
      "text/plain": [
       "   inventory_id  film_id  store_id          last_update\n",
       "0             1        1         1  2006-02-15 05:09:17\n",
       "1             2        1         1  2006-02-15 05:09:17\n",
       "2             3        1         1  2006-02-15 05:09:17\n",
       "3             4        1         1  2006-02-15 05:09:17\n",
       "4             5        1         2  2006-02-15 05:09:17"
      ]
     },
     "execution_count": 60,
     "metadata": {},
     "output_type": "execute_result"
    }
   ],
   "source": [
    "inventory.head()"
   ]
  },
  {
   "cell_type": "code",
   "execution_count": 61,
   "id": "2a665329",
   "metadata": {
    "scrolled": true
   },
   "outputs": [
    {
     "name": "stdout",
     "output_type": "stream",
     "text": [
      "<class 'pandas.core.frame.DataFrame'>\n",
      "RangeIndex: 1000 entries, 0 to 999\n",
      "Data columns (total 4 columns):\n",
      " #   Column        Non-Null Count  Dtype \n",
      "---  ------        --------------  ----- \n",
      " 0   inventory_id  1000 non-null   int64 \n",
      " 1   film_id       1000 non-null   int64 \n",
      " 2   store_id      1000 non-null   int64 \n",
      " 3   last_update   1000 non-null   object\n",
      "dtypes: int64(3), object(1)\n",
      "memory usage: 97.8 KB\n"
     ]
    }
   ],
   "source": [
    "inventory.info(memory_usage='deep') #Sin nulos"
   ]
  },
  {
   "cell_type": "code",
   "execution_count": 62,
   "id": "94e25033",
   "metadata": {},
   "outputs": [
    {
     "data": {
      "text/plain": [
       "Index(['inventory_id', 'film_id', 'store_id', 'last_update'], dtype='object')"
      ]
     },
     "execution_count": 62,
     "metadata": {},
     "output_type": "execute_result"
    }
   ],
   "source": [
    "columns = inventory.columns\n",
    "columns"
   ]
  },
  {
   "cell_type": "code",
   "execution_count": 63,
   "id": "8ee6764d",
   "metadata": {},
   "outputs": [
    {
     "data": {
      "text/plain": [
       "(1000, 4)"
      ]
     },
     "execution_count": 63,
     "metadata": {},
     "output_type": "execute_result"
    }
   ],
   "source": [
    "inventory.shape"
   ]
  },
  {
   "cell_type": "markdown",
   "id": "debf603d",
   "metadata": {},
   "source": [
    "### Nulos"
   ]
  },
  {
   "cell_type": "code",
   "execution_count": 64,
   "id": "bad2a999",
   "metadata": {},
   "outputs": [
    {
     "data": {
      "text/plain": [
       "'N nan cols: 0'"
      ]
     },
     "metadata": {},
     "output_type": "display_data"
    },
    {
     "data": {
      "text/plain": [
       "Series([], dtype: float64)"
      ]
     },
     "metadata": {},
     "output_type": "display_data"
    },
    {
     "data": {
      "image/png": "[encoded data removed]",
      "text/plain": [
       "<Figure size 720x432 with 1 Axes>"
      ]
     },
     "metadata": {
      "needs_background": "light"
     },
     "output_type": "display_data"
    }
   ],
   "source": [
    "fn.check_nan(inventory) #Columnas sin nulos"
   ]
  },
  {
   "cell_type": "markdown",
   "id": "8fa42b6c",
   "metadata": {},
   "source": [
    "### Valores incorrectos"
   ]
  },
  {
   "cell_type": "code",
   "execution_count": 65,
   "id": "bda13653",
   "metadata": {},
   "outputs": [
    {
     "name": "stdout",
     "output_type": "stream",
     "text": [
      "[   1    2    3    4    5    6    7    8    9   10   11   12   13   14\n",
      "   15   16   17   18   19   20   21   22   23   24   25   26   27   28\n",
      "   29   30   31   32   33   34   35   36   37   38   39   40   41   42\n",
      "   43   44   45   46   47   48   49   50   51   52   53   54   55   56\n",
      "   57   58   59   60   61   62   63   64   65   66   67   68   69   70\n",
      "   71   72   73   74   75   76   77   78   79   80   81   82   83   84\n",
      "   85   86   87   88   89   90   91   92   93   94   95   96   97   98\n",
      "   99  100  101  102  103  104  105  106  107  108  109  110  111  112\n",
      "  113  114  115  116  117  118  119  120  121  122  123  124  125  126\n",
      "  127  128  129  130  131  132  133  134  135  136  137  138  139  140\n",
      "  141  142  143  144  145  146  147  148  149  150  151  152  153  154\n",
      "  155  156  157  158  159  160  161  162  163  164  165  166  167  168\n",
      "  169  170  171  172  173  174  175  176  177  178  179  180  181  182\n",
      "  183  184  185  186  187  188  189  190  191  192  193  194  195  196\n",
      "  197  198  199  200  201  202  203  204  205  206  207  208  209  210\n",
      "  211  212  213  214  215  216  217  218  219  220  221  222  223  224\n",
      "  225  226  227  228  229  230  231  232  233  234  235  236  237  238\n",
      "  239  240  241  242  243  244  245  246  247  248  249  250  251  252\n",
      "  253  254  255  256  257  258  259  260  261  262  263  264  265  266\n",
      "  267  268  269  270  271  272  273  274  275  276  277  278  279  280\n",
      "  281  282  283  284  285  286  287  288  289  290  291  292  293  294\n",
      "  295  296  297  298  299  300  301  302  303  304  305  306  307  308\n",
      "  309  310  311  312  313  314  315  316  317  318  319  320  321  322\n",
      "  323  324  325  326  327  328  329  330  331  332  333  334  335  336\n",
      "  337  338  339  340  341  342  343  344  345  346  347  348  349  350\n",
      "  351  352  353  354  355  356  357  358  359  360  361  362  363  364\n",
      "  365  366  367  368  369  370  371  372  373  374  375  376  377  378\n",
      "  379  380  381  382  383  384  385  386  387  388  389  390  391  392\n",
      "  393  394  395  396  397  398  399  400  401  402  403  404  405  406\n",
      "  407  408  409  410  411  412  413  414  415  416  417  418  419  420\n",
      "  421  422  423  424  425  426  427  428  429  430  431  432  433  434\n",
      "  435  436  437  438  439  440  441  442  443  444  445  446  447  448\n",
      "  449  450  451  452  453  454  455  456  457  458  459  460  461  462\n",
      "  463  464  465  466  467  468  469  470  471  472  473  474  475  476\n",
      "  477  478  479  480  481  482  483  484  485  486  487  488  489  490\n",
      "  491  492  493  494  495  496  497  498  499  500  501  502  503  504\n",
      "  505  506  507  508  509  510  511  512  513  514  515  516  517  518\n",
      "  519  520  521  522  523  524  525  526  527  528  529  530  531  532\n",
      "  533  534  535  536  537  538  539  540  541  542  543  544  545  546\n",
      "  547  548  549  550  551  552  553  554  555  556  557  558  559  560\n",
      "  561  562  563  564  565  566  567  568  569  570  571  572  573  574\n",
      "  575  576  577  578  579  580  581  582  583  584  585  586  587  588\n",
      "  589  590  591  592  593  594  595  596  597  598  599  600  601  602\n",
      "  603  604  605  606  607  608  609  610  611  612  613  614  615  616\n",
      "  617  618  619  620  621  622  623  624  625  626  627  628  629  630\n",
      "  631  632  633  634  635  636  637  638  639  640  641  642  643  644\n",
      "  645  646  647  648  649  650  651  652  653  654  655  656  657  658\n",
      "  659  660  661  662  663  664  665  666  667  668  669  670  671  672\n",
      "  673  674  675  676  677  678  679  680  681  682  683  684  685  686\n",
      "  687  688  689  690  691  692  693  694  695  696  697  698  699  700\n",
      "  701  702  703  704  705  706  707  708  709  710  711  712  713  714\n",
      "  715  716  717  718  719  720  721  722  723  724  725  726  727  728\n",
      "  729  730  731  732  733  734  735  736  737  738  739  740  741  742\n",
      "  743  744  745  746  747  748  749  750  751  752  753  754  755  756\n",
      "  757  758  759  760  761  762  763  764  765  766  767  768  769  770\n",
      "  771  772  773  774  775  776  777  778  779  780  781  782  783  784\n",
      "  785  786  787  788  789  790  791  792  793  794  795  796  797  798\n",
      "  799  800  801  802  803  804  805  806  807  808  809  810  811  812\n",
      "  813  814  815  816  817  818  819  820  821  822  823  824  825  826\n",
      "  827  828  829  830  831  832  833  834  835  836  837  838  839  840\n",
      "  841  842  843  844  845  846  847  848  849  850  851  852  853  854\n",
      "  855  856  857  858  859  860  861  862  863  864  865  866  867  868\n",
      "  869  870  871  872  873  874  875  876  877  878  879  880  881  882\n",
      "  883  884  885  886  887  888  889  890  891  892  893  894  895  896\n",
      "  897  898  899  900  901  902  903  904  905  906  907  908  909  910\n",
      "  911  912  913  914  915  916  917  918  919  920  921  922  923  924\n",
      "  925  926  927  928  929  930  931  932  933  934  935  936  937  938\n",
      "  939  940  941  942  943  944  945  946  947  948  949  950  951  952\n",
      "  953  954  955  956  957  958  959  960  961  962  963  964  965  966\n",
      "  967  968  969  970  971  972  973  974  975  976  977  978  979  980\n",
      "  981  982  983  984  985  986  987  988  989  990  991  992  993  994\n",
      "  995  996  997  998  999 1000]\n",
      "[  1   2   3   4   5   6   7   8   9  10  11  12  13  15  16  17  18  19\n",
      "  20  21  22  23  24  25  26  27  28  29  30  31  32  34  35  37  39  40\n",
      "  42  43  44  45  46  47  48  49  50  51  52  53  54  55  56  57  58  59\n",
      "  60  61  62  63  64  65  66  67  68  69  70  71  72  73  74  75  76  77\n",
      "  78  79  80  81  82  83  84  85  86  88  89  90  91  92  93  94  95  96\n",
      "  97  98  99 100 101 102 103 104 105 106 107 109 110 111 112 113 114 115\n",
      " 116 117 118 119 120 121 122 123 124 125 126 127 129 130 131 132 133 134\n",
      " 135 136 137 138 139 140 141 142 143 145 146 147 149 150 151 152 153 154\n",
      " 155 156 157 158 159 160 161 162 163 164 165 166 167 168 169 170 172 173\n",
      " 174 175 176 177 178 179 180 181 182 183 184 185 186 187 188 189 190 191\n",
      " 193 194 196 197 199 200 201 202 203 204 205 206 207 208 209 210 211 212\n",
      " 213 214 215 216 218 219 220 222 223]\n",
      "[1 2]\n",
      "['2006-02-15 05:09:17']\n"
     ]
    }
   ],
   "source": [
    "fn.check_unique(inventory, columns) #Parece Todo Bien"
   ]
  },
  {
   "cell_type": "code",
   "execution_count": 66,
   "id": "27f2fe89",
   "metadata": {},
   "outputs": [
    {
     "name": "stdout",
     "output_type": "stream",
     "text": [
      "1      1\n",
      "672    1\n",
      "659    1\n",
      "660    1\n",
      "661    1\n",
      "Name: inventory_id, dtype: int64\n",
      "1      8\n",
      "127    8\n",
      "73     8\n",
      "174    8\n",
      "86     8\n",
      "Name: film_id, dtype: int64\n",
      "1    503\n",
      "2    497\n",
      "Name: store_id, dtype: int64\n",
      "2006-02-15 05:09:17    1000\n",
      "Name: last_update, dtype: int64\n"
     ]
    }
   ],
   "source": [
    "fn.check_value(inventory, columns) #Parece todo Correcto"
   ]
  },
  {
   "cell_type": "markdown",
   "id": "52d4383f",
   "metadata": {},
   "source": [
    "### Duplicados"
   ]
  },
  {
   "cell_type": "code",
   "execution_count": 67,
   "id": "38cd5dd1",
   "metadata": {},
   "outputs": [
    {
     "data": {
      "text/plain": [
       "False"
      ]
     },
     "execution_count": 67,
     "metadata": {},
     "output_type": "execute_result"
    }
   ],
   "source": [
    "inventory.duplicated().any() #No hay duplicados"
   ]
  },
  {
   "cell_type": "code",
   "execution_count": 69,
   "id": "fac409c2",
   "metadata": {},
   "outputs": [
    {
     "data": {
      "text/plain": [
       "True"
      ]
     },
     "execution_count": 69,
     "metadata": {},
     "output_type": "execute_result"
    }
   ],
   "source": [
    "inventory[['film_id', 'store_id', 'last_update']].duplicated().any() #Hay duplicados sin contar la columna de id_inventory nos puede interesar"
   ]
  },
  {
   "cell_type": "markdown",
   "id": "44bc00db",
   "metadata": {},
   "source": [
    "### Cambio del tipo de dato, optimizacion de memoria"
   ]
  },
  {
   "cell_type": "code",
   "execution_count": 70,
   "id": "ad5d1a59",
   "metadata": {},
   "outputs": [
    {
     "name": "stdout",
     "output_type": "stream",
     "text": [
      "<class 'pandas.core.frame.DataFrame'>\n",
      "RangeIndex: 1000 entries, 0 to 999\n",
      "Data columns (total 4 columns):\n",
      " #   Column        Non-Null Count  Dtype \n",
      "---  ------        --------------  ----- \n",
      " 0   inventory_id  1000 non-null   int64 \n",
      " 1   film_id       1000 non-null   int64 \n",
      " 2   store_id      1000 non-null   int64 \n",
      " 3   last_update   1000 non-null   object\n",
      "dtypes: int64(3), object(1)\n",
      "memory usage: 97.8 KB\n"
     ]
    }
   ],
   "source": [
    "inventory.info(memory_usage='deep')"
   ]
  },
  {
   "cell_type": "code",
   "execution_count": 71,
   "id": "91362e5b",
   "metadata": {},
   "outputs": [
    {
     "name": "stdout",
     "output_type": "stream",
     "text": [
      "<class 'pandas.core.frame.DataFrame'>\n",
      "RangeIndex: 1000 entries, 0 to 999\n",
      "Data columns (total 4 columns):\n",
      " #   Column        Non-Null Count  Dtype         \n",
      "---  ------        --------------  -----         \n",
      " 0   inventory_id  1000 non-null   int64         \n",
      " 1   film_id       1000 non-null   int64         \n",
      " 2   store_id      1000 non-null   int64         \n",
      " 3   last_update   1000 non-null   datetime64[ns]\n",
      "dtypes: datetime64[ns](1), int64(3)\n",
      "memory usage: 31.4 KB\n"
     ]
    }
   ],
   "source": [
    "inventory.last_update=pd.to_datetime(inventory.last_update, format='%Y-%m-%d')\n",
    "\n",
    "inventory.info(memory_usage='deep')"
   ]
  },
  {
   "cell_type": "code",
   "execution_count": 72,
   "id": "50e5dde0",
   "metadata": {},
   "outputs": [
    {
     "name": "stdout",
     "output_type": "stream",
     "text": [
      "<class 'pandas.core.frame.DataFrame'>\n",
      "RangeIndex: 1000 entries, 0 to 999\n",
      "Data columns (total 4 columns):\n",
      " #   Column        Non-Null Count  Dtype         \n",
      "---  ------        --------------  -----         \n",
      " 0   inventory_id  1000 non-null   int16         \n",
      " 1   film_id       1000 non-null   int16         \n",
      " 2   store_id      1000 non-null   int8          \n",
      " 3   last_update   1000 non-null   datetime64[ns]\n",
      "dtypes: datetime64[ns](1), int16(2), int8(1)\n",
      "memory usage: 12.8 KB\n"
     ]
    }
   ],
   "source": [
    "for c in inventory.select_dtypes('integer').columns:\n",
    "    \n",
    "    inventory[c]=pd.to_numeric(inventory[c], downcast='integer')\n",
    "    \n",
    "inventory.info(memory_usage='deep')"
   ]
  },
  {
   "cell_type": "code",
   "execution_count": 128,
   "id": "6b0fd7aa",
   "metadata": {},
   "outputs": [],
   "source": [
    "inventory.drop(columns='last_update', inplace=True)"
   ]
  },
  {
   "cell_type": "code",
   "execution_count": 129,
   "id": "71c1dec2",
   "metadata": {},
   "outputs": [
    {
     "data": {
      "text/html": [
       "<div>\n",
       "<style scoped>\n",
       "    .dataframe tbody tr th:only-of-type {\n",
       "        vertical-align: middle;\n",
       "    }\n",
       "\n",
       "    .dataframe tbody tr th {\n",
       "        vertical-align: top;\n",
       "    }\n",
       "\n",
       "    .dataframe thead th {\n",
       "        text-align: right;\n",
       "    }\n",
       "</style>\n",
       "<table border=\"1\" class=\"dataframe\">\n",
       "  <thead>\n",
       "    <tr style=\"text-align: right;\">\n",
       "      <th></th>\n",
       "      <th>inventory_id</th>\n",
       "      <th>film_id</th>\n",
       "      <th>store_id</th>\n",
       "    </tr>\n",
       "  </thead>\n",
       "  <tbody>\n",
       "    <tr>\n",
       "      <th>0</th>\n",
       "      <td>1</td>\n",
       "      <td>1</td>\n",
       "      <td>1</td>\n",
       "    </tr>\n",
       "    <tr>\n",
       "      <th>1</th>\n",
       "      <td>2</td>\n",
       "      <td>1</td>\n",
       "      <td>1</td>\n",
       "    </tr>\n",
       "    <tr>\n",
       "      <th>2</th>\n",
       "      <td>3</td>\n",
       "      <td>1</td>\n",
       "      <td>1</td>\n",
       "    </tr>\n",
       "    <tr>\n",
       "      <th>3</th>\n",
       "      <td>4</td>\n",
       "      <td>1</td>\n",
       "      <td>1</td>\n",
       "    </tr>\n",
       "    <tr>\n",
       "      <th>4</th>\n",
       "      <td>5</td>\n",
       "      <td>1</td>\n",
       "      <td>2</td>\n",
       "    </tr>\n",
       "  </tbody>\n",
       "</table>\n",
       "</div>"
      ],
      "text/plain": [
       "   inventory_id  film_id  store_id\n",
       "0             1        1         1\n",
       "1             2        1         1\n",
       "2             3        1         1\n",
       "3             4        1         1\n",
       "4             5        1         2"
      ]
     },
     "execution_count": 129,
     "metadata": {},
     "output_type": "execute_result"
    }
   ],
   "source": [
    "inventory.head()"
   ]
  },
  {
   "cell_type": "code",
   "execution_count": null,
   "id": "e3f53592",
   "metadata": {},
   "outputs": [],
   "source": []
  },
  {
   "cell_type": "markdown",
   "id": "0e73b9d4",
   "metadata": {},
   "source": [
    "# LANGUAGE"
   ]
  },
  {
   "cell_type": "code",
   "execution_count": 75,
   "id": "db2e2d46",
   "metadata": {
    "scrolled": false
   },
   "outputs": [
    {
     "data": {
      "text/html": [
       "<div>\n",
       "<style scoped>\n",
       "    .dataframe tbody tr th:only-of-type {\n",
       "        vertical-align: middle;\n",
       "    }\n",
       "\n",
       "    .dataframe tbody tr th {\n",
       "        vertical-align: top;\n",
       "    }\n",
       "\n",
       "    .dataframe thead th {\n",
       "        text-align: right;\n",
       "    }\n",
       "</style>\n",
       "<table border=\"1\" class=\"dataframe\">\n",
       "  <thead>\n",
       "    <tr style=\"text-align: right;\">\n",
       "      <th></th>\n",
       "      <th>language_id</th>\n",
       "      <th>name</th>\n",
       "      <th>last_update</th>\n",
       "    </tr>\n",
       "  </thead>\n",
       "  <tbody>\n",
       "    <tr>\n",
       "      <th>0</th>\n",
       "      <td>1</td>\n",
       "      <td>English</td>\n",
       "      <td>2006-02-15 05:02:19</td>\n",
       "    </tr>\n",
       "    <tr>\n",
       "      <th>1</th>\n",
       "      <td>2</td>\n",
       "      <td>Italian</td>\n",
       "      <td>2006-02-15 05:02:19</td>\n",
       "    </tr>\n",
       "    <tr>\n",
       "      <th>2</th>\n",
       "      <td>3</td>\n",
       "      <td>Japanese</td>\n",
       "      <td>2006-02-15 05:02:19</td>\n",
       "    </tr>\n",
       "    <tr>\n",
       "      <th>3</th>\n",
       "      <td>4</td>\n",
       "      <td>Mandarin</td>\n",
       "      <td>2006-02-15 05:02:19</td>\n",
       "    </tr>\n",
       "    <tr>\n",
       "      <th>4</th>\n",
       "      <td>5</td>\n",
       "      <td>French</td>\n",
       "      <td>2006-02-15 05:02:19</td>\n",
       "    </tr>\n",
       "    <tr>\n",
       "      <th>5</th>\n",
       "      <td>6</td>\n",
       "      <td>German</td>\n",
       "      <td>2006-02-15 05:02:19</td>\n",
       "    </tr>\n",
       "  </tbody>\n",
       "</table>\n",
       "</div>"
      ],
      "text/plain": [
       "   language_id      name          last_update\n",
       "0            1   English  2006-02-15 05:02:19\n",
       "1            2   Italian  2006-02-15 05:02:19\n",
       "2            3  Japanese  2006-02-15 05:02:19\n",
       "3            4  Mandarin  2006-02-15 05:02:19\n",
       "4            5    French  2006-02-15 05:02:19\n",
       "5            6    German  2006-02-15 05:02:19"
      ]
     },
     "execution_count": 75,
     "metadata": {},
     "output_type": "execute_result"
    }
   ],
   "source": [
    "language"
   ]
  },
  {
   "cell_type": "code",
   "execution_count": 76,
   "id": "aeab204c",
   "metadata": {
    "scrolled": true
   },
   "outputs": [
    {
     "name": "stdout",
     "output_type": "stream",
     "text": [
      "<class 'pandas.core.frame.DataFrame'>\n",
      "RangeIndex: 6 entries, 0 to 5\n",
      "Data columns (total 3 columns):\n",
      " #   Column       Non-Null Count  Dtype \n",
      "---  ------       --------------  ----- \n",
      " 0   language_id  6 non-null      int64 \n",
      " 1   name         6 non-null      object\n",
      " 2   last_update  6 non-null      object\n",
      "dtypes: int64(1), object(2)\n",
      "memory usage: 1016.0 bytes\n"
     ]
    }
   ],
   "source": [
    "language.info(memory_usage='deep') #Sin nulos"
   ]
  },
  {
   "cell_type": "code",
   "execution_count": 77,
   "id": "54d1077d",
   "metadata": {},
   "outputs": [
    {
     "data": {
      "text/plain": [
       "Index(['language_id', 'name', 'last_update'], dtype='object')"
      ]
     },
     "execution_count": 77,
     "metadata": {},
     "output_type": "execute_result"
    }
   ],
   "source": [
    "columns = language.columns\n",
    "columns"
   ]
  },
  {
   "cell_type": "code",
   "execution_count": 78,
   "id": "14ba4832",
   "metadata": {},
   "outputs": [
    {
     "data": {
      "text/plain": [
       "(6, 3)"
      ]
     },
     "execution_count": 78,
     "metadata": {},
     "output_type": "execute_result"
    }
   ],
   "source": [
    "language.shape"
   ]
  },
  {
   "cell_type": "markdown",
   "id": "7c823756",
   "metadata": {},
   "source": [
    "### Nulos"
   ]
  },
  {
   "cell_type": "code",
   "execution_count": 79,
   "id": "707b7f69",
   "metadata": {},
   "outputs": [
    {
     "data": {
      "text/plain": [
       "'N nan cols: 0'"
      ]
     },
     "metadata": {},
     "output_type": "display_data"
    },
    {
     "data": {
      "text/plain": [
       "Series([], dtype: float64)"
      ]
     },
     "metadata": {},
     "output_type": "display_data"
    },
    {
     "data": {
      "image/png": "[encoded data removed]",
      "text/plain": [
       "<Figure size 720x432 with 1 Axes>"
      ]
     },
     "metadata": {
      "needs_background": "light"
     },
     "output_type": "display_data"
    }
   ],
   "source": [
    "fn.check_nan(language) #Columna entera de nulos"
   ]
  },
  {
   "cell_type": "markdown",
   "id": "732dbc53",
   "metadata": {},
   "source": [
    "### Valores incorrectos"
   ]
  },
  {
   "cell_type": "code",
   "execution_count": 80,
   "id": "f4983551",
   "metadata": {},
   "outputs": [
    {
     "name": "stdout",
     "output_type": "stream",
     "text": [
      "[1 2 3 4 5 6]\n",
      "['English' 'Italian' 'Japanese' 'Mandarin' 'French' 'German']\n",
      "['2006-02-15 05:02:19']\n"
     ]
    }
   ],
   "source": [
    "fn.check_unique(language, columns) #Parece Todo Bien"
   ]
  },
  {
   "cell_type": "code",
   "execution_count": 81,
   "id": "addab9f4",
   "metadata": {},
   "outputs": [
    {
     "name": "stdout",
     "output_type": "stream",
     "text": [
      "1    1\n",
      "2    1\n",
      "3    1\n",
      "4    1\n",
      "5    1\n",
      "Name: language_id, dtype: int64\n",
      "English     1\n",
      "Italian     1\n",
      "Japanese    1\n",
      "Mandarin    1\n",
      "French      1\n",
      "Name: name, dtype: int64\n",
      "2006-02-15 05:02:19    6\n",
      "Name: last_update, dtype: int64\n"
     ]
    }
   ],
   "source": [
    "fn.check_value(language, columns) #Parece todo Correcto"
   ]
  },
  {
   "cell_type": "markdown",
   "id": "7c51f6a8",
   "metadata": {},
   "source": [
    "### Duplicados"
   ]
  },
  {
   "cell_type": "code",
   "execution_count": 82,
   "id": "f5a44170",
   "metadata": {},
   "outputs": [
    {
     "data": {
      "text/plain": [
       "False"
      ]
     },
     "execution_count": 82,
     "metadata": {},
     "output_type": "execute_result"
    }
   ],
   "source": [
    "language.duplicated().any() #No hay duplicados"
   ]
  },
  {
   "cell_type": "markdown",
   "id": "42e9d540",
   "metadata": {},
   "source": [
    "### Cambio del tipo de dato, optimizacion de memoria"
   ]
  },
  {
   "cell_type": "code",
   "execution_count": 83,
   "id": "5620eba7",
   "metadata": {},
   "outputs": [
    {
     "name": "stdout",
     "output_type": "stream",
     "text": [
      "<class 'pandas.core.frame.DataFrame'>\n",
      "RangeIndex: 6 entries, 0 to 5\n",
      "Data columns (total 3 columns):\n",
      " #   Column       Non-Null Count  Dtype \n",
      "---  ------       --------------  ----- \n",
      " 0   language_id  6 non-null      int64 \n",
      " 1   name         6 non-null      object\n",
      " 2   last_update  6 non-null      object\n",
      "dtypes: int64(1), object(2)\n",
      "memory usage: 1016.0 bytes\n"
     ]
    }
   ],
   "source": [
    "language.info(memory_usage='deep')"
   ]
  },
  {
   "cell_type": "code",
   "execution_count": 85,
   "id": "b4fa92f6",
   "metadata": {},
   "outputs": [
    {
     "name": "stdout",
     "output_type": "stream",
     "text": [
      "<class 'pandas.core.frame.DataFrame'>\n",
      "RangeIndex: 6 entries, 0 to 5\n",
      "Data columns (total 3 columns):\n",
      " #   Column       Non-Null Count  Dtype         \n",
      "---  ------       --------------  -----         \n",
      " 0   language_id  6 non-null      int64         \n",
      " 1   name         6 non-null      object        \n",
      " 2   last_update  6 non-null      datetime64[ns]\n",
      "dtypes: datetime64[ns](1), int64(1), object(1)\n",
      "memory usage: 608.0 bytes\n"
     ]
    }
   ],
   "source": [
    "language.last_update=pd.to_datetime(language.last_update, format='%Y-%m-%d')\n",
    "\n",
    "language.info(memory_usage='deep')"
   ]
  },
  {
   "cell_type": "code",
   "execution_count": 86,
   "id": "df2b3ea0",
   "metadata": {},
   "outputs": [
    {
     "name": "stdout",
     "output_type": "stream",
     "text": [
      "<class 'pandas.core.frame.DataFrame'>\n",
      "RangeIndex: 6 entries, 0 to 5\n",
      "Data columns (total 3 columns):\n",
      " #   Column       Non-Null Count  Dtype         \n",
      "---  ------       --------------  -----         \n",
      " 0   language_id  6 non-null      int64         \n",
      " 1   name         6 non-null      category      \n",
      " 2   last_update  6 non-null      datetime64[ns]\n",
      "dtypes: category(1), datetime64[ns](1), int64(1)\n",
      "memory usage: 786.0 bytes\n"
     ]
    }
   ],
   "source": [
    "for c in language.select_dtypes('object').columns:\n",
    "    \n",
    "    language[c]=language[c].astype('category')\n",
    "    \n",
    "language.info(memory_usage='deep')"
   ]
  },
  {
   "cell_type": "code",
   "execution_count": 87,
   "id": "12058966",
   "metadata": {},
   "outputs": [
    {
     "name": "stdout",
     "output_type": "stream",
     "text": [
      "<class 'pandas.core.frame.DataFrame'>\n",
      "RangeIndex: 6 entries, 0 to 5\n",
      "Data columns (total 3 columns):\n",
      " #   Column       Non-Null Count  Dtype         \n",
      "---  ------       --------------  -----         \n",
      " 0   language_id  6 non-null      int8          \n",
      " 1   name         6 non-null      category      \n",
      " 2   last_update  6 non-null      datetime64[ns]\n",
      "dtypes: category(1), datetime64[ns](1), int8(1)\n",
      "memory usage: 744.0 bytes\n"
     ]
    }
   ],
   "source": [
    "for c in language.select_dtypes('integer').columns:\n",
    "    \n",
    "    language[c]=pd.to_numeric(language[c], downcast='integer')\n",
    "    \n",
    "language.info(memory_usage='deep')"
   ]
  },
  {
   "cell_type": "code",
   "execution_count": 125,
   "id": "e01ac0e4",
   "metadata": {},
   "outputs": [],
   "source": [
    "language.drop(columns='last_update', inplace=True)"
   ]
  },
  {
   "cell_type": "code",
   "execution_count": 126,
   "id": "b17e2176",
   "metadata": {},
   "outputs": [
    {
     "data": {
      "text/html": [
       "<div>\n",
       "<style scoped>\n",
       "    .dataframe tbody tr th:only-of-type {\n",
       "        vertical-align: middle;\n",
       "    }\n",
       "\n",
       "    .dataframe tbody tr th {\n",
       "        vertical-align: top;\n",
       "    }\n",
       "\n",
       "    .dataframe thead th {\n",
       "        text-align: right;\n",
       "    }\n",
       "</style>\n",
       "<table border=\"1\" class=\"dataframe\">\n",
       "  <thead>\n",
       "    <tr style=\"text-align: right;\">\n",
       "      <th></th>\n",
       "      <th>language_id</th>\n",
       "      <th>name</th>\n",
       "    </tr>\n",
       "  </thead>\n",
       "  <tbody>\n",
       "    <tr>\n",
       "      <th>0</th>\n",
       "      <td>1</td>\n",
       "      <td>English</td>\n",
       "    </tr>\n",
       "    <tr>\n",
       "      <th>1</th>\n",
       "      <td>2</td>\n",
       "      <td>Italian</td>\n",
       "    </tr>\n",
       "    <tr>\n",
       "      <th>2</th>\n",
       "      <td>3</td>\n",
       "      <td>Japanese</td>\n",
       "    </tr>\n",
       "    <tr>\n",
       "      <th>3</th>\n",
       "      <td>4</td>\n",
       "      <td>Mandarin</td>\n",
       "    </tr>\n",
       "    <tr>\n",
       "      <th>4</th>\n",
       "      <td>5</td>\n",
       "      <td>French</td>\n",
       "    </tr>\n",
       "  </tbody>\n",
       "</table>\n",
       "</div>"
      ],
      "text/plain": [
       "   language_id      name\n",
       "0            1   English\n",
       "1            2   Italian\n",
       "2            3  Japanese\n",
       "3            4  Mandarin\n",
       "4            5    French"
      ]
     },
     "execution_count": 126,
     "metadata": {},
     "output_type": "execute_result"
    }
   ],
   "source": [
    "language.head()"
   ]
  },
  {
   "cell_type": "code",
   "execution_count": null,
   "id": "91b89c36",
   "metadata": {},
   "outputs": [],
   "source": []
  },
  {
   "cell_type": "markdown",
   "id": "4ee696a5",
   "metadata": {},
   "source": [
    "# OLD HDD"
   ]
  },
  {
   "cell_type": "code",
   "execution_count": 88,
   "id": "2c65abf0",
   "metadata": {
    "scrolled": false
   },
   "outputs": [
    {
     "data": {
      "text/html": [
       "<div>\n",
       "<style scoped>\n",
       "    .dataframe tbody tr th:only-of-type {\n",
       "        vertical-align: middle;\n",
       "    }\n",
       "\n",
       "    .dataframe tbody tr th {\n",
       "        vertical-align: top;\n",
       "    }\n",
       "\n",
       "    .dataframe thead th {\n",
       "        text-align: right;\n",
       "    }\n",
       "</style>\n",
       "<table border=\"1\" class=\"dataframe\">\n",
       "  <thead>\n",
       "    <tr style=\"text-align: right;\">\n",
       "      <th></th>\n",
       "      <th>first_name</th>\n",
       "      <th>last_name</th>\n",
       "      <th>title</th>\n",
       "      <th>release_year</th>\n",
       "      <th>category_id</th>\n",
       "    </tr>\n",
       "  </thead>\n",
       "  <tbody>\n",
       "    <tr>\n",
       "      <th>0</th>\n",
       "      <td>PENELOPE</td>\n",
       "      <td>GUINESS</td>\n",
       "      <td>ACADEMY DINOSAUR</td>\n",
       "      <td>2006</td>\n",
       "      <td>6</td>\n",
       "    </tr>\n",
       "    <tr>\n",
       "      <th>1</th>\n",
       "      <td>PENELOPE</td>\n",
       "      <td>GUINESS</td>\n",
       "      <td>ANACONDA CONFESSIONS</td>\n",
       "      <td>2006</td>\n",
       "      <td>2</td>\n",
       "    </tr>\n",
       "    <tr>\n",
       "      <th>2</th>\n",
       "      <td>PENELOPE</td>\n",
       "      <td>GUINESS</td>\n",
       "      <td>ANGELS LIFE</td>\n",
       "      <td>2006</td>\n",
       "      <td>13</td>\n",
       "    </tr>\n",
       "    <tr>\n",
       "      <th>3</th>\n",
       "      <td>PENELOPE</td>\n",
       "      <td>GUINESS</td>\n",
       "      <td>BULWORTH COMMANDMENTS</td>\n",
       "      <td>2006</td>\n",
       "      <td>10</td>\n",
       "    </tr>\n",
       "    <tr>\n",
       "      <th>4</th>\n",
       "      <td>PENELOPE</td>\n",
       "      <td>GUINESS</td>\n",
       "      <td>CHEAPER CLYDE</td>\n",
       "      <td>2006</td>\n",
       "      <td>14</td>\n",
       "    </tr>\n",
       "  </tbody>\n",
       "</table>\n",
       "</div>"
      ],
      "text/plain": [
       "  first_name last_name                  title  release_year  category_id\n",
       "0   PENELOPE   GUINESS       ACADEMY DINOSAUR          2006            6\n",
       "1   PENELOPE   GUINESS   ANACONDA CONFESSIONS          2006            2\n",
       "2   PENELOPE   GUINESS            ANGELS LIFE          2006           13\n",
       "3   PENELOPE   GUINESS  BULWORTH COMMANDMENTS          2006           10\n",
       "4   PENELOPE   GUINESS          CHEAPER CLYDE          2006           14"
      ]
     },
     "execution_count": 88,
     "metadata": {},
     "output_type": "execute_result"
    }
   ],
   "source": [
    "old.head()"
   ]
  },
  {
   "cell_type": "code",
   "execution_count": 89,
   "id": "be11455e",
   "metadata": {
    "scrolled": true
   },
   "outputs": [
    {
     "name": "stdout",
     "output_type": "stream",
     "text": [
      "<class 'pandas.core.frame.DataFrame'>\n",
      "RangeIndex: 1000 entries, 0 to 999\n",
      "Data columns (total 5 columns):\n",
      " #   Column        Non-Null Count  Dtype \n",
      "---  ------        --------------  ----- \n",
      " 0   first_name    1000 non-null   object\n",
      " 1   last_name     1000 non-null   object\n",
      " 2   title         1000 non-null   object\n",
      " 3   release_year  1000 non-null   int64 \n",
      " 4   category_id   1000 non-null   int64 \n",
      "dtypes: int64(2), object(3)\n",
      "memory usage: 207.6 KB\n"
     ]
    }
   ],
   "source": [
    "old.info(memory_usage='deep') #Sin nulos"
   ]
  },
  {
   "cell_type": "code",
   "execution_count": 90,
   "id": "87f5b215",
   "metadata": {},
   "outputs": [
    {
     "data": {
      "text/plain": [
       "Index(['first_name', 'last_name', 'title', 'release_year', 'category_id'], dtype='object')"
      ]
     },
     "execution_count": 90,
     "metadata": {},
     "output_type": "execute_result"
    }
   ],
   "source": [
    "columns = old.columns\n",
    "columns"
   ]
  },
  {
   "cell_type": "code",
   "execution_count": 91,
   "id": "91f6b6d3",
   "metadata": {},
   "outputs": [
    {
     "data": {
      "text/plain": [
       "(1000, 5)"
      ]
     },
     "execution_count": 91,
     "metadata": {},
     "output_type": "execute_result"
    }
   ],
   "source": [
    "old.shape"
   ]
  },
  {
   "cell_type": "markdown",
   "id": "179c9c39",
   "metadata": {},
   "source": [
    "### Nulos"
   ]
  },
  {
   "cell_type": "code",
   "execution_count": 92,
   "id": "397178a1",
   "metadata": {},
   "outputs": [
    {
     "data": {
      "text/plain": [
       "'N nan cols: 0'"
      ]
     },
     "metadata": {},
     "output_type": "display_data"
    },
    {
     "data": {
      "text/plain": [
       "Series([], dtype: float64)"
      ]
     },
     "metadata": {},
     "output_type": "display_data"
    },
    {
     "data": {
      "image/png": "[encoded data removed]",
      "text/plain": [
       "<Figure size 720x432 with 1 Axes>"
      ]
     },
     "metadata": {
      "needs_background": "light"
     },
     "output_type": "display_data"
    }
   ],
   "source": [
    "fn.check_nan(old) #Columna sin nulos"
   ]
  },
  {
   "cell_type": "markdown",
   "id": "7c0e1b90",
   "metadata": {},
   "source": [
    "### Valores incorrectos"
   ]
  },
  {
   "cell_type": "code",
   "execution_count": 93,
   "id": "d296cebf",
   "metadata": {},
   "outputs": [
    {
     "name": "stdout",
     "output_type": "stream",
     "text": [
      "['PENELOPE' 'NICK' 'ED' 'JENNIFER' 'JOHNNY' 'BETTE' 'GRACE' 'MATTHEW'\n",
      " 'JOE' 'CHRISTIAN' 'ZERO' 'KARL' 'UMA' 'VIVIEN' 'CUBA' 'FRED' 'HELEN'\n",
      " 'DAN' 'BOB' 'LUCILLE' 'KIRSTEN' 'ELVIS' 'SANDRA' 'CAMERON' 'KEVIN' 'RIP'\n",
      " 'JULIA' 'WOODY' 'ALEC' 'SISSY' 'TIM' 'MILLA' 'AUDREY' 'JUDY' 'BURT' 'VAL'\n",
      " 'TOM' 'GOLDIE']\n",
      "['GUINESS' 'WAHLBERG' 'CHASE' 'DAVIS' 'LOLLOBRIGIDA' 'NICHOLSON' 'MOSTEL'\n",
      " 'JOHANSSON' 'SWANK' 'GABLE' 'CAGE' 'BERRY' 'WOOD' 'BERGEN' 'OLIVIER'\n",
      " 'COSTNER' 'VOIGHT' 'TORN' 'FAWCETT' 'TRACY' 'PALTROW' 'MARX' 'KILMER'\n",
      " 'STREEP' 'BLOOM' 'CRAWFORD' 'MCQUEEN' 'HOFFMAN' 'WAYNE' 'PECK' 'SOBIESKI'\n",
      " 'HACKMAN' 'DEAN' 'DUKAKIS' 'BOLGER' 'MCKELLEN' 'BRODY']\n",
      "['ACADEMY DINOSAUR' 'ANACONDA CONFESSIONS' 'ANGELS LIFE'\n",
      " 'BULWORTH COMMANDMENTS' 'CHEAPER CLYDE' 'COLOR PHILADELPHIA'\n",
      " 'ELEPHANT TROJAN' 'GLEAMING JAWBREAKER' 'HUMAN GRAFFITI' 'KING EVOLUTION'\n",
      " 'LADY STAGE' 'LANGUAGE COWBOY' 'MULHOLLAND BEAST' 'OKLAHOMA JUMANJI'\n",
      " 'RULES HUMAN' 'SPLASH GUMP' 'VERTIGO NORTHWEST' 'WESTWARD SEABISCUIT'\n",
      " 'WIZARD COLDBLOODED' 'ADAPTATION HOLES' 'APACHE DIVINE' 'BABY HALL'\n",
      " 'BULL SHAWSHANK' 'CHAINSAW UPTOWN' 'CHISUM BEHAVIOR' 'DESTINY SATURDAY'\n",
      " 'DRACULA CRYSTAL' 'FIGHT JAWBREAKER' 'FLASH WARS' 'GILBERT PELICAN'\n",
      " 'GOODFELLAS SALUTE' 'HAPPINESS UNITED' 'INDIAN LOVE' 'JEKYLL FROGMEN'\n",
      " 'JERSEY SASSY' 'LIAISONS SWEET' 'LUCKY FLYING' 'MAGUIRE APACHE'\n",
      " 'MALLRATS UNITED' 'MASK PEACH' 'ROOF CHAMPION' 'RUSHMORE MERMAID'\n",
      " 'SMILE EARRING' 'WARDROBE PHANTOM' 'ALONE TRIP' 'ARMY FLINTSTONES'\n",
      " 'ARTIST COLDBLOODED' 'BOONDOCK BALLROOM' 'CADDYSHACK JEDI' 'COWBOY DOOM'\n",
      " 'EVE RESURRECTION' 'FORREST SONS' 'FRENCH HOLIDAY' 'FROST HEAD'\n",
      " 'HALLOWEEN NUTS' 'HUNTER ALTER' 'IMAGE PRINCESS' 'JEEPERS WEDDING'\n",
      " 'LUCK OPUS' 'NECKLACE OUTBREAK' 'PLATOON INSTINCT' 'SPICE SORORITY'\n",
      " 'WEDDING APOLLO' 'WEEKEND PERSONAL' 'WHALE BIKINI' 'YOUNG LANGUAGE'\n",
      " 'BAREFOOT MANCHURIAN' 'BED HIGHBALL' 'BLADE POLISH' 'GHOSTBUSTERS ELF'\n",
      " 'GREEDY ROOTS' 'HANOVER GALAXY' 'INSTINCT AIRPORT' 'JUMANJI BLADE'\n",
      " 'NATIONAL STORY' 'POSEIDON FOREVER' 'RAIDERS ANTITRUST' 'RANDOM GO'\n",
      " 'REDS POCUS' 'SILVERADO GOLDFINGER' 'SUBMARINE BED' 'TREASURE COMMAND'\n",
      " 'UNFORGIVEN ZOOLANDER' 'AMADEUS HOLY' 'BANGER PINOCCHIO'\n",
      " 'BONNIE HOLOCAUST' 'CHITTY LOCK' 'COMMANDMENTS EXPRESS'\n",
      " 'CONEHEADS SMOOCHY' 'DADDY PITTSBURGH' 'DAISY MENAGERIE' 'ENOUGH RAGING'\n",
      " 'ESCAPE METROPOLIS' 'FIRE WOLVES' 'FRONTIER CABIN' 'GRAIL FRANKENSTEIN'\n",
      " 'GROOVE FICTION' 'HALL CASSIDY' 'HEAVENLY GUN' 'KRAMER CHOCOLATE'\n",
      " 'LOVE SUICIDES' 'METAL ARMAGEDDON' 'PACIFIC AMISTAD' 'PATTON INTERVIEW'\n",
      " 'POCUS PULP' 'RIDGEMONT SUBMARINE' 'RINGS HEARTBREAKERS'\n",
      " 'SOLDIERS EVOLUTION' 'STAR OPERATION' 'SUNRISE LEAGUE'\n",
      " 'ANTITRUST TOMATOES' 'BANG KWAI' 'BEAST HUNCHBACK' 'BIKINI BORROWERS'\n",
      " 'CALENDAR GUNFIGHT' 'COAST RAINBOW' 'COLDBLOODED DARLING'\n",
      " 'CROSSROADS CASUALTIES' 'DROP WATERFRONT' 'IGBY MAKER' 'LESSON CLEOPATRA'\n",
      " 'LIBERTY MAGNIFICENT' 'POTLUCK MIXED' 'SPEED SUIT' 'TITANIC BOONDOCK'\n",
      " 'TRADING PINOCCHIO' 'WYOMING STORM' 'ANONYMOUS HUMAN'\n",
      " 'ARACHNOPHOBIA ROLLERCOASTER' 'BERETS AGENT' 'BREAKING HOME'\n",
      " 'COMMAND DARLING' 'CONFESSIONS MAGUIRE' 'DAZED PUNK' 'DECEIVER BETRAYED'\n",
      " 'DESTINATION JERK' 'EXCITEMENT EVE' 'GASLIGHT CRUSADE'\n",
      " 'HELLFIGHTERS SIERRA' 'MALKOVICH PET' 'OCTOBER SUBMARINE' 'OPEN AFRICAN'\n",
      " 'SAINTS BRIDE' 'SAVANNAH TOWN' 'SCISSORHANDS SLUMS' 'SLEEPLESS MONSOON'\n",
      " 'SLEEPY JAPANESE' 'STING PERSONAL' 'TOWN ARK' 'TRACY CIDER'\n",
      " 'TREATMENT JEKYLL' 'WAR NOTTING' 'WARLOCK WEREWOLF' 'CAMPUS REMEMBER'\n",
      " 'CLONES PINOCCHIO' 'CONQUERER NUTS' 'CROWDS TELEMARK' 'DANCES NONE'\n",
      " 'DRIVING POLISH' 'DURHAM PANKY' 'HANGING DEEP' 'LIGHTS DEER'\n",
      " 'LOSER HUSTLER' 'RUNNER MADIGAN' 'SCHOOL JACKET' 'SCORPION APOLLO'\n",
      " 'SUGAR WONKA' 'TOMORROW HUSTLER' 'VANISHING ROCKY' 'ANYTHING SAVANNAH'\n",
      " 'BIRCH ANTITRUST' 'CHOCOLAT HARRY' 'CHOCOLATE DUCK' 'CROOKED FROGMEN'\n",
      " 'CURTAIN VIDEOTAPE' 'DALMATIONS SWEDEN' 'HORROR REIGN' 'LAWLESS VISION'\n",
      " 'LEBOWSKI SOLDIERS' 'MAJESTIC FLOATS' 'PERDITION FARGO' 'PRIMARY GLASS'\n",
      " 'REEF SALUTE' 'SNATCHERS MONTEZUMA' 'SWEETHEARTS SUSPECTS' 'TIES HUNGER'\n",
      " 'TRAFFIC HOBBIT' 'UNTOUCHABLES SUNRISE' 'WATERFRONT DELIVERANCE'\n",
      " 'WILD APOLLO' 'ALABAMA DEVIL' 'DIVINE RESURRECTION' 'DRAGONFLY STRANGERS'\n",
      " 'GOLDFINGER SENSIBILITY' 'JAWBREAKER BROOKLYN' 'LIFE TWISTED'\n",
      " 'LORD ARIZONA' 'MOD SECRETARY' 'PREJUDICE OLEANDER' 'PUNK DIVORCE'\n",
      " 'REAP UNFAITHFUL' 'SHAKESPEARE SADDLE' 'TROUBLE DATE'\n",
      " 'USUAL UNTOUCHABLES' 'VACATION BOONDOCK' 'WON DARES' 'CANYON STOCK'\n",
      " 'ENCINO ELF' 'ENDING CROWDS' 'GANDHI KWAI' 'GODFATHER DIARY'\n",
      " 'HANDICAP BOONDOCK' 'HONEY TIES' 'HORN WORKING' 'MEET CHOCOLATE'\n",
      " 'MOONWALKER FOOL' 'OLEANDER CLUE' 'RACER EGG' 'STORY SIDE'\n",
      " 'STRANGERS GRAFFITI' 'THIN SAGEBRUSH' 'TOOTSIE PILOT' 'UPTOWN YOUNG'\n",
      " 'VELVET TERMINATOR' 'WEST LION' 'WORKER TARZAN' 'ALLEY EVOLUTION'\n",
      " 'ARABIA DOGMA' 'ARIZONA BANG' 'BOUND CHEAPER' 'BOWFINGER GABLES'\n",
      " 'BUNCH MINDS' 'CLEOPATRA DEVIL' 'CONNECTICUT TRAMP' 'DARES PLUTO'\n",
      " 'DATE SPEED' 'DAY UNFAITHFUL' 'DOORS PRESIDENT' 'FURY MURDER'\n",
      " 'HARDLY ROBBERS' 'HIGHBALL POTTER' 'HOLES BRANNIGAN' 'INDEPENDENCE HOTEL'\n",
      " 'LEATHERNECKS DWARFS' 'MONTEREY LABYRINTH' 'NOVOCAINE FLIGHT'\n",
      " 'PERFECT GROOVE' 'REUNION WITCHES' 'SMOKING BARBARELLA'\n",
      " 'STAGECOACH ARMAGEDDON' 'SWEDEN SHINING' 'TELEMARK HEARTBREAKERS'\n",
      " 'VIRGINIAN PLUTO' 'ATTRACTION NEWTON' 'CABIN FLASH' 'CHINATOWN GLADIATOR'\n",
      " 'CLASH FREDDY' 'CLUELESS BUCKET' 'DRIVER ANNIE' 'FRIDA SLIPPER'\n",
      " 'GALAXY SWEETHEARTS' 'GRINCH MASSAGE' 'GROUNDHOG UNCUT' 'HOMEWARD CIDER'\n",
      " 'INCH JET' 'LEGALLY SECRETARY' 'LION UNCUT' 'LOLITA WORLD' 'MODEL FISH'\n",
      " 'MOTIONS DETAILS' 'REBEL AIRPORT' 'RIDER CADDYSHACK'\n",
      " 'SNOWMAN ROLLERCOASTER' 'SPLENDOR PATTON' 'STEEL SANTA' 'TORQUE BOUND'\n",
      " 'ZHIVAGO CORE' 'CRANES RESERVOIR' 'DIRTY ACE' 'DONNIE ALLEY'\n",
      " 'DRIFTER COMMANDMENTS' 'DRUMS DYNAMITE' 'ENEMY ODDS' 'GORGEOUS BINGO'\n",
      " 'HIGH ENCINO' 'HILLS NEIGHBORS' 'HOBBIT ALIEN' 'IMPACT ALADDIN'\n",
      " 'ITALIAN AFRICAN' 'JAPANESE RUN' 'KENTUCKIAN GIANT' 'LOVELY JINGLE'\n",
      " 'LOVER TRUMAN' 'MUSSOLINI SPOILERS' 'POLISH BROOKLYN' 'SALUTE APOLLO'\n",
      " 'SATURDAY LAMBS' 'STOCK GLASS' 'STREETCAR INTENTIONS' 'TIGHTS DAWN'\n",
      " 'TRAP GUYS' 'TYCOON GATHERING' 'VOICE PEACH' 'BORROWERS BEDAZZLED'\n",
      " 'BUTCH PANTHER' 'CASSIDY WYOMING' 'EGYPT TENENBAUMS' 'EMPIRE MALKOVICH'\n",
      " 'FLYING HOOK' 'FUGITIVE MAGUIRE' 'HYDE DOCTOR' 'KISS GLORY'\n",
      " 'KNOCK WARLOCK' 'LUKE MUMMY' 'MAKER GABLES' 'MONTEZUMA COMMAND'\n",
      " 'NOON PAPI' 'ROSES TREASURE' 'SHANE DARKNESS' 'SIEGE MADRE'\n",
      " 'THEORY MERMAID' 'VOLCANO TEXAS' 'WEREWOLF LOLA' 'WONDERLAND CHRISTMAS'\n",
      " 'BLANKET BEVERLY' 'BROTHERHOOD BLANKET' 'CAROL TEXAS'\n",
      " 'DELIVERANCE MULHOLLAND' 'EAGLES PANKY' 'EARRING INSTINCT'\n",
      " 'EASY GLADIATOR' 'ENTRAPMENT SATISFACTION' 'GABLES METROPOLIS'\n",
      " 'IMPOSSIBLE PREJUDICE' 'MAGNIFICENT CHITTY' 'MIRACLE VIRTUAL'\n",
      " 'MISSION ZOOLANDER' 'REAR TRADING' 'SENSE GREEK' 'CAPER MOTIONS'\n",
      " 'CASPER DRAGONFLY' 'CAT CONEHEADS' 'CUPBOARD SINNERS' 'CYCLONE FAMILY'\n",
      " 'FEVER EMPIRE' 'FIDELITY DEVIL' 'GREATEST NORTH' 'IRON MOON' 'JAWS HARRY'\n",
      " 'LIES TREATMENT' 'MICROCOSMOS PARADISE' 'MOVIE SHAKESPEARE'\n",
      " 'MUMMY CREATURES' 'ROAD ROXANNE' 'SIDE ARK' 'SINNERS ATLANTIS'\n",
      " 'STRANGER STRANGERS' 'TADPOLE PARK' 'ATTACKS HATE' 'BOILED DARES'\n",
      " 'EARLY HOME' 'ELIZABETH SHANE' 'GUMP DATE' 'INNOCENT USUAL'\n",
      " 'INSIDER ARIZONA' 'JERK PAYCHECK' 'SLING LUKE' 'STATE WASTELAND'\n",
      " 'SUN CONFESSIONS' 'TEQUILA PAST' 'TUXEDO MILE' 'VIRGIN DAISY'\n",
      " 'ACE GOLDFINGER' 'CIRCUS YOUTH' 'CONTROL ANTHEM' 'DARN FORRESTER'\n",
      " 'DYNAMITE TARZAN' 'HATE HANDICAP' 'HOMICIDE PEACH' 'JACKET FRISCO'\n",
      " 'OSCAR GOLD' 'PELICAN COMFORTS' 'PERSONAL LADYBUGS' 'RAGING AIRPLANE'\n",
      " 'RUN PACIFIC' 'SADDLE ANTITRUST' 'SHAWSHANK BUBBLE' 'TAXI KICK'\n",
      " 'BEDAZZLED MARRIED' 'DINOSAUR SECRETARY' 'EGG IGBY' 'JUNGLE CLOSER'\n",
      " 'LOLA AGENT' 'LOSE INCH' 'LOVERBOY ATTACKS' 'MODERN DORADO'\n",
      " 'ORIENT CLOSER' 'PAJAMA JAWBREAKER' 'PATIENT SISTER' 'SAGEBRUSH CLUELESS'\n",
      " 'SHANGHAI TYCOON' 'WASTELAND DIVINE' 'WINDOW SIDE' 'AGENT TRUMAN'\n",
      " 'BORN SPINAL' 'CHICKEN HELLFIGHTERS' 'CLOSER BANG' 'HOME PITY'\n",
      " 'KILL BROTHERHOOD' 'LADYBUGS ARMAGEDDON' 'PINOCCHIO SIMON'\n",
      " 'PLUTO OLEANDER' 'PRIX UNDEFEATED' 'PULP BEVERLY' 'RIVER OUTLAW'\n",
      " 'SLEEPING SUSPECTS' 'THIEF PELICAN' 'TITANS JERK' 'UNBREAKABLE KARATE'\n",
      " 'EVOLUTION ALTER' 'EXPECATIONS NATURAL' 'GANGS PRIDE' 'HOOK CHARIOTS'\n",
      " 'JERICHO MULAN' 'JUMPING WRATH' 'ODDS BOOGIE' 'OUTLAW HANKY'\n",
      " 'RIGHT CRANES' 'SEATTLE EXPECATIONS' 'SKY MIRACLE' 'TROJAN TOMORROW'\n",
      " 'BLACKOUT PRIVATE' 'CANDIDATE PERDITION' 'CANDLES GRAPES'\n",
      " 'DIVIDE MONSTER' 'GOLDMINE TYCOON' 'HOCUS FRIDA' 'HOTEL HAPPINESS'\n",
      " 'IDENTITY LOVER' 'MAGNOLIA FORRESTER' 'OZ LIAISONS' 'SONS INTERVIEW'\n",
      " 'STREAK RIDGEMONT' 'VANISHED GARDEN' 'WOLVES DESIRE' 'YOUTH KICK'\n",
      " 'BLUES INSTINCT' 'CASUALTIES ENCINO' 'CONNECTION MICROCOSMOS'\n",
      " 'CROW GREASE' 'DOOM DANCING' 'FREEDOM CLEOPATRA' 'HAUNTED ANTITRUST'\n",
      " 'MOB DUFFEL' 'PANIC CLUB' 'PURE RUNNER' 'SEVEN SWARM' 'SPINAL ROCKY'\n",
      " 'AMERICAN CIRCUS' 'BOOGIE AMELIE' 'CITIZEN SHREK' 'DOUBLE WRATH'\n",
      " 'FICTION CHRISTMAS' 'MASSAGE IMAGE' 'SABRINA MIDNIGHT' 'BOULEVARD MOB'\n",
      " 'BRANNIGAN SUNRISE' 'BUCKET BROTHERHOOD' 'CRAFT OUTFIELD'\n",
      " 'FOOL MOCKINGBIRD' 'GUYS FALCON' 'LONELY ELEPHANT' 'MADISON TRAP'\n",
      " 'PITTSBURGH HUNCHBACK' 'RANGE MOONWALKER' 'SORORITY QUEEN' 'TEXAS WATCH'\n",
      " 'TRAIN BUNCH' 'TRAMP OTHERS' 'CIDER DESIRE' 'EFFECT GLADIATOR'\n",
      " 'FREDDY STORM' 'GAMES BOWFINGER' 'GLADIATOR WESTWARD'\n",
      " 'MOCKINGBIRD HOLLYWOOD' 'PILOT HOOSIERS' 'PRESIDENT BANG'\n",
      " 'SPIRIT FLINTSTONES' 'WONKA SEA' 'ALICE FANTASIA' 'ATLANTIS CAUSE'\n",
      " 'BEACH HEARTBREAKERS' 'DUCK RACER' 'GILMORE BOILED' 'LAMBS CINCINATTI'\n",
      " 'MAIDEN HOME' 'MIDNIGHT WESTWARD' 'NEIGHBORS CHARADE' 'NONE SPIKING'\n",
      " 'ROOM ROMAN' 'SHOOTIST SUPERFLY' 'SHRUNK DIVINE' 'SPY MILE'\n",
      " 'TELEGRAPH VOYAGE' 'WAIT CIDER' 'WIFE TURN' 'ALADDIN CALENDAR'\n",
      " 'CENTER DINOSAUR' 'CHAMBER ITALIAN' 'ENCOUNTERS CURTAIN' 'EXPRESS LONELY'\n",
      " 'HOURS RAGE' 'HUSTLER PARTY' 'JEOPARDY ENCINO' 'JOON NORTHWEST'\n",
      " 'MAGIC MALLRATS' 'MONEY HAROLD' 'OUTBREAK DIVINE' 'REIGN GENTLEMEN'\n",
      " 'SUMMER SCARFACE' 'BEETHOVEN EXORCIST' 'BEVERLY OUTLAW' 'BIRDS PERDITION'\n",
      " 'DUDE BLINDNESS' 'DUMBO LUST' 'FAMILY SWEET' 'FIREHOUSE VIETNAM'\n",
      " 'MATRIX SNOWMAN' 'SILENCE KANE' 'CLYDE THEORY' 'CRAZY HOME'\n",
      " 'FACTORY DRAGON' 'FERRIS MOTHER' 'GONE TROUBLE' 'GREEK EVERYONE'\n",
      " 'HOOSIERS BIRDCAGE' 'ROCKY WAR' 'WISDOM WORKER' 'BEHAVIOR RUNAWAY'\n",
      " 'CHAPLIN LICENSE' 'CRUSADE HONEY' 'DEEP CRUSADE' 'FEUD FROGMEN'\n",
      " 'FIDDLER LOST' 'HAROLD FRENCH' 'PACKER MADIGAN' 'PEACH INNOCENT'\n",
      " 'PEARL DESTINY' 'CHANCE RESURRECTION' 'DAUGHTER MADIGAN' 'DREAM PICKUP'\n",
      " 'FATAL HAUNTED' 'FEATHERS METAL' 'JUGGLER HARDLY' 'ROBBERS JOON'\n",
      " 'ROCK INSTINCT' 'TEEN APOLLO' 'TEMPLE ATTRACTION' 'WATERSHIP FRONTIER'\n",
      " 'WHISPERER GIANT' 'WRONG BEHAVIOR' 'DORADO NOTTING'\n",
      " 'GUNFIGHTER MUSSOLINI' 'KANE EXORCIST' 'LOATHING LEGALLY' 'PEAK FOREVER'\n",
      " 'REDEMPTION COMFORTS' 'SHIP WONDERLAND' 'SQUAD FISH' 'VOLUME HOUSE'\n",
      " 'BALLROOM MOCKINGBIRD' 'NASH CHOCOLAT' 'QUEST MUSSOLINI'\n",
      " 'ROCKETEER MOTHER' 'RUGRATS SHAKESPEARE' 'ALIEN CENTER' 'BLINDNESS GUN'\n",
      " 'GUN BONNIE' 'HEAVEN FREEDOM' 'INTOLERABLE INTENTIONS'\n",
      " 'MENAGERIE RUSHMORE' 'TALENTED HOMICIDE' 'TRUMAN CRAZY'\n",
      " 'VALENTINE VANISHING' 'WANDA CHAMBER' 'ALASKA PHANTOM' 'CARRIE BUNCH'\n",
      " 'FIREBALL PHILADELPHIA' 'INTRIGUE WORST' 'METROPOLIS COMA'\n",
      " 'PATHS CONTROL' 'STALLION SUNDANCE' 'STAMPEDE DISTURBING' 'UNITED PILOT'\n",
      " 'WATCH TRACY' 'WORKING MICROCOSMOS' 'ANALYZE HOOSIERS' 'CLUB GRAFFITI'\n",
      " 'CONGENIALITY QUEST' 'DESIRE ALIEN' 'FRISCO FORREST' 'GENTLEMEN STAGE'\n",
      " 'IDAHO LOVE' 'IDOLS SNATCHERS' 'KISSING DOLLS' 'LEGEND JEDI'\n",
      " 'PURPLE MOVIE' 'TARZAN VIDEOTAPE' 'BILKO ANONYMOUS' 'BINGO TALENTED'\n",
      " 'COMANCHEROS ENEMY' 'DESERT POSEIDON' 'EVERYONE CRAFT' 'EXORCIST STING']\n",
      "[2006]\n",
      "[ 6  2 13 10 14  4 11 15  8  3  9  5 12  1 16  7]\n"
     ]
    }
   ],
   "source": [
    "fn.check_unique(old, columns) #Parece Todo Bien"
   ]
  },
  {
   "cell_type": "code",
   "execution_count": 94,
   "id": "2549bf55",
   "metadata": {},
   "outputs": [
    {
     "name": "stdout",
     "output_type": "stream",
     "text": [
      "SANDRA    56\n",
      "VAL       35\n",
      "UMA       35\n",
      "JULIA     33\n",
      "RIP       33\n",
      "Name: first_name, dtype: int64\n",
      "OLIVIER    53\n",
      "PECK       43\n",
      "KILMER     37\n",
      "BOLGER     35\n",
      "WOOD       35\n",
      "Name: last_name, dtype: int64\n",
      "BOONDOCK BALLROOM     6\n",
      "FLASH WARS            5\n",
      "STRANGER STRANGERS    5\n",
      "OKLAHOMA JUMANJI      5\n",
      "CHITTY LOCK           5\n",
      "Name: title, dtype: int64\n",
      "2006    1000\n",
      "Name: release_year, dtype: int64\n",
      "15    79\n",
      "1     77\n",
      "2     75\n",
      "7     74\n",
      "13    73\n",
      "Name: category_id, dtype: int64\n"
     ]
    }
   ],
   "source": [
    "fn.check_value(old, columns) #Parece todo Correcto"
   ]
  },
  {
   "cell_type": "markdown",
   "id": "55a08176",
   "metadata": {},
   "source": [
    "### Duplicados"
   ]
  },
  {
   "cell_type": "code",
   "execution_count": 95,
   "id": "a7e353a3",
   "metadata": {},
   "outputs": [
    {
     "data": {
      "text/plain": [
       "False"
      ]
     },
     "execution_count": 95,
     "metadata": {},
     "output_type": "execute_result"
    }
   ],
   "source": [
    "old.duplicated().any() #No hay duplicados"
   ]
  },
  {
   "cell_type": "markdown",
   "id": "84d4ac25",
   "metadata": {},
   "source": [
    "### Cambio del tipo de dato, optimizacion de memoria"
   ]
  },
  {
   "cell_type": "code",
   "execution_count": 98,
   "id": "39b2911f",
   "metadata": {},
   "outputs": [
    {
     "name": "stdout",
     "output_type": "stream",
     "text": [
      "<class 'pandas.core.frame.DataFrame'>\n",
      "RangeIndex: 1000 entries, 0 to 999\n",
      "Data columns (total 5 columns):\n",
      " #   Column        Non-Null Count  Dtype \n",
      "---  ------        --------------  ----- \n",
      " 0   first_name    1000 non-null   object\n",
      " 1   last_name     1000 non-null   object\n",
      " 2   title         1000 non-null   object\n",
      " 3   release_year  1000 non-null   int64 \n",
      " 4   category_id   1000 non-null   int64 \n",
      "dtypes: int64(2), object(3)\n",
      "memory usage: 207.6 KB\n"
     ]
    }
   ],
   "source": [
    "old.info(memory_usage='deep')"
   ]
  },
  {
   "cell_type": "code",
   "execution_count": 99,
   "id": "9cea849f",
   "metadata": {},
   "outputs": [
    {
     "name": "stdout",
     "output_type": "stream",
     "text": [
      "<class 'pandas.core.frame.DataFrame'>\n",
      "RangeIndex: 1000 entries, 0 to 999\n",
      "Data columns (total 5 columns):\n",
      " #   Column        Non-Null Count  Dtype   \n",
      "---  ------        --------------  -----   \n",
      " 0   first_name    1000 non-null   category\n",
      " 1   last_name     1000 non-null   category\n",
      " 2   title         1000 non-null   category\n",
      " 3   release_year  1000 non-null   int64   \n",
      " 4   category_id   1000 non-null   int64   \n",
      "dtypes: category(3), int64(2)\n",
      "memory usage: 85.2 KB\n"
     ]
    }
   ],
   "source": [
    "for c in old.select_dtypes('object').columns:\n",
    "    \n",
    "    old[c]=old[c].astype('category')\n",
    "    \n",
    "old.info(memory_usage='deep')"
   ]
  },
  {
   "cell_type": "code",
   "execution_count": 100,
   "id": "12ea395d",
   "metadata": {},
   "outputs": [
    {
     "name": "stdout",
     "output_type": "stream",
     "text": [
      "<class 'pandas.core.frame.DataFrame'>\n",
      "RangeIndex: 1000 entries, 0 to 999\n",
      "Data columns (total 5 columns):\n",
      " #   Column        Non-Null Count  Dtype   \n",
      "---  ------        --------------  -----   \n",
      " 0   first_name    1000 non-null   category\n",
      " 1   last_name     1000 non-null   category\n",
      " 2   title         1000 non-null   category\n",
      " 3   release_year  1000 non-null   int16   \n",
      " 4   category_id   1000 non-null   int8    \n",
      "dtypes: category(3), int16(1), int8(1)\n",
      "memory usage: 72.5 KB\n"
     ]
    }
   ],
   "source": [
    "for c in old.select_dtypes('integer').columns:\n",
    "    \n",
    "    old[c]=pd.to_numeric(old[c], downcast='integer')\n",
    "    \n",
    "old.info(memory_usage='deep')"
   ]
  },
  {
   "cell_type": "markdown",
   "id": "54a807c7",
   "metadata": {},
   "source": [
    "# RENTAL"
   ]
  },
  {
   "cell_type": "code",
   "execution_count": 102,
   "id": "a4381b37",
   "metadata": {
    "scrolled": false
   },
   "outputs": [
    {
     "data": {
      "text/html": [
       "<div>\n",
       "<style scoped>\n",
       "    .dataframe tbody tr th:only-of-type {\n",
       "        vertical-align: middle;\n",
       "    }\n",
       "\n",
       "    .dataframe tbody tr th {\n",
       "        vertical-align: top;\n",
       "    }\n",
       "\n",
       "    .dataframe thead th {\n",
       "        text-align: right;\n",
       "    }\n",
       "</style>\n",
       "<table border=\"1\" class=\"dataframe\">\n",
       "  <thead>\n",
       "    <tr style=\"text-align: right;\">\n",
       "      <th></th>\n",
       "      <th>rental_id</th>\n",
       "      <th>rental_date</th>\n",
       "      <th>inventory_id</th>\n",
       "      <th>customer_id</th>\n",
       "      <th>return_date</th>\n",
       "      <th>staff_id</th>\n",
       "      <th>last_update</th>\n",
       "    </tr>\n",
       "  </thead>\n",
       "  <tbody>\n",
       "    <tr>\n",
       "      <th>0</th>\n",
       "      <td>1</td>\n",
       "      <td>2005-05-24 22:53:30</td>\n",
       "      <td>367</td>\n",
       "      <td>130</td>\n",
       "      <td>2005-05-26 22:04:30</td>\n",
       "      <td>1</td>\n",
       "      <td>2006-02-15 21:30:53</td>\n",
       "    </tr>\n",
       "    <tr>\n",
       "      <th>1</th>\n",
       "      <td>2</td>\n",
       "      <td>2005-05-24 22:54:33</td>\n",
       "      <td>1525</td>\n",
       "      <td>459</td>\n",
       "      <td>2005-05-28 19:40:33</td>\n",
       "      <td>1</td>\n",
       "      <td>2006-02-15 21:30:53</td>\n",
       "    </tr>\n",
       "    <tr>\n",
       "      <th>2</th>\n",
       "      <td>3</td>\n",
       "      <td>2005-05-24 23:03:39</td>\n",
       "      <td>1711</td>\n",
       "      <td>408</td>\n",
       "      <td>2005-06-01 22:12:39</td>\n",
       "      <td>1</td>\n",
       "      <td>2006-02-15 21:30:53</td>\n",
       "    </tr>\n",
       "    <tr>\n",
       "      <th>3</th>\n",
       "      <td>4</td>\n",
       "      <td>2005-05-24 23:04:41</td>\n",
       "      <td>2452</td>\n",
       "      <td>333</td>\n",
       "      <td>2005-06-03 01:43:41</td>\n",
       "      <td>2</td>\n",
       "      <td>2006-02-15 21:30:53</td>\n",
       "    </tr>\n",
       "    <tr>\n",
       "      <th>4</th>\n",
       "      <td>5</td>\n",
       "      <td>2005-05-24 23:05:21</td>\n",
       "      <td>2079</td>\n",
       "      <td>222</td>\n",
       "      <td>2005-06-02 04:33:21</td>\n",
       "      <td>1</td>\n",
       "      <td>2006-02-15 21:30:53</td>\n",
       "    </tr>\n",
       "  </tbody>\n",
       "</table>\n",
       "</div>"
      ],
      "text/plain": [
       "   rental_id          rental_date  inventory_id  customer_id  \\\n",
       "0          1  2005-05-24 22:53:30           367          130   \n",
       "1          2  2005-05-24 22:54:33          1525          459   \n",
       "2          3  2005-05-24 23:03:39          1711          408   \n",
       "3          4  2005-05-24 23:04:41          2452          333   \n",
       "4          5  2005-05-24 23:05:21          2079          222   \n",
       "\n",
       "           return_date  staff_id          last_update  \n",
       "0  2005-05-26 22:04:30         1  2006-02-15 21:30:53  \n",
       "1  2005-05-28 19:40:33         1  2006-02-15 21:30:53  \n",
       "2  2005-06-01 22:12:39         1  2006-02-15 21:30:53  \n",
       "3  2005-06-03 01:43:41         2  2006-02-15 21:30:53  \n",
       "4  2005-06-02 04:33:21         1  2006-02-15 21:30:53  "
      ]
     },
     "execution_count": 102,
     "metadata": {},
     "output_type": "execute_result"
    }
   ],
   "source": [
    "rental.head()"
   ]
  },
  {
   "cell_type": "code",
   "execution_count": 103,
   "id": "9b382c90",
   "metadata": {
    "scrolled": true
   },
   "outputs": [
    {
     "name": "stdout",
     "output_type": "stream",
     "text": [
      "<class 'pandas.core.frame.DataFrame'>\n",
      "RangeIndex: 1000 entries, 0 to 999\n",
      "Data columns (total 7 columns):\n",
      " #   Column        Non-Null Count  Dtype \n",
      "---  ------        --------------  ----- \n",
      " 0   rental_id     1000 non-null   int64 \n",
      " 1   rental_date   1000 non-null   object\n",
      " 2   inventory_id  1000 non-null   int64 \n",
      " 3   customer_id   1000 non-null   int64 \n",
      " 4   return_date   1000 non-null   object\n",
      " 5   staff_id      1000 non-null   int64 \n",
      " 6   last_update   1000 non-null   object\n",
      "dtypes: int64(4), object(3)\n",
      "memory usage: 254.0 KB\n"
     ]
    }
   ],
   "source": [
    "rental.info(memory_usage='deep') #Sin nulos"
   ]
  },
  {
   "cell_type": "code",
   "execution_count": 104,
   "id": "7c259e8d",
   "metadata": {},
   "outputs": [
    {
     "data": {
      "text/plain": [
       "Index(['rental_id', 'rental_date', 'inventory_id', 'customer_id',\n",
       "       'return_date', 'staff_id', 'last_update'],\n",
       "      dtype='object')"
      ]
     },
     "execution_count": 104,
     "metadata": {},
     "output_type": "execute_result"
    }
   ],
   "source": [
    "columns = rental.columns\n",
    "columns"
   ]
  },
  {
   "cell_type": "code",
   "execution_count": 105,
   "id": "5dd75015",
   "metadata": {},
   "outputs": [
    {
     "data": {
      "text/plain": [
       "(1000, 7)"
      ]
     },
     "execution_count": 105,
     "metadata": {},
     "output_type": "execute_result"
    }
   ],
   "source": [
    "rental.shape"
   ]
  },
  {
   "cell_type": "markdown",
   "id": "5e156780",
   "metadata": {},
   "source": [
    "### Nulos"
   ]
  },
  {
   "cell_type": "code",
   "execution_count": 106,
   "id": "ce7c395e",
   "metadata": {},
   "outputs": [
    {
     "data": {
      "text/plain": [
       "'N nan cols: 0'"
      ]
     },
     "metadata": {},
     "output_type": "display_data"
    },
    {
     "data": {
      "text/plain": [
       "Series([], dtype: float64)"
      ]
     },
     "metadata": {},
     "output_type": "display_data"
    },
    {
     "data": {
      "image/png": "[encoded data removed]",
      "text/plain": [
       "<Figure size 720x432 with 1 Axes>"
      ]
     },
     "metadata": {
      "needs_background": "light"
     },
     "output_type": "display_data"
    }
   ],
   "source": [
    "fn.check_nan(rental) #Columna entera de nulos"
   ]
  },
  {
   "cell_type": "markdown",
   "id": "a64504e7",
   "metadata": {},
   "source": [
    "### Valores incorrectos"
   ]
  },
  {
   "cell_type": "code",
   "execution_count": 107,
   "id": "0ac63cae",
   "metadata": {},
   "outputs": [
    {
     "name": "stdout",
     "output_type": "stream",
     "text": [
      "[   1    2    3    4    5    6    7    8    9   10   11   12   13   14\n",
      "   15   16   17   18   19   20   21   22   23   24   25   26   27   28\n",
      "   29   30   31   32   33   34   35   36   37   38   39   40   41   42\n",
      "   43   44   45   46   47   48   49   50   51   52   53   54   55   56\n",
      "   57   58   59   60   61   62   63   64   65   66   67   68   69   70\n",
      "   71   72   73   74   75   76   77   78   79   80   81   82   83   84\n",
      "   85   86   87   88   89   90   91   92   93   94   95   96   97   98\n",
      "   99  100  101  102  103  104  105  106  107  108  109  110  111  112\n",
      "  113  114  115  116  117  118  119  120  121  122  123  124  125  126\n",
      "  127  128  129  130  131  132  133  134  135  136  137  138  139  140\n",
      "  141  142  143  144  145  146  147  148  149  150  151  152  153  154\n",
      "  155  156  157  158  159  160  161  162  163  164  165  166  167  168\n",
      "  169  170  171  172  173  174  175  176  177  178  179  180  181  182\n",
      "  183  184  185  186  187  188  189  190  191  192  193  194  195  196\n",
      "  197  198  199  200  201  202  203  204  205  206  207  208  209  210\n",
      "  211  212  213  214  215  216  217  218  219  220  221  222  223  224\n",
      "  225  226  227  228  229  230  231  232  233  234  235  236  237  238\n",
      "  239  240  241  242  243  244  245  246  247  248  249  250  251  252\n",
      "  253  254  255  256  257  258  259  260  261  262  263  264  265  266\n",
      "  267  268  269  270  271  272  273  274  275  276  277  278  279  280\n",
      "  281  282  283  284  285  286  287  288  289  290  291  292  293  294\n",
      "  295  296  297  298  299  300  301  302  303  304  305  306  307  308\n",
      "  309  310  311  312  313  314  315  316  317  318  319  320  322  323\n",
      "  324  325  326  327  328  329  330  331  332  333  334  335  336  337\n",
      "  338  339  340  341  342  343  344  345  346  347  348  349  350  351\n",
      "  352  353  354  355  356  357  358  359  360  361  362  363  364  365\n",
      "  366  367  368  369  370  371  372  373  374  375  376  377  378  379\n",
      "  380  381  382  383  384  385  386  387  388  389  390  391  392  393\n",
      "  394  395  396  397  398  399  400  401  402  403  404  405  406  407\n",
      "  408  409  410  411  412  413  414  415  416  417  418  419  420  421\n",
      "  422  423  424  425  426  427  428  429  430  431  432  433  434  435\n",
      "  436  437  438  439  440  441  442  443  444  445  446  447  448  449\n",
      "  450  451  452  453  454  455  456  457  458  459  460  461  462  463\n",
      "  464  465  466  467  468  469  470  471  472  473  474  475  476  477\n",
      "  478  479  480  481  482  483  484  485  486  487  488  489  490  491\n",
      "  492  493  494  495  496  497  498  499  500  501  502  503  504  505\n",
      "  506  507  508  509  510  511  512  513  514  515  516  517  518  519\n",
      "  520  521  522  523  524  525  526  527  528  529  530  531  532  533\n",
      "  534  535  536  537  538  539  540  541  542  543  544  545  546  547\n",
      "  548  549  550  551  552  553  554  555  556  557  558  559  560  561\n",
      "  562  563  564  565  566  567  568  569  570  571  572  573  574  575\n",
      "  576  577  578  579  580  581  582  583  584  585  586  587  588  589\n",
      "  590  591  592  593  594  595  596  597  598  599  600  601  602  603\n",
      "  604  605  606  607  608  609  610  611  612  613  614  615  616  617\n",
      "  618  619  620  621  622  623  624  625  626  627  628  629  630  631\n",
      "  632  633  634  635  636  637  638  639  640  641  642  643  644  645\n",
      "  646  647  648  649  650  651  652  653  654  655  656  657  658  659\n",
      "  660  661  662  663  664  665  666  667  668  669  670  671  672  673\n",
      "  674  675  676  677  678  679  680  681  682  683  684  685  686  687\n",
      "  688  689  690  691  692  693  694  695  696  697  698  699  700  701\n",
      "  702  703  704  705  706  707  708  709  710  711  712  713  714  715\n",
      "  716  717  718  719  720  721  722  723  724  725  726  727  728  729\n",
      "  730  731  732  733  734  735  736  737  738  739  740  741  742  743\n",
      "  744  745  746  747  748  749  750  751  752  753  754  755  756  757\n",
      "  758  759  760  761  762  763  764  765  766  767  768  769  770  771\n",
      "  772  773  774  775  776  777  778  779  780  781  782  783  784  785\n",
      "  786  787  788  789  790  791  792  793  794  795  796  797  798  799\n",
      "  800  801  802  803  804  805  806  807  808  809  810  811  812  813\n",
      "  814  815  816  817  818  819  820  821  822  823  824  825  826  827\n",
      "  828  829  830  831  832  833  834  835  836  837  838  839  840  841\n",
      "  842  843  844  845  846  847  848  849  850  851  852  853  854  855\n",
      "  856  857  858  859  860  861  862  863  864  865  866  867  868  869\n",
      "  870  871  872  873  874  875  876  877  878  879  880  881  882  883\n",
      "  884  885  886  887  888  889  890  891  892  893  894  895  896  897\n",
      "  898  899  900  901  902  903  904  905  906  907  908  909  910  911\n",
      "  912  913  914  915  916  917  918  919  920  921  922  923  924  925\n",
      "  926  927  928  929  930  931  932  933  934  935  936  937  938  939\n",
      "  940  941  942  943  944  945  946  947  948  949  950  951  952  953\n",
      "  954  955  956  957  958  959  960  961  962  963  964  965  966  967\n",
      "  968  969  970  971  972  973  974  975  976  977  978  979  980  981\n",
      "  982  983  984  985  986  987  988  989  990  991  992  993  994  995\n",
      "  996  997  998  999 1000 1001]\n",
      "['2005-05-24 22:53:30' '2005-05-24 22:54:33' '2005-05-24 23:03:39'\n",
      " '2005-05-24 23:04:41' '2005-05-24 23:05:21' '2005-05-24 23:08:07'\n",
      " '2005-05-24 23:11:53' '2005-05-24 23:31:46' '2005-05-25 00:00:40'\n",
      " '2005-05-25 00:02:21' '2005-05-25 00:09:02' '2005-05-25 00:19:27'\n",
      " '2005-05-25 00:22:55' '2005-05-25 00:31:15' '2005-05-25 00:39:22'\n",
      " '2005-05-25 00:43:11' '2005-05-25 01:06:36' '2005-05-25 01:10:47'\n",
      " '2005-05-25 01:17:24' '2005-05-25 01:48:41' '2005-05-25 01:59:46'\n",
      " '2005-05-25 02:19:23' '2005-05-25 02:40:21' '2005-05-25 02:53:02'\n",
      " '2005-05-25 03:21:20' '2005-05-25 03:36:50' '2005-05-25 03:41:50'\n",
      " '2005-05-25 03:42:37' '2005-05-25 03:47:12' '2005-05-25 04:01:32'\n",
      " '2005-05-25 04:05:17' '2005-05-25 04:06:21' '2005-05-25 04:18:51'\n",
      " '2005-05-25 04:19:28' '2005-05-25 04:24:36' '2005-05-25 04:36:26'\n",
      " '2005-05-25 04:44:31' '2005-05-25 04:47:44' '2005-05-25 04:51:46'\n",
      " '2005-05-25 05:09:04' '2005-05-25 05:12:29' '2005-05-25 05:24:58'\n",
      " '2005-05-25 05:39:25' '2005-05-25 05:53:23' '2005-05-25 05:59:39'\n",
      " '2005-05-25 06:04:08' '2005-05-25 06:05:20' '2005-05-25 06:20:46'\n",
      " '2005-05-25 06:39:35' '2005-05-25 06:44:53' '2005-05-25 06:49:10'\n",
      " '2005-05-25 06:51:29' '2005-05-25 07:19:16' '2005-05-25 07:23:25'\n",
      " '2005-05-25 08:26:13' '2005-05-25 08:28:11' '2005-05-25 08:43:32'\n",
      " '2005-05-25 08:53:14' '2005-05-25 08:56:42' '2005-05-25 08:58:25'\n",
      " '2005-05-25 09:01:57' '2005-05-25 09:18:52' '2005-05-25 09:19:16'\n",
      " '2005-05-25 09:21:29' '2005-05-25 09:32:03' '2005-05-25 09:35:12'\n",
      " '2005-05-25 09:41:01' '2005-05-25 09:47:31' '2005-05-25 10:10:14'\n",
      " '2005-05-25 10:15:23' '2005-05-25 10:26:39' '2005-05-25 10:52:13'\n",
      " '2005-05-25 11:00:07' '2005-05-25 11:09:48' '2005-05-25 11:13:34'\n",
      " '2005-05-25 11:30:37' '2005-05-25 11:31:59' '2005-05-25 11:35:18'\n",
      " '2005-05-25 12:11:07' '2005-05-25 12:12:07' '2005-05-25 12:15:19'\n",
      " '2005-05-25 12:17:46' '2005-05-25 12:30:15' '2005-05-25 12:36:30'\n",
      " '2005-05-25 13:05:34' '2005-05-25 13:36:12' '2005-05-25 13:52:43'\n",
      " '2005-05-25 14:13:54' '2005-05-25 14:28:29' '2005-05-25 14:31:25'\n",
      " '2005-05-25 14:57:22' '2005-05-25 15:38:46' '2005-05-25 15:54:16'\n",
      " '2005-05-25 16:03:42' '2005-05-25 16:12:52' '2005-05-25 16:32:19'\n",
      " '2005-05-25 16:34:24' '2005-05-25 16:48:24' '2005-05-25 16:50:20'\n",
      " '2005-05-25 16:50:28' '2005-05-25 17:17:04' '2005-05-25 17:22:10'\n",
      " '2005-05-25 17:30:42' '2005-05-25 17:46:33' '2005-05-25 17:54:12'\n",
      " '2005-05-25 18:18:19' '2005-05-25 18:28:09' '2005-05-25 18:30:05'\n",
      " '2005-05-25 18:40:20' '2005-05-25 18:43:49' '2005-05-25 18:45:19'\n",
      " '2005-05-25 18:57:24' '2005-05-25 19:07:40' '2005-05-25 19:12:42'\n",
      " '2005-05-25 19:13:25' '2005-05-25 19:27:51' '2005-05-25 19:30:46'\n",
      " '2005-05-25 19:31:18' '2005-05-25 19:37:02' '2005-05-25 19:37:47'\n",
      " '2005-05-25 19:41:29' '2005-05-25 19:46:21' '2005-05-25 20:26:42'\n",
      " '2005-05-25 20:46:11' '2005-05-25 20:48:50' '2005-05-25 21:07:59'\n",
      " '2005-05-25 21:10:40' '2005-05-25 21:19:53' '2005-05-25 21:20:03'\n",
      " '2005-05-25 21:21:56' '2005-05-25 21:42:46' '2005-05-25 21:46:54'\n",
      " '2005-05-25 21:48:30' '2005-05-25 21:48:41' '2005-05-25 21:58:58'\n",
      " '2005-05-25 22:02:30' '2005-05-25 22:25:18' '2005-05-25 22:48:22'\n",
      " '2005-05-25 23:00:21' '2005-05-25 23:34:22' '2005-05-25 23:34:53'\n",
      " '2005-05-25 23:43:47' '2005-05-25 23:45:52' '2005-05-25 23:49:56'\n",
      " '2005-05-25 23:59:03' '2005-05-26 00:07:11' '2005-05-26 00:17:50'\n",
      " '2005-05-26 00:25:23' '2005-05-26 00:28:05' '2005-05-26 00:28:39'\n",
      " '2005-05-26 00:37:28' '2005-05-26 00:41:10' '2005-05-26 00:47:47'\n",
      " '2005-05-26 00:55:56' '2005-05-26 01:15:05' '2005-05-26 01:19:05'\n",
      " '2005-05-26 01:25:21' '2005-05-26 01:27:11' '2005-05-26 01:34:28'\n",
      " '2005-05-26 01:46:20' '2005-05-26 01:51:48' '2005-05-26 02:02:05'\n",
      " '2005-05-26 02:26:23' '2005-05-26 02:26:49' '2005-05-26 02:28:36'\n",
      " '2005-05-26 02:49:11' '2005-05-26 02:50:31' '2005-05-26 03:07:43'\n",
      " '2005-05-26 03:09:30' '2005-05-26 03:11:12' '2005-05-26 03:14:15'\n",
      " '2005-05-26 03:17:42' '2005-05-26 03:42:10' '2005-05-26 03:44:10'\n",
      " '2005-05-26 03:46:26' '2005-05-26 03:47:39' '2005-05-26 04:14:29'\n",
      " '2005-05-26 04:21:46' '2005-05-26 04:26:06' '2005-05-26 04:46:23'\n",
      " '2005-05-26 04:47:06' '2005-05-26 04:49:17' '2005-05-26 05:01:18'\n",
      " '2005-05-26 05:29:49' '2005-05-26 05:30:03' '2005-05-26 05:32:52'\n",
      " '2005-05-26 05:42:37' '2005-05-26 05:47:12' '2005-05-26 06:01:41'\n",
      " '2005-05-26 06:11:28' '2005-05-26 06:14:06' '2005-05-26 06:20:37'\n",
      " '2005-05-26 06:41:48' '2005-05-26 06:52:33' '2005-05-26 06:52:36'\n",
      " '2005-05-26 06:55:58' '2005-05-26 06:59:21' '2005-05-26 07:03:49'\n",
      " '2005-05-26 07:11:58' '2005-05-26 07:12:21' '2005-05-26 07:13:45'\n",
      " '2005-05-26 07:27:36' '2005-05-26 07:27:57' '2005-05-26 07:30:37'\n",
      " '2005-05-26 07:59:37' '2005-05-26 08:01:54' '2005-05-26 08:04:38'\n",
      " '2005-05-26 08:10:22' '2005-05-26 08:14:01' '2005-05-26 08:14:15'\n",
      " '2005-05-26 08:33:10' '2005-05-26 08:34:41' '2005-05-26 08:44:08'\n",
      " '2005-05-26 08:48:49' '2005-05-26 09:02:47' '2005-05-26 09:17:43'\n",
      " '2005-05-26 09:24:26' '2005-05-26 09:27:09' '2005-05-26 09:41:45'\n",
      " '2005-05-26 10:06:49' '2005-05-26 10:14:09' '2005-05-26 10:14:38'\n",
      " '2005-05-26 10:15:23' '2005-05-26 10:18:27' '2005-05-26 10:27:50'\n",
      " '2005-05-26 10:44:04' '2005-05-26 10:51:46' '2005-05-26 10:54:28'\n",
      " '2005-05-26 11:19:20' '2005-05-26 11:31:50' '2005-05-26 11:31:59'\n",
      " '2005-05-26 11:38:05' '2005-05-26 11:43:44' '2005-05-26 11:47:20'\n",
      " '2005-05-26 11:51:09' '2005-05-26 11:53:49' '2005-05-26 12:15:13'\n",
      " '2005-05-26 12:30:22' '2005-05-26 12:30:26' '2005-05-26 12:40:23'\n",
      " '2005-05-26 12:49:01' '2005-05-26 13:05:08' '2005-05-26 13:06:05'\n",
      " '2005-05-26 13:40:40' '2005-05-26 13:46:59' '2005-05-26 13:57:07'\n",
      " '2005-05-26 14:01:05' '2005-05-26 14:07:58' '2005-05-26 14:19:09'\n",
      " '2005-05-26 14:30:24' '2005-05-26 14:35:40' '2005-05-26 14:39:53'\n",
      " '2005-05-26 14:43:14' '2005-05-26 14:43:48' '2005-05-26 14:52:15'\n",
      " '2005-05-26 15:20:58' '2005-05-26 15:27:05' '2005-05-26 15:28:14'\n",
      " '2005-05-26 15:32:46' '2005-05-26 15:42:20' '2005-05-26 15:44:23'\n",
      " '2005-05-26 15:46:56' '2005-05-26 15:47:40' '2005-05-26 16:00:49'\n",
      " '2005-05-26 16:07:38' '2005-05-26 16:08:05' '2005-05-26 16:16:21'\n",
      " '2005-05-26 16:19:08' '2005-05-26 16:19:46' '2005-05-26 16:20:56'\n",
      " '2005-05-26 16:22:01' '2005-05-26 16:27:11' '2005-05-26 16:29:36'\n",
      " '2005-05-26 16:48:51' '2005-05-26 17:09:53' '2005-05-26 17:16:07'\n",
      " '2005-05-26 17:32:11' '2005-05-26 17:40:58' '2005-05-26 18:02:50'\n",
      " '2005-05-26 18:36:58' '2005-05-26 18:49:35' '2005-05-26 18:56:26'\n",
      " '2005-05-26 19:05:05' '2005-05-26 19:21:44' '2005-05-26 19:41:40'\n",
      " '2005-05-26 19:44:51' '2005-05-26 19:44:54' '2005-05-26 19:47:49'\n",
      " '2005-05-26 20:01:09' '2005-05-26 20:08:33' '2005-05-26 20:20:47'\n",
      " '2005-05-26 20:22:12' '2005-05-26 20:27:02' '2005-05-26 20:29:57'\n",
      " '2005-05-26 20:33:20' '2005-05-26 20:35:19' '2005-05-26 20:48:48'\n",
      " '2005-05-26 20:52:26' '2005-05-26 20:55:36' '2005-05-26 20:57:00'\n",
      " '2005-05-26 21:06:14' '2005-05-26 21:13:46' '2005-05-26 21:16:52'\n",
      " '2005-05-26 21:21:28' '2005-05-26 21:22:07' '2005-05-26 21:31:57'\n",
      " '2005-05-26 21:48:13' '2005-05-26 22:01:39' '2005-05-26 22:38:10'\n",
      " '2005-05-26 22:41:07' '2005-05-26 22:51:37' '2005-05-26 22:52:19'\n",
      " '2005-05-26 22:56:19' '2005-05-26 23:09:41' '2005-05-26 23:12:55'\n",
      " '2005-05-26 23:22:55' '2005-05-26 23:23:56' '2005-05-26 23:37:39'\n",
      " '2005-05-26 23:52:13' '2005-05-27 00:09:24' '2005-05-27 00:47:35'\n",
      " '2005-05-27 00:49:27' '2005-05-27 01:00:04' '2005-05-27 01:09:55'\n",
      " '2005-05-27 01:10:11' '2005-05-27 01:18:57' '2005-05-27 01:29:31'\n",
      " '2005-05-27 01:57:14' '2005-05-27 02:15:30' '2005-05-27 02:22:26'\n",
      " '2005-05-27 02:27:10' '2005-05-27 02:52:21' '2005-05-27 03:03:07'\n",
      " '2005-05-27 03:07:10' '2005-05-27 03:15:23' '2005-05-27 03:22:30'\n",
      " '2005-05-27 03:42:52' '2005-05-27 03:47:18' '2005-05-27 03:55:25'\n",
      " '2005-05-27 04:01:42' '2005-05-27 04:11:04' '2005-05-27 04:13:41'\n",
      " '2005-05-27 04:30:22' '2005-05-27 04:32:25' '2005-05-27 04:34:41'\n",
      " '2005-05-27 04:40:33' '2005-05-27 04:50:56' '2005-05-27 04:53:11'\n",
      " '2005-05-27 05:01:28' '2005-05-27 05:39:03' '2005-05-27 05:48:19'\n",
      " '2005-05-27 06:03:39' '2005-05-27 06:12:26' '2005-05-27 06:15:33'\n",
      " '2005-05-27 06:32:30' '2005-05-27 06:37:15' '2005-05-27 06:43:59'\n",
      " '2005-05-27 06:48:33' '2005-05-27 06:51:14' '2005-05-27 07:03:28'\n",
      " '2005-05-27 07:10:25' '2005-05-27 07:14:00' '2005-05-27 07:20:12'\n",
      " '2005-05-27 07:31:20' '2005-05-27 07:33:54' '2005-05-27 07:37:02'\n",
      " '2005-05-27 07:42:29' '2005-05-27 07:46:49' '2005-05-27 07:49:43'\n",
      " '2005-05-27 08:08:18' '2005-05-27 08:13:58' '2005-05-27 08:16:25'\n",
      " '2005-05-27 08:26:30' '2005-05-27 08:49:21' '2005-05-27 08:58:15'\n",
      " '2005-05-27 09:04:05' '2005-05-27 09:23:22' '2005-05-27 09:25:32'\n",
      " '2005-05-27 09:34:39' '2005-05-27 09:43:25' '2005-05-27 10:12:00'\n",
      " '2005-05-27 10:12:20' '2005-05-27 10:18:20' '2005-05-27 10:23:25'\n",
      " '2005-05-27 10:26:31' '2005-05-27 10:35:27' '2005-05-27 10:37:27'\n",
      " '2005-05-27 10:45:41' '2005-05-27 11:02:26' '2005-05-27 11:03:55'\n",
      " '2005-05-27 11:14:42' '2005-05-27 11:18:25' '2005-05-27 11:26:11'\n",
      " '2005-05-27 11:45:49' '2005-05-27 11:47:04' '2005-05-27 12:29:02'\n",
      " '2005-05-27 12:44:03' '2005-05-27 12:48:38' '2005-05-27 12:51:44'\n",
      " '2005-05-27 12:57:55' '2005-05-27 13:17:18' '2005-05-27 13:28:52'\n",
      " '2005-05-27 13:31:51' '2005-05-27 13:32:39' '2005-05-27 13:46:46'\n",
      " '2005-05-27 13:57:38' '2005-05-27 13:57:39' '2005-05-27 14:10:58'\n",
      " '2005-05-27 14:11:22' '2005-05-27 14:14:14' '2005-05-27 14:17:23'\n",
      " '2005-05-27 14:45:37' '2005-05-27 14:48:20' '2005-05-27 14:51:45'\n",
      " '2005-05-27 15:02:10' '2005-05-27 15:07:27' '2005-05-27 15:13:17'\n",
      " '2005-05-27 15:15:11' '2005-05-27 15:19:38' '2005-05-27 15:30:13'\n",
      " '2005-05-27 15:31:55' '2005-05-27 15:32:57' '2005-05-27 15:34:01'\n",
      " '2005-05-27 15:51:30' '2005-05-27 15:56:57' '2005-05-27 16:10:04'\n",
      " '2005-05-27 16:10:58' '2005-05-27 16:21:26' '2005-05-27 16:22:10'\n",
      " '2005-05-27 16:31:05' '2005-05-27 16:40:29' '2005-05-27 16:40:40'\n",
      " '2005-05-27 16:54:27' '2005-05-27 17:17:09' '2005-05-27 17:21:04'\n",
      " '2005-05-27 17:47:22' '2005-05-27 17:52:34' '2005-05-27 17:54:48'\n",
      " '2005-05-27 18:00:35' '2005-05-27 18:11:05' '2005-05-27 18:12:13'\n",
      " '2005-05-27 18:35:20' '2005-05-27 18:39:15' '2005-05-27 18:42:57'\n",
      " '2005-05-27 18:48:41' '2005-05-27 18:57:02' '2005-05-27 19:03:08'\n",
      " '2005-05-27 19:13:15' '2005-05-27 19:18:54' '2005-05-27 19:27:54'\n",
      " '2005-05-27 19:30:33' '2005-05-27 19:31:16' '2005-05-27 19:31:36'\n",
      " '2005-05-27 19:43:29' '2005-05-27 19:50:06' '2005-05-27 19:52:29'\n",
      " '2005-05-27 19:58:36' '2005-05-27 20:00:04' '2005-05-27 20:02:03'\n",
      " '2005-05-27 20:08:55' '2005-05-27 20:10:36' '2005-05-27 20:11:47'\n",
      " '2005-05-27 20:42:44' '2005-05-27 20:44:36' '2005-05-27 20:57:07'\n",
      " '2005-05-27 21:10:03' '2005-05-27 21:13:10' '2005-05-27 21:14:26'\n",
      " '2005-05-27 21:17:08' '2005-05-27 21:32:42' '2005-05-27 21:36:15'\n",
      " '2005-05-27 21:36:34' '2005-05-27 22:11:56' '2005-05-27 22:16:26'\n",
      " '2005-05-27 22:31:36' '2005-05-27 22:33:33' '2005-05-27 22:38:20'\n",
      " '2005-05-27 22:39:10' '2005-05-27 22:47:39' '2005-05-27 22:49:27'\n",
      " '2005-05-27 22:53:02' '2005-05-27 23:00:25' '2005-05-27 23:26:45'\n",
      " '2005-05-27 23:40:52' '2005-05-27 23:51:12' '2005-05-28 00:00:30'\n",
      " '2005-05-28 00:07:50' '2005-05-28 00:09:12' '2005-05-28 00:09:56'\n",
      " '2005-05-28 00:13:35' '2005-05-28 00:24:58' '2005-05-28 00:34:11'\n",
      " '2005-05-28 00:39:31' '2005-05-28 00:40:48' '2005-05-28 00:43:41'\n",
      " '2005-05-28 00:54:39' '2005-05-28 01:01:21' '2005-05-28 01:05:07'\n",
      " '2005-05-28 01:05:25' '2005-05-28 01:09:36' '2005-05-28 01:34:43'\n",
      " '2005-05-28 01:35:25' '2005-05-28 02:05:34' '2005-05-28 02:06:37'\n",
      " '2005-05-28 02:09:19' '2005-05-28 02:31:19' '2005-05-28 02:40:50'\n",
      " '2005-05-28 02:51:12' '2005-05-28 02:52:14' '2005-05-28 03:04:04'\n",
      " '2005-05-28 03:07:50' '2005-05-28 03:08:10' '2005-05-28 03:09:28'\n",
      " '2005-05-28 03:10:10' '2005-05-28 03:11:47' '2005-05-28 03:17:57'\n",
      " '2005-05-28 03:18:02' '2005-05-28 03:22:33' '2005-05-28 03:27:37'\n",
      " '2005-05-28 03:32:22' '2005-05-28 03:33:20' '2005-05-28 03:53:26'\n",
      " '2005-05-28 03:57:28' '2005-05-28 04:25:33' '2005-05-28 04:27:37'\n",
      " '2005-05-28 04:28:38' '2005-05-28 04:30:05' '2005-05-28 04:34:17'\n",
      " '2005-05-28 05:13:01' '2005-05-28 05:23:38' '2005-05-28 05:36:58'\n",
      " '2005-05-28 06:14:46' '2005-05-28 06:15:25' '2005-05-28 06:16:32'\n",
      " '2005-05-28 06:17:33' '2005-05-28 06:20:55' '2005-05-28 06:21:05'\n",
      " '2005-05-28 06:26:16' '2005-05-28 06:40:25' '2005-05-28 06:41:58'\n",
      " '2005-05-28 06:42:13' '2005-05-28 06:43:34' '2005-05-28 07:03:00'\n",
      " '2005-05-28 07:10:20' '2005-05-28 07:16:25' '2005-05-28 07:24:28'\n",
      " '2005-05-28 07:34:56' '2005-05-28 07:35:37' '2005-05-28 07:39:16'\n",
      " '2005-05-28 07:44:18' '2005-05-28 07:53:38' '2005-05-28 08:14:44'\n",
      " '2005-05-28 08:23:16' '2005-05-28 08:31:14' '2005-05-28 08:31:36'\n",
      " '2005-05-28 08:36:22' '2005-05-28 08:38:43' '2005-05-28 08:39:02'\n",
      " '2005-05-28 08:53:02' '2005-05-28 08:54:06' '2005-05-28 09:01:21'\n",
      " '2005-05-28 09:10:49' '2005-05-28 09:12:09' '2005-05-28 09:26:31'\n",
      " '2005-05-28 09:51:39' '2005-05-28 09:56:20' '2005-05-28 09:57:36'\n",
      " '2005-05-28 10:12:41' '2005-05-28 10:15:04' '2005-05-28 10:17:41'\n",
      " '2005-05-28 10:30:13' '2005-05-28 10:35:23' '2005-05-28 10:44:28'\n",
      " '2005-05-28 10:56:09' '2005-05-28 10:56:10' '2005-05-28 11:09:14'\n",
      " '2005-05-28 11:15:48' '2005-05-28 11:19:23' '2005-05-28 11:19:53'\n",
      " '2005-05-28 11:20:29' '2005-05-28 11:33:46' '2005-05-28 11:48:55'\n",
      " '2005-05-28 11:49:00' '2005-05-28 11:50:45' '2005-05-28 12:03:00'\n",
      " '2005-05-28 12:05:33' '2005-05-28 12:08:37' '2005-05-28 12:27:50'\n",
      " '2005-05-28 13:06:50' '2005-05-28 13:11:04' '2005-05-28 13:21:08'\n",
      " '2005-05-28 13:33:23' '2005-05-28 13:41:56' '2005-05-28 13:59:54'\n",
      " '2005-05-28 14:00:03' '2005-05-28 14:01:02' '2005-05-28 14:04:50'\n",
      " '2005-05-28 14:05:57' '2005-05-28 14:08:19' '2005-05-28 14:08:22'\n",
      " '2005-05-28 14:15:54' '2005-05-28 14:27:51' '2005-05-28 14:37:07'\n",
      " '2005-05-28 14:39:10' '2005-05-28 14:48:39' '2005-05-28 15:02:41'\n",
      " '2005-05-28 15:03:44' '2005-05-28 15:04:02' '2005-05-28 15:15:25'\n",
      " '2005-05-28 15:18:18' '2005-05-28 15:24:54' '2005-05-28 15:27:22'\n",
      " '2005-05-28 15:33:28' '2005-05-28 15:35:52' '2005-05-28 15:45:39'\n",
      " '2005-05-28 15:49:14' '2005-05-28 15:50:07' '2005-05-28 15:52:26'\n",
      " '2005-05-28 15:54:45' '2005-05-28 15:58:12' '2005-05-28 15:58:22'\n",
      " '2005-05-28 16:01:28' '2005-05-28 16:13:22' '2005-05-28 16:35:46'\n",
      " '2005-05-28 16:58:09' '2005-05-28 17:04:43' '2005-05-28 17:05:46'\n",
      " '2005-05-28 17:19:15' '2005-05-28 17:24:51' '2005-05-28 17:36:32'\n",
      " '2005-05-28 17:37:50' '2005-05-28 17:37:59' '2005-05-28 17:40:35'\n",
      " '2005-05-28 17:46:57' '2005-05-28 17:47:58' '2005-05-28 18:14:29'\n",
      " '2005-05-28 18:24:43' '2005-05-28 18:25:02' '2005-05-28 18:43:26'\n",
      " '2005-05-28 18:45:47' '2005-05-28 18:49:12' '2005-05-28 18:52:11'\n",
      " '2005-05-28 18:59:12' '2005-05-28 19:14:09' '2005-05-28 19:16:14'\n",
      " '2005-05-28 19:22:52' '2005-05-28 19:25:54' '2005-05-28 19:35:45'\n",
      " '2005-05-28 19:45:40' '2005-05-28 19:46:50' '2005-05-28 20:08:47'\n",
      " '2005-05-28 20:12:20' '2005-05-28 20:15:30' '2005-05-28 20:16:20'\n",
      " '2005-05-28 20:18:24' '2005-05-28 20:23:09' '2005-05-28 20:23:23'\n",
      " '2005-05-28 20:27:53' '2005-05-28 20:53:31' '2005-05-28 21:01:25'\n",
      " '2005-05-28 21:09:31' '2005-05-28 21:23:02' '2005-05-28 21:31:08'\n",
      " '2005-05-28 21:38:39' '2005-05-28 21:48:51' '2005-05-28 21:49:02'\n",
      " '2005-05-28 21:54:45' '2005-05-28 22:03:25' '2005-05-28 22:04:03'\n",
      " '2005-05-28 22:04:30' '2005-05-28 22:05:29' '2005-05-28 22:07:30'\n",
      " '2005-05-28 22:11:35' '2005-05-28 22:22:44' '2005-05-28 22:27:51'\n",
      " '2005-05-28 23:00:08' '2005-05-28 23:15:48' '2005-05-28 23:24:57'\n",
      " '2005-05-28 23:27:26' '2005-05-28 23:39:44' '2005-05-28 23:53:18'\n",
      " '2005-05-29 00:09:48' '2005-05-29 00:13:15' '2005-05-29 00:17:51'\n",
      " '2005-05-29 00:27:10' '2005-05-29 00:32:09' '2005-05-29 00:45:24'\n",
      " '2005-05-29 00:46:53' '2005-05-29 00:54:53' '2005-05-29 01:01:26'\n",
      " '2005-05-29 01:32:10' '2005-05-29 01:42:31' '2005-05-29 01:49:43'\n",
      " '2005-05-29 01:50:53' '2005-05-29 01:59:10' '2005-05-29 02:04:04'\n",
      " '2005-05-29 02:10:52' '2005-05-29 02:11:44' '2005-05-29 02:18:54'\n",
      " '2005-05-29 02:26:27' '2005-05-29 02:27:30' '2005-05-29 02:29:36'\n",
      " '2005-05-29 02:44:43' '2005-05-29 02:48:52' '2005-05-29 03:05:49'\n",
      " '2005-05-29 03:18:19' '2005-05-29 03:23:47' '2005-05-29 03:48:01'\n",
      " '2005-05-29 03:48:36' '2005-05-29 03:49:03' '2005-05-29 04:02:24'\n",
      " '2005-05-29 04:10:17' '2005-05-29 04:15:21' '2005-05-29 04:22:41'\n",
      " '2005-05-29 04:35:29' '2005-05-29 04:37:44' '2005-05-29 04:52:23'\n",
      " '2005-05-29 05:16:05' '2005-05-29 05:17:30' '2005-05-29 05:28:47'\n",
      " '2005-05-29 05:30:31' '2005-05-29 05:34:44' '2005-05-29 05:53:23'\n",
      " '2005-05-29 06:03:41' '2005-05-29 06:05:29' '2005-05-29 06:08:15'\n",
      " '2005-05-29 06:12:38' '2005-05-29 06:35:13' '2005-05-29 07:00:59'\n",
      " '2005-05-29 07:25:16' '2005-05-29 07:32:51' '2005-05-29 07:35:21'\n",
      " '2005-05-29 07:38:52' '2005-05-29 08:08:13' '2005-05-29 08:10:07'\n",
      " '2005-05-29 08:11:31' '2005-05-29 08:20:08' '2005-05-29 08:28:18'\n",
      " '2005-05-29 08:30:36' '2005-05-29 08:35:49' '2005-05-29 08:36:30'\n",
      " '2005-05-29 08:39:02' '2005-05-29 09:13:08' '2005-05-29 09:22:57'\n",
      " '2005-05-29 09:25:10' '2005-05-29 09:26:34' '2005-05-29 09:27:00'\n",
      " '2005-05-29 09:33:33' '2005-05-29 09:41:40' '2005-05-29 09:55:43'\n",
      " '2005-05-29 10:14:15' '2005-05-29 10:16:42' '2005-05-29 10:18:59'\n",
      " '2005-05-29 10:26:29' '2005-05-29 10:28:45' '2005-05-29 10:29:47'\n",
      " '2005-05-29 10:31:56' '2005-05-29 10:57:57' '2005-05-29 11:07:25'\n",
      " '2005-05-29 11:09:01' '2005-05-29 11:15:51' '2005-05-29 11:32:15'\n",
      " '2005-05-29 11:37:35' '2005-05-29 11:38:34' '2005-05-29 11:47:02'\n",
      " '2005-05-29 12:20:19' '2005-05-29 12:30:46' '2005-05-29 12:51:44'\n",
      " '2005-05-29 12:56:50' '2005-05-29 12:59:14' '2005-05-29 13:08:06'\n",
      " '2005-05-29 13:18:05' '2005-05-29 13:19:43' '2005-05-29 13:23:26'\n",
      " '2005-05-29 13:35:35' '2005-05-29 14:07:58' '2005-05-29 14:09:53'\n",
      " '2005-05-29 14:17:17' '2005-05-29 14:18:32' '2005-05-29 14:23:58'\n",
      " '2005-05-29 14:38:57' '2005-05-29 14:41:18' '2005-05-29 14:44:22'\n",
      " '2005-05-29 15:08:41' '2005-05-29 15:17:28' '2005-05-29 16:03:03'\n",
      " '2005-05-29 16:13:55' '2005-05-29 16:17:07' '2005-05-29 16:19:29'\n",
      " '2005-05-29 16:30:42' '2005-05-29 16:32:10' '2005-05-29 16:44:08'\n",
      " '2005-05-29 16:44:11' '2005-05-29 16:57:39' '2005-05-29 16:59:44'\n",
      " '2005-05-29 17:12:17' '2005-05-29 17:23:43' '2005-05-29 17:24:48'\n",
      " '2005-05-29 17:28:12' '2005-05-29 17:35:50' '2005-05-29 17:38:59'\n",
      " '2005-05-29 17:52:30' '2005-05-29 18:10:24' '2005-05-29 18:18:18'\n",
      " '2005-05-29 18:31:30' '2005-05-29 18:50:50' '2005-05-29 19:08:20'\n",
      " '2005-05-29 19:10:20' '2005-05-29 19:12:04' '2005-05-29 19:30:42'\n",
      " '2005-05-29 20:00:30' '2005-05-29 20:14:34' '2005-05-29 20:16:12'\n",
      " '2005-05-29 20:24:28' '2005-05-29 20:26:39' '2005-05-29 20:39:14'\n",
      " '2005-05-29 20:47:53' '2005-05-29 21:00:32' '2005-05-29 21:07:22'\n",
      " '2005-05-29 21:31:12' '2005-05-29 21:36:00' '2005-05-29 21:39:37'\n",
      " '2005-05-29 21:45:32' '2005-05-29 21:49:41' '2005-05-29 21:56:15'\n",
      " '2005-05-29 21:58:43' '2005-05-29 22:14:55' '2005-05-29 22:16:42'\n",
      " '2005-05-29 22:43:55' '2005-05-29 22:50:25' '2005-05-29 22:51:20'\n",
      " '2005-05-29 23:21:56' '2005-05-29 23:24:30' '2005-05-29 23:37:00'\n",
      " '2005-05-29 23:56:42' '2005-05-30 00:02:08' '2005-05-30 00:27:57'\n",
      " '2005-05-30 00:28:12' '2005-05-30 00:28:41' '2005-05-30 00:31:17'\n",
      " '2005-05-30 00:32:04' '2005-05-30 00:44:24' '2005-05-30 00:58:20'\n",
      " '2005-05-30 01:17:25' '2005-05-30 01:17:45' '2005-05-30 01:18:15'\n",
      " '2005-05-30 01:19:53' '2005-05-30 01:23:07' '2005-05-30 01:35:12'\n",
      " '2005-05-30 01:35:15' '2005-05-30 01:36:57' '2005-05-30 01:43:31'\n",
      " '2005-05-30 01:56:11' '2005-05-30 02:00:28' '2005-05-30 02:01:21'\n",
      " '2005-05-30 02:01:23' '2005-05-30 02:10:32' '2005-05-30 02:36:20'\n",
      " '2005-05-30 02:45:16' '2005-05-30 02:48:32' '2005-05-30 03:09:11'\n",
      " '2005-05-30 03:14:59' '2005-05-30 03:27:17' '2005-05-30 03:39:44'\n",
      " '2005-05-30 03:43:54' '2005-05-30 03:54:43' '2005-05-30 04:19:55'\n",
      " '2005-05-30 04:22:06' '2005-05-30 04:25:47' '2005-05-30 05:01:30'\n",
      " '2005-05-30 05:03:04' '2005-05-30 05:15:20' '2005-05-30 05:36:21'\n",
      " '2005-05-30 05:38:24' '2005-05-30 05:41:22' '2005-05-30 05:48:59'\n",
      " '2005-05-30 05:49:13' '2005-05-30 05:49:42' '2005-05-30 06:12:33'\n",
      " '2005-05-30 06:15:36' '2005-05-30 06:16:06' '2005-05-30 06:21:05'\n",
      " '2005-05-30 06:41:32' '2005-05-30 06:54:28' '2005-05-30 06:54:51'\n",
      " '2005-05-30 07:10:00' '2005-05-30 07:13:14' '2005-05-30 07:14:53'\n",
      " '2005-05-30 07:43:04' '2005-05-30 07:43:12' '2005-05-30 08:02:56'\n",
      " '2005-05-30 08:06:59' '2005-05-30 08:31:31' '2005-05-30 08:50:43'\n",
      " '2005-05-30 09:03:52' '2005-05-30 09:10:01' '2005-05-30 09:26:19'\n",
      " '2005-05-30 09:29:30' '2005-05-30 09:38:41' '2005-05-30 09:40:40'\n",
      " '2005-05-30 09:53:36' '2005-05-30 10:11:29' '2005-05-30 10:19:42'\n",
      " '2005-05-30 10:25:00' '2005-05-30 10:30:38' '2005-05-30 10:37:27'\n",
      " '2005-05-30 10:38:37' '2005-05-30 10:43:38' '2005-05-30 10:46:16'\n",
      " '2005-05-30 10:50:22' '2005-05-30 10:58:33' '2005-05-30 11:04:58'\n",
      " '2005-05-30 11:06:00' '2005-05-30 11:20:27' '2005-05-30 11:25:01'\n",
      " '2005-05-30 11:27:06' '2005-05-30 11:32:24' '2005-05-30 11:35:06'\n",
      " '2005-05-30 11:44:01' '2005-05-30 11:53:09' '2005-05-30 11:55:55'\n",
      " '2005-05-30 11:58:50' '2005-05-30 12:10:59' '2005-05-30 12:13:52'\n",
      " '2005-05-30 12:15:54' '2005-05-30 12:16:40' '2005-05-30 12:27:14'\n",
      " '2005-05-30 12:32:39' '2005-05-30 12:44:57' '2005-05-30 12:53:01'\n",
      " '2005-05-30 12:55:36' '2005-05-30 13:08:45' '2005-05-30 13:24:46'\n",
      " '2005-05-30 13:29:36' '2005-05-30 13:52:49' '2005-05-30 14:47:31'\n",
      " '2005-05-30 14:49:34' '2005-05-30 15:01:02' '2005-05-30 15:02:25'\n",
      " '2005-05-30 15:05:47' '2005-05-30 15:20:19' '2005-05-30 15:26:24'\n",
      " '2005-05-30 15:33:17' '2005-05-30 15:35:08' '2005-05-30 15:36:57'\n",
      " '2005-05-30 15:44:27' '2005-05-30 15:50:39' '2005-05-30 16:06:08'\n",
      " '2005-05-30 16:10:35' '2005-05-30 16:28:07' '2005-05-30 16:34:02'\n",
      " '2005-05-30 16:57:29' '2005-05-30 16:59:03' '2005-05-30 17:30:28'\n",
      " '2005-05-30 17:53:29' '2005-05-30 17:58:03' '2005-05-30 18:07:00'\n",
      " '2005-05-30 18:13:23' '2005-05-30 18:16:44' '2005-05-30 18:45:17'\n",
      " '2005-05-30 18:52:53' '2005-05-30 18:53:21' '2005-05-30 19:00:14'\n",
      " '2005-05-30 19:00:37' '2005-05-30 19:12:06' '2005-05-30 19:20:03'\n",
      " '2005-05-30 19:23:48' '2005-05-30 19:50:28' '2005-05-30 20:10:52'\n",
      " '2005-05-30 20:21:07' '2005-05-30 20:27:45' '2005-05-30 20:28:42'\n",
      " '2005-05-30 21:07:15' '2005-05-30 21:11:19' '2005-05-30 21:22:26'\n",
      " '2005-05-30 21:30:52' '2005-05-30 21:37:11' '2005-05-30 21:45:19'\n",
      " '2005-05-30 21:52:42' '2005-05-30 22:15:24' '2005-05-30 22:15:51'\n",
      " '2005-05-30 22:17:17' '2005-05-30 22:18:35' '2005-05-30 22:22:52'\n",
      " '2005-05-30 22:59:12' '2005-05-30 23:08:03' '2005-05-30 23:11:51'\n",
      " '2005-05-30 23:25:14' '2005-05-30 23:29:22' '2005-05-30 23:47:56'\n",
      " '2005-05-30 23:54:19' '2005-05-30 23:55:36' '2005-05-31 00:06:02'\n",
      " '2005-05-31 00:06:20' '2005-05-31 00:08:25' '2005-05-31 00:16:57'\n",
      " '2005-05-31 00:25:10' '2005-05-31 00:25:56' '2005-05-31 00:46:31']\n",
      "[ 367 1525 1711 2452 2079 2792 3995 2346 2580 1824 4443 1584 2294 2701\n",
      " 3049  389  830 3376 1941 3517  146  727 4441 3273 3961 4371 1225 4068\n",
      "  611 3744 4482 3832 1681 2613 1286 1308  403 2540 4466 2638 1761  380\n",
      " 2578 3098 1853 3318 2211 1780 2965 1983 1257 4017 1255 2787 1139 1352\n",
      " 3938 3050 2884  330 4210  261 4008   79 3552 1162  239 4029 3207 2168\n",
      " 2408 2260  517 1744 3393 3021 1303 4067 3299 2478 2610 1388  466 1829\n",
      "  470 2275 1586 2221 2181 2984  139  775 4360 1675  178 3418 1283 2970\n",
      "  535 2599  617  373 3343 4281  794 3627 2833 3289 1044 4108 3725 2153\n",
      " 2963 4502  749 4453 4278  872 1359   37 1053 2908 1795  212  952 2047\n",
      " 2026 4322 4154 3990  815 3367  399 2272  103 2296 2591 4134  327  655\n",
      "  811 4407  847 1689 3905 1431  633 4252 1084  909 2942 2622 3888 1354\n",
      "  288 3193  887 2395 3453 1885 2941 1229 2306 1070 2735 3894  865 2714\n",
      " 1758 3688 4483 2873 3596 3954 4346  851 3545 1489 2575 2752 2417 4396\n",
      " 2877 1970 2598 1799 4004 3342  984 3962 4365 1897 3900 1337  506  190\n",
      " 4212 1789 2135 3926  776  674 3374 1842  303 1717  102 3669  729 1801\n",
      " 4005  764 1505 1453  679 1398 4395 2291 3074 1259 3578 2745 3121 4285\n",
      "  651 4181  214  511 1131 1085 4032 2945  715 1321 3537 1265  241  503\n",
      "  131 3420 4438 2095 1721 1041 3045 2829 4095 1913 2428  368 4352 1203\n",
      " 2969 1835 3264 3194 2570 3534   30  435 1369 4261 1160 2069 2276 3303\n",
      " 1206 1714 3501  207 2388  971 1590  656 1718 1221 1409  182  661 1896\n",
      " 1208 4486 3530  350 2486  314 3631 3546 2449 2776  485 4264 1828 2751\n",
      " 4030 3878 1594 1083 4376  249 3448 2921 1111 1701 2665 2781 1097  187\n",
      " 1946  593 2830 2008 4156 2851 2847 3828   26 2559 3024 1090 4556 2362\n",
      " 3364 2510 3979 2678 2524 2659 1536 1872 1529 4001 3973 1411 1811  751\n",
      " 2596 2410  946 4168 4019 3301 2327 1396 4319 1625 1825 2920 2756 3371\n",
      " 4369 3989 2058  141 2868 4417 1925 1156 3489    6 2324 4282  833 2887\n",
      "  360 3437 1247  944 3347 1235 4089 1649 4420 1815 3197 3012 2242 3462\n",
      " 1777 2748 4358  955  910 1565 1288 2684  434  691 3759 2193  263  145\n",
      " 1890  752 1020 4193 1686  553  258 2179  461 3983 1293 4090 2136 1077\n",
      " 1438 3652 4010 1434 1400 3516 1019 3698 2371 2253 3063 2514  619 2985\n",
      " 1152 1783 2815 1518 1103 1677 3349  129 1920 4507 1119 4364 3360 3328\n",
      " 4317 1800 4260  354 4452 1578 1457 2021  723 1757 1955 3890 2671 2469\n",
      " 1343  205 2993 4425 3499 3344 1699 2368 3350  597 4238 2077 2314  826\n",
      " 1313   20 1786  339 2656 4463 1613 2872 1338  802 1474 2520 2451 2437\n",
      "  424 2060 2108   72 4178 1510 3115 2392 1822 3774  393 1940 3524 1326\n",
      " 1999  184 1850 1007 1785 2636  458 2381 4500  601 3131 3005 2086   71\n",
      "  667 3621 4179 3416 4338 3827 2176  225 1697 3369 4357  234 4087 3564\n",
      " 3845 2397 3195 1905 1962 1817 1387  266 1655 2624 3332 1113 2793 4306\n",
      "  992 4209 2962 3095 2262 3427 3321 1662 4444  530 2964 1086  487 2065\n",
      " 3704 1818 3632 3119   23 1349 1951 4397 1814  158 4163 1227  644  928\n",
      " 3390   53 2973 1494 4330 3308 2232 4534 1122 4250 1899 4020 3883 4451\n",
      " 1866  375 2938 3481 3515 1380 4579 2679 1833 3544  898 1413   95 4231\n",
      "  473  377  638 1810 2766  595  821 4469  599 4136 1567 3225 1300 3248\n",
      " 1585 4232 3509 2561 4254 2944 3642 1230 2180  270  280 3397  989 4142\n",
      " 4445 2482 2444 1144 2363 1222 3660 2889  452  425 2513 1527 1254 2465\n",
      " 1287   58 2630 1648 4213 1581 2685 4204  495 3548  140 3105 4304 3128\n",
      " 1922 3435 3476 1781 4384  739 1201  126 2312  331 2846  848 3226 1382\n",
      " 1414 2247 2968 3997   87 1012 3075  797 3528 3677  227 1027  697 1769\n",
      " 1150 1273 2329 4558 3741  907 4147 3346 3160 2038 3242 1385 2441 1731\n",
      " 4135  742 2646 4034  800  635  592 4276 2076 3949 1412  130  500  372\n",
      " 2556 1123 2628 2809 2278  819 3133 2459  194 4581 4191 3664 2010 2030\n",
      "   85 1383 1736  267 3687 1116 4540 3407 3770 4088  933 1629  242 1688\n",
      " 3473 4124 2530 2951 3084 3421 3689  769 2284 1183  600 3189  273 2528\n",
      " 3722  581 4272 1993 2803 1146  730 2711 1720 1021  734 3090 3152 1067\n",
      " 1191 2367 3250 2342 3683 2022 1069  515 2154  687 2895 1523 2491  353\n",
      " 3319  245 1188 1197 4339  451 1816  533 1919   88 2255 3046 2936   39\n",
      " 2637 3919  763  708 2858 1554 2841  379 1995  609 2697 1446 1102 1713\n",
      "  441 1642  785 1602 3909 3132 2386 2195 1928 2114 2533 4419 1099 4554\n",
      " 1572 3757  630  186 4106  623 2584 3380 2634 3249 3518  712 2263   62\n",
      " 2468 1684 3464 3912 1381 2898 3628  299 3140  977 2859 1886 4049 4318\n",
      " 2328 2214  536 2001  938 4387 1363 2424 2390 2780 1622 3693  921 2527\n",
      " 3969 2569 1258 3032  578 3711 1186 3999 2777 3183 2867 3389 3604 3399\n",
      " 2903 4573 3904 4568  363 1428 1471  886 4265 4021 1819  602 3841 2271\n",
      " 4079  646 4356 2727  387 1299 1464 2611  471 3260 1118 2744 2817 1334\n",
      " 3497 1096 3543  760 1514 2423 2466 4372 1862 3320 4427 3775 2601 1404\n",
      " 3200 3213 1393 1859 1290 3629  818 4052 3860 1827 2442 1884 3279 3203\n",
      " 4327 1158  246 4296 2835 3384  719 3672 3595 2421  901 1054 1521 1314\n",
      " 1278 3630 4279 3737  151 1441 1264 4478  585 2202  491 1395 4389 2194\n",
      " 1231 4140  647 4428  548 3108 1966 3293 4535 1921  657 3363 1294 1954\n",
      "  119  443 1520 2911    2 1914 2617 3109 2290 2029  407 3917 4169 2913\n",
      " 3560   63 2305 1573 4045  390 1364 4388 4171 2863 3572 2080 2798   17\n",
      " 2075 4243 3395 4433 1774 1498]\n",
      "[130 459 408 333 222 549 269 239 126 399 142 261 334 446 319 316 575  19\n",
      " 456 185 388 509 438 350  37 371 301 232  44 430 369 230 272 597 484  88\n",
      " 535 302 207 413 174 523 532 436   7  35 282 498  18 256 507 569 291 131\n",
      " 511   6 323 470 250 419 383 368 346  86 119 120 305  73 100  48 391 265\n",
      " 510   1 451 135 245 314 286 427 492 414 266 331  53 499  25 267 288 197\n",
      " 400  49 263 208 468 343 384 310 108 196 317 242 503 227 500  93 506 455\n",
      " 524  51 365 405 273  43 246 439  94  40  23  56 325 479 237 304 504 560\n",
      " 586 257 354  89 472 297 357  82 433 274 429  14  57 348 551 462 344 505\n",
      " 290 182 296 104 151  33 322 401 469 381 107 176 533 552  47 548  75 587\n",
      " 254 556 125 515 243 247 412 437 270  29 564 184 546  54  71 321 444  20\n",
      " 109 528 114 345 379 170  59 394  98  91 121 309 489 542 143  83 460 318\n",
      " 467 221 571 312  58 531 566 536 211 103 214 543 158 240 102 545 539 204\n",
      " 187 416 390 373 502 482  21 236 449 251 303 417 200  92 193 311 133  45\n",
      " 167 582 359 162  17  81 577  65 448 387 596 534 464 547 375 277 409 201\n",
      " 594 203 238 249  60  77   2 496 144 292 432 105 231 248  67 299 194  16\n",
      " 275 165 516 209 378 473  36   9 118 157 452 382 198 152 147 134 361 508\n",
      "  22 295 337 306 584 183 298 213  28 112 544 422  46 424 168  84 220 307\n",
      " 219 475 150 284 522 161 190 574   3 525 403 293 172  87 127 529 300 565\n",
      " 447 364 442 557 101 154 159 445  32 491 398 476  95 228 501  64 526 287\n",
      " 199 145 179 111 421 434 113 110 480 374 138 223 169 589 514 315 493 450\n",
      " 106 376  55 572 463 324 253 155  76 588 173 181 186 386  69 490 308 244\n",
      " 538 294 393 332 590 537 426 554 494 580 595 471 372 407 495 241 360 428\n",
      "  42 465 396 281 327 578 166 415 313 338 148 461 411  85 117 330 252 518\n",
      " 215 259   5 363 454 276 483 420 576 435 563 146  50 149 124 352  72  27\n",
      " 562 553 593  26 402 171 235 225 474 441 573 217  79 380 517 530 122 406\n",
      " 358 328   8  99  52 326 339 477  62 128 349 192 156 561 486 366 115 385\n",
      " 550 137 141  66 367 210 440 520 581 279 262  11  12 123 513 216 389]\n",
      "['2005-05-26 22:04:30' '2005-05-28 19:40:33' '2005-06-01 22:12:39'\n",
      " '2005-06-03 01:43:41' '2005-06-02 04:33:21' '2005-05-27 01:32:07'\n",
      " '2005-05-29 20:34:53' '2005-05-27 23:33:46' '2005-05-28 00:22:40'\n",
      " '2005-05-31 22:44:21' '2005-06-02 20:56:02' '2005-05-30 05:44:27'\n",
      " '2005-05-30 04:28:55' '2005-05-26 02:56:15' '2005-06-03 03:30:22'\n",
      " '2005-05-26 04:42:11' '2005-05-27 00:43:36' '2005-05-31 06:35:47'\n",
      " '2005-05-31 06:00:24' '2005-05-27 02:20:41' '2005-05-26 01:01:46'\n",
      " '2005-05-26 04:52:23' '2005-05-29 06:34:21' '2005-05-27 01:15:02'\n",
      " '2005-05-27 21:25:20' '2005-05-31 00:34:50' '2005-05-30 01:13:50'\n",
      " '2005-05-26 09:26:37' '2005-05-30 00:31:12' '2005-05-30 03:12:32'\n",
      " '2005-05-30 07:15:17' '2005-05-25 23:55:21' '2005-05-27 03:58:51'\n",
      " '2005-05-29 00:10:28' '2005-05-27 07:02:36' '2005-05-29 00:31:26'\n",
      " '2005-05-29 01:03:31' '2005-06-01 00:58:44' '2005-05-31 03:14:46'\n",
      " '2005-05-27 23:12:04' '2005-06-02 00:28:29' '2005-05-31 02:47:58'\n",
      " '2005-05-26 06:54:25' '2005-05-29 10:56:23' '2005-06-02 09:56:39'\n",
      " '2005-06-02 08:18:08' '2005-05-30 03:04:20' '2005-06-02 05:42:46'\n",
      " '2005-05-30 10:12:35' '2005-05-28 11:28:53' '2005-05-26 06:42:10'\n",
      " '2005-05-31 01:27:29' '2005-05-27 05:19:16' '2005-06-01 05:05:25'\n",
      " '2005-05-30 10:57:13' '2005-05-26 14:21:11' '2005-05-29 06:42:32'\n",
      " '2005-05-28 14:40:14' '2005-06-01 09:52:42' '2005-05-30 14:14:25'\n",
      " '2005-06-02 07:22:57' '2005-05-30 10:55:52' '2005-05-27 04:24:16'\n",
      " '2005-06-03 11:31:29' '2005-05-29 14:21:03' '2005-05-29 04:16:12'\n",
      " '2005-05-27 13:46:01' '2005-05-31 10:20:31' '2005-05-27 14:02:14'\n",
      " '2005-05-27 05:56:23' '2005-05-28 04:59:39' '2005-05-28 05:52:13'\n",
      " '2005-06-01 13:56:07' '2005-05-26 12:23:48' '2005-06-03 12:58:34'\n",
      " '2005-06-03 12:00:37' '2005-05-26 16:53:59' '2005-05-31 12:48:18'\n",
      " '2005-06-03 10:54:07' '2005-05-31 17:46:07' '2005-06-02 14:08:19'\n",
      " '2005-06-01 10:48:46' '2005-05-27 15:40:15' '2005-05-29 18:33:30'\n",
      " '2005-05-29 16:53:34' '2005-05-30 14:53:12' '2005-05-29 11:12:43'\n",
      " '2005-05-29 09:32:54' '2005-05-29 14:33:29' '2005-06-01 10:07:25'\n",
      " '2005-06-01 18:32:22' '2005-05-31 13:40:46' '2005-06-03 20:18:16'\n",
      " '2005-05-30 14:23:42' '2005-06-02 18:55:52' '2005-05-30 10:47:19'\n",
      " '2005-05-28 12:13:24' '2005-05-27 11:29:24' '2005-05-28 18:52:20'\n",
      " '2005-06-02 22:11:28' '2005-05-31 19:47:04' '2005-05-31 19:47:10'\n",
      " '2005-06-03 22:36:42' '2005-05-27 15:20:33' '2005-05-30 12:03:12'\n",
      " '2005-06-04 00:01:19' '2005-06-03 22:46:09' '2005-05-30 19:40:05'\n",
      " '2005-05-29 20:39:20' '2005-06-03 18:13:49' '2005-05-28 17:18:19'\n",
      " '2005-06-02 20:44:24' '2005-05-27 22:16:40' '2005-06-01 23:10:42'\n",
      " '2005-05-29 20:17:25' '2005-05-26 16:23:51' '2005-05-31 23:59:46'\n",
      " '2005-05-31 15:00:18' '2005-05-29 23:51:02' '2005-06-01 23:29:47'\n",
      " '2005-05-29 21:31:29' '2005-06-02 19:07:21' '2005-05-26 19:41:42'\n",
      " '2005-05-30 00:47:11' '2005-06-02 21:39:50' '2005-05-28 18:51:59'\n",
      " '2005-06-02 21:38:40' '2005-05-29 23:34:53' '2005-06-04 01:25:03'\n",
      " '2005-05-30 22:41:56' '2005-05-30 23:25:46' '2005-05-31 21:02:54'\n",
      " '2005-05-30 00:26:30' '2005-06-02 18:28:41' '2005-06-03 17:50:58'\n",
      " '2005-05-31 18:06:30' '2005-06-01 02:30:18' '2005-05-29 20:21:22'\n",
      " '2005-05-29 17:12:21' '2005-05-27 01:10:22' '2005-06-02 01:57:53'\n",
      " '2005-05-29 00:46:47' '2005-05-27 21:41:52' '2005-06-01 21:41:56'\n",
      " '2005-05-31 02:56:03' '2005-06-04 00:20:11' '2005-05-29 23:21:50'\n",
      " '2005-06-01 19:29:23' '2005-06-02 21:30:05' '2005-06-01 02:10:39'\n",
      " '2005-05-30 06:28:28' '2005-06-03 06:05:10' '2005-05-27 21:28:47'\n",
      " '2005-05-29 23:18:56' '2005-06-01 00:03:05' '2005-05-27 23:43:05'\n",
      " '2005-05-26 21:17:21' '2005-06-03 00:30:11' '2005-05-29 04:00:28'\n",
      " '2005-06-01 05:45:20' '2005-05-27 05:42:48' '2005-05-27 03:38:05'\n",
      " '2005-06-04 06:36:23' '2005-05-28 00:32:49' '2005-06-02 03:21:36'\n",
      " '2005-05-31 01:28:11' '2005-05-27 03:07:31' '2005-06-02 02:09:43'\n",
      " '2005-05-27 01:37:30' '2005-06-02 03:53:12' '2005-06-03 00:24:15'\n",
      " '2005-05-29 04:11:42' '2005-05-28 01:37:10' '2005-05-28 07:13:10'\n",
      " '2005-06-03 06:01:26' '2005-06-01 02:36:39' '2005-06-01 08:16:29'\n",
      " '2005-06-04 07:09:46' '2005-06-03 10:06:06' '2005-06-01 09:58:23'\n",
      " '2005-05-29 06:34:06' '2005-06-01 05:43:17' '2005-06-01 09:04:18'\n",
      " '2005-05-28 10:10:49' '2005-06-02 09:48:03' '2005-06-03 07:19:52'\n",
      " '2005-06-04 00:38:37' '2005-05-26 23:48:12' '2005-05-27 06:11:41'\n",
      " '2005-06-01 09:44:28' '2005-05-28 05:33:06' '2005-06-02 10:57:37'\n",
      " '2005-05-30 06:21:48' '2005-05-30 04:08:33' '2005-05-31 02:47:36'\n",
      " '2005-05-27 10:54:58' '2005-06-03 05:04:21' '2005-06-04 11:45:49'\n",
      " '2005-05-28 09:06:58' '2005-05-31 12:07:21' '2005-06-04 02:02:45'\n",
      " '2005-06-02 03:52:36' '2005-06-03 12:52:57' '2005-05-30 08:11:37'\n",
      " '2005-05-29 09:43:37' '2005-05-27 06:26:54' '2005-05-27 09:32:38'\n",
      " '2005-05-27 03:55:22' '2005-05-27 09:00:01' '2005-05-27 12:12:15'\n",
      " '2005-05-28 14:09:10' '2005-05-30 12:46:41' '2005-05-31 12:33:08'\n",
      " '2005-05-31 04:06:49' '2005-05-28 09:45:47' '2005-06-03 08:21:43'\n",
      " '2005-05-31 03:24:26' '2005-06-04 11:53:09' '2005-05-28 04:40:45'\n",
      " '2005-06-01 07:43:49' '2005-05-29 05:57:09' '2005-05-31 08:36:38'\n",
      " '2005-05-30 11:43:23' '2005-06-04 06:59:27' '2005-06-01 07:01:50'\n",
      " '2005-05-31 13:26:04' '2005-05-30 07:24:46' '2005-06-04 09:39:28'\n",
      " '2005-05-31 11:56:20' '2005-05-30 15:22:50' '2005-05-27 07:27:59'\n",
      " '2005-05-27 08:42:05' '2005-05-28 17:28:44' '2005-06-03 10:39:20'\n",
      " '2005-06-04 09:36:09' '2005-05-28 13:55:49' '2005-05-29 18:10:13'\n",
      " '2005-05-27 06:49:22' '2005-06-01 13:26:26' '2005-06-04 07:22:23'\n",
      " '2005-05-28 11:43:01' '2005-06-02 15:26:08' '2005-06-03 17:28:05'\n",
      " '2005-05-31 11:58:40' '2005-05-27 09:58:59' '2005-05-29 10:12:07'\n",
      " '2005-05-28 13:38:05' '2005-05-31 14:03:58' '2005-05-28 17:47:09'\n",
      " '2005-05-27 08:50:24' '2005-05-29 17:17:40' '2005-06-02 14:48:53'\n",
      " '2005-05-27 12:21:14' '2005-05-31 09:19:48' '2005-05-27 12:45:15'\n",
      " '2005-05-31 15:58:58' '2005-05-29 16:25:05' '2005-05-30 18:38:14'\n",
      " '2005-06-04 15:27:46' '2005-05-31 13:21:20' '2005-06-02 09:47:23'\n",
      " '2005-05-28 15:49:56' '2005-05-30 10:07:40' '2005-05-27 10:12:49'\n",
      " '2005-06-01 14:20:38' '2005-05-27 10:55:05' '2005-05-30 16:53:21'\n",
      " '2005-05-27 14:35:08' '2005-05-27 15:59:46' '2005-06-03 12:40:56'\n",
      " '2005-06-03 17:30:01' '2005-06-03 13:10:11' '2005-05-29 18:49:36'\n",
      " '2005-06-03 18:17:51' '2005-06-04 22:35:53' '2005-06-03 12:59:07'\n",
      " '2005-05-28 22:54:11' '2005-06-02 16:43:58' '2005-06-03 18:48:50'\n",
      " '2005-05-27 23:42:58' '2005-05-27 18:11:35' '2005-06-01 16:32:26'\n",
      " '2005-05-31 19:19:05' '2005-06-04 14:18:44' '2005-05-31 16:58:40'\n",
      " '2005-06-04 18:00:51' '2005-06-02 01:10:54' '2005-06-03 20:53:49'\n",
      " '2005-05-28 15:09:09' '2005-05-30 00:32:33' '2005-06-03 02:06:47'\n",
      " '2005-06-05 00:58:12' '2005-06-03 16:45:02' '2005-05-28 17:20:57'\n",
      " '2005-05-27 18:23:20' '2005-06-04 02:31:19' '2005-05-27 19:52:48'\n",
      " '2005-05-29 22:08:26' '2005-05-28 00:25:36' '2005-06-05 01:34:00'\n",
      " '2005-06-01 01:54:14' '2005-06-03 15:49:46' '2005-05-27 23:41:52'\n",
      " '2005-06-02 00:05:28' '2005-06-02 22:33:07' '2005-05-28 19:37:57'\n",
      " '2005-06-04 22:24:13' '2005-06-04 20:24:39' '2005-06-02 03:10:10'\n",
      " '2005-06-02 04:09:07' '2005-06-01 00:02:37' '2005-06-02 18:14:19'\n",
      " '2005-05-29 01:29:19' '2005-05-28 22:49:41' '2005-05-29 23:33:55'\n",
      " '2005-05-29 23:25:55' '2005-06-01 19:56:56' '2005-06-03 04:31:39'\n",
      " '2005-05-30 18:55:13' '2005-05-28 04:30:24' '2005-06-02 00:32:35'\n",
      " '2005-05-30 03:12:27' '2005-05-30 04:27:04' '2005-05-31 07:01:55'\n",
      " '2005-06-04 20:25:11' '2005-06-04 04:06:57' '2005-06-01 02:27:31'\n",
      " '2005-05-31 04:19:14' '2005-06-04 05:09:30' '2005-06-05 00:25:26'\n",
      " '2005-06-03 01:26:10' '2005-06-01 00:55:21' '2005-05-29 03:54:07'\n",
      " '2005-06-05 00:15:10' '2005-05-29 22:43:23' '2005-06-02 03:27:30'\n",
      " '2005-06-01 05:23:52' '2005-06-04 05:46:18' '2005-06-04 07:57:25'\n",
      " '2005-06-05 08:51:42' '2005-05-29 01:28:04' '2005-05-28 08:34:41'\n",
      " '2005-05-29 10:13:22' '2005-05-31 09:50:25' '2005-06-05 04:24:41'\n",
      " '2005-05-28 09:56:33' '2005-06-01 04:43:56' '2005-05-28 06:33:11'\n",
      " '2005-06-04 05:01:28' '2005-06-01 11:10:03' '2005-05-29 09:05:19'\n",
      " '2005-06-03 04:39:39' '2005-06-01 06:48:26' '2005-06-01 02:50:33'\n",
      " '2005-05-30 06:24:30' '2005-05-30 07:04:15' '2005-05-29 11:28:59'\n",
      " '2005-05-29 03:55:33' '2005-06-03 01:58:14' '2005-05-31 08:01:28'\n",
      " '2005-06-01 08:34:25' '2005-05-28 12:22:00' '2005-05-31 10:44:12'\n",
      " '2005-06-04 04:46:20' '2005-06-04 01:55:54' '2005-05-30 05:43:02'\n",
      " '2005-06-04 11:20:29' '2005-06-01 06:20:49' '2005-06-05 06:39:43'\n",
      " '2005-06-05 03:05:18' '2005-06-04 03:50:58' '2005-06-01 11:41:25'\n",
      " '2005-06-05 07:13:30' '2005-06-04 14:11:21' '2005-06-02 04:48:15'\n",
      " '2005-06-02 03:36:05' '2005-05-29 15:20:22' '2005-06-02 06:19:32'\n",
      " '2005-06-04 11:45:39' '2005-05-31 12:00:25' '2005-05-31 15:03:00'\n",
      " '2005-06-03 10:37:20' '2005-06-02 09:21:20' '2005-05-30 15:27:25'\n",
      " '2005-05-30 08:32:31' '2005-06-01 13:37:27' '2005-05-30 05:45:27'\n",
      " '2005-06-05 06:22:41' '2005-06-02 16:09:26' '2005-06-01 11:59:55'\n",
      " '2005-06-01 14:28:42' '2005-05-28 07:10:25' '2005-06-03 16:44:11'\n",
      " '2005-05-31 13:42:49' '2005-05-29 10:14:04' '2005-05-28 17:36:02'\n",
      " '2005-06-02 08:19:03' '2005-05-29 15:27:38' '2005-05-31 08:34:44'\n",
      " '2005-05-29 17:55:55' '2005-05-30 08:53:18' '2005-05-29 11:47:52'\n",
      " '2005-05-30 16:58:51' '2005-06-05 18:53:39' '2005-05-30 12:43:46'\n",
      " '2005-05-31 18:23:38' '2005-05-28 11:57:39' '2005-06-02 10:40:58'\n",
      " '2005-06-02 20:06:22' '2005-06-03 17:39:14' '2005-05-29 15:07:23'\n",
      " '2005-06-03 11:11:37' '2005-05-31 14:39:20' '2005-05-28 19:07:45'\n",
      " '2005-05-29 10:34:10' '2005-05-29 20:01:27' '2005-06-04 12:05:17'\n",
      " '2005-06-02 11:53:11' '2005-06-03 15:07:38' '2005-06-04 13:19:13'\n",
      " '2005-06-01 11:47:55' '2005-06-02 19:03:57' '2005-06-05 09:44:01'\n",
      " '2005-06-03 16:52:30' '2005-06-05 11:45:57' '2005-06-05 13:22:04'\n",
      " '2005-05-31 17:24:58' '2005-06-05 20:23:26' '2005-06-05 13:10:10'\n",
      " '2005-06-05 11:29:05' '2005-05-29 16:20:29' '2005-05-30 19:55:40'\n",
      " '2005-06-04 22:26:27' '2005-06-02 11:20:09' '2005-05-30 21:26:04'\n",
      " '2005-06-05 14:22:22' '2005-06-05 22:23:34' '2005-06-02 23:01:48'\n",
      " '2005-05-29 16:15:35' '2005-05-30 22:45:05' '2005-05-30 12:30:13'\n",
      " '2005-06-04 18:58:20' '2005-06-01 15:56:15' '2005-05-30 22:35:57'\n",
      " '2005-06-03 16:42:41' '2005-06-05 18:38:02' '2005-06-03 20:28:08'\n",
      " '2005-06-04 01:08:15' '2005-06-05 23:52:54' '2005-05-29 01:07:54'\n",
      " '2005-05-30 20:53:33' '2005-05-29 23:06:16' '2005-05-30 15:46:36'\n",
      " '2005-06-04 23:40:29' '2005-06-02 22:14:06' '2005-06-02 17:17:29'\n",
      " '2005-06-06 00:51:36' '2005-05-29 22:47:04' '2005-05-28 16:14:03'\n",
      " '2005-06-01 14:32:55' '2005-06-03 21:12:36' '2005-06-04 21:18:47'\n",
      " '2005-05-30 00:49:44' '2005-06-02 02:43:36' '2005-05-29 15:52:07'\n",
      " '2005-06-01 16:08:03' '2005-06-04 15:26:10' '2005-06-05 21:51:26'\n",
      " '2005-06-04 17:47:08' '2005-05-31 00:39:42' '2005-05-29 21:07:15'\n",
      " '2005-06-05 17:02:34' '2005-05-31 19:07:56' '2005-05-28 19:58:26'\n",
      " '2005-06-03 19:12:36' '2005-06-02 18:35:33' '2005-05-31 18:39:20'\n",
      " '2005-06-05 22:46:10' '2005-06-04 21:17:39' '2005-05-30 17:46:27'\n",
      " '2005-06-01 22:53:02' '2005-05-28 21:30:25' '2005-05-29 21:16:45'\n",
      " '2005-05-28 22:40:52' '2005-05-28 20:26:12' '2005-05-28 19:18:30'\n",
      " '2005-06-03 22:30:50' '2005-05-31 04:44:12' '2005-05-30 22:32:56'\n",
      " '2005-05-29 00:11:35' '2005-05-28 22:34:58' '2005-05-30 18:40:11'\n",
      " '2005-06-02 19:35:31' '2005-05-29 06:07:48' '2005-06-04 03:56:41'\n",
      " '2005-06-03 20:47:39' '2005-05-30 21:20:21' '2005-06-05 19:54:07'\n",
      " '2005-05-31 20:04:25' '2005-05-30 06:14:36' '2005-05-31 01:02:43'\n",
      " '2005-05-28 22:12:25' '2005-05-30 23:03:34' '2005-05-29 06:57:37'\n",
      " '2005-06-05 20:34:19' '2005-06-02 05:07:19' '2005-06-05 03:05:50'\n",
      " '2005-05-31 06:27:12' '2005-05-30 21:20:14' '2005-06-03 04:58:04'\n",
      " '2005-06-05 02:12:50' '2005-05-29 07:22:10' '2005-06-05 00:49:28'\n",
      " '2005-06-04 02:18:10' '2005-06-04 02:19:47' '2005-05-29 06:33:57'\n",
      " '2005-05-30 05:32:02' '2005-06-03 05:06:33' '2005-06-04 05:47:37'\n",
      " '2005-05-28 22:37:22' '2005-05-31 04:23:20' '2005-05-31 05:58:26'\n",
      " '2005-05-31 05:20:28' '2005-06-06 04:18:33' '2005-05-30 07:52:37'\n",
      " '2005-06-02 08:19:38' '2005-06-03 10:01:05' '2005-05-30 00:35:17'\n",
      " '2005-06-01 10:21:01' '2005-05-29 08:00:38' '2005-06-02 01:50:58'\n",
      " '2005-06-01 06:26:46' '2005-06-06 07:51:25' '2005-05-31 02:48:32'\n",
      " '2005-06-03 10:02:33' '2005-06-05 11:48:55' '2005-06-02 01:22:05'\n",
      " '2005-05-30 02:02:16' '2005-06-06 00:47:25' '2005-06-02 09:12:58'\n",
      " '2005-06-03 09:05:13' '2005-06-06 07:16:34' '2005-06-06 06:23:00'\n",
      " '2005-06-04 01:47:20' '2005-06-01 08:36:25' '2005-06-06 01:31:28'\n",
      " '2005-06-05 03:14:56' '2005-06-02 09:08:37' '2005-06-06 12:20:16'\n",
      " '2005-06-02 12:55:18' '2005-06-04 12:45:38' '2005-06-02 03:01:44'\n",
      " '2005-05-31 03:29:16' '2005-05-30 07:34:14' '2005-06-06 07:29:36'\n",
      " '2005-06-03 10:42:22' '2005-06-06 13:52:43' '2005-06-05 08:38:02'\n",
      " '2005-06-04 12:27:02' '2005-06-05 05:54:06' '2005-06-02 05:26:21'\n",
      " '2005-06-06 11:32:49' '2005-05-29 05:07:09' '2005-06-01 07:28:31'\n",
      " '2005-06-05 09:35:39' '2005-06-01 06:41:20' '2005-05-31 15:44:36'\n",
      " '2005-06-03 10:08:41' '2005-05-30 08:32:04' '2005-06-05 07:56:41'\n",
      " '2005-06-02 05:04:13' '2005-06-03 06:32:23' '2005-06-04 11:42:28'\n",
      " '2005-06-05 15:39:09' '2005-06-04 13:15:10' '2005-06-01 13:27:14'\n",
      " '2005-06-02 09:59:48' '2005-06-02 13:51:23' '2005-06-01 10:44:53'\n",
      " '2005-06-04 12:37:29' '2005-05-29 08:33:46' '2005-06-04 07:09:55'\n",
      " '2005-06-01 11:54:00' '2005-06-03 15:35:45' '2005-05-29 13:16:00'\n",
      " '2005-05-30 13:45:33' '2005-05-29 16:25:37' '2005-06-03 07:15:50'\n",
      " '2005-06-02 09:18:50' '2005-05-29 17:20:04' '2005-05-29 16:55:08'\n",
      " '2005-05-30 17:10:23' '2005-05-30 12:00:56' '2005-06-05 15:16:54'\n",
      " '2005-05-29 17:10:03' '2005-06-06 19:06:02' '2005-06-03 18:00:50'\n",
      " '2005-06-01 16:41:57' '2005-06-03 11:57:19' '2005-06-04 10:50:22'\n",
      " '2005-05-29 13:13:51' '2005-06-03 11:03:07' '2005-06-01 09:28:10'\n",
      " '2005-06-04 09:44:39' '2005-05-30 12:54:41' '2005-06-04 17:14:44'\n",
      " '2005-06-05 14:47:02' '2005-06-02 12:30:25' '2005-05-31 20:15:18'\n",
      " '2005-05-30 14:22:54' '2005-06-02 20:01:22' '2005-06-04 12:27:28'\n",
      " '2005-06-03 17:35:52' '2005-06-02 09:55:39' '2005-05-31 14:29:14'\n",
      " '2005-06-01 19:45:07' '2005-06-06 17:55:26' '2005-06-04 20:26:45'\n",
      " '2005-05-30 21:54:12' '2005-06-04 10:13:22' '2005-05-30 11:19:28'\n",
      " '2005-06-06 20:35:22' '2005-06-01 14:19:46' '2005-06-01 14:02:09'\n",
      " '2005-06-04 19:58:43' '2005-06-06 16:29:46' '2005-06-02 20:01:15'\n",
      " '2005-06-05 20:05:51' '2005-06-03 14:56:32' '2005-06-03 16:04:50'\n",
      " '2005-06-03 22:49:59' '2005-06-05 16:18:35' '2005-06-06 18:24:57'\n",
      " '2005-06-04 16:32:58' '2005-05-29 23:48:29' '2005-06-02 19:03:43'\n",
      " '2005-05-29 18:22:02' '2005-05-30 13:39:26' '2005-06-04 15:24:47'\n",
      " '2005-06-01 20:50:12' '2005-05-31 15:15:11' '2005-06-04 18:06:12'\n",
      " '2005-06-05 14:01:09' '2005-05-31 16:50:14' '2005-06-01 00:10:52'\n",
      " '2005-06-03 15:57:54' '2005-06-05 16:00:45' '2005-05-29 21:02:40'\n",
      " '2005-05-30 16:29:50' '2005-05-29 14:57:47' '2005-06-04 14:44:20'\n",
      " '2005-05-30 22:02:30' '2005-05-31 16:46:20' '2005-05-30 16:19:24'\n",
      " '2005-06-01 02:11:09' '2005-06-06 19:31:23' '2005-05-31 01:36:53'\n",
      " '2005-05-30 15:26:31' '2005-06-02 01:22:25' '2005-06-01 19:00:31'\n",
      " '2005-06-02 17:39:02' '2005-06-02 20:56:08' '2005-05-29 21:37:39'\n",
      " '2005-06-05 16:45:51' '2005-05-31 03:07:02' '2005-05-29 22:32:45'\n",
      " '2005-06-03 03:39:25' '2005-06-06 22:43:03' '2005-06-03 01:21:30'\n",
      " '2005-06-06 02:10:29' '2005-06-01 23:42:30' '2005-06-01 23:58:35'\n",
      " '2005-06-01 02:57:44' '2005-05-29 20:36:51' '2005-06-05 19:11:08'\n",
      " '2005-06-03 04:43:48' '2005-06-06 21:59:57' '2005-06-02 02:28:26'\n",
      " '2005-06-01 01:42:44' '2005-05-29 19:14:18' '2005-06-02 04:27:48'\n",
      " '2005-06-04 21:26:15' '2005-06-05 05:32:51' '2005-05-30 02:29:10'\n",
      " '2005-05-31 23:53:09' '2005-06-02 01:30:24' '2005-06-03 23:48:53'\n",
      " '2005-06-06 00:45:53' '2005-06-07 06:21:26' '2005-06-02 03:54:10'\n",
      " '2005-06-03 02:29:31' '2005-06-05 06:52:43' '2005-06-03 02:28:53'\n",
      " '2005-06-01 02:45:10' '2005-06-04 00:47:04' '2005-06-01 21:52:52'\n",
      " '2005-06-04 20:23:44' '2005-05-30 05:54:54' '2005-06-03 04:59:27'\n",
      " '2005-05-30 01:52:30' '2005-06-03 04:54:36' '2005-06-06 01:51:43'\n",
      " '2005-05-30 06:21:52' '2005-06-04 22:48:49' '2005-05-30 02:45:19'\n",
      " '2005-05-31 21:27:47' '2005-06-06 05:21:01' '2005-06-03 05:03:36'\n",
      " '2005-05-31 08:29:03' '2005-05-30 03:09:24' '2005-06-07 07:13:17'\n",
      " '2005-06-01 23:05:21' '2005-06-05 09:28:41' '2005-06-01 07:42:29'\n",
      " '2005-05-30 05:48:44' '2005-06-02 02:27:23' '2005-06-01 07:53:05'\n",
      " '2005-06-06 02:47:30' '2005-05-31 11:24:47' '2005-06-06 04:51:31'\n",
      " '2005-05-30 05:50:44' '2005-06-05 04:01:23' '2005-06-03 08:52:41'\n",
      " '2005-06-05 04:40:29' '2005-05-30 07:16:15' '2005-06-03 07:41:38'\n",
      " '2005-06-04 03:23:13' '2005-06-06 01:17:59' '2005-05-30 05:21:16'\n",
      " '2005-05-30 10:08:51' '2005-06-05 09:14:21' '2005-06-03 10:17:52'\n",
      " '2005-06-07 13:35:13' '2005-06-05 10:21:07' '2005-06-04 11:18:31'\n",
      " '2005-06-06 08:59:08' '2005-06-06 09:21:18' '2005-06-04 12:47:36'\n",
      " '2005-06-04 11:55:49' '2005-06-05 11:30:30' '2005-06-06 08:42:02'\n",
      " '2005-06-01 07:05:08' '2005-06-01 09:10:57' '2005-06-02 04:20:10'\n",
      " '2005-06-05 07:28:34' '2005-06-03 04:25:00' '2005-05-31 11:45:33'\n",
      " '2005-05-30 13:31:40' '2005-06-02 04:54:43' '2005-06-04 06:30:15'\n",
      " '2005-06-05 08:52:42' '2005-06-04 05:03:59' '2005-06-01 10:25:29'\n",
      " '2005-06-04 12:50:45' '2005-06-07 15:27:47' '2005-06-01 14:53:56'\n",
      " '2005-06-07 16:23:57' '2005-06-02 14:16:25' '2005-06-03 16:18:01'\n",
      " '2005-06-06 07:48:51' '2005-05-31 17:31:15' '2005-05-31 16:47:35'\n",
      " '2005-06-02 17:04:34' '2005-06-06 07:14:02' '2005-06-02 14:15:19'\n",
      " '2005-06-07 09:00:46' '2005-06-01 17:43:44' '2005-06-07 15:54:50'\n",
      " '2005-06-01 16:05:14' '2005-06-06 08:19:06' '2005-06-07 17:22:05'\n",
      " '2005-06-01 18:51:43' '2005-05-30 07:53:26' '2005-06-03 17:33:35'\n",
      " '2005-06-03 08:41:58' '2005-06-05 20:05:53' '2005-06-06 16:46:17'\n",
      " '2005-06-06 20:14:32' '2005-05-30 17:44:58' '2005-06-02 13:18:57'\n",
      " '2005-06-06 10:39:18' '2005-06-01 17:28:22' '2005-05-30 15:51:41'\n",
      " '2005-06-07 10:07:28' '2005-06-07 11:07:03' '2005-05-31 16:40:55'\n",
      " '2005-06-06 18:15:07' '2005-06-02 17:22:29' '2005-06-01 19:11:42'\n",
      " '2005-05-31 18:01:10' '2005-06-06 19:21:08' '2005-06-05 16:11:11'\n",
      " '2005-06-01 11:33:39' '2005-06-03 16:22:44' '2005-06-03 16:06:17'\n",
      " '2005-06-01 13:06:43' '2005-06-05 12:25:48' '2005-05-30 14:59:12'\n",
      " '2005-06-04 17:05:50' '2005-05-31 22:42:59' '2005-05-30 14:35:30'\n",
      " '2005-06-06 22:53:24' '2005-06-07 15:11:18' '2005-05-31 00:18:30'\n",
      " '2005-06-03 18:36:50' '2005-06-06 20:32:20' '2005-06-05 19:05:20'\n",
      " '2005-06-04 21:12:04' '2005-06-02 16:19:42' '2005-05-30 19:43:30'\n",
      " '2005-06-05 20:56:34' '2005-06-07 17:47:12' '2005-06-03 15:32:28'\n",
      " '2005-06-06 22:31:39' '2005-05-31 18:24:14' '2005-06-02 23:18:53'\n",
      " '2005-06-02 15:15:32' '2005-06-07 00:22:22' '2005-06-04 22:49:12'\n",
      " '2005-06-07 17:24:00' '2005-05-30 22:06:37' '2005-05-31 19:01:32'\n",
      " '2005-06-04 20:27:41' '2005-06-08 03:18:15' '2005-06-06 00:54:43'\n",
      " '2005-05-30 17:22:55' '2005-06-06 01:38:42' '2005-06-01 17:43:55'\n",
      " '2005-06-06 02:27:25' '2005-06-07 17:37:20' '2005-06-02 18:40:56'\n",
      " '2005-05-30 22:00:30' '2005-06-02 23:38:00' '2005-05-31 04:11:42'\n",
      " '2005-06-02 05:31:08' '2005-06-06 22:19:57' '2005-06-08 02:43:12'\n",
      " '2005-05-31 20:39:41' '2005-06-02 19:14:17' '2005-06-01 02:21:04'\n",
      " '2005-05-31 00:58:24' '2005-06-01 00:38:20' '2005-06-07 02:00:25'\n",
      " '2005-06-01 00:56:45' '2005-06-06 20:20:15' '2005-06-05 23:40:53'\n",
      " '2005-06-07 01:50:07' '2005-05-31 01:51:12' '2005-06-06 07:27:15'\n",
      " '2005-06-01 22:44:57' '2005-06-01 02:05:31' '2005-06-01 06:34:11'\n",
      " '2005-06-03 20:16:28' '2005-06-07 03:25:21' '2005-06-02 06:07:23'\n",
      " '2005-06-01 04:42:32' '2005-06-02 07:49:20' '2005-06-08 07:28:16'\n",
      " '2005-06-06 05:43:32' '2005-06-03 21:27:11' '2005-06-05 04:34:59'\n",
      " '2005-06-06 08:28:17' '2005-06-07 08:10:44' '2005-06-08 04:28:54'\n",
      " '2005-06-01 22:59:43' '2005-05-31 02:28:55' '2005-06-03 09:18:06'\n",
      " '2005-06-06 04:32:47' '2005-06-04 06:22:30' '2005-06-06 10:35:04'\n",
      " '2005-06-07 00:49:20' '2005-06-01 09:32:21' '2005-06-06 00:34:24'\n",
      " '2005-06-07 09:06:22' '2005-06-02 09:30:59' '2005-06-07 04:35:13'\n",
      " '2005-06-05 01:45:42' '2005-06-02 04:35:33' '2005-06-02 10:21:36'\n",
      " '2005-06-02 11:57:06' '2005-06-07 04:50:05' '2005-05-31 07:39:32'\n",
      " '2005-06-03 07:03:28' '2005-06-01 06:04:51' '2005-06-01 06:48:00'\n",
      " '2005-06-06 09:50:14' '2005-05-31 07:56:53' '2005-06-01 11:26:04'\n",
      " '2005-06-08 09:21:12' '2005-06-05 12:51:56' '2005-06-07 08:23:59'\n",
      " '2005-06-07 12:39:31' '2005-06-05 10:58:43' '2005-06-05 07:37:52'\n",
      " '2005-06-08 03:43:01' '2005-06-01 10:45:19' '2005-06-06 12:39:30'\n",
      " '2005-06-07 11:54:41' '2005-06-02 10:32:40' '2005-06-07 12:10:36'\n",
      " '2005-06-03 09:33:29' '2005-06-05 04:58:42' '2005-06-07 06:44:38'\n",
      " '2005-06-02 09:51:27' '2005-06-03 09:56:37' '2005-06-08 12:07:38'\n",
      " '2005-06-04 13:32:16' '2005-06-07 12:26:22' '2005-05-31 09:31:33'\n",
      " '2005-06-07 13:22:58' '2005-06-04 06:07:00' '2005-06-02 11:55:27'\n",
      " '2005-05-31 09:06:01' '2005-06-02 08:31:06' '2005-05-31 07:55:24'\n",
      " '2005-06-02 13:16:06' '2005-06-02 08:19:01' '2005-06-03 10:00:09'\n",
      " '2005-06-08 10:12:55' '2005-06-05 09:57:50' '2005-06-04 17:28:59'\n",
      " '2005-06-02 14:41:52' '2005-06-01 08:53:54' '2005-05-31 16:20:40'\n",
      " '2005-06-05 13:56:14' '2005-06-06 12:17:39' '2005-06-04 10:53:57'\n",
      " '2005-05-31 14:28:01' '2005-05-31 10:30:36' '2005-06-01 18:56:45'\n",
      " '2005-06-08 16:44:46' '2005-06-02 11:08:36' '2005-06-07 16:56:49'\n",
      " '2005-06-05 09:53:31' '2005-06-04 10:10:31' '2005-06-01 19:00:34'\n",
      " '2005-06-01 18:26:02' '2005-06-01 17:19:25' '2005-06-08 15:59:47'\n",
      " '2005-06-06 18:53:19' '2005-06-07 18:09:24' '2005-06-02 15:02:17'\n",
      " '2005-06-08 11:38:08' '2005-06-04 18:48:57' '2005-06-08 17:30:27'\n",
      " '2005-06-03 14:25:39' '2005-06-01 11:43:08' '2005-05-31 19:01:35'\n",
      " '2005-06-02 16:12:07' '2005-05-31 20:34:02' '2005-06-08 13:30:29'\n",
      " '2005-05-31 11:58:03' '2005-06-07 13:54:28' '2005-06-03 15:31:29'\n",
      " '2005-06-01 19:17:03' '2005-06-02 14:37:00' '2005-06-04 00:12:23'\n",
      " '2005-06-04 23:40:44' '2005-06-05 22:47:17' '2005-06-07 16:19:53'\n",
      " '2005-06-04 22:32:21' '2005-05-31 17:10:14' '2005-05-31 23:51:37'\n",
      " '2005-06-09 00:02:06' '2005-05-31 18:17:03' '2005-05-31 21:14:48'\n",
      " '2005-06-09 01:19:28' '2005-06-06 20:47:52' '2005-06-06 00:36:07'\n",
      " '2005-06-08 22:47:45' '2005-06-08 23:45:42' '2005-06-03 01:48:15'\n",
      " '2005-06-06 02:16:19' '2005-06-04 22:32:26' '2005-06-07 16:22:52'\n",
      " '2005-06-08 00:24:11' '2005-06-01 20:32:19' '2005-06-01 03:15:42'\n",
      " '2005-06-02 16:18:24' '2005-06-02 22:56:51' '2005-06-01 20:15:17'\n",
      " '2005-06-04 23:36:35' '2005-06-01 02:24:52' '2005-06-07 20:56:12'\n",
      " '2005-06-07 00:22:03' '2005-06-03 20:36:51' '2005-06-06 18:41:14'\n",
      " '2005-06-07 23:16:22' '2005-06-05 19:01:56' '2005-06-04 21:27:19'\n",
      " '2005-06-04 01:00:36' '2005-06-06 02:30:02' '2005-05-31 21:29:20'\n",
      " '2005-06-02 00:17:25' '2005-06-01 22:41:57' '2005-06-08 19:42:56'\n",
      " '2005-06-06 06:14:31']\n",
      "[1 2]\n",
      "['2006-02-15 21:30:53']\n"
     ]
    }
   ],
   "source": [
    "fn.check_unique(rental, columns) #Vemos que en el id falta un valor ya que termina en 1001"
   ]
  },
  {
   "cell_type": "code",
   "execution_count": 108,
   "id": "4330e974",
   "metadata": {},
   "outputs": [
    {
     "name": "stdout",
     "output_type": "stream",
     "text": [
      "1      1\n",
      "673    1\n",
      "660    1\n",
      "661    1\n",
      "662    1\n",
      "Name: rental_id, dtype: int64\n",
      "2005-05-30 14:47:31    2\n",
      "2005-05-28 22:07:30    1\n",
      "2005-05-28 20:53:31    1\n",
      "2005-05-28 21:01:25    1\n",
      "2005-05-28 21:09:31    1\n",
      "Name: rental_date, dtype: int64\n",
      "367     1\n",
      "1769    1\n",
      "1414    1\n",
      "2247    1\n",
      "2968    1\n",
      "Name: inventory_id, dtype: int64\n",
      "197    8\n",
      "245    6\n",
      "596    6\n",
      "274    6\n",
      "371    6\n",
      "Name: customer_id, dtype: int64\n",
      "2005-06-05 15:16:54    2\n",
      "2005-06-03 06:05:10    2\n",
      "2005-06-06 06:23:00    2\n",
      "2005-05-26 22:04:30    1\n",
      "2005-05-30 15:26:31    1\n",
      "Name: return_date, dtype: int64\n",
      "2    521\n",
      "1    479\n",
      "Name: staff_id, dtype: int64\n",
      "2006-02-15 21:30:53    1000\n",
      "Name: last_update, dtype: int64\n"
     ]
    }
   ],
   "source": [
    "fn.check_value(rental, columns) #Parece todo Correcto"
   ]
  },
  {
   "cell_type": "code",
   "execution_count": 115,
   "id": "806517a7",
   "metadata": {},
   "outputs": [],
   "source": [
    "num = list(range(1, 1001))\n",
    "rental.rental_id = num"
   ]
  },
  {
   "cell_type": "code",
   "execution_count": 116,
   "id": "60ca78bb",
   "metadata": {},
   "outputs": [
    {
     "data": {
      "text/plain": [
       "995     996\n",
       "996     997\n",
       "997     998\n",
       "998     999\n",
       "999    1000\n",
       "Name: rental_id, dtype: int64"
      ]
     },
     "execution_count": 116,
     "metadata": {},
     "output_type": "execute_result"
    }
   ],
   "source": [
    "rental.rental_id.tail() #Corregido"
   ]
  },
  {
   "cell_type": "markdown",
   "id": "b33c30da",
   "metadata": {},
   "source": [
    "### Duplicados"
   ]
  },
  {
   "cell_type": "code",
   "execution_count": 117,
   "id": "65baf2f4",
   "metadata": {},
   "outputs": [
    {
     "data": {
      "text/plain": [
       "False"
      ]
     },
     "execution_count": 117,
     "metadata": {},
     "output_type": "execute_result"
    }
   ],
   "source": [
    "rental.duplicated().any() #No hay duplicados"
   ]
  },
  {
   "cell_type": "markdown",
   "id": "a604241d",
   "metadata": {},
   "source": [
    "### Cambio del tipo de dato, optimizacion de memoria"
   ]
  },
  {
   "cell_type": "code",
   "execution_count": 118,
   "id": "96cdaad7",
   "metadata": {},
   "outputs": [
    {
     "name": "stdout",
     "output_type": "stream",
     "text": [
      "<class 'pandas.core.frame.DataFrame'>\n",
      "RangeIndex: 1000 entries, 0 to 999\n",
      "Data columns (total 7 columns):\n",
      " #   Column        Non-Null Count  Dtype \n",
      "---  ------        --------------  ----- \n",
      " 0   rental_id     1000 non-null   int64 \n",
      " 1   rental_date   1000 non-null   object\n",
      " 2   inventory_id  1000 non-null   int64 \n",
      " 3   customer_id   1000 non-null   int64 \n",
      " 4   return_date   1000 non-null   object\n",
      " 5   staff_id      1000 non-null   int64 \n",
      " 6   last_update   1000 non-null   object\n",
      "dtypes: int64(4), object(3)\n",
      "memory usage: 254.0 KB\n"
     ]
    }
   ],
   "source": [
    "rental.info(memory_usage='deep')"
   ]
  },
  {
   "cell_type": "code",
   "execution_count": 119,
   "id": "ba6e1560",
   "metadata": {},
   "outputs": [
    {
     "name": "stdout",
     "output_type": "stream",
     "text": [
      "<class 'pandas.core.frame.DataFrame'>\n",
      "RangeIndex: 1000 entries, 0 to 999\n",
      "Data columns (total 7 columns):\n",
      " #   Column        Non-Null Count  Dtype         \n",
      "---  ------        --------------  -----         \n",
      " 0   rental_id     1000 non-null   int64         \n",
      " 1   rental_date   1000 non-null   object        \n",
      " 2   inventory_id  1000 non-null   int64         \n",
      " 3   customer_id   1000 non-null   int64         \n",
      " 4   return_date   1000 non-null   object        \n",
      " 5   staff_id      1000 non-null   int64         \n",
      " 6   last_update   1000 non-null   datetime64[ns]\n",
      "dtypes: datetime64[ns](1), int64(4), object(2)\n",
      "memory usage: 187.6 KB\n"
     ]
    }
   ],
   "source": [
    "rental.last_update=pd.to_datetime(rental.last_update, format='%Y-%m-%d')\n",
    "\n",
    "rental.info(memory_usage='deep')"
   ]
  },
  {
   "cell_type": "code",
   "execution_count": 120,
   "id": "81f93cd8",
   "metadata": {},
   "outputs": [
    {
     "name": "stdout",
     "output_type": "stream",
     "text": [
      "<class 'pandas.core.frame.DataFrame'>\n",
      "RangeIndex: 1000 entries, 0 to 999\n",
      "Data columns (total 7 columns):\n",
      " #   Column        Non-Null Count  Dtype         \n",
      "---  ------        --------------  -----         \n",
      " 0   rental_id     1000 non-null   int64         \n",
      " 1   rental_date   1000 non-null   datetime64[ns]\n",
      " 2   inventory_id  1000 non-null   int64         \n",
      " 3   customer_id   1000 non-null   int64         \n",
      " 4   return_date   1000 non-null   object        \n",
      " 5   staff_id      1000 non-null   int64         \n",
      " 6   last_update   1000 non-null   datetime64[ns]\n",
      "dtypes: datetime64[ns](2), int64(4), object(1)\n",
      "memory usage: 121.2 KB\n"
     ]
    }
   ],
   "source": [
    "rental.rental_date=pd.to_datetime(rental.rental_date, format='%Y-%m-%d')\n",
    "\n",
    "rental.info(memory_usage='deep')"
   ]
  },
  {
   "cell_type": "code",
   "execution_count": 121,
   "id": "2a0c5bf0",
   "metadata": {},
   "outputs": [
    {
     "name": "stdout",
     "output_type": "stream",
     "text": [
      "<class 'pandas.core.frame.DataFrame'>\n",
      "RangeIndex: 1000 entries, 0 to 999\n",
      "Data columns (total 7 columns):\n",
      " #   Column        Non-Null Count  Dtype         \n",
      "---  ------        --------------  -----         \n",
      " 0   rental_id     1000 non-null   int64         \n",
      " 1   rental_date   1000 non-null   datetime64[ns]\n",
      " 2   inventory_id  1000 non-null   int64         \n",
      " 3   customer_id   1000 non-null   int64         \n",
      " 4   return_date   1000 non-null   datetime64[ns]\n",
      " 5   staff_id      1000 non-null   int64         \n",
      " 6   last_update   1000 non-null   datetime64[ns]\n",
      "dtypes: datetime64[ns](3), int64(4)\n",
      "memory usage: 54.8 KB\n"
     ]
    }
   ],
   "source": [
    "rental.return_date=pd.to_datetime(rental.return_date, format='%Y-%m-%d')\n",
    "\n",
    "rental.info(memory_usage='deep')"
   ]
  },
  {
   "cell_type": "code",
   "execution_count": 122,
   "id": "9fb396d2",
   "metadata": {},
   "outputs": [
    {
     "name": "stdout",
     "output_type": "stream",
     "text": [
      "<class 'pandas.core.frame.DataFrame'>\n",
      "RangeIndex: 1000 entries, 0 to 999\n",
      "Data columns (total 7 columns):\n",
      " #   Column        Non-Null Count  Dtype         \n",
      "---  ------        --------------  -----         \n",
      " 0   rental_id     1000 non-null   int16         \n",
      " 1   rental_date   1000 non-null   datetime64[ns]\n",
      " 2   inventory_id  1000 non-null   int16         \n",
      " 3   customer_id   1000 non-null   int16         \n",
      " 4   return_date   1000 non-null   datetime64[ns]\n",
      " 5   staff_id      1000 non-null   int8          \n",
      " 6   last_update   1000 non-null   datetime64[ns]\n",
      "dtypes: datetime64[ns](3), int16(3), int8(1)\n",
      "memory usage: 30.4 KB\n"
     ]
    }
   ],
   "source": [
    "for c in rental.select_dtypes('integer').columns:\n",
    "    \n",
    "    rental[c]=pd.to_numeric(rental[c], downcast='integer')\n",
    "    \n",
    "rental.info(memory_usage='deep')"
   ]
  },
  {
   "cell_type": "code",
   "execution_count": 123,
   "id": "1cab3fdb",
   "metadata": {},
   "outputs": [],
   "source": [
    "rental.drop(columns='last_update', inplace=True)"
   ]
  },
  {
   "cell_type": "code",
   "execution_count": 124,
   "id": "c676fb81",
   "metadata": {},
   "outputs": [
    {
     "data": {
      "text/html": [
       "<div>\n",
       "<style scoped>\n",
       "    .dataframe tbody tr th:only-of-type {\n",
       "        vertical-align: middle;\n",
       "    }\n",
       "\n",
       "    .dataframe tbody tr th {\n",
       "        vertical-align: top;\n",
       "    }\n",
       "\n",
       "    .dataframe thead th {\n",
       "        text-align: right;\n",
       "    }\n",
       "</style>\n",
       "<table border=\"1\" class=\"dataframe\">\n",
       "  <thead>\n",
       "    <tr style=\"text-align: right;\">\n",
       "      <th></th>\n",
       "      <th>rental_id</th>\n",
       "      <th>rental_date</th>\n",
       "      <th>inventory_id</th>\n",
       "      <th>customer_id</th>\n",
       "      <th>return_date</th>\n",
       "      <th>staff_id</th>\n",
       "    </tr>\n",
       "  </thead>\n",
       "  <tbody>\n",
       "    <tr>\n",
       "      <th>0</th>\n",
       "      <td>1</td>\n",
       "      <td>2005-05-24 22:53:30</td>\n",
       "      <td>367</td>\n",
       "      <td>130</td>\n",
       "      <td>2005-05-26 22:04:30</td>\n",
       "      <td>1</td>\n",
       "    </tr>\n",
       "    <tr>\n",
       "      <th>1</th>\n",
       "      <td>2</td>\n",
       "      <td>2005-05-24 22:54:33</td>\n",
       "      <td>1525</td>\n",
       "      <td>459</td>\n",
       "      <td>2005-05-28 19:40:33</td>\n",
       "      <td>1</td>\n",
       "    </tr>\n",
       "    <tr>\n",
       "      <th>2</th>\n",
       "      <td>3</td>\n",
       "      <td>2005-05-24 23:03:39</td>\n",
       "      <td>1711</td>\n",
       "      <td>408</td>\n",
       "      <td>2005-06-01 22:12:39</td>\n",
       "      <td>1</td>\n",
       "    </tr>\n",
       "    <tr>\n",
       "      <th>3</th>\n",
       "      <td>4</td>\n",
       "      <td>2005-05-24 23:04:41</td>\n",
       "      <td>2452</td>\n",
       "      <td>333</td>\n",
       "      <td>2005-06-03 01:43:41</td>\n",
       "      <td>2</td>\n",
       "    </tr>\n",
       "    <tr>\n",
       "      <th>4</th>\n",
       "      <td>5</td>\n",
       "      <td>2005-05-24 23:05:21</td>\n",
       "      <td>2079</td>\n",
       "      <td>222</td>\n",
       "      <td>2005-06-02 04:33:21</td>\n",
       "      <td>1</td>\n",
       "    </tr>\n",
       "  </tbody>\n",
       "</table>\n",
       "</div>"
      ],
      "text/plain": [
       "   rental_id         rental_date  inventory_id  customer_id  \\\n",
       "0          1 2005-05-24 22:53:30           367          130   \n",
       "1          2 2005-05-24 22:54:33          1525          459   \n",
       "2          3 2005-05-24 23:03:39          1711          408   \n",
       "3          4 2005-05-24 23:04:41          2452          333   \n",
       "4          5 2005-05-24 23:05:21          2079          222   \n",
       "\n",
       "          return_date  staff_id  \n",
       "0 2005-05-26 22:04:30         1  \n",
       "1 2005-05-28 19:40:33         1  \n",
       "2 2005-06-01 22:12:39         1  \n",
       "3 2005-06-03 01:43:41         2  \n",
       "4 2005-06-02 04:33:21         1  "
      ]
     },
     "execution_count": 124,
     "metadata": {},
     "output_type": "execute_result"
    }
   ],
   "source": [
    "rental.head()"
   ]
  },
  {
   "cell_type": "markdown",
   "id": "5b0b565c",
   "metadata": {},
   "source": [
    "# EXTRACCION DE DATOS"
   ]
  },
  {
   "cell_type": "code",
   "execution_count": 137,
   "id": "7560aca7",
   "metadata": {},
   "outputs": [],
   "source": [
    "actor.to_csv('data_limpio/actor.csv', index=False)\n",
    "category.to_csv('data_limpio/category.csv', index=False)\n",
    "film.to_csv('data_limpio/film.csv', index=False)\n",
    "inventory.to_csv('data_limpio/inventory.csv', index=False)\n",
    "language.to_csv('data_limpio/language.csv', index=False)\n",
    "old.to_csv('data_limpio/old_HDD.csv', index=False)\n",
    "rental.to_csv('data_limpio/rental.csv', index=False)"
   ]
  },
  {
   "cell_type": "code",
   "execution_count": null,
   "id": "ce134bc2",
   "metadata": {},
   "outputs": [],
   "source": []
  }
 ],
 "metadata": {
  "kernelspec": {
   "display_name": "Python 3 (ipykernel)",
   "language": "python",
   "name": "python3"
  },
  "language_info": {
   "codemirror_mode": {
    "name": "ipython",
    "version": 3
   },
   "file_extension": ".py",
   "mimetype": "text/x-python",
   "name": "python",
   "nbconvert_exporter": "python",
   "pygments_lexer": "ipython3",
   "version": "3.9.12"
  }
 },
 "nbformat": 4,
 "nbformat_minor": 5
}
